{
  "nbformat": 4,
  "nbformat_minor": 0,
  "metadata": {
    "colab": {
      "name": "Twentieth_Assignment.ipynb",
      "provenance": [],
      "collapsed_sections": [],
      "mount_file_id": "1hLzPO2WbCT6bXVM9tt1c0muHZ76dhUQS",
      "authorship_tag": "ABX9TyP7TqpU/gvGZKHRB92+L4KC",
      "include_colab_link": true
    },
    "kernelspec": {
      "name": "python3",
      "display_name": "Python 3"
    },
    "language_info": {
      "name": "python"
    }
  },
  "cells": [
    {
      "cell_type": "markdown",
      "metadata": {
        "id": "view-in-github",
        "colab_type": "text"
      },
      "source": [
        "<a href=\"https://colab.research.google.com/github/Mochismo/LearnPython/blob/main/Twentieth_Assignment.ipynb\" target=\"_parent\"><img src=\"https://colab.research.google.com/assets/colab-badge.svg\" alt=\"Open In Colab\"/></a>"
      ]
    },
    {
      "cell_type": "markdown",
      "metadata": {
        "id": "cPN19EDe0FOK"
      },
      "source": [
        "Problem 1."
      ]
    },
    {
      "cell_type": "code",
      "metadata": {
        "id": "jqIZO720Httn"
      },
      "source": [
        "def _linear_hypothesis(self, X):\n",
        "    \"\"\"\n",
        "    Compute a linear hypothetical function\n",
        "    Parameters\n",
        "    ----------\n",
        "    X : The following forms of ndarray, shape (n_samples, n_features)\n",
        "      Training data\n",
        "    Returns\n",
        "    -------\n",
        "      The following form of ndarray, shape (n_samples, 1)\n",
        "      Estimated result by linear hypothetical function\n",
        "    \"\"\"\n",
        "    return np.dot(X, self.coef_.T)"
      ],
      "execution_count": 3,
      "outputs": []
    },
    {
      "cell_type": "markdown",
      "metadata": {
        "id": "LJLvT6tk0rSU"
      },
      "source": [
        "Problem 2"
      ]
    },
    {
      "cell_type": "code",
      "metadata": {
        "id": "4lJakPhg07Jg"
      },
      "source": [
        "def _gradient_descent(self, X, error):\n",
        "    \"\"\"\n",
        "    Write a description\n",
        "    \"\"\"\n",
        "    pass\n",
        "    error = self._linear_hypothesis(X) - y\n",
        "    self.coef_ -= (self.lr/len(X)) * np.matmul(error, X)\n",
        "\n",
        "    return self.coef_"
      ],
      "execution_count": 4,
      "outputs": []
    },
    {
      "cell_type": "markdown",
      "metadata": {
        "id": "xoCJRNrN1vj6"
      },
      "source": [
        "Problem 3"
      ]
    },
    {
      "cell_type": "code",
      "metadata": {
        "id": "HPAhhTaA4k6v"
      },
      "source": [
        "def predict(self, X):\n",
        "  \"\"\"\n",
        "  Estimate using linear regression\n",
        "  Parameters\n",
        "\n",
        "  X : ndarray of the following form, shape (n_samples, n_features)\n",
        "  Returns\n",
        "       ndarray of the following form, shape (n_samples,1)\n",
        "       Estimate result from linear regression\n",
        "  \"\"\"\n",
        "  prediction = self._linear_hypothesis(X)\n",
        "  return prediction     \n"
      ],
      "execution_count": 5,
      "outputs": []
    },
    {
      "cell_type": "markdown",
      "metadata": {
        "id": "Xgjz3HW15sL-"
      },
      "source": [
        "Problem 4"
      ]
    },
    {
      "cell_type": "code",
      "metadata": {
        "id": "aG5oMoUR59zu"
      },
      "source": [
        "def MSE(y_pred, y):\n",
        "  \"\"\"\n",
        "  Calculation of mean square error\n",
        "    Parameters\n",
        "    ----------\n",
        "    y_pred : ndarray of the following form, shape (n_samples,)\n",
        "      Estimated value\n",
        "    y : ndarray of the following form, shape (n_samples,)\n",
        "      Correct answer value\n",
        "    Returns\n",
        "    ----------\n",
        "    mse : numpy.float\n",
        "      Mean squared error\n",
        "    \"\"\"\n",
        "  mse = np.square(y_pred - y).mean()\n",
        "  return mse"
      ],
      "execution_count": 6,
      "outputs": []
    },
    {
      "cell_type": "markdown",
      "metadata": {
        "id": "ZCSiTg7F7NSm"
      },
      "source": [
        "Problem 5 (Objective function)"
      ]
    },
    {
      "cell_type": "code",
      "metadata": {
        "id": "jBTcSKi47QUA"
      },
      "source": [
        "def _objective_function(y_pred, y):\n",
        "\n",
        "  \"\"\"\n",
        "  Calculation of loss\n",
        "    Parameters\n",
        "    ----------\n",
        "    y_pred : ndarray of the following form, shape (n_samples,)\n",
        "      Estimated value\n",
        "    y : ndarray of the following form, shape (n_samples,)\n",
        "      Correct answer value\n",
        "    Returns\n",
        "    ----------\n",
        "    mse : numpy.float\n",
        "      Mean squared error\n",
        "    \"\"\"\n",
        "  loss = np.sum((y_pred - y)**2)/(2* len(y))\n",
        "  return loss"
      ],
      "execution_count": 7,
      "outputs": []
    },
    {
      "cell_type": "markdown",
      "metadata": {
        "id": "9QbBwKhliDAe"
      },
      "source": [
        "Problem 6\n",
        "\n",
        "Learn and estimate scratch implementations from the House Prices competition data provided in Sprint 02, an introduction to machine learning scratch. \n",
        "\n",
        "\n",
        "Compare this with the scikit-learn implementattion and see if it works correctly. \n",
        "\n"
      ]
    },
    {
      "cell_type": "code",
      "metadata": {
        "id": "t6e9KZGSjZwi"
      },
      "source": [
        "import pandas as pd\n",
        "\n",
        "trains = pd.read_csv(\"/content/drive/MyDrive/train.csv\")\n",
        "X1 = trains.loc[:,['GrLivArea', 'YearBuilt']]\n",
        "y1 = trains.loc[:, 'SalePrice'] \n",
        "\n",
        "X = X1.to_numpy()\n",
        "y = y1.to_numpy()\n"
      ],
      "execution_count": 8,
      "outputs": []
    },
    {
      "cell_type": "code",
      "metadata": {
        "id": "lEkcv8qknp6s"
      },
      "source": [
        "import numpy as np\n",
        "np.random.seed(42)\n",
        "from sklearn.model_selection import train_test_split\n",
        "\n",
        "X_train, X_val, y_train, y_val = train_test_split(X, y, test_size = 0.2, random_state = 42)"
      ],
      "execution_count": 2,
      "outputs": []
    },
    {
      "cell_type": "code",
      "metadata": {
        "colab": {
          "base_uri": "https://localhost:8080/"
        },
        "id": "ocD7a7SDlixP",
        "outputId": "33ff33ba-6d54-4e29-a7c7-fa5d28bb549d"
      },
      "source": [
        "X_train.shape, X_val.shape"
      ],
      "execution_count": 41,
      "outputs": [
        {
          "output_type": "execute_result",
          "data": {
            "text/plain": [
              "((1168, 2), (292, 2))"
            ]
          },
          "metadata": {},
          "execution_count": 41
        }
      ]
    },
    {
      "cell_type": "markdown",
      "metadata": {
        "id": "HLj2z15DoK2I"
      },
      "source": [
        "ScratchLinearRegression class "
      ]
    },
    {
      "cell_type": "code",
      "metadata": {
        "id": "XvGCA4OVo_rk"
      },
      "source": [
        "import numpy as np\n"
      ],
      "execution_count": 42,
      "outputs": []
    },
    {
      "cell_type": "code",
      "metadata": {
        "colab": {
          "base_uri": "https://localhost:8080/"
        },
        "id": "07axv2ccpEhT",
        "outputId": "572062d7-15dd-4bac-b8bd-cf7f38e0a83c"
      },
      "source": [
        "np.random.rand(len(X[0]))"
      ],
      "execution_count": 43,
      "outputs": [
        {
          "output_type": "execute_result",
          "data": {
            "text/plain": [
              "array([0.37454012, 0.95071431])"
            ]
          },
          "metadata": {},
          "execution_count": 43
        }
      ]
    },
    {
      "cell_type": "code",
      "metadata": {
        "colab": {
          "base_uri": "https://localhost:8080/"
        },
        "id": "goZQ8euJpe5B",
        "outputId": "7a009ee5-ac67-43c7-f7d8-f728aecfa30d"
      },
      "source": [
        "bias = np.ones(len(X)).reshape(-1, 1)\n",
        "bias.shape"
      ],
      "execution_count": 44,
      "outputs": [
        {
          "output_type": "execute_result",
          "data": {
            "text/plain": [
              "(1460, 1)"
            ]
          },
          "metadata": {},
          "execution_count": 44
        }
      ]
    },
    {
      "cell_type": "code",
      "metadata": {
        "id": "q3ohoT0lqt8B"
      },
      "source": [
        "class ScratchLinearRegression():\n",
        "    \"\"\"\n",
        "    Scratch implementation of linear regression\n",
        "    \n",
        "    Parameters\n",
        "    ----------\n",
        "    num_iter : int\n",
        "      Number of iterations\n",
        "    lr : float\n",
        "      Learning rate\n",
        "    no_bias : bool\n",
        "      True if no bias term is included\n",
        "    verbose : bool\n",
        "      True to output the learning process\n",
        "    \n",
        "    Attributes\n",
        "    ----------\n",
        "    self.coef_ : The following form of ndarray, shape (n_features,)\n",
        "      Parameters\n",
        "    self.loss : The following form of ndarray, shape (self.iter,)\n",
        "      Record losses on training data\n",
        "    self.val_loss : The following form of ndarray, shape (self.iter,)\n",
        "      Record loss on validation data\n",
        "    \"\"\"\n",
        "    \n",
        "    def __init__(self, num_iter, lr, no_bias, verbose):\n",
        "        # Record hyperparameters as attributes\n",
        "        self.iter = num_iter\n",
        "        self.lr = lr\n",
        "        self.no_bias = no_bias\n",
        "        self.verbose = verbose\n",
        "        self.coef_ = None\n",
        "\n",
        "        # Prepare an array to record the loss\n",
        "        self.loss = np.zeros(self.iter)\n",
        "        self.val_loss = np.zeros(self.iter)\n",
        "        \n",
        "    def fit(self, X, y, X_val=None, y_val=None):\n",
        "\n",
        "      \"\"\"\n",
        "        Learn linear regression. If validation data is entered, the loss and accuracy for it are also calculated for each iteration.\n",
        "        Parameters\n",
        "        ----------\n",
        "        X : The following forms of ndarray, shape (n_samples, n_features)\n",
        "            Features of training data\n",
        "        y : The following form of ndarray, shape (n_samples,)\n",
        "            Correct answer value of training data\n",
        "        X_val : The following forms of ndarray, shape (n_samples, n_features)\n",
        "            Features of verification data\n",
        "        y_val : The following form of ndarray, shape (n_samples,)\n",
        "            Correct value of verification data\n",
        "        \"\"\"\n",
        "        # Set the presence or absence of the bias term. When False(with bias), \n",
        "        # X_0=1 is concat to X.\n",
        "      if self.no_bias:\n",
        "        self.coef_ = np.random.rand(len(X[0]))\n",
        "          # Since there are two types of features (two columns: 'GrlivArea', \n",
        "          #'YearBuilt'), prepare two random coefficient as init\n",
        "      else:\n",
        "          bias = np.ones(len(X)).reshape(-1, 1)\n",
        "          X = np.concatenate((bias, X), axis=1)\n",
        "          self.coef_ = np.random.rand(len(X[0]))\n",
        "\n",
        "          if self.verbose:\n",
        "            print(f'bias.shape: {bias.shape}') \n",
        "            print(f'X.shape:{X.shape}')\n",
        "            print(f'X_val.shape:{X_val.shape}') \n",
        "      for i in range(self.iter):\n",
        "          y_pred = self._linear_hypothesis(X) #Predict y_pred from the i-th training data X_train using the coefficient self....\n",
        "          y_pred_val = self.predict(X_val) # Predict y_pred_vol using the coefficient self.coef_ from the i-th data for X_vol\n",
        "\n",
        "          self.coef_ = self._gradient_descent(X, y) #Calculate the new coefficient by gradient descent\n",
        "\n",
        "          self.loss[i] = self._objective_function(y_pred, y) #Calculate the loss function using y_pred calulated from the new...\n",
        "          self.val_loss[i] = self._objective_function(y_pred_val, y_val)\n",
        "    \n",
        "    def _gradient_descent(self, X, y):\n",
        "      \"\"\"\n",
        "      Train a linear regression model using steepest descent when called by the fit method.\n",
        "\n",
        "      Parameters\n",
        "\n",
        "      X : ndarray of the following form, shape (n_samples, n_features)\n",
        "      \"\"\"\n",
        "      error = self._linear_hypothesis(X) - y\n",
        "      self.coef_ -=(self.lr/len(X)) * np.matmul(error, X)\n",
        "\n",
        "      return self.coef_       \n",
        "          \n",
        "    def _linear_hypothesis(self, X):\n",
        "\n",
        "      \"\"\"\n",
        "      Compute a linear hypothetical function\n",
        "      Parameters\n",
        "      ----------\n",
        "      X : The following forms of ndarray, shape (n_samples, n_features)\n",
        "      Training data\n",
        "      Returns\n",
        "      -------\n",
        "      The following form of ndarray, shape (n_samples, 1)\n",
        "      Estimated result by linear hypothetical function\n",
        "      \"\"\"\n",
        "      return np.dot(X, self.coef_.T)\n",
        "\n",
        "    def _objective_function(self, y_pred, y):\n",
        "      \"\"\"\n",
        "      Calculation of loss\n",
        "      Parameters\n",
        "      ----------\n",
        "      y_pred : ndarray of the following form, shape (n_samples,)\n",
        "      Estimated value\n",
        "      y : ndarray of the following form, shape (n_samples,)\n",
        "      Correct answer value\n",
        "      Returns\n",
        "      ----------\n",
        "      mse : numpy.float\n",
        "      Mean squared error\n",
        "      \"\"\"\n",
        "      loss = np.sum((y_pred - y)**2)/(2* len(y))\n",
        "      return loss\n",
        "\n",
        "    def predict(self, X):\n",
        "        \"\"\"\n",
        "        Estimate using linear regression.\n",
        "        Parameters\n",
        "        ----------\n",
        "        X : The following forms of ndarray, shape (n_samples, n_features)\n",
        "            sample\n",
        "        Returns\n",
        "        -------\n",
        "            The following form of ndarray, shape (n_samples, 1)\n",
        "            Estimated result by linear regression\n",
        "        \"\"\"\n",
        "        if self.no_bias:\n",
        "          pass\n",
        "        else:\n",
        "          bias = np.ones(len(X)).reshape(-1, 1)\n",
        "          X = np.concatenate((bias, X), axis=1)\n",
        "        prediction = np.dot(X, self.coef_.T)\n",
        "        return prediction\n",
        "      "
      ],
      "execution_count": 49,
      "outputs": []
    },
    {
      "cell_type": "code",
      "metadata": {
        "id": "tjWhQUScbXW2"
      },
      "source": [
        "from sklearn.preprocessing import StandardScaler \n",
        "\n",
        "scaler = StandardScaler()\n",
        "scaler.fit(X_train)\n",
        "\n",
        "X_train = scaler.transform(X_train)\n",
        "X_val = scaler.transform(X_val)\n"
      ],
      "execution_count": 46,
      "outputs": []
    },
    {
      "cell_type": "code",
      "metadata": {
        "colab": {
          "base_uri": "https://localhost:8080/"
        },
        "id": "g4jwKvZKcD_F",
        "outputId": "b1b5142d-b6c2-4430-b712-0534f3ef0b94"
      },
      "source": [
        "model = ScratchLinearRegression(num_iter= 5000, lr = 0.001, no_bias = False, verbose=True)\n",
        "model.fit(X_train, y_train, X_val, y_val)\n",
        "y_pred = model.predict(X_val)"
      ],
      "execution_count": 50,
      "outputs": [
        {
          "output_type": "stream",
          "name": "stdout",
          "text": [
            "bias.shape: (1168, 1)\n",
            "X.shape:(1168, 3)\n",
            "X_val.shape:(292, 2)\n"
          ]
        }
      ]
    },
    {
      "cell_type": "code",
      "metadata": {
        "colab": {
          "base_uri": "https://localhost:8080/"
        },
        "id": "EDBdM8FidB5M",
        "outputId": "963445ff-6bfc-4fb3-8f11-b9da2f0d2b0f"
      },
      "source": [
        "print('MSE Scratch Linear Regression: {:.3g}'.format(MSE(y_val, y_pred)))"
      ],
      "execution_count": 51,
      "outputs": [
        {
          "output_type": "stream",
          "name": "stdout",
          "text": [
            "MSE Scratch Linear Regression: 2.5e+09\n"
          ]
        }
      ]
    },
    {
      "cell_type": "markdown",
      "metadata": {
        "id": "_hu1bqmZXoF8"
      },
      "source": [
        "Checking the result of a linear regression model from sklearn"
      ]
    },
    {
      "cell_type": "code",
      "metadata": {
        "id": "aPh9e665X8bJ"
      },
      "source": [
        "from sklearn.linear_model import LinearRegression\n",
        "\n",
        "reg = LinearRegression()\n",
        "reg.fit(X_train, y_train)\n",
        "y_pred_reg = reg.predict(X_val)"
      ],
      "execution_count": 52,
      "outputs": []
    },
    {
      "cell_type": "code",
      "metadata": {
        "colab": {
          "base_uri": "https://localhost:8080/"
        },
        "id": "GONPh8aVYmJ-",
        "outputId": "fb9f70c4-0318-4222-d434-b184b8010388"
      },
      "source": [
        "from sklearn.metrics import mean_squared_error\n",
        "print('MSE Original Linear Regression: {:.3g}' .format(mean_squared_error(y_val, y_pred_reg)))"
      ],
      "execution_count": 53,
      "outputs": [
        {
          "output_type": "stream",
          "name": "stdout",
          "text": [
            "MSE Original Linear Regression: 2.5e+09\n"
          ]
        }
      ]
    },
    {
      "cell_type": "markdown",
      "metadata": {
        "id": "IIgQHqCOUnb2"
      },
      "source": [
        "# Problem 7: Plot of learning curve\n",
        "\n",
        "\n",
        "Create and execuute a function that displays the learning curve. Look at the graph to see if the loss is down properly. \n",
        "\n",
        "\n",
        "\n",
        "In the template of the linear regression class, the lloss is recorded in self.loss and self.val_loss, so please use this for input. \n",
        "\n",
        "\n",
        "\n",
        "\n",
        "\n"
      ]
    },
    {
      "cell_type": "code",
      "metadata": {
        "id": "LeIyENond3cu"
      },
      "source": [
        "#np.arange(10)"
      ],
      "execution_count": 54,
      "outputs": []
    },
    {
      "cell_type": "code",
      "metadata": {
        "colab": {
          "base_uri": "https://localhost:8080/",
          "height": 312
        },
        "id": "e62C-hbwVraq",
        "outputId": "fa33403e-4a16-452f-f6f9-8fcc3d4a68a0"
      },
      "source": [
        "import matplotlib.pyplot as plt\n",
        "%matplotlib inline \n",
        "\n",
        "plt.figure\n",
        "\n",
        "plt.plot(np.arange(len(model.loss)), model.loss, lw=4, label='train loss')\n",
        "plt.plot(np.arange(len(model.val_loss)), model.loss, lw=4, label='val loss')\n",
        "\n",
        "plt.title(\"Scratch Model Loss with bias\")\n",
        "plt.xlabel(\"Iteration\")\n",
        "plt.ylabel(\"Loss\")\n",
        "plt.legend()\n",
        "\n",
        "plt.show\n"
      ],
      "execution_count": 57,
      "outputs": [
        {
          "output_type": "execute_result",
          "data": {
            "text/plain": [
              "<function matplotlib.pyplot.show>"
            ]
          },
          "metadata": {},
          "execution_count": 57
        },
        {
          "output_type": "display_data",
          "data": {
            "image/png": "[encoded data removed]",
            "text/plain": [
              "<Figure size 432x288 with 1 Axes>"
            ]
          },
          "metadata": {
            "needs_background": "light"
          }
        }
      ]
    },
    {
      "cell_type": "markdown",
      "metadata": {
        "id": "wBgYKL06eaMt"
      },
      "source": [
        "# Problem 8: (Advance task) Removal of bias term\n",
        "\n",
        "\n",
        "Examine how learning changes when the bias term ᶿ0 is removed. Also, discuss and investigate the role off the bias term in linear regression models. \n",
        "\n"
      ]
    },
    {
      "cell_type": "code",
      "metadata": {
        "id": "b0zSRYnNfQSH"
      },
      "source": [
        "model_wb = ScratchLinearRegression(num_iter= 5000, lr = 0.001, no_bias = True, verbose=False)\n",
        "model_wb.fit(X_train, y_train, X_val, y_val)\n",
        "y_pred = model_wb.predict(X_val)"
      ],
      "execution_count": 58,
      "outputs": []
    },
    {
      "cell_type": "code",
      "metadata": {
        "colab": {
          "base_uri": "https://localhost:8080/"
        },
        "id": "t-OSSFzZgAg4",
        "outputId": "79288dcf-d2b2-4afc-f979-7a8ffebbe427"
      },
      "source": [
        "print('MSE Scratch Linear Regression without bias: {:.3g}'.format(MSE(y_val, y_pred)))"
      ],
      "execution_count": 59,
      "outputs": [
        {
          "output_type": "stream",
          "name": "stdout",
          "text": [
            "MSE Scratch Linear Regression without bias: 3.59e+10\n"
          ]
        }
      ]
    },
    {
      "cell_type": "code",
      "metadata": {
        "colab": {
          "base_uri": "https://localhost:8080/",
          "height": 312
        },
        "id": "6ZbQsgbpg6Mt",
        "outputId": "6666dd66-569b-4945-8730-73200463beb8"
      },
      "source": [
        "import matplotlib.pyplot as plt\n",
        "%matplotlib inline \n",
        "\n",
        "plt.figure\n",
        "\n",
        "plt.plot(np.arange(len(model_wb.loss)), model_wb.loss, lw=4, label='train loss')\n",
        "plt.plot(np.arange(len(model_wb.val_loss)), model_wb.loss, lw=4, label='val loss')\n",
        "\n",
        "plt.title(\"Scratch Model Loss without bias\")\n",
        "plt.xlabel(\"Iteration\")\n",
        "plt.ylabel(\"Loss\")\n",
        "plt.legend()\n",
        "\n",
        "plt.show"
      ],
      "execution_count": 62,
      "outputs": [
        {
          "output_type": "execute_result",
          "data": {
            "text/plain": [
              "<function matplotlib.pyplot.show>"
            ]
          },
          "metadata": {},
          "execution_count": 62
        },
        {
          "output_type": "display_data",
          "data": {
            "image/png": "[encoded data removed]",
            "text/plain": [
              "<Figure size 432x288 with 1 Axes>"
            ]
          },
          "metadata": {
            "needs_background": "light"
          }
        }
      ]
    },
    {
      "cell_type": "markdown",
      "metadata": {
        "id": "PdJpP34DpyPh"
      },
      "source": [
        "\n",
        "\n",
        "The presence of the bias term significantly reduced the mean squared error compared to the case with the bis term. \n",
        "\n",
        "\n",
        "The bias decreases discepancy between the mean of the target balue and target value and that of the hypothetical function. \n",
        "\n",
        "\n",
        "\n"
      ]
    },
    {
      "cell_type": "markdown",
      "metadata": {
        "id": "8C-WjFEJqxqK"
      },
      "source": [
        "Problem 9: (Advance task) Multidimensiomal feature quantity"
      ]
    },
    {
      "cell_type": "markdown",
      "metadata": {
        "id": "lyUSdI0Orpvv"
      },
      "source": [
        "Please verify how the learning result changes when the square or cube of the featuree is used for input."
      ]
    },
    {
      "cell_type": "code",
      "metadata": {
        "id": "uoSVNiWAqo3R"
      },
      "source": [
        "np.random.seed(0)\n",
        "X_2 = X**2\n",
        "X_3 = X**3\n",
        "X_2_train, X_2_val, y_train, y_val = train_test_split(X_2, y, test_size=0.2)\n",
        "X_3_train, X_3_val, y_train, y_val = train_test_split(X_3, y, test_size=0.2)\n",
        "\n",
        "scaler.fit(X_2_train)\n",
        "scaler.fit(X_3_train)\n",
        "\n",
        "X_2_train = scaler.transform(X_2_train)\n",
        "X_2_val = scaler.transform(X_2_val)\n",
        "\n",
        "X_3_train = scaler.transform(X_3_train)\n",
        "X_3_val = scaler.transform(X_3_val)\n",
        "\n"
      ],
      "execution_count": 63,
      "outputs": []
    },
    {
      "cell_type": "code",
      "metadata": {
        "id": "Alkg8Bqmt98b"
      },
      "source": [
        "model_2 = ScratchLinearRegression(num_iter= 5000, lr = 0.001, no_bias = False, verbose=False)\n",
        "model_2.fit(X_2_train, y_train, X_2_val, y_val)\n",
        "y_pred_2 = model_2.predict(X_2_val)"
      ],
      "execution_count": 64,
      "outputs": []
    },
    {
      "cell_type": "code",
      "metadata": {
        "colab": {
          "base_uri": "https://localhost:8080/"
        },
        "id": "94KW7cIRv_P6",
        "outputId": "67aff0f7-f4d7-4b2b-dc88-7b0e3c15d0c5"
      },
      "source": [
        "print('MSE Scratch Linear Regression with the square of X: {:.3g}'.format(MSE(y_val, y_pred_2)))"
      ],
      "execution_count": 65,
      "outputs": [
        {
          "output_type": "stream",
          "name": "stdout",
          "text": [
            "MSE Scratch Linear Regression with the square of X: 6.85e+09\n"
          ]
        }
      ]
    },
    {
      "cell_type": "code",
      "metadata": {
        "id": "F40YCp3wwObi"
      },
      "source": [
        "model_3 = ScratchLinearRegression(num_iter= 5000, lr = 0.001, no_bias = False, verbose=False)\n",
        "model_3.fit(X_3_train, y_train, X_3_val, y_val)\n",
        "y_pred_3 = model_3.predict(X_3_val)"
      ],
      "execution_count": 66,
      "outputs": []
    },
    {
      "cell_type": "code",
      "metadata": {
        "colab": {
          "base_uri": "https://localhost:8080/"
        },
        "id": "L_ulIsVSwalR",
        "outputId": "c79b3dbb-f929-4310-d043-eacabfb61b2c"
      },
      "source": [
        "print('MSE Scratch Linear Regression with the cube of X: {:.3g}'.format(MSE(y_val, y_pred_3)))"
      ],
      "execution_count": 67,
      "outputs": [
        {
          "output_type": "stream",
          "name": "stdout",
          "text": [
            "MSE Scratch Linear Regression with the cube of X: 3.09e+09\n"
          ]
        }
      ]
    },
    {
      "cell_type": "code",
      "metadata": {
        "colab": {
          "base_uri": "https://localhost:8080/",
          "height": 312
        },
        "id": "NE0bNiH1wpZk",
        "outputId": "b52e3f02-1770-45c8-a320-fbbec679c145"
      },
      "source": [
        "plt.plot(np.arange(len(model.loss)), model.loss, lw=4, label='Train loss original model')\n",
        "plt.plot(np.arange(len(model_2.val_loss)), model_2.loss, lw=4, label='Train loss square model')\n",
        "plt.plot(np.arange(len(model_3.val_loss)), model_3.loss, lw=4, label='Train loss cube model')\n",
        "\n",
        "\n",
        "plt.title(\"Scratch Model Train Loss\")\n",
        "plt.xlabel(\"Iteration\")\n",
        "plt.ylabel(\"Loss\")\n",
        "plt.legend()\n",
        "\n",
        "plt.show"
      ],
      "execution_count": 68,
      "outputs": [
        {
          "output_type": "execute_result",
          "data": {
            "text/plain": [
              "<function matplotlib.pyplot.show>"
            ]
          },
          "metadata": {},
          "execution_count": 68
        },
        {
          "output_type": "display_data",
          "data": {
            "image/png": "[encoded data removed]",
            "text/plain": [
              "<Figure size 432x288 with 1 Axes>"
            ]
          },
          "metadata": {
            "needs_background": "light"
          }
        }
      ]
    },
    {
      "cell_type": "code",
      "metadata": {
        "colab": {
          "base_uri": "https://localhost:8080/",
          "height": 312
        },
        "id": "SZOgL6dhygvf",
        "outputId": "61d73647-0934-4b97-c272-e3175164ad77"
      },
      "source": [
        "plt.plot(np.arange(len(model.val_loss)), model.loss, lw=4, label='Val loss original model')\n",
        "plt.plot(np.arange(len(model_2.val_loss)), model_2.loss, lw=4, label='Val loss square model')\n",
        "plt.plot(np.arange(len(model_3.val_loss)), model_3.loss, lw=4, label='Val loss cube model')\n",
        "\n",
        "\n",
        "plt.title(\"Scratch Model Train Loss\")\n",
        "plt.xlabel(\"Iteration\")\n",
        "plt.ylabel(\"Loss\")\n",
        "plt.legend()\n",
        "\n",
        "plt.show"
      ],
      "execution_count": 69,
      "outputs": [
        {
          "output_type": "execute_result",
          "data": {
            "text/plain": [
              "<function matplotlib.pyplot.show>"
            ]
          },
          "metadata": {},
          "execution_count": 69
        },
        {
          "output_type": "display_data",
          "data": {
            "image/png": "[encoded data removed]",
            "text/plain": [
              "<Figure size 432x288 with 1 Axes>"
            ]
          },
          "metadata": {
            "needs_background": "light"
          }
        }
      ]
    },
    {
      "cell_type": "markdown",
      "metadata": {
        "id": "17tzNL1rzRAb"
      },
      "source": [
        "Problem 10"
      ]
    },
    {
      "cell_type": "code",
      "metadata": {
        "id": "JHuxQyHgzS_0"
      },
      "source": [
        ""
      ],
      "execution_count": null,
      "outputs": []
    }
  ]
}