{
  "nbformat": 4,
  "nbformat_minor": 0,
  "metadata": {
    "colab": {
      "name": "Tenth_Assignment.ipynb",
      "provenance": [],
      "collapsed_sections": [],
      "mount_file_id": "1OJ5o8vru8oLOWfNGEH34oDJfeCsTCClC",
      "authorship_tag": "ABX9TyNM99RDm8W59A4W9WAKo28m",
      "include_colab_link": true
    },
    "kernelspec": {
      "name": "python3",
      "display_name": "Python 3"
    },
    "language_info": {
      "name": "python"
    }
  },
  "cells": [
    {
      "cell_type": "markdown",
      "metadata": {
        "id": "view-in-github",
        "colab_type": "text"
      },
      "source": [
        "<a href=\"https://colab.research.google.com/github/Mochismo/LearnPython/blob/main/Tenth_Assignment.ipynb\" target=\"_parent\"><img src=\"https://colab.research.google.com/assets/colab-badge.svg\" alt=\"Open In Colab\"/></a>"
      ]
    },
    {
      "cell_type": "code",
      "metadata": {
        "colab": {
          "base_uri": "https://localhost:8080/",
          "height": 312
        },
        "id": "1ZZU_zySsVrd",
        "outputId": "02244634-56a1-4361-cbc9-9e88ba2a7794"
      },
      "source": [
        "import numpy as np\n",
        "import matplotlib.pyplot as plt\n",
        "%matplotlib inline\n",
        "csv_path = \"/content/drive/MyDrive/mtfuji_data (1).csv\" # Specify the file name (path)\n",
        "x=[]\n",
        "y=[]\n",
        "np.set_printoptions(suppress=True) # Set the prohibition of exponential notation\n",
        "fuji = np.loadtxt(csv_path, delimiter=\",\", skiprows=1)\n",
        "for row in fuji:\n",
        "  x.append(int(row[0]))\n",
        "  y.append(int(row[3]))\n",
        "plt.title(\"Mount Fuji\")\n",
        "plt.xlabel(\"The Number of the point\")\n",
        "plt.ylabel(\"Elevation\")\n",
        "plt.plot(x, y)  \n",
        "#print(fuji[0:140])"
      ],
      "execution_count": 2,
      "outputs": [
        {
          "output_type": "execute_result",
          "data": {
            "text/plain": [
              "[<matplotlib.lines.Line2D at 0x7f1001ef8c50>]"
            ]
          },
          "metadata": {},
          "execution_count": 2
        },
        {
          "output_type": "display_data",
          "data": {
            "image/png": "[encoded data removed]",
            "text/plain": [
              "<Figure size 432x288 with 1 Axes>"
            ]
          },
          "metadata": {
            "needs_background": "light"
          }
        }
      ]
    },
    {
      "cell_type": "code",
      "metadata": {
        "colab": {
          "base_uri": "https://localhost:8080/",
          "height": 0
        },
        "id": "zWQsNNTjtlPy",
        "outputId": "31bea765-1249-4c32-bf0e-58d8a75418fd"
      },
      "source": [
        "#Problem 2\n",
        "x_np =np.array(x)\n",
        "y_np =np.array(y)\n",
        "change_X = x_np[1:] - x_np[:-1]\n",
        "change_y = y_np[1:] - y_np[:-1]\n",
        "gradient = (change_y/change_X)\n",
        "print(gradient.size)\n",
        "print(gradient)\n",
        "Gradient2 = np.append(gradient, [0])\n",
        "print(Gradient2.size)"
      ],
      "execution_count": 50,
      "outputs": [
        {
          "output_type": "stream",
          "name": "stdout",
          "text": [
            "299\n",
            "[   0.    0.    0.    0.    0.    6.    1.    5.   42.  117.    6.   51.\n",
            "   47.  158.  -62.    9.  123.  -18.   -8.  103.   30.   44.  -26.   -2.\n",
            "  -54.  151.  -22.  178.   97.  -57. -102.  -74.   27.   94.  -38.  -78.\n",
            "    8.  -32.    0.    0.    0.    0.    0.    0.    0.    0.    0.  128.\n",
            "   -1.  -20.   49.   75. -106.  -18.  -41.  -52.  110. -110.   -2.  -64.\n",
            " -108.  -12.  -55.   61.  -55.  -41.    7.  -40.   25.  -42.  -50.   -7.\n",
            "   13.    3.    0.    6.    9.    4.   28.    2.   23.   15.   13.   17.\n",
            "   17.   14.   17.   17.   22.   13.   14.   11.   18.   29.   12.   28.\n",
            "   25.   16.   12.   19.   23.   22.   41.   25.   27.   22.   41.   27.\n",
            "   34.   25.   46.   61.   53.   20.   53.   68.   69.   77.   55.   37.\n",
            "   61.   67.   55.   69.  103.  123.  120.  110.  120.  137.  140.  122.\n",
            "  142.  120.  179.  168.  166.   79.  -15.  -97. -219. -177. -152. -155.\n",
            " -151. -147. -116. -116.  -94.  -94.  -85.  -98.  -59. -106.  -50.  -69.\n",
            "  -56.  -33.  -65.  -41.  -55.  -45.  -51.  -27.  -34.  -13.  -37.  -21.\n",
            "  -19.  -22.  -36.  -29.  -14.  -13.  -15.   -4.   -6.  -10.  -11.  -29.\n",
            "   -8.  -15.  -10.   -2.  136.  109.  118.   30. -136. -159.  -83.  -73.\n",
            "    0.    0.  120.  106.   29. -165.  -95. -172. -107.  -60.  -54.   85.\n",
            "   33.    2.    9. -152.  -52.  -14.  -52.  144.   87.  -66. -121.  -14.\n",
            "  -37.  133.   95.   13.  -32. -138.  -86.  -27.   20.  -62.   62.  108.\n",
            "   74.  -92.  -78.   79.  -60.  -85.  -16.   39.  108.   28.   54.   10.\n",
            "  -71.   32.   -6.   46.   40.  207.  106.  -34.   94.  -14.  178.   82.\n",
            "   30.  -47. -158.  -57.  -20.   63.  169.  102.  112.  175.   69.  134.\n",
            "   22.  123. -161.   28.   31. -160.   64.  -36.   -9.  -69. -128.  -48.\n",
            " -108.   66.   28.  -67.   28. -138. -283.  121.  117.  218.  138.  171.\n",
            "   51.  186.  184.  111.  -55.  -74. -166.   26.   29. -132. -116.]\n",
            "300\n"
          ]
        }
      ]
    },
    {
      "cell_type": "code",
      "metadata": {
        "colab": {
          "base_uri": "https://localhost:8080/",
          "height": 0
        },
        "id": "88mh0DGgwfr7",
        "outputId": "248c21bf-9dc5-4cbc-d27e-a7f21af5df80"
      },
      "source": [
        "#Problem 3(1)\n",
        "D = []\n",
        "def descent_calculation(R, H_P):\n",
        "  for row in fuji:\n",
        "     D.append(int(row[R]))\n",
        "     np.array(D)\n",
        "  Distance = np.round(D - (H_P*Gradient2))\n",
        "\n",
        "  print(Distance)\n",
        "print(D)\n",
        "descent_calculation(4, 0.2)\n",
        "  "
      ],
      "execution_count": 47,
      "outputs": [
        {
          "output_type": "stream",
          "name": "stdout",
          "text": [
            "[]\n",
            "[    0.   322.   644.   966.  1288.  1610.  1933.  2254.  2569.  2876.\n",
            "  3221.  3534.  3857.  4156.  4523.  4831.  5130.  5481.  5801.  6101.\n",
            "  6438.  6757.  7093.  7411.  7744.  8025.  8381.  8663.  9003.  9355.\n",
            "  9686. 10003. 10305. 10614. 10963. 11293. 11597. 11928. 12244. 12566.\n",
            " 12888. 13210. 13533. 13855. 14177. 14499. 14822. 15118. 15466. 15792.\n",
            " 16100. 16418. 16776. 17081. 17407. 17731. 18022. 18388. 18688. 19023.\n",
            " 19355. 19657. 19988. 20287. 20632. 20952. 21265. 21596. 21905. 22241.\n",
            " 22565. 22878. 23196. 23520. 23844. 24165. 24486. 24809. 25127. 25455.\n",
            " 25772. 26096. 26418. 26741. 27063. 27385. 27707. 28029. 28351. 28674.\n",
            " 28996. 29319. 29640. 29960. 30286. 30604. 30927. 31252. 31575. 31895.\n",
            " 32216. 32540. 32858. 33183. 33505. 33828. 34147. 34472. 34792. 35116.\n",
            " 35434. 35754. 36077. 36406. 36721. 37041. 37363. 37684. 38010. 38336.\n",
            " 38654. 38975. 39299. 39618. 39934. 40252. 40575. 40899. 41219. 41539.\n",
            " 41860. 42186. 42504. 42830. 43141. 43465. 43788. 44127. 44469. 44807.\n",
            " 45154. 45467. 45784. 46108. 46429. 46750. 47066. 47389. 47707. 48029.\n",
            " 48349. 48674. 48989. 49320. 49631. 49957. 50277. 50595. 50923. 51240.\n",
            " 51565. 51886. 52209. 52526. 52850. 53168. 53495. 53814. 54136. 54458.\n",
            " 54784. 55105. 55424. 55746. 56068. 56389. 56711. 57034. 57356. 57683.\n",
            " 58001. 58324. 58645. 58965. 59261. 59588. 59908. 60248. 60603. 60931.\n",
            " 61238. 61558. 61865. 62188. 62486. 62811. 63148. 63509. 63818. 64155.\n",
            " 64464. 64777. 65099. 65393. 65725. 66054. 66374. 66729. 67031. 67346.\n",
            " 67675. 67958. 68293. 68645. 68978. 69279. 69606. 69894. 70224. 70562.\n",
            " 70893. 71238. 71549. 71859. 72172. 72511. 72809. 73121. 73450. 73805.\n",
            " 74126. 74416. 74766. 75093. 75402. 75713. 76021. 76359. 76676. 77008.\n",
            " 77346. 77648. 77977. 78289. 78613. 78902. 79244. 79594. 79891. 80235.\n",
            " 80518. 80860. 81192. 81530. 81875. 82176. 82491. 82797. 83098. 83434.\n",
            " 83754. 84063. 84407. 84716. 85061. 85362. 85741. 86026. 86348. 86708.\n",
            " 86985. 87328. 87645. 87979. 88313. 88619. 88954. 89241. 89570. 89911.\n",
            " 90215. 90571. 90922. 91163. 91486. 91788. 92126. 92442. 92788. 93084.\n",
            " 93406. 93743. 94098. 94424. 94765. 95049. 95370. 95724. 96043. 96343.]\n"
          ]
        }
      ]
    },
    {
      "cell_type": "code",
      "metadata": {
        "colab": {
          "base_uri": "https://localhost:8080/",
          "height": 0
        },
        "id": "9rAj1bsADLGG",
        "outputId": "62fc04bd-8cb3-4a77-f86b-c2ae661884f6"
      },
      "source": [
        "# Problem 3(2)\n",
        "H =[]\n",
        "Y =[]\n",
        "def predict_destination(C_LC, H_P, G_R):\n",
        "  #*** Current location= C_LC, Gradient=G_R, Hyper Parameter= H_P***\n",
        "  Destination_point = C_LC - (H_P*G_R)\n",
        "  return Destination_point\n",
        "predict_destination(322, 0.2, 0)  "
      ],
      "execution_count": 48,
      "outputs": [
        {
          "output_type": "execute_result",
          "data": {
            "text/plain": [
              "322.0"
            ]
          },
          "metadata": {},
          "execution_count": 48
        }
      ]
    },
    {
      "cell_type": "code",
      "metadata": {
        "colab": {
          "base_uri": "https://localhost:8080/",
          "height": 0
        },
        "id": "lcZW_ih5MIQG",
        "outputId": "0c944102-f253-48bb-a2b1-6b29d882593a"
      },
      "source": [
        "#Problem 3\n",
        "D = []\n",
        "def descent_calculation(R, H_P):\n",
        "  for row in fuji:\n",
        "     D.append(int(row[R]))\n",
        "     np.array(D)\n",
        "  Distance = D - (H_P*Gradient2)\n",
        "  Distance2 = Distance[0:136]\n",
        "  \n",
        "  print(Distance[0:136])\n",
        "  #print(Distance2)\n",
        "descent_calculation(4, 0.2)"
      ],
      "execution_count": 61,
      "outputs": [
        {
          "output_type": "stream",
          "name": "stdout",
          "text": [
            "[    0.    322.    644.    966.   1288.   1609.8  1932.8  2254.   2568.6\n",
            "  2875.6  3220.8  3533.8  3856.6  4156.4  4523.4  4831.2  5130.4  5480.6\n",
            "  5800.6  6101.4  6438.   6757.2  7093.2  7411.4  7743.8  8024.8  8381.4\n",
            "  8663.4  9002.6  9355.4  9686.4 10002.8 10304.6 10614.2 10962.6 11292.6\n",
            " 11597.4 11928.4 12244.  12566.  12888.  13210.  13533.  13855.  14177.\n",
            " 14499.  14822.  15118.4 15466.2 15792.  16100.2 16418.  16776.2 17080.6\n",
            " 17407.2 17731.4 18022.  18388.  18688.4 19022.8 19354.6 19657.4 19988.\n",
            " 20286.8 20632.  20952.2 21264.6 21596.  21905.  22241.4 22565.  22878.4\n",
            " 23196.4 23520.4 23844.  24164.8 24486.2 24809.2 25127.4 25454.6 25772.4\n",
            " 26096.  26418.4 26740.6 27062.6 27385.2 27706.6 28028.6 28350.6 28674.4\n",
            " 28996.2 29318.8 29640.4 29960.2 30285.6 30604.4 30927.  31251.8 31574.6\n",
            " 31895.2 32216.4 32539.6 32857.8 33183.  33504.6 33827.6 34146.8 34471.6\n",
            " 34792.2 35116.  35433.8 35753.8 36077.4 36406.  36721.4 37041.4 37363.2\n",
            " 37683.6 38010.  38335.6 38653.8 38974.6 39299.  39618.2 39934.4 40252.4\n",
            " 40575.  40899.  41219.  41538.6 41860.  42185.6 42503.6 42830.  43141.2\n",
            " 43465.4]\n"
          ]
        }
      ]
    },
    {
      "cell_type": "code",
      "metadata": {
        "colab": {
          "base_uri": "https://localhost:8080/",
          "height": 312
        },
        "id": "tnM6ULFJQzxc",
        "outputId": "4b2ee08f-bbfb-46f2-eaa6-3eff5d16ebb1"
      },
      "source": [
        "import numpy as np\n",
        "import matplotlib.pyplot as plt\n",
        "%matplotlib inline\n",
        "plt.title(\"Descent\")\n",
        "plt.xlabel(\"The Number of the point\")\n",
        "plt.ylabel(\"Distance\")\n",
        "plt.plot(Distance2)  "
      ],
      "execution_count": null,
      "outputs": [
        {
          "output_type": "execute_result",
          "data": {
            "text/plain": [
              "[<matplotlib.lines.Line2D at 0x7fd684e35710>]"
            ]
          },
          "metadata": {},
          "execution_count": 24
        },
        {
          "output_type": "display_data",
          "data": {
            "image/png": "[encoded data removed]",
            "text/plain": [
              "<Figure size 432x288 with 1 Axes>"
            ]
          },
          "metadata": {
            "needs_background": "light"
          }
        }
      ]
    },
    {
      "cell_type": "code",
      "metadata": {
        "colab": {
          "base_uri": "https://localhost:8080/",
          "height": 312
        },
        "id": "vplh50cDRnr-",
        "outputId": "c133941b-6e0e-4ae9-aa7e-90e9ff3ab2a6"
      },
      "source": [
        "#Problem 4/5(1)\n",
        "import numpy as np\n",
        "import matplotlib.pyplot as plt\n",
        "%matplotlib inline\n",
        "import math\n",
        "Current_value = 3434.59 # the algorithm starts at 3434.59\n",
        "rate = 0.2 # learning Rate\n",
        "precission = 0.000001 # This tells us when to stop the algorithm\n",
        "previous_step_size = 1 \n",
        "max_iters = 101 #maximum number of iterations\n",
        "iters = 0 #iteration counter\n",
        "d_f = 168 # Gradient of our function\n",
        "j = []\n",
        "k = []\n",
        "l = gradient[0:101]\n",
        "res = l[::-1]\n",
        "#print(res)\n",
        "while previous_step_size > precission and iters < max_iters:\n",
        "  prev_x = Current_value # Store current x value in prev_x\n",
        "  Current_value = round(Current_value - rate*d_f) # Change in x\n",
        "  j.append(Current_value)\n",
        "  iters = iters + 1 #iteration count\n",
        "  k.append(iters)\n",
        "  #print(\"Iteration\", iters, \"\\nX value is\", Current_value) #Print iterations\n",
        "#print(\"The local minimum occurs at\", Current_value) \n",
        "#for row in fuji:\n",
        "#  j.append((row[0]))\n",
        "#  k.append((row[3]))\n",
        "plt.title(\"Dots Cross section\")\n",
        "plt.xlabel(\"Iterations\")\n",
        "plt.ylabel(\"Altitude Change\")\n",
        "plt.scatter(k, j)"
      ],
      "execution_count": 59,
      "outputs": [
        {
          "output_type": "execute_result",
          "data": {
            "text/plain": [
              "<matplotlib.collections.PathCollection at 0x7f0ffbe2d190>"
            ]
          },
          "metadata": {},
          "execution_count": 59
        },
        {
          "output_type": "display_data",
          "data": {
            "image/png": "[encoded data removed]",
            "text/plain": [
              "<Figure size 432x288 with 1 Axes>"
            ]
          },
          "metadata": {
            "needs_background": "light"
          }
        }
      ]
    },
    {
      "cell_type": "code",
      "metadata": {
        "id": "QNdoIy-YZrBc",
        "colab": {
          "base_uri": "https://localhost:8080/",
          "height": 465
        },
        "outputId": "820f82af-6c0a-44b8-842e-d90baf5a1884"
      },
      "source": [
        "#Problem 5 (2)\n",
        "import numpy as np\n",
        "import matplotlib.pyplot as plt\n",
        "%matplotlib inline\n",
        "import math\n",
        "Current_value = 3434.59 # the algorithm starts at 3434.59\n",
        "rate = 0.2 # learning Rate\n",
        "precission = 0.000001 # This tells us when to stop the algorithm\n",
        "previous_step_size = 1 \n",
        "max_iters = 101 #maximum number of iterations\n",
        "iters = 0 #iteration counter\n",
        "d_f = 168 # Gradient of our function\n",
        "j = []\n",
        "k = []\n",
        "l = gradient[0:101]\n",
        "res = l[::-1]\n",
        "print(res)\n",
        "while previous_step_size > precission and iters < max_iters:\n",
        "  prev_x = Current_value # Store current x value in prev_x\n",
        "  Current_value = round(Current_value - rate*d_f) # Change in x\n",
        "  j.append(Current_value)\n",
        "  iters = iters + 1 #iteration count\n",
        "  k.append(iters)\n",
        "  #print(\"Iteration\", iters, \"\\nX value is\", Current_value) #Print iterations\n",
        "#print(\"The local minimum occurs at\", Current_value) \n",
        "#for row in fuji:\n",
        "#  j.append((row[0]))\n",
        "#  k.append((row[3]))\n",
        "plt.title(\"Altitude Line Graph\")\n",
        "plt.xlabel(\"Gradient\")\n",
        "plt.ylabel(\"Elevation\")\n",
        "plt.plot(j, res)"
      ],
      "execution_count": 60,
      "outputs": [
        {
          "output_type": "stream",
          "name": "stdout",
          "text": [
            "[  23.   19.   12.   16.   25.   28.   12.   29.   18.   11.   14.   13.\n",
            "   22.   17.   17.   14.   17.   17.   13.   15.   23.    2.   28.    4.\n",
            "    9.    6.    0.    3.   13.   -7.  -50.  -42.   25.  -40.    7.  -41.\n",
            "  -55.   61.  -55.  -12. -108.  -64.   -2. -110.  110.  -52.  -41.  -18.\n",
            " -106.   75.   49.  -20.   -1.  128.    0.    0.    0.    0.    0.    0.\n",
            "    0.    0.    0.  -32.    8.  -78.  -38.   94.   27.  -74. -102.  -57.\n",
            "   97.  178.  -22.  151.  -54.   -2.  -26.   44.   30.  103.   -8.  -18.\n",
            "  123.    9.  -62.  158.   47.   51.    6.  117.   42.    5.    1.    6.\n",
            "    0.    0.    0.    0.    0.]\n"
          ]
        },
        {
          "output_type": "execute_result",
          "data": {
            "text/plain": [
              "[<matplotlib.lines.Line2D at 0x7f0ffbe13cd0>]"
            ]
          },
          "metadata": {},
          "execution_count": 60
        },
        {
          "output_type": "display_data",
          "data": {
            "image/png": "[encoded data removed]",
            "text/plain": [
              "<Figure size 432x288 with 1 Axes>"
            ]
          },
          "metadata": {
            "needs_background": "light"
          }
        }
      ]
    },
    {
      "cell_type": "code",
      "metadata": {
        "colab": {
          "base_uri": "https://localhost:8080/",
          "height": 0
        },
        "id": "egqEZOu0LCKU",
        "outputId": "0704feb8-b698-43eb-c51c-9b98a0552e09"
      },
      "source": [
        "#Problem 6\n",
        "import numpy as np\n",
        "import matplotlib.pyplot as plt\n",
        "%matplotlib inline\n",
        "import math\n",
        "Current_value = 1725.8 # the algorithm starts at 1725.8\n",
        "rate = 0.2 # learning Rate\n",
        "precission = 0.000001 # This tells us when to stop the algorithm\n",
        "previous_step_size = 1 \n",
        "max_iters = 75 #maximum number of iterations\n",
        "iters = 0 #iteration counter\n",
        "d_f = 116 # Gradient of our function\n",
        "j = []\n",
        "k = []\n",
        "l = gradient[0:75]\n",
        "res2 = l[::-1]\n",
        "#print(res2)\n",
        "while previous_step_size > precission and iters < max_iters:\n",
        "  prev_x = Current_value # Store current x value in prev_x\n",
        "  Current_value = round(Current_value - rate*d_f) # Change in x\n",
        "  j.append(Current_value)\n",
        "  iters = iters + 1 #iteration count\n",
        "  k.append(iters)\n",
        "  print(\"Iteration\", iters, \"\\nX value is\", Current_value) #Print iterations\n",
        "#print(\"The local minimum occurs at\", Current_value) \n",
        "#for row in fuji:\n",
        "#  j.append((row[0]))\n",
        "#  k.append((row[3]))\n",
        "#plt.title(\"Dots Cross section\")\n",
        "#plt.xlabel(\"Iterations\")\n",
        "#plt.ylabel(\"Altitude Change\")\n",
        "#plt.plot(j, res2)"
      ],
      "execution_count": 77,
      "outputs": [
        {
          "output_type": "stream",
          "name": "stdout",
          "text": [
            "Iteration 1 \n",
            "X value is 1703\n",
            "Iteration 2 \n",
            "X value is 1680\n",
            "Iteration 3 \n",
            "X value is 1657\n",
            "Iteration 4 \n",
            "X value is 1634\n",
            "Iteration 5 \n",
            "X value is 1611\n",
            "Iteration 6 \n",
            "X value is 1588\n",
            "Iteration 7 \n",
            "X value is 1565\n",
            "Iteration 8 \n",
            "X value is 1542\n",
            "Iteration 9 \n",
            "X value is 1519\n",
            "Iteration 10 \n",
            "X value is 1496\n",
            "Iteration 11 \n",
            "X value is 1473\n",
            "Iteration 12 \n",
            "X value is 1450\n",
            "Iteration 13 \n",
            "X value is 1427\n",
            "Iteration 14 \n",
            "X value is 1404\n",
            "Iteration 15 \n",
            "X value is 1381\n",
            "Iteration 16 \n",
            "X value is 1358\n",
            "Iteration 17 \n",
            "X value is 1335\n",
            "Iteration 18 \n",
            "X value is 1312\n",
            "Iteration 19 \n",
            "X value is 1289\n",
            "Iteration 20 \n",
            "X value is 1266\n",
            "Iteration 21 \n",
            "X value is 1243\n",
            "Iteration 22 \n",
            "X value is 1220\n",
            "Iteration 23 \n",
            "X value is 1197\n",
            "Iteration 24 \n",
            "X value is 1174\n",
            "Iteration 25 \n",
            "X value is 1151\n",
            "Iteration 26 \n",
            "X value is 1128\n",
            "Iteration 27 \n",
            "X value is 1105\n",
            "Iteration 28 \n",
            "X value is 1082\n",
            "Iteration 29 \n",
            "X value is 1059\n",
            "Iteration 30 \n",
            "X value is 1036\n",
            "Iteration 31 \n",
            "X value is 1013\n",
            "Iteration 32 \n",
            "X value is 990\n",
            "Iteration 33 \n",
            "X value is 967\n",
            "Iteration 34 \n",
            "X value is 944\n",
            "Iteration 35 \n",
            "X value is 921\n",
            "Iteration 36 \n",
            "X value is 898\n",
            "Iteration 37 \n",
            "X value is 875\n",
            "Iteration 38 \n",
            "X value is 852\n",
            "Iteration 39 \n",
            "X value is 829\n",
            "Iteration 40 \n",
            "X value is 806\n",
            "Iteration 41 \n",
            "X value is 783\n",
            "Iteration 42 \n",
            "X value is 760\n",
            "Iteration 43 \n",
            "X value is 737\n",
            "Iteration 44 \n",
            "X value is 714\n",
            "Iteration 45 \n",
            "X value is 691\n",
            "Iteration 46 \n",
            "X value is 668\n",
            "Iteration 47 \n",
            "X value is 645\n",
            "Iteration 48 \n",
            "X value is 622\n",
            "Iteration 49 \n",
            "X value is 599\n",
            "Iteration 50 \n",
            "X value is 576\n",
            "Iteration 51 \n",
            "X value is 553\n",
            "Iteration 52 \n",
            "X value is 530\n",
            "Iteration 53 \n",
            "X value is 507\n",
            "Iteration 54 \n",
            "X value is 484\n",
            "Iteration 55 \n",
            "X value is 461\n",
            "Iteration 56 \n",
            "X value is 438\n",
            "Iteration 57 \n",
            "X value is 415\n",
            "Iteration 58 \n",
            "X value is 392\n",
            "Iteration 59 \n",
            "X value is 369\n",
            "Iteration 60 \n",
            "X value is 346\n",
            "Iteration 61 \n",
            "X value is 323\n",
            "Iteration 62 \n",
            "X value is 300\n",
            "Iteration 63 \n",
            "X value is 277\n",
            "Iteration 64 \n",
            "X value is 254\n",
            "Iteration 65 \n",
            "X value is 231\n",
            "Iteration 66 \n",
            "X value is 208\n",
            "Iteration 67 \n",
            "X value is 185\n",
            "Iteration 68 \n",
            "X value is 162\n",
            "Iteration 69 \n",
            "X value is 139\n",
            "Iteration 70 \n",
            "X value is 116\n",
            "Iteration 71 \n",
            "X value is 93\n",
            "Iteration 72 \n",
            "X value is 70\n",
            "Iteration 73 \n",
            "X value is 47\n",
            "Iteration 74 \n",
            "X value is 24\n",
            "Iteration 75 \n",
            "X value is 1\n"
          ]
        }
      ]
    },
    {
      "cell_type": "code",
      "metadata": {
        "colab": {
          "base_uri": "https://localhost:8080/",
          "height": 312
        },
        "id": "1nUdDCBQT3R8",
        "outputId": "5624d0e5-ce2c-4dad-9e59-1ee11ca0b7a3"
      },
      "source": [
        "# Problem 7\n",
        "import numpy as np\n",
        "import matplotlib.pyplot as plt\n",
        "%matplotlib inline\n",
        "import math\n",
        "Current_value = 1725.8 # the algorithm starts at 1725.8\n",
        "rate = 0.2 # learning Rate\n",
        "precission = 0.000001 # This tells us when to stop the algorithm\n",
        "previous_step_size = 1 \n",
        "max_iters = 75 #maximum number of iterations\n",
        "iters = 0 #iteration counter\n",
        "d_f = 116 # Gradient of our function\n",
        "j = []\n",
        "k = []\n",
        "l = gradient[0:75]\n",
        "res2 = l[::-1]\n",
        "#print(res2)\n",
        "while previous_step_size > precission and iters < max_iters:\n",
        "  prev_x = Current_value # Store current x value in prev_x\n",
        "  Current_value = round(Current_value - rate*d_f) # Change in x\n",
        "  j.append(Current_value)\n",
        "  iters = iters + 1 #iteration count\n",
        "  k.append(iters)\n",
        "  #print(\"Iteration\", iters, \"\\nX value is\", Current_value) #Print iterations\n",
        "#print(\"The local minimum occurs at\", Current_value) \n",
        "#for row in fuji:\n",
        "#  j.append((row[0]))\n",
        "#  k.append((row[3]))\n",
        "plt.title(\"Dots Cross section\")\n",
        "plt.xlabel(\"Iterations\")\n",
        "plt.ylabel(\"Altitude Change\")\n",
        "plt.plot(j, res2)"
      ],
      "execution_count": 78,
      "outputs": [
        {
          "output_type": "execute_result",
          "data": {
            "text/plain": [
              "[<matplotlib.lines.Line2D at 0x7f0ffb87d5d0>]"
            ]
          },
          "metadata": {},
          "execution_count": 78
        },
        {
          "output_type": "display_data",
          "data": {
            "image/png": "[encoded data removed]",
            "text/plain": [
              "<Figure size 432x288 with 1 Axes>"
            ]
          },
          "metadata": {
            "needs_background": "light"
          }
        }
      ]
    },
    {
      "cell_type": "code",
      "metadata": {
        "colab": {
          "base_uri": "https://localhost:8080/",
          "height": 380
        },
        "id": "PLBSjp2eZw4N",
        "outputId": "aaf803a8-dcaa-4cce-87da-47bd4de65582"
      },
      "source": [
        "#Problem 8\n",
        "import numpy as np\n",
        "import matplotlib.pyplot as plt\n",
        "%matplotlib inline\n",
        "import math\n",
        "Current_value = 3434.59 # the algorithm starts at 3434.59\n",
        "rate = 0.6 # learning Rate\n",
        "precission = 0.000001 # This tells us when to stop the algorithm\n",
        "previous_step_size = 1 \n",
        "max_iters = 31 #maximum number of iterations\n",
        "iters = 0 #iteration counter\n",
        "d_f = 168 # Gradient of our function\n",
        "j = []\n",
        "k = []\n",
        "l = gradient[0:31]\n",
        "res3 = l[::-1]\n",
        "print(res3)\n",
        "while previous_step_size > precission and iters < max_iters:\n",
        "  prev_x = Current_value # Store current x value in prev_x\n",
        "  Current_value = round(Current_value - rate*d_f) # Change in x\n",
        "  j.append(Current_value)\n",
        "  iters = iters + 1 #iteration count\n",
        "  k.append(iters)\n",
        "  #print(\"Iteration\", iters, \"\\nX value is\", Current_value) #Print iterations\n",
        "#print(\"The local minimum occurs at\", Current_value) \n",
        "print(\" By increasing the value of Hyper Parameter, we decrease the number of points.\")\n",
        "#for row in fuji:\n",
        "#  j.append((row[0]))\n",
        "#  k.append((row[3]))\n",
        "plt.title(\"Altitude Line Graph\")\n",
        "plt.xlabel(\"Gradient\")\n",
        "plt.ylabel(\"Elevation\")\n",
        "plt.plot(j, res3)"
      ],
      "execution_count": 85,
      "outputs": [
        {
          "output_type": "stream",
          "name": "stdout",
          "text": [
            "[-102.  -57.   97.  178.  -22.  151.  -54.   -2.  -26.   44.   30.  103.\n",
            "   -8.  -18.  123.    9.  -62.  158.   47.   51.    6.  117.   42.    5.\n",
            "    1.    6.    0.    0.    0.    0.    0.]\n",
            " By increasing the value of Hyper Parameter, we decrease the number of points.\n"
          ]
        },
        {
          "output_type": "execute_result",
          "data": {
            "text/plain": [
              "[<matplotlib.lines.Line2D at 0x7f0ffb8cbfd0>]"
            ]
          },
          "metadata": {},
          "execution_count": 85
        },
        {
          "output_type": "display_data",
          "data": {
            "image/png": "[encoded data removed]",
            "text/plain": [
              "<Figure size 432x288 with 1 Axes>"
            ]
          },
          "metadata": {
            "needs_background": "light"
          }
        }
      ]
    },
    {
      "cell_type": "code",
      "metadata": {
        "id": "upAzuFasbp3Y"
      },
      "source": [
        ""
      ],
      "execution_count": 79,
      "outputs": []
    }
  ]
}