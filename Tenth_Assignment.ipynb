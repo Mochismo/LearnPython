{
  "nbformat": 4,
  "nbformat_minor": 0,
  "metadata": {
    "colab": {
      "name": "Tenth_Assignment.ipynb",
      "provenance": [],
      "collapsed_sections": [],
      "mount_file_id": "1OJ5o8vru8oLOWfNGEH34oDJfeCsTCClC",
      "authorship_tag": "ABX9TyO/MVeI8oj2UofCPUqXSNNy",
      "include_colab_link": true
    },
    "kernelspec": {
      "name": "python3",
      "display_name": "Python 3"
    },
    "language_info": {
      "name": "python"
    }
  },
  "cells": [
    {
      "cell_type": "markdown",
      "metadata": {
        "id": "view-in-github",
        "colab_type": "text"
      },
      "source": [
        "<a href=\"https://colab.research.google.com/github/Mochismo/LearnPython/blob/main/Tenth_Assignment.ipynb\" target=\"_parent\"><img src=\"https://colab.research.google.com/assets/colab-badge.svg\" alt=\"Open In Colab\"/></a>"
      ]
    },
    {
      "cell_type": "code",
      "metadata": {
        "colab": {
          "base_uri": "https://localhost:8080/",
          "height": 1000
        },
        "id": "1ZZU_zySsVrd",
        "outputId": "35edefa5-7eb9-4e37-a23d-530e65187154"
      },
      "source": [
        "import numpy as np\n",
        "import matplotlib.pyplot as plt\n",
        "%matplotlib inline\n",
        "csv_path = \"/content/drive/MyDrive/mtfuji_data (1).csv\" # Specify the file name (path)\n",
        "x=[]\n",
        "y=[]\n",
        "np.set_printoptions(suppress=True) # Set the prohibition of exponential notation\n",
        "fuji = np.loadtxt(csv_path, delimiter=\",\", skiprows=1)\n",
        "for row in fuji:\n",
        "  x.append(int(row[0]))\n",
        "  y.append(int(row[3]))\n",
        "plt.title(\"Mount Fuji\")\n",
        "plt.xlabel(\"The Number of the point\")\n",
        "plt.ylabel(\"Elevation\")\n",
        "plt.plot(x, y)  \n",
        "print(fuji[0:140])"
      ],
      "execution_count": 74,
      "outputs": [
        {
          "output_type": "stream",
          "name": "stdout",
          "text": [
            "[[    0.          35.134141   139.132082     0.           0.      ]\n",
            " [    1.          35.135826   139.129202     0.         322.      ]\n",
            " [    2.          35.13751    139.126322     0.         644.      ]\n",
            " [    3.          35.139194   139.123441     0.         966.      ]\n",
            " [    4.          35.140878   139.12056      0.        1288.      ]\n",
            " [    5.          35.142562   139.117679     0.        1611.      ]\n",
            " [    6.          35.144246   139.114799     6.62      1933.      ]\n",
            " [    7.          35.145929   139.111917     7.21      2255.      ]\n",
            " [    8.          35.147613   139.109036    12.2       2577.      ]\n",
            " [    9.          35.149297   139.106155    54.41      2899.      ]\n",
            " [   10.          35.15098    139.103273   171.56      3222.      ]\n",
            " [   11.          35.152664   139.100392   177.84      3544.      ]\n",
            " [   12.          35.154347   139.09751    228.21      3866.      ]\n",
            " [   13.          35.15603    139.094628   275.38      4188.      ]\n",
            " [   14.          35.157714   139.091747   433.76      4511.      ]\n",
            " [   15.          35.159397   139.088865   371.74      4833.      ]\n",
            " [   16.          35.16108    139.085982   380.06      5155.      ]\n",
            " [   17.          35.162763   139.0831     503.4       5477.      ]\n",
            " [   18.          35.164446   139.080218   485.39      5799.      ]\n",
            " [   19.          35.166129   139.077335   477.82      6122.      ]\n",
            " [   20.          35.167812   139.074453   580.5       6444.      ]\n",
            " [   21.          35.169495   139.07157    610.92      6766.      ]\n",
            " [   22.          35.171178   139.068687   654.96      7088.      ]\n",
            " [   23.          35.17286    139.065804   628.22      7411.      ]\n",
            " [   24.          35.174543   139.062921   626.64      7733.      ]\n",
            " [   25.          35.176225   139.060038   572.55      8055.      ]\n",
            " [   26.          35.177908   139.057154   723.95      8377.      ]\n",
            " [   27.          35.17959    139.054271   701.94      8699.      ]\n",
            " [   28.          35.181273   139.051387   879.47      9022.      ]\n",
            " [   29.          35.182955   139.048504   976.17      9344.      ]\n",
            " [   30.          35.184637   139.04562    919.16      9666.      ]\n",
            " [   31.          35.186319   139.042736   817.        9988.      ]\n",
            " [   32.          35.188001   139.039852   743.06     10310.      ]\n",
            " [   33.          35.189683   139.036968   770.92     10633.      ]\n",
            " [   34.          35.191365   139.034084   864.06     10955.      ]\n",
            " [   35.          35.193047   139.031199   826.52     11277.      ]\n",
            " [   36.          35.194729   139.028315   748.39     11599.      ]\n",
            " [   37.          35.19641    139.02543    756.11     11922.      ]\n",
            " [   38.          35.198092   139.022545   724.5      12244.      ]\n",
            " [   39.          35.199773   139.01966    724.5      12566.      ]\n",
            " [   40.          35.201455   139.016775   724.5      12888.      ]\n",
            " [   41.          35.203136   139.01389    724.5      13210.      ]\n",
            " [   42.          35.204818   139.011005   724.5      13533.      ]\n",
            " [   43.          35.206499   139.00812    724.5      13855.      ]\n",
            " [   44.          35.20818    139.005234   724.5      14177.      ]\n",
            " [   45.          35.209861   139.002349   724.5      14499.      ]\n",
            " [   46.          35.211542   138.999463   724.5      14822.      ]\n",
            " [   47.          35.213223   138.996577   724.5      15144.      ]\n",
            " [   48.          35.214904   138.993691   852.18     15466.      ]\n",
            " [   49.          35.216585   138.990805   851.36     15788.      ]\n",
            " [   50.          35.218266   138.987919   831.       16110.      ]\n",
            " [   51.          35.219947   138.985033   880.44     16433.      ]\n",
            " [   52.          35.221627   138.982146   955.14     16755.      ]\n",
            " [   53.          35.223308   138.97926    849.52     17077.      ]\n",
            " [   54.          35.224989   138.976373   831.6      17399.      ]\n",
            " [   55.          35.226669   138.973486   790.01     17721.      ]\n",
            " [   56.          35.228349   138.970599   738.97     18044.      ]\n",
            " [   57.          35.23003    138.967712   848.83     18366.      ]\n",
            " [   58.          35.23171    138.964825   738.3      18688.      ]\n",
            " [   59.          35.23339    138.961938   736.48     19010.      ]\n",
            " [   60.          35.23507    138.95905    672.24     19333.      ]\n",
            " [   61.          35.23675    138.956163   564.02     19655.      ]\n",
            " [   62.          35.23843    138.953275   552.23     19977.      ]\n",
            " [   63.          35.24011    138.950388   497.41     20299.      ]\n",
            " [   64.          35.24179    138.9475     558.28     20621.      ]\n",
            " [   65.          35.24347    138.944612   503.02     20944.      ]\n",
            " [   66.          35.245149   138.941724   462.33     21266.      ]\n",
            " [   67.          35.246829   138.938835   469.66     21588.      ]\n",
            " [   68.          35.248509   138.935947   429.49     21910.      ]\n",
            " [   69.          35.250188   138.933059   454.21     22233.      ]\n",
            " [   70.          35.251867   138.93017    412.27     22555.      ]\n",
            " [   71.          35.253547   138.927281   362.29     22877.      ]\n",
            " [   72.          35.255226   138.924393   355.68     23199.      ]\n",
            " [   73.          35.256905   138.921504   368.91     23521.      ]\n",
            " [   74.          35.258584   138.918615   371.04     23844.      ]\n",
            " [   75.          35.260263   138.915725   371.19     24166.      ]\n",
            " [   76.          35.261942   138.912836   377.62     24488.      ]\n",
            " [   77.          35.263621   138.909947   386.64     24810.      ]\n",
            " [   78.          35.2653     138.907057   390.14     25133.      ]\n",
            " [   79.          35.266979   138.904168   418.41     25455.      ]\n",
            " [   80.          35.268658   138.901278   420.6      25777.      ]\n",
            " [   81.          35.270336   138.898388   443.       26099.      ]\n",
            " [   82.          35.272015   138.895498   458.66     26421.      ]\n",
            " [   83.          35.273694   138.892608   471.82     26744.      ]\n",
            " [   84.          35.275372   138.889718   488.4      27066.      ]\n",
            " [   85.          35.27705    138.886827   505.1      27388.      ]\n",
            " [   86.          35.278729   138.883937   519.54     27710.      ]\n",
            " [   87.          35.280407   138.881046   536.54     28032.      ]\n",
            " [   88.          35.282085   138.878156   553.64     28355.      ]\n",
            " [   89.          35.283763   138.875265   575.07     28677.      ]\n",
            " [   90.          35.285441   138.872374   588.99     28999.      ]\n",
            " [   91.          35.287119   138.869483   602.36     29321.      ]\n",
            " [   92.          35.288797   138.866591   613.04     29644.      ]\n",
            " [   93.          35.290475   138.8637     631.71     29966.      ]\n",
            " [   94.          35.292153   138.860809   660.43     30288.      ]\n",
            " [   95.          35.29383    138.857917   672.36     30610.      ]\n",
            " [   96.          35.295508   138.855026   700.15     30932.      ]\n",
            " [   97.          35.297185   138.852134   725.72     31255.      ]\n",
            " [   98.          35.298863   138.849242   741.17     31577.      ]\n",
            " [   99.          35.30054    138.84635    753.68     31899.      ]\n",
            " [  100.          35.302218   138.843458   772.58     32221.      ]\n",
            " [  101.          35.303895   138.840565   795.25     32544.      ]\n",
            " [  102.          35.305572   138.837673   817.62     32866.      ]\n",
            " [  103.          35.307249   138.834781   858.62     33188.      ]\n",
            " [  104.          35.308926   138.831888   883.89     33510.      ]\n",
            " [  105.          35.310603   138.828995   910.5      33832.      ]\n",
            " [  106.          35.31228    138.826102   932.74     34155.      ]\n",
            " [  107.          35.313957   138.823209   973.32     34477.      ]\n",
            " [  108.          35.315634   138.820316  1000.24     34799.      ]\n",
            " [  109.          35.31731    138.817423  1034.34     35121.      ]\n",
            " [  110.          35.318987   138.81453   1059.69     35443.      ]\n",
            " [  111.          35.320664   138.811636  1105.8      35766.      ]\n",
            " [  112.          35.32234    138.808743  1166.58     36088.      ]\n",
            " [  113.          35.324016   138.805849  1219.86     36410.      ]\n",
            " [  114.          35.325693   138.802955  1239.97     36732.      ]\n",
            " [  115.          35.327369   138.800061  1292.52     37055.      ]\n",
            " [  116.          35.329045   138.797167  1360.1      37377.      ]\n",
            " [  117.          35.330721   138.794273  1429.75     37699.      ]\n",
            " [  118.          35.332397   138.791379  1506.66     38021.      ]\n",
            " [  119.          35.334073   138.788484  1561.94     38343.      ]\n",
            " [  120.          35.335749   138.78559   1598.36     38666.      ]\n",
            " [  121.          35.337425   138.782695  1659.43     38988.      ]\n",
            " [  122.          35.339101   138.7798    1726.5      39310.      ]\n",
            " [  123.          35.340777   138.776905  1781.98     39632.      ]\n",
            " [  124.          35.342452   138.77401   1850.02     39955.      ]\n",
            " [  125.          35.344128   138.771115  1953.48     40277.      ]\n",
            " [  126.          35.345804   138.76822   2076.15     40599.      ]\n",
            " [  127.          35.347479   138.765325  2196.53     40921.      ]\n",
            " [  128.          35.349154   138.762429  2306.85     41243.      ]\n",
            " [  129.          35.35083    138.759534  2426.1      41566.      ]\n",
            " [  130.          35.352505   138.756638  2563.4      41888.      ]\n",
            " [  131.          35.35418    138.753742  2703.1      42210.      ]\n",
            " [  132.          35.355855   138.750846  2825.55     42532.      ]\n",
            " [  133.          35.35753    138.74795   2967.9      42854.      ]\n",
            " [  134.          35.359205   138.745054  3087.81     43177.      ]\n",
            " [  135.          35.36088    138.742157  3266.24     43499.      ]\n",
            " [  136.          35.362555   138.739261  3434.59     43821.      ]\n",
            " [  137.          35.36423    138.736364  3600.08     44143.      ]\n",
            " [  138.          35.365904   138.733468  3679.96     44466.      ]\n",
            " [  139.          35.367579   138.730571  3664.9      44788.      ]]\n"
          ]
        },
        {
          "output_type": "display_data",
          "data": {
            "image/png": "[encoded data removed]",
            "text/plain": [
              "<Figure size 432x288 with 1 Axes>"
            ]
          },
          "metadata": {
            "needs_background": "light"
          }
        }
      ]
    },
    {
      "cell_type": "code",
      "metadata": {
        "colab": {
          "base_uri": "https://localhost:8080/"
        },
        "id": "C1TeFYJjJs8V",
        "outputId": "68c37497-8b10-4611-a420-920a7c30bd87"
      },
      "source": [
        "#Problem 2\n",
        "\n",
        "def calc_slope(point):\n",
        "  change_in_x = fuji[:,0][point] - fuji[:,0][point-1]\n",
        "  change_in_y = fuji[:,3][point] - fuji[:,3][point-1]\n",
        "  slope = change_in_y//change_in_x\n",
        "  print(slope)\n",
        "  return slope\n",
        "\n",
        "slope = calc_slope(200)\n"
      ],
      "execution_count": 98,
      "outputs": [
        {
          "output_type": "stream",
          "name": "stdout",
          "text": [
            "-172.0\n"
          ]
        }
      ]
    },
    {
      "cell_type": "code",
      "metadata": {
        "colab": {
          "base_uri": "https://localhost:8080/"
        },
        "id": "RolRJxG3L4cF",
        "outputId": "3ce6032b-3a86-4e99-86e1-355959f755f1"
      },
      "source": [
        "# Problem 3\n",
        "def Destination_calc(point, alpha):\n",
        "  gradient = calc_slope(point) \n",
        "  dest = point - alpha*gradient\n",
        "  if (dest<0):\n",
        "    return 0\n",
        "  else:\n",
        "    return dest\n",
        "    print(dest)\n",
        "Destination_calc(27,0.2)     "
      ],
      "execution_count": 93,
      "outputs": [
        {
          "output_type": "stream",
          "name": "stdout",
          "text": [
            "-23.0\n"
          ]
        },
        {
          "output_type": "execute_result",
          "data": {
            "text/plain": [
              "31.6"
            ]
          },
          "metadata": {},
          "execution_count": 93
        }
      ]
    },
    {
      "cell_type": "code",
      "metadata": {
        "colab": {
          "base_uri": "https://localhost:8080/"
        },
        "id": "TNQR8TG6ZLnP",
        "outputId": "9098fc19-e502-4e7c-b8b5-13aa0d31aae9"
      },
      "source": [
        "#Problem 4\n",
        "def going_down(current_point, alpha):\n",
        " # looping until the returned destination = 0\n",
        " destinat = []\n",
        " for counter in range(fuji.size):\n",
        "   dest = Destination_calc(current_point, alpha)\n",
        "   if(dest <= 0):\n",
        "     break\n",
        "   else:\n",
        "      destinat.append(dest)\n",
        "      \n",
        "      return destinat\n",
        "\n",
        "#journey = going_down(136,0.2)\n",
        "going_down(200, 0.2)"
      ],
      "execution_count": 99,
      "outputs": [
        {
          "output_type": "stream",
          "name": "stdout",
          "text": [
            "-172.0\n"
          ]
        },
        {
          "output_type": "execute_result",
          "data": {
            "text/plain": [
              "[234.4]"
            ]
          },
          "metadata": {},
          "execution_count": 99
        }
      ]
    },
    {
      "cell_type": "code",
      "metadata": {
        "colab": {
          "base_uri": "https://localhost:8080/"
        },
        "id": "zWQsNNTjtlPy",
        "outputId": "f0e423af-a450-4e5f-9a71-a5719904d544"
      },
      "source": [
        "#Problem 2\n",
        "x_np =np.array(x)\n",
        "y_np =np.array(y)\n",
        "change_X = x_np[1:] - x_np[:-1]\n",
        "change_y = y_np[1:] - y_np[:-1]\n",
        "gradient = (change_y/change_X)\n",
        "print(gradient.size)\n",
        "print(gradient)\n",
        "Gradient2 = np.append(gradient, [0])\n",
        "print(Gradient2.size)"
      ],
      "execution_count": 6,
      "outputs": [
        {
          "output_type": "stream",
          "name": "stdout",
          "text": [
            "299\n",
            "[   0.    0.    0.    0.    0.    6.    1.    5.   42.  117.    6.   51.\n",
            "   47.  158.  -62.    9.  123.  -18.   -8.  103.   30.   44.  -26.   -2.\n",
            "  -54.  151.  -22.  178.   97.  -57. -102.  -74.   27.   94.  -38.  -78.\n",
            "    8.  -32.    0.    0.    0.    0.    0.    0.    0.    0.    0.  128.\n",
            "   -1.  -20.   49.   75. -106.  -18.  -41.  -52.  110. -110.   -2.  -64.\n",
            " -108.  -12.  -55.   61.  -55.  -41.    7.  -40.   25.  -42.  -50.   -7.\n",
            "   13.    3.    0.    6.    9.    4.   28.    2.   23.   15.   13.   17.\n",
            "   17.   14.   17.   17.   22.   13.   14.   11.   18.   29.   12.   28.\n",
            "   25.   16.   12.   19.   23.   22.   41.   25.   27.   22.   41.   27.\n",
            "   34.   25.   46.   61.   53.   20.   53.   68.   69.   77.   55.   37.\n",
            "   61.   67.   55.   69.  103.  123.  120.  110.  120.  137.  140.  122.\n",
            "  142.  120.  179.  168.  166.   79.  -15.  -97. -219. -177. -152. -155.\n",
            " -151. -147. -116. -116.  -94.  -94.  -85.  -98.  -59. -106.  -50.  -69.\n",
            "  -56.  -33.  -65.  -41.  -55.  -45.  -51.  -27.  -34.  -13.  -37.  -21.\n",
            "  -19.  -22.  -36.  -29.  -14.  -13.  -15.   -4.   -6.  -10.  -11.  -29.\n",
            "   -8.  -15.  -10.   -2.  136.  109.  118.   30. -136. -159.  -83.  -73.\n",
            "    0.    0.  120.  106.   29. -165.  -95. -172. -107.  -60.  -54.   85.\n",
            "   33.    2.    9. -152.  -52.  -14.  -52.  144.   87.  -66. -121.  -14.\n",
            "  -37.  133.   95.   13.  -32. -138.  -86.  -27.   20.  -62.   62.  108.\n",
            "   74.  -92.  -78.   79.  -60.  -85.  -16.   39.  108.   28.   54.   10.\n",
            "  -71.   32.   -6.   46.   40.  207.  106.  -34.   94.  -14.  178.   82.\n",
            "   30.  -47. -158.  -57.  -20.   63.  169.  102.  112.  175.   69.  134.\n",
            "   22.  123. -161.   28.   31. -160.   64.  -36.   -9.  -69. -128.  -48.\n",
            " -108.   66.   28.  -67.   28. -138. -283.  121.  117.  218.  138.  171.\n",
            "   51.  186.  184.  111.  -55.  -74. -166.   26.   29. -132. -116.]\n",
            "300\n"
          ]
        }
      ]
    },
    {
      "cell_type": "code",
      "metadata": {
        "colab": {
          "base_uri": "https://localhost:8080/"
        },
        "id": "88mh0DGgwfr7",
        "outputId": "f4d58b95-beb7-4697-c254-56c4a69a0e26"
      },
      "source": [
        "#Problem 3(1)\n",
        "D = []\n",
        "def descent_calculation(R, H_P):\n",
        "  for row in fuji:\n",
        "     D.append(int(row[R]))\n",
        "     np.array(D)\n",
        "  Distance = np.round(D - (H_P*Gradient2))\n",
        "\n",
        "  print(Distance)\n",
        "print(D)\n",
        "descent_calculation(4, 0.2)\n",
        "  "
      ],
      "execution_count": 7,
      "outputs": [
        {
          "output_type": "stream",
          "name": "stdout",
          "text": [
            "[]\n",
            "[    0.   322.   644.   966.  1288.  1610.  1933.  2254.  2569.  2876.\n",
            "  3221.  3534.  3857.  4156.  4523.  4831.  5130.  5481.  5801.  6101.\n",
            "  6438.  6757.  7093.  7411.  7744.  8025.  8381.  8663.  9003.  9355.\n",
            "  9686. 10003. 10305. 10614. 10963. 11293. 11597. 11928. 12244. 12566.\n",
            " 12888. 13210. 13533. 13855. 14177. 14499. 14822. 15118. 15466. 15792.\n",
            " 16100. 16418. 16776. 17081. 17407. 17731. 18022. 18388. 18688. 19023.\n",
            " 19355. 19657. 19988. 20287. 20632. 20952. 21265. 21596. 21905. 22241.\n",
            " 22565. 22878. 23196. 23520. 23844. 24165. 24486. 24809. 25127. 25455.\n",
            " 25772. 26096. 26418. 26741. 27063. 27385. 27707. 28029. 28351. 28674.\n",
            " 28996. 29319. 29640. 29960. 30286. 30604. 30927. 31252. 31575. 31895.\n",
            " 32216. 32540. 32858. 33183. 33505. 33828. 34147. 34472. 34792. 35116.\n",
            " 35434. 35754. 36077. 36406. 36721. 37041. 37363. 37684. 38010. 38336.\n",
            " 38654. 38975. 39299. 39618. 39934. 40252. 40575. 40899. 41219. 41539.\n",
            " 41860. 42186. 42504. 42830. 43141. 43465. 43788. 44127. 44469. 44807.\n",
            " 45154. 45467. 45784. 46108. 46429. 46750. 47066. 47389. 47707. 48029.\n",
            " 48349. 48674. 48989. 49320. 49631. 49957. 50277. 50595. 50923. 51240.\n",
            " 51565. 51886. 52209. 52526. 52850. 53168. 53495. 53814. 54136. 54458.\n",
            " 54784. 55105. 55424. 55746. 56068. 56389. 56711. 57034. 57356. 57683.\n",
            " 58001. 58324. 58645. 58965. 59261. 59588. 59908. 60248. 60603. 60931.\n",
            " 61238. 61558. 61865. 62188. 62486. 62811. 63148. 63509. 63818. 64155.\n",
            " 64464. 64777. 65099. 65393. 65725. 66054. 66374. 66729. 67031. 67346.\n",
            " 67675. 67958. 68293. 68645. 68978. 69279. 69606. 69894. 70224. 70562.\n",
            " 70893. 71238. 71549. 71859. 72172. 72511. 72809. 73121. 73450. 73805.\n",
            " 74126. 74416. 74766. 75093. 75402. 75713. 76021. 76359. 76676. 77008.\n",
            " 77346. 77648. 77977. 78289. 78613. 78902. 79244. 79594. 79891. 80235.\n",
            " 80518. 80860. 81192. 81530. 81875. 82176. 82491. 82797. 83098. 83434.\n",
            " 83754. 84063. 84407. 84716. 85061. 85362. 85741. 86026. 86348. 86708.\n",
            " 86985. 87328. 87645. 87979. 88313. 88619. 88954. 89241. 89570. 89911.\n",
            " 90215. 90571. 90922. 91163. 91486. 91788. 92126. 92442. 92788. 93084.\n",
            " 93406. 93743. 94098. 94424. 94765. 95049. 95370. 95724. 96043. 96343.]\n"
          ]
        }
      ]
    },
    {
      "cell_type": "code",
      "metadata": {
        "colab": {
          "base_uri": "https://localhost:8080/"
        },
        "id": "9rAj1bsADLGG",
        "outputId": "d1a204a2-1838-46e0-fb73-76d6bcbe0df7"
      },
      "source": [
        "# Problem 3(2)\n",
        "H =[]\n",
        "Y =[]\n",
        "def predict_destination(C_LC, H_P, G_R):\n",
        "  #*** Current location= C_LC, Gradient=G_R, Hyper Parameter= H_P***\n",
        "  Destination_point = C_LC - (H_P*G_R)\n",
        "  return Destination_point\n",
        "predict_destination(322, 0.2, 0)  "
      ],
      "execution_count": 8,
      "outputs": [
        {
          "output_type": "execute_result",
          "data": {
            "text/plain": [
              "322.0"
            ]
          },
          "metadata": {},
          "execution_count": 8
        }
      ]
    },
    {
      "cell_type": "code",
      "metadata": {
        "colab": {
          "base_uri": "https://localhost:8080/"
        },
        "id": "lcZW_ih5MIQG",
        "outputId": "8ab089d4-722c-4c7c-f542-aa7bd1bb285c"
      },
      "source": [
        "#Problem 3\n",
        "D = []\n",
        "def descent_calculation(R, H_P):\n",
        "  for row in fuji:\n",
        "     D.append(int(row[R]))\n",
        "     np.array(D)\n",
        "  Distance = D - (H_P*Gradient2)\n",
        "  Distance2 = Distance[0:136]\n",
        "  \n",
        "  print(Distance[0:136])\n",
        "  #print(Distance2)\n",
        "descent_calculation(4, 0.2)"
      ],
      "execution_count": 9,
      "outputs": [
        {
          "output_type": "stream",
          "name": "stdout",
          "text": [
            "[    0.    322.    644.    966.   1288.   1609.8  1932.8  2254.   2568.6\n",
            "  2875.6  3220.8  3533.8  3856.6  4156.4  4523.4  4831.2  5130.4  5480.6\n",
            "  5800.6  6101.4  6438.   6757.2  7093.2  7411.4  7743.8  8024.8  8381.4\n",
            "  8663.4  9002.6  9355.4  9686.4 10002.8 10304.6 10614.2 10962.6 11292.6\n",
            " 11597.4 11928.4 12244.  12566.  12888.  13210.  13533.  13855.  14177.\n",
            " 14499.  14822.  15118.4 15466.2 15792.  16100.2 16418.  16776.2 17080.6\n",
            " 17407.2 17731.4 18022.  18388.  18688.4 19022.8 19354.6 19657.4 19988.\n",
            " 20286.8 20632.  20952.2 21264.6 21596.  21905.  22241.4 22565.  22878.4\n",
            " 23196.4 23520.4 23844.  24164.8 24486.2 24809.2 25127.4 25454.6 25772.4\n",
            " 26096.  26418.4 26740.6 27062.6 27385.2 27706.6 28028.6 28350.6 28674.4\n",
            " 28996.2 29318.8 29640.4 29960.2 30285.6 30604.4 30927.  31251.8 31574.6\n",
            " 31895.2 32216.4 32539.6 32857.8 33183.  33504.6 33827.6 34146.8 34471.6\n",
            " 34792.2 35116.  35433.8 35753.8 36077.4 36406.  36721.4 37041.4 37363.2\n",
            " 37683.6 38010.  38335.6 38653.8 38974.6 39299.  39618.2 39934.4 40252.4\n",
            " 40575.  40899.  41219.  41538.6 41860.  42185.6 42503.6 42830.  43141.2\n",
            " 43465.4]\n"
          ]
        }
      ]
    },
    {
      "cell_type": "code",
      "metadata": {
        "colab": {
          "base_uri": "https://localhost:8080/",
          "height": 475
        },
        "id": "tnM6ULFJQzxc",
        "outputId": "9edb3046-aae2-43a8-dc16-870db0622e8e"
      },
      "source": [
        "import numpy as np\n",
        "import matplotlib.pyplot as plt\n",
        "%matplotlib inline\n",
        "plt.title(\"Descent\")\n",
        "plt.xlabel(\"The Number of the point\")\n",
        "plt.ylabel(\"Distance\")\n",
        "plt.plot(Distance2)  "
      ],
      "execution_count": 10,
      "outputs": [
        {
          "output_type": "error",
          "ename": "NameError",
          "evalue": "ignored",
          "traceback": [
            "\u001b[0;31m---------------------------------------------------------------------------\u001b[0m",
            "\u001b[0;31mNameError\u001b[0m                                 Traceback (most recent call last)",
            "\u001b[0;32m<ipython-input-10-abbbe68e248e>\u001b[0m in \u001b[0;36m<module>\u001b[0;34m()\u001b[0m\n\u001b[1;32m      5\u001b[0m \u001b[0mplt\u001b[0m\u001b[0;34m.\u001b[0m\u001b[0mxlabel\u001b[0m\u001b[0;34m(\u001b[0m\u001b[0;34m\"The Number of the point\"\u001b[0m\u001b[0;34m)\u001b[0m\u001b[0;34m\u001b[0m\u001b[0;34m\u001b[0m\u001b[0m\n\u001b[1;32m      6\u001b[0m \u001b[0mplt\u001b[0m\u001b[0;34m.\u001b[0m\u001b[0mylabel\u001b[0m\u001b[0;34m(\u001b[0m\u001b[0;34m\"Distance\"\u001b[0m\u001b[0;34m)\u001b[0m\u001b[0;34m\u001b[0m\u001b[0;34m\u001b[0m\u001b[0m\n\u001b[0;32m----> 7\u001b[0;31m \u001b[0mplt\u001b[0m\u001b[0;34m.\u001b[0m\u001b[0mplot\u001b[0m\u001b[0;34m(\u001b[0m\u001b[0mDistance2\u001b[0m\u001b[0;34m)\u001b[0m\u001b[0;34m\u001b[0m\u001b[0;34m\u001b[0m\u001b[0m\n\u001b[0m",
            "\u001b[0;31mNameError\u001b[0m: name 'Distance2' is not defined"
          ]
        },
        {
          "output_type": "display_data",
          "data": {
            "image/png": "[encoded data removed]",
            "text/plain": [
              "<Figure size 432x288 with 1 Axes>"
            ]
          },
          "metadata": {
            "needs_background": "light"
          }
        }
      ]
    },
    {
      "cell_type": "code",
      "metadata": {
        "id": "vplh50cDRnr-"
      },
      "source": [
        "#Problem 4/5(1)\n",
        "import numpy as np\n",
        "import matplotlib.pyplot as plt\n",
        "%matplotlib inline\n",
        "import math\n",
        "Current_value = 3434.59 # the algorithm starts at 3434.59\n",
        "rate = 0.2 # learning Rate\n",
        "precission = 0.000001 # This tells us when to stop the algorithm\n",
        "previous_step_size = 1 \n",
        "max_iters = 168 #maximum number of iterations\n",
        "iters = 0 #iteration counter\n",
        "d_f = 168 # Gradient of our function\n",
        "j = []\n",
        "k = []\n",
        "l = gradient[0:168]\n",
        "res = l[::-1] \n",
        "#print(res)\n",
        "while previous_step_size > precission and iters < max_iters:\n",
        "  prev_x = Current_value # Store current x value in prev_x\n",
        "  Current_value = round(Current_value - rate*d_f) # Change in x\n",
        "  j.append(Current_value)\n",
        "  iters = iters + 1 #iteration count\n",
        "  k.append(iters)\n",
        "  #print(\"Iteration\", iters, \"\\nX value is\", Current_value) #Print iterations\n",
        "#print(\"The local minimum occurs at\", Current_value) \n",
        "#for row in fuji:\n",
        "#  j.append((row[0]))\n",
        "#  k.append((row[3]))\n",
        "plt.title(\"Dots Cross section\")\n",
        "plt.xlabel(\"Gradients\")\n",
        "plt.ylabel(\"Altitude Change\")\n",
        "plt.scatter(j[::-1], y[0:168])\n",
        "#plt.plot(x[0:168], y[0:168])"
      ],
      "execution_count": null,
      "outputs": []
    },
    {
      "cell_type": "code",
      "metadata": {
        "id": "QNdoIy-YZrBc"
      },
      "source": [
        ""
      ],
      "execution_count": null,
      "outputs": []
    },
    {
      "cell_type": "code",
      "metadata": {
        "id": "egqEZOu0LCKU"
      },
      "source": [
        "#Problem 6\n",
        "import numpy as np\n",
        "import matplotlib.pyplot as plt\n",
        "%matplotlib inline\n",
        "import math\n",
        "Current_value = 1725.8 # the algorithm starts at 1725.8\n",
        "rate = 0.2 # learning Rate\n",
        "precission = 0.000001 # This tells us when to stop the algorithm\n",
        "previous_step_size = 1 \n",
        "max_iters = 75 #maximum number of iterations\n",
        "iters = 0 #iteration counter\n",
        "d_f = 116 # Gradient of our function\n",
        "j = []\n",
        "k = []\n",
        "l = gradient[0:75]\n",
        "res2 = l[::-1]\n",
        "#print(res2)\n",
        "while previous_step_size > precission and iters < max_iters:\n",
        "  prev_x = Current_value # Store current x value in prev_x\n",
        "  Current_value = round(Current_value - rate*d_f) # Change in x\n",
        "  j.append(Current_value)\n",
        "  iters = iters + 1 #iteration count\n",
        "  k.append(iters)\n",
        "  print(\"Iteration\", iters, \"\\nX value is\", Current_value) #Print iterations\n",
        "#print(\"The local minimum occurs at\", Current_value) \n",
        "#for row in fuji:\n",
        "#  j.append((row[0]))\n",
        "#  k.append((row[3]))\n",
        "#plt.title(\"Dots Cross section\")\n",
        "#plt.xlabel(\"Iterations\")\n",
        "#plt.ylabel(\"Altitude Change\")\n",
        "#plt.plot(j, res2)"
      ],
      "execution_count": null,
      "outputs": []
    },
    {
      "cell_type": "code",
      "metadata": {
        "id": "1nUdDCBQT3R8"
      },
      "source": [
        "# Problem 7\n",
        "import numpy as np\n",
        "import matplotlib.pyplot as plt\n",
        "%matplotlib inline\n",
        "import math\n",
        "Current_value = 1725.8 # the algorithm starts at 1725.8\n",
        "rate = 0.2 # learning Rate\n",
        "precission = 0.000001 # This tells us when to stop the algorithm\n",
        "previous_step_size = 1 \n",
        "max_iters = 75 #maximum number of iterations\n",
        "iters = 0 #iteration counter\n",
        "d_f = 116 # Gradient of our function\n",
        "j = []\n",
        "k = []\n",
        "l = gradient[0:75]\n",
        "res2 = l[::-1]\n",
        "#print(res2)\n",
        "while previous_step_size > precission and iters < max_iters:\n",
        "  prev_x = Current_value # Store current x value in prev_x\n",
        "  Current_value = round(Current_value - rate*d_f) # Change in x\n",
        "  j.append(Current_value)\n",
        "  iters = iters + 1 #iteration count\n",
        "  k.append(iters)\n",
        "  #print(\"Iteration\", iters, \"\\nX value is\", Current_value) #Print iterations\n",
        "#print(\"The local minimum occurs at\", Current_value) \n",
        "#for row in fuji:\n",
        "#  j.append((row[0]))\n",
        "#  k.append((row[3]))\n",
        "plt.title(\"Dots Cross section\")\n",
        "plt.xlabel(\"Iterations\")\n",
        "plt.ylabel(\"Altitude Change\")\n",
        "plt.plot(j, res2)"
      ],
      "execution_count": null,
      "outputs": []
    },
    {
      "cell_type": "code",
      "metadata": {
        "id": "PLBSjp2eZw4N"
      },
      "source": [
        "#Problem 8\n",
        "import numpy as np\n",
        "import matplotlib.pyplot as plt\n",
        "%matplotlib inline\n",
        "import math\n",
        "Current_value = 3434.59 # the algorithm starts at 3434.59\n",
        "rate = 0.6 # learning Rate\n",
        "precission = 0.000001 # This tells us when to stop the algorithm\n",
        "previous_step_size = 1 \n",
        "max_iters = 31 #maximum number of iterations\n",
        "iters = 0 #iteration counter\n",
        "d_f = 168 # Gradient of our function\n",
        "j = []\n",
        "k = []\n",
        "l = gradient[0:31]\n",
        "res3 = l[::-1]\n",
        "print(res3)\n",
        "while previous_step_size > precission and iters < max_iters:\n",
        "  prev_x = Current_value # Store current x value in prev_x\n",
        "  Current_value = round(Current_value - rate*d_f) # Change in x\n",
        "  j.append(Current_value)\n",
        "  iters = iters + 1 #iteration count\n",
        "  k.append(iters)\n",
        "  #print(\"Iteration\", iters, \"\\nX value is\", Current_value) #Print iterations\n",
        "#print(\"The local minimum occurs at\", Current_value) \n",
        "print(\" By increasing the value of Hyper Parameter, we decrease the number of points.\")\n",
        "#for row in fuji:\n",
        "#  j.append((row[0]))\n",
        "#  k.append((row[3]))\n",
        "plt.title(\"Altitude Line Graph\")\n",
        "plt.xlabel(\"Gradient\")\n",
        "plt.ylabel(\"Elevation\")\n",
        "plt.plot(j, res3)"
      ],
      "execution_count": null,
      "outputs": []
    },
    {
      "cell_type": "code",
      "metadata": {
        "id": "upAzuFasbp3Y"
      },
      "source": [
        ""
      ],
      "execution_count": null,
      "outputs": []
    }
  ]
}