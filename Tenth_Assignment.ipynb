{
  "nbformat": 4,
  "nbformat_minor": 0,
  "metadata": {
    "colab": {
      "name": "Tenth_Assignment.ipynb",
      "provenance": [],
      "collapsed_sections": [],
      "mount_file_id": "https://github.com/Mochismo/LearnPython/blob/main/Tenth_Assignment.ipynb",
      "authorship_tag": "ABX9TyO4+qkBVPSMgavFop6kCvy3",
      "include_colab_link": true
    },
    "kernelspec": {
      "name": "python3",
      "display_name": "Python 3"
    },
    "language_info": {
      "name": "python"
    }
  },
  "cells": [
    {
      "cell_type": "markdown",
      "metadata": {
        "id": "view-in-github",
        "colab_type": "text"
      },
      "source": [
        "<a href=\"https://colab.research.google.com/github/Mochismo/LearnPython/blob/main/Tenth_Assignment.ipynb\" target=\"_parent\"><img src=\"https://colab.research.google.com/assets/colab-badge.svg\" alt=\"Open In Colab\"/></a>"
      ]
    },
    {
      "cell_type": "code",
      "metadata": {
        "colab": {
          "base_uri": "https://localhost:8080/",
          "height": 1000
        },
        "id": "1ZZU_zySsVrd",
        "outputId": "d4afc21b-7584-48e8-c4b4-94e759dfce43"
      },
      "source": [
        "import numpy as np\n",
        "import matplotlib.pyplot as plt\n",
        "%matplotlib inline\n",
        "csv_path = \"/content/drive/MyDrive/mtfuji_data (1).csv\" # Specify the file name (path)\n",
        "x=[]\n",
        "y=[]\n",
        "np.set_printoptions(suppress=True) # Set the prohibition of exponential notation\n",
        "fuji = np.loadtxt(csv_path, delimiter=\",\", skiprows=1)\n",
        "for row in fuji:\n",
        "  x.append(int(row[0]))\n",
        "  y.append(int(row[3]))\n",
        "plt.title(\"Mount Fuji\")\n",
        "plt.xlabel(\"The Number of the point\")\n",
        "plt.ylabel(\"Elevation\")\n",
        "plt.plot(x, y)  \n",
        "print(fuji[0:140])"
      ],
      "execution_count": 86,
      "outputs": [
        {
          "output_type": "stream",
          "name": "stdout",
          "text": [
            "[[    0.          35.134141   139.132082     0.           0.      ]\n",
            " [    1.          35.135826   139.129202     0.         322.      ]\n",
            " [    2.          35.13751    139.126322     0.         644.      ]\n",
            " [    3.          35.139194   139.123441     0.         966.      ]\n",
            " [    4.          35.140878   139.12056      0.        1288.      ]\n",
            " [    5.          35.142562   139.117679     0.        1611.      ]\n",
            " [    6.          35.144246   139.114799     6.62      1933.      ]\n",
            " [    7.          35.145929   139.111917     7.21      2255.      ]\n",
            " [    8.          35.147613   139.109036    12.2       2577.      ]\n",
            " [    9.          35.149297   139.106155    54.41      2899.      ]\n",
            " [   10.          35.15098    139.103273   171.56      3222.      ]\n",
            " [   11.          35.152664   139.100392   177.84      3544.      ]\n",
            " [   12.          35.154347   139.09751    228.21      3866.      ]\n",
            " [   13.          35.15603    139.094628   275.38      4188.      ]\n",
            " [   14.          35.157714   139.091747   433.76      4511.      ]\n",
            " [   15.          35.159397   139.088865   371.74      4833.      ]\n",
            " [   16.          35.16108    139.085982   380.06      5155.      ]\n",
            " [   17.          35.162763   139.0831     503.4       5477.      ]\n",
            " [   18.          35.164446   139.080218   485.39      5799.      ]\n",
            " [   19.          35.166129   139.077335   477.82      6122.      ]\n",
            " [   20.          35.167812   139.074453   580.5       6444.      ]\n",
            " [   21.          35.169495   139.07157    610.92      6766.      ]\n",
            " [   22.          35.171178   139.068687   654.96      7088.      ]\n",
            " [   23.          35.17286    139.065804   628.22      7411.      ]\n",
            " [   24.          35.174543   139.062921   626.64      7733.      ]\n",
            " [   25.          35.176225   139.060038   572.55      8055.      ]\n",
            " [   26.          35.177908   139.057154   723.95      8377.      ]\n",
            " [   27.          35.17959    139.054271   701.94      8699.      ]\n",
            " [   28.          35.181273   139.051387   879.47      9022.      ]\n",
            " [   29.          35.182955   139.048504   976.17      9344.      ]\n",
            " [   30.          35.184637   139.04562    919.16      9666.      ]\n",
            " [   31.          35.186319   139.042736   817.        9988.      ]\n",
            " [   32.          35.188001   139.039852   743.06     10310.      ]\n",
            " [   33.          35.189683   139.036968   770.92     10633.      ]\n",
            " [   34.          35.191365   139.034084   864.06     10955.      ]\n",
            " [   35.          35.193047   139.031199   826.52     11277.      ]\n",
            " [   36.          35.194729   139.028315   748.39     11599.      ]\n",
            " [   37.          35.19641    139.02543    756.11     11922.      ]\n",
            " [   38.          35.198092   139.022545   724.5      12244.      ]\n",
            " [   39.          35.199773   139.01966    724.5      12566.      ]\n",
            " [   40.          35.201455   139.016775   724.5      12888.      ]\n",
            " [   41.          35.203136   139.01389    724.5      13210.      ]\n",
            " [   42.          35.204818   139.011005   724.5      13533.      ]\n",
            " [   43.          35.206499   139.00812    724.5      13855.      ]\n",
            " [   44.          35.20818    139.005234   724.5      14177.      ]\n",
            " [   45.          35.209861   139.002349   724.5      14499.      ]\n",
            " [   46.          35.211542   138.999463   724.5      14822.      ]\n",
            " [   47.          35.213223   138.996577   724.5      15144.      ]\n",
            " [   48.          35.214904   138.993691   852.18     15466.      ]\n",
            " [   49.          35.216585   138.990805   851.36     15788.      ]\n",
            " [   50.          35.218266   138.987919   831.       16110.      ]\n",
            " [   51.          35.219947   138.985033   880.44     16433.      ]\n",
            " [   52.          35.221627   138.982146   955.14     16755.      ]\n",
            " [   53.          35.223308   138.97926    849.52     17077.      ]\n",
            " [   54.          35.224989   138.976373   831.6      17399.      ]\n",
            " [   55.          35.226669   138.973486   790.01     17721.      ]\n",
            " [   56.          35.228349   138.970599   738.97     18044.      ]\n",
            " [   57.          35.23003    138.967712   848.83     18366.      ]\n",
            " [   58.          35.23171    138.964825   738.3      18688.      ]\n",
            " [   59.          35.23339    138.961938   736.48     19010.      ]\n",
            " [   60.          35.23507    138.95905    672.24     19333.      ]\n",
            " [   61.          35.23675    138.956163   564.02     19655.      ]\n",
            " [   62.          35.23843    138.953275   552.23     19977.      ]\n",
            " [   63.          35.24011    138.950388   497.41     20299.      ]\n",
            " [   64.          35.24179    138.9475     558.28     20621.      ]\n",
            " [   65.          35.24347    138.944612   503.02     20944.      ]\n",
            " [   66.          35.245149   138.941724   462.33     21266.      ]\n",
            " [   67.          35.246829   138.938835   469.66     21588.      ]\n",
            " [   68.          35.248509   138.935947   429.49     21910.      ]\n",
            " [   69.          35.250188   138.933059   454.21     22233.      ]\n",
            " [   70.          35.251867   138.93017    412.27     22555.      ]\n",
            " [   71.          35.253547   138.927281   362.29     22877.      ]\n",
            " [   72.          35.255226   138.924393   355.68     23199.      ]\n",
            " [   73.          35.256905   138.921504   368.91     23521.      ]\n",
            " [   74.          35.258584   138.918615   371.04     23844.      ]\n",
            " [   75.          35.260263   138.915725   371.19     24166.      ]\n",
            " [   76.          35.261942   138.912836   377.62     24488.      ]\n",
            " [   77.          35.263621   138.909947   386.64     24810.      ]\n",
            " [   78.          35.2653     138.907057   390.14     25133.      ]\n",
            " [   79.          35.266979   138.904168   418.41     25455.      ]\n",
            " [   80.          35.268658   138.901278   420.6      25777.      ]\n",
            " [   81.          35.270336   138.898388   443.       26099.      ]\n",
            " [   82.          35.272015   138.895498   458.66     26421.      ]\n",
            " [   83.          35.273694   138.892608   471.82     26744.      ]\n",
            " [   84.          35.275372   138.889718   488.4      27066.      ]\n",
            " [   85.          35.27705    138.886827   505.1      27388.      ]\n",
            " [   86.          35.278729   138.883937   519.54     27710.      ]\n",
            " [   87.          35.280407   138.881046   536.54     28032.      ]\n",
            " [   88.          35.282085   138.878156   553.64     28355.      ]\n",
            " [   89.          35.283763   138.875265   575.07     28677.      ]\n",
            " [   90.          35.285441   138.872374   588.99     28999.      ]\n",
            " [   91.          35.287119   138.869483   602.36     29321.      ]\n",
            " [   92.          35.288797   138.866591   613.04     29644.      ]\n",
            " [   93.          35.290475   138.8637     631.71     29966.      ]\n",
            " [   94.          35.292153   138.860809   660.43     30288.      ]\n",
            " [   95.          35.29383    138.857917   672.36     30610.      ]\n",
            " [   96.          35.295508   138.855026   700.15     30932.      ]\n",
            " [   97.          35.297185   138.852134   725.72     31255.      ]\n",
            " [   98.          35.298863   138.849242   741.17     31577.      ]\n",
            " [   99.          35.30054    138.84635    753.68     31899.      ]\n",
            " [  100.          35.302218   138.843458   772.58     32221.      ]\n",
            " [  101.          35.303895   138.840565   795.25     32544.      ]\n",
            " [  102.          35.305572   138.837673   817.62     32866.      ]\n",
            " [  103.          35.307249   138.834781   858.62     33188.      ]\n",
            " [  104.          35.308926   138.831888   883.89     33510.      ]\n",
            " [  105.          35.310603   138.828995   910.5      33832.      ]\n",
            " [  106.          35.31228    138.826102   932.74     34155.      ]\n",
            " [  107.          35.313957   138.823209   973.32     34477.      ]\n",
            " [  108.          35.315634   138.820316  1000.24     34799.      ]\n",
            " [  109.          35.31731    138.817423  1034.34     35121.      ]\n",
            " [  110.          35.318987   138.81453   1059.69     35443.      ]\n",
            " [  111.          35.320664   138.811636  1105.8      35766.      ]\n",
            " [  112.          35.32234    138.808743  1166.58     36088.      ]\n",
            " [  113.          35.324016   138.805849  1219.86     36410.      ]\n",
            " [  114.          35.325693   138.802955  1239.97     36732.      ]\n",
            " [  115.          35.327369   138.800061  1292.52     37055.      ]\n",
            " [  116.          35.329045   138.797167  1360.1      37377.      ]\n",
            " [  117.          35.330721   138.794273  1429.75     37699.      ]\n",
            " [  118.          35.332397   138.791379  1506.66     38021.      ]\n",
            " [  119.          35.334073   138.788484  1561.94     38343.      ]\n",
            " [  120.          35.335749   138.78559   1598.36     38666.      ]\n",
            " [  121.          35.337425   138.782695  1659.43     38988.      ]\n",
            " [  122.          35.339101   138.7798    1726.5      39310.      ]\n",
            " [  123.          35.340777   138.776905  1781.98     39632.      ]\n",
            " [  124.          35.342452   138.77401   1850.02     39955.      ]\n",
            " [  125.          35.344128   138.771115  1953.48     40277.      ]\n",
            " [  126.          35.345804   138.76822   2076.15     40599.      ]\n",
            " [  127.          35.347479   138.765325  2196.53     40921.      ]\n",
            " [  128.          35.349154   138.762429  2306.85     41243.      ]\n",
            " [  129.          35.35083    138.759534  2426.1      41566.      ]\n",
            " [  130.          35.352505   138.756638  2563.4      41888.      ]\n",
            " [  131.          35.35418    138.753742  2703.1      42210.      ]\n",
            " [  132.          35.355855   138.750846  2825.55     42532.      ]\n",
            " [  133.          35.35753    138.74795   2967.9      42854.      ]\n",
            " [  134.          35.359205   138.745054  3087.81     43177.      ]\n",
            " [  135.          35.36088    138.742157  3266.24     43499.      ]\n",
            " [  136.          35.362555   138.739261  3434.59     43821.      ]\n",
            " [  137.          35.36423    138.736364  3600.08     44143.      ]\n",
            " [  138.          35.365904   138.733468  3679.96     44466.      ]\n",
            " [  139.          35.367579   138.730571  3664.9      44788.      ]]\n"
          ]
        },
        {
          "output_type": "display_data",
          "data": {
            "image/png": "[encoded data removed]",
            "text/plain": [
              "<Figure size 432x288 with 1 Axes>"
            ]
          },
          "metadata": {
            "needs_background": "light"
          }
        }
      ]
    },
    {
      "cell_type": "code",
      "metadata": {
        "id": "C1TeFYJjJs8V"
      },
      "source": [
        "#Problem 2\n",
        "\n",
        "def calc_slope(point):\n",
        "  change_in_x = fuji[:,0][point] - fuji[:,0][point-1]\n",
        "  change_in_y = fuji[:,3][point] - fuji[:,3][point-1]\n",
        "  slope = change_in_y/change_in_x\n",
        "  #slope.append(xz)\n",
        "  #print(slope)\n",
        "  return slope\n",
        "\n",
        "slope = calc_slope(136)\n",
        "#calc_slope(136)"
      ],
      "execution_count": 87,
      "outputs": []
    },
    {
      "cell_type": "code",
      "metadata": {
        "colab": {
          "base_uri": "https://localhost:8080/"
        },
        "id": "RolRJxG3L4cF",
        "outputId": "dba3729f-16db-46bd-a577-9011c242b0a0"
      },
      "source": [
        "# Problem 3\n",
        "def Destination_calc(point, alpha):\n",
        "  xz = []\n",
        "  gradient = calc_slope(point)\n",
        "  xz.append(gradient)\n",
        "  dest = point - alpha*gradient\n",
        "  if (dest<0):\n",
        "    return 0\n",
        "  else:\n",
        "    #print(xz)\n",
        "    return round(dest)\n",
        "    #print(dest)\n",
        "Destination_calc(136,0.2)     "
      ],
      "execution_count": 88,
      "outputs": [
        {
          "output_type": "execute_result",
          "data": {
            "text/plain": [
              "102"
            ]
          },
          "metadata": {},
          "execution_count": 88
        }
      ]
    },
    {
      "cell_type": "code",
      "metadata": {
        "colab": {
          "base_uri": "https://localhost:8080/"
        },
        "id": "TNQR8TG6ZLnP",
        "outputId": "dcded8d1-7192-48c8-9066-bfe01ea50ffe"
      },
      "source": [
        "#Problem 4\n",
        "def going_down(current_point, alpha):\n",
        " # looping until the returned destination = 0\n",
        " destinat = [current_point]\n",
        " for counter in range(fuji.size):\n",
        "   current_point = round(Destination_calc(current_point, alpha))\n",
        "   if(destinat[-1] == current_point):\n",
        "     break\n",
        "   else:\n",
        "     destinat.append(current_point)\n",
        "      \n",
        " return destinat\n",
        "     \n",
        "#journey = going_down(136,0.2)\n",
        "going_down(136, 0.2)"
      ],
      "execution_count": 89,
      "outputs": [
        {
          "output_type": "execute_result",
          "data": {
            "text/plain": [
              "[136, 102, 98, 95, 93, 89, 85, 82, 79, 73, 70, 78, 77, 75]"
            ]
          },
          "metadata": {},
          "execution_count": 89
        }
      ]
    },
    {
      "cell_type": "code",
      "metadata": {
        "colab": {
          "base_uri": "https://localhost:8080/",
          "height": 405
        },
        "id": "wIyU_VnZqKRR",
        "outputId": "f7b65468-f532-4325-9f4c-ed25b26bbbd0"
      },
      "source": [
        " # Problem 5\n",
        "%matplotlib inline\n",
        "import matplotlib.pyplot as plt\n",
        "positions_array = going_down(136, 0.2)\n",
        "for counter in range(len(positions_array)):\n",
        "  changes_x = (fuji[:,0][positions_array]) - (fuji[:,0][positions_array[-1]])\n",
        "  changes_y = (fuji[:,3][positions_array]) - (fuji[:,3][positions_array[-1]])\n",
        "  slopy = changes_y/changes_x\n",
        "\n",
        "figure = plt.figure(figsize=(15,5))\n",
        "\n",
        "fig1 = figure.add_subplot(1,2,1)\n",
        "\n",
        "fig1.set_title(\"MT. Fuji movement points\")\n",
        "fig1.set_xlabel(\"position\")\n",
        "fig1.set_ylabel(\"elevation(m)\")\n",
        "fig1.plot(fuji[:,0],fuji[:,3])\n",
        "fig1.scatter(positions_array,[fuji[position_1, 3] for position_1 in positions_array],c=\"orange\")\n",
        "\n",
        "fig2 = figure.add_subplot(1,2,2)\n",
        "\n",
        "fig2.set_title(\"MT. Fuji movement points\")\n",
        "fig2.set_xlabel(\"Elevation\")\n",
        "fig2.set_ylabel(\"Gradient\")\n",
        "fig2.plot(fuji[:,3][positions_array], slopy)"
      ],
      "execution_count": 105,
      "outputs": [
        {
          "output_type": "stream",
          "name": "stderr",
          "text": [
            "/usr/local/lib/python3.7/dist-packages/ipykernel_launcher.py:8: RuntimeWarning: invalid value encountered in true_divide\n",
            "  \n"
          ]
        },
        {
          "output_type": "execute_result",
          "data": {
            "text/plain": [
              "[<matplotlib.lines.Line2D at 0x7f4d0567eb90>]"
            ]
          },
          "metadata": {},
          "execution_count": 105
        },
        {
          "output_type": "display_data",
          "data": {
            "image/png": "[encoded data removed]",
            "text/plain": [
              "<Figure size 1080x360 with 2 Axes>"
            ]
          },
          "metadata": {
            "needs_background": "light"
          }
        }
      ]
    },
    {
      "cell_type": "code",
      "metadata": {
        "id": "88mh0DGgwfr7"
      },
      "source": [
        "\n",
        "  "
      ],
      "execution_count": null,
      "outputs": []
    },
    {
      "cell_type": "code",
      "metadata": {
        "id": "9rAj1bsADLGG"
      },
      "source": [
        "# Problem 3(2)\n",
        "H =[]\n",
        "Y =[]\n",
        "def predict_destination(C_LC, H_P, G_R):\n",
        "  #*** Current location= C_LC, Gradient=G_R, Hyper Parameter= H_P***\n",
        "  Destination_point = C_LC - (H_P*G_R)\n",
        "  return Destination_point\n",
        "predict_destination(322, 0.2, 0)  "
      ],
      "execution_count": null,
      "outputs": []
    },
    {
      "cell_type": "code",
      "metadata": {
        "id": "lcZW_ih5MIQG"
      },
      "source": [
        "#Problem 3\n",
        "D = []\n",
        "def descent_calculation(R, H_P):\n",
        "  for row in fuji:\n",
        "     D.append(int(row[R]))\n",
        "     np.array(D)\n",
        "  Distance = D - (H_P*Gradient2)\n",
        "  Distance2 = Distance[0:136]\n",
        "  \n",
        "  print(Distance[0:136])\n",
        "  #print(Distance2)\n",
        "descent_calculation(4, 0.2)"
      ],
      "execution_count": null,
      "outputs": []
    },
    {
      "cell_type": "code",
      "metadata": {
        "id": "tnM6ULFJQzxc"
      },
      "source": [
        "import numpy as np\n",
        "import matplotlib.pyplot as plt\n",
        "%matplotlib inline\n",
        "plt.title(\"Descent\")\n",
        "plt.xlabel(\"The Number of the point\")\n",
        "plt.ylabel(\"Distance\")\n",
        "plt.plot(Distance2)  "
      ],
      "execution_count": null,
      "outputs": []
    },
    {
      "cell_type": "code",
      "metadata": {
        "id": "vplh50cDRnr-"
      },
      "source": [
        "#Problem 4/5(1)\n",
        "import numpy as np\n",
        "import matplotlib.pyplot as plt\n",
        "%matplotlib inline\n",
        "import math\n",
        "Current_value = 3434.59 # the algorithm starts at 3434.59\n",
        "rate = 0.2 # learning Rate\n",
        "precission = 0.000001 # This tells us when to stop the algorithm\n",
        "previous_step_size = 1 \n",
        "max_iters = 168 #maximum number of iterations\n",
        "iters = 0 #iteration counter\n",
        "d_f = 168 # Gradient of our function\n",
        "j = []\n",
        "k = []\n",
        "l = gradient[0:168]\n",
        "res = l[::-1] \n",
        "#print(res)\n",
        "while previous_step_size > precission and iters < max_iters:\n",
        "  prev_x = Current_value # Store current x value in prev_x\n",
        "  Current_value = round(Current_value - rate*d_f) # Change in x\n",
        "  j.append(Current_value)\n",
        "  iters = iters + 1 #iteration count\n",
        "  k.append(iters)\n",
        "  #print(\"Iteration\", iters, \"\\nX value is\", Current_value) #Print iterations\n",
        "#print(\"The local minimum occurs at\", Current_value) \n",
        "#for row in fuji:\n",
        "#  j.append((row[0]))\n",
        "#  k.append((row[3]))\n",
        "plt.title(\"Dots Cross section\")\n",
        "plt.xlabel(\"Gradients\")\n",
        "plt.ylabel(\"Altitude Change\")\n",
        "plt.scatter(j[::-1], y[0:168])\n",
        "#plt.plot(x[0:168], y[0:168])"
      ],
      "execution_count": null,
      "outputs": []
    },
    {
      "cell_type": "code",
      "metadata": {
        "id": "QNdoIy-YZrBc"
      },
      "source": [
        ""
      ],
      "execution_count": null,
      "outputs": []
    },
    {
      "cell_type": "code",
      "metadata": {
        "id": "egqEZOu0LCKU"
      },
      "source": [
        "#Problem 6\n",
        "import numpy as np\n",
        "import matplotlib.pyplot as plt\n",
        "%matplotlib inline\n",
        "import math\n",
        "Current_value = 1725.8 # the algorithm starts at 1725.8\n",
        "rate = 0.2 # learning Rate\n",
        "precission = 0.000001 # This tells us when to stop the algorithm\n",
        "previous_step_size = 1 \n",
        "max_iters = 75 #maximum number of iterations\n",
        "iters = 0 #iteration counter\n",
        "d_f = 116 # Gradient of our function\n",
        "j = []\n",
        "k = []\n",
        "l = gradient[0:75]\n",
        "res2 = l[::-1]\n",
        "#print(res2)\n",
        "while previous_step_size > precission and iters < max_iters:\n",
        "  prev_x = Current_value # Store current x value in prev_x\n",
        "  Current_value = round(Current_value - rate*d_f) # Change in x\n",
        "  j.append(Current_value)\n",
        "  iters = iters + 1 #iteration count\n",
        "  k.append(iters)\n",
        "  print(\"Iteration\", iters, \"\\nX value is\", Current_value) #Print iterations\n",
        "#print(\"The local minimum occurs at\", Current_value) \n",
        "#for row in fuji:\n",
        "#  j.append((row[0]))\n",
        "#  k.append((row[3]))\n",
        "#plt.title(\"Dots Cross section\")\n",
        "#plt.xlabel(\"Iterations\")\n",
        "#plt.ylabel(\"Altitude Change\")\n",
        "#plt.plot(j, res2)"
      ],
      "execution_count": null,
      "outputs": []
    },
    {
      "cell_type": "code",
      "metadata": {
        "id": "1nUdDCBQT3R8"
      },
      "source": [
        "# Problem 7\n",
        "import numpy as np\n",
        "import matplotlib.pyplot as plt\n",
        "%matplotlib inline\n",
        "import math\n",
        "Current_value = 1725.8 # the algorithm starts at 1725.8\n",
        "rate = 0.2 # learning Rate\n",
        "precission = 0.000001 # This tells us when to stop the algorithm\n",
        "previous_step_size = 1 \n",
        "max_iters = 75 #maximum number of iterations\n",
        "iters = 0 #iteration counter\n",
        "d_f = 116 # Gradient of our function\n",
        "j = []\n",
        "k = []\n",
        "l = gradient[0:75]\n",
        "res2 = l[::-1]\n",
        "#print(res2)\n",
        "while previous_step_size > precission and iters < max_iters:\n",
        "  prev_x = Current_value # Store current x value in prev_x\n",
        "  Current_value = round(Current_value - rate*d_f) # Change in x\n",
        "  j.append(Current_value)\n",
        "  iters = iters + 1 #iteration count\n",
        "  k.append(iters)\n",
        "  #print(\"Iteration\", iters, \"\\nX value is\", Current_value) #Print iterations\n",
        "#print(\"The local minimum occurs at\", Current_value) \n",
        "#for row in fuji:\n",
        "#  j.append((row[0]))\n",
        "#  k.append((row[3]))\n",
        "plt.title(\"Dots Cross section\")\n",
        "plt.xlabel(\"Iterations\")\n",
        "plt.ylabel(\"Altitude Change\")\n",
        "plt.plot(j, res2)"
      ],
      "execution_count": null,
      "outputs": []
    },
    {
      "cell_type": "code",
      "metadata": {
        "id": "PLBSjp2eZw4N"
      },
      "source": [
        "#Problem 8\n",
        "import numpy as np\n",
        "import matplotlib.pyplot as plt\n",
        "%matplotlib inline\n",
        "import math\n",
        "Current_value = 3434.59 # the algorithm starts at 3434.59\n",
        "rate = 0.6 # learning Rate\n",
        "precission = 0.000001 # This tells us when to stop the algorithm\n",
        "previous_step_size = 1 \n",
        "max_iters = 31 #maximum number of iterations\n",
        "iters = 0 #iteration counter\n",
        "d_f = 168 # Gradient of our function\n",
        "j = []\n",
        "k = []\n",
        "l = gradient[0:31]\n",
        "res3 = l[::-1]\n",
        "print(res3)\n",
        "while previous_step_size > precission and iters < max_iters:\n",
        "  prev_x = Current_value # Store current x value in prev_x\n",
        "  Current_value = round(Current_value - rate*d_f) # Change in x\n",
        "  j.append(Current_value)\n",
        "  iters = iters + 1 #iteration count\n",
        "  k.append(iters)\n",
        "  #print(\"Iteration\", iters, \"\\nX value is\", Current_value) #Print iterations\n",
        "#print(\"The local minimum occurs at\", Current_value) \n",
        "print(\" By increasing the value of Hyper Parameter, we decrease the number of points.\")\n",
        "#for row in fuji:\n",
        "#  j.append((row[0]))\n",
        "#  k.append((row[3]))\n",
        "plt.title(\"Altitude Line Graph\")\n",
        "plt.xlabel(\"Gradient\")\n",
        "plt.ylabel(\"Elevation\")\n",
        "plt.plot(j, res3)"
      ],
      "execution_count": null,
      "outputs": []
    },
    {
      "cell_type": "code",
      "metadata": {
        "id": "upAzuFasbp3Y"
      },
      "source": [
        ""
      ],
      "execution_count": null,
      "outputs": []
    }
  ]
}