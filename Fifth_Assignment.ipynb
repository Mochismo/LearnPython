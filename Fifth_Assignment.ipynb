{
  "nbformat": 4,
  "nbformat_minor": 0,
  "metadata": {
    "colab": {
      "name": "Fifth_Assignment.ipynb",
      "provenance": [],
      "collapsed_sections": [],
      "authorship_tag": "ABX9TyNDEmlt96X7GIRVbsUpN6Bk",
      "include_colab_link": true
    },
    "kernelspec": {
      "name": "python3",
      "display_name": "Python 3"
    },
    "language_info": {
      "name": "python"
    }
  },
  "cells": [
    {
      "cell_type": "markdown",
      "metadata": {
        "id": "view-in-github",
        "colab_type": "text"
      },
      "source": [
        "<a href=\"https://colab.research.google.com/github/Mochismo/LearnPython/blob/main/Fifth_Assignment.ipynb\" target=\"_parent\"><img src=\"https://colab.research.google.com/assets/colab-badge.svg\" alt=\"Open In Colab\"/></a>"
      ]
    },
    {
      "cell_type": "code",
      "metadata": {
        "colab": {
          "base_uri": "https://localhost:8080/"
        },
        "id": "JaICyivtRia2",
        "outputId": "251be2b3-9378-47c2-e8cb-3bd17c908714"
      },
      "source": [
        "import numpy as np\n",
        "#wheat = 2**np.arange(4)\n",
        "#cumm = wheat.reshape(2,2)\n",
        "#print(cumm)\n",
        "n_squares = 4\n",
        "small_board_list =[1]\n",
        "for _ in range(n_squares-1):\n",
        "  small_board_list.append(2*small_board_list[-1]) #last value*2\n",
        "print(\"Arrange wheat on a plate of 4 squares (list): {}\".format(small_board_list))  \n"
      ],
      "execution_count": 24,
      "outputs": [
        {
          "output_type": "stream",
          "name": "stdout",
          "text": [
            "Arrange wheat on a plate of 4 squares (list): [1, 2, 4, 8]\n"
          ]
        }
      ]
    },
    {
      "cell_type": "code",
      "metadata": {
        "colab": {
          "base_uri": "https://localhost:8080/"
        },
        "id": "T0ev2RbVSRK_",
        "outputId": "d819f294-25b4-4a41-85d7-8cd0811b0f0f"
      },
      "source": [
        "import numpy as np\n",
        "small_board_ndarray = np.array(small_board_list)\n",
        "print(\"Arrange wheat on a plate of 4 squares (ndarray)：{}\".format(small_board_ndarray))"
      ],
      "execution_count": 6,
      "outputs": [
        {
          "output_type": "stream",
          "name": "stdout",
          "text": [
            "Arrange wheat on a plate of 4 squares (ndarray)：[1 2 4 8]\n"
          ]
        }
      ]
    },
    {
      "cell_type": "code",
      "metadata": {
        "id": "26PPC4-LcemN",
        "colab": {
          "base_uri": "https://localhost:8080/"
        },
        "outputId": "bae20dc6-0a07-4fa7-b2fc-7421b5ae65a5"
      },
      "source": [
        "#problem 1\n",
        "small_board_ndarray = np.array(small_board_list).reshape(2, 2)\n",
        "print(small_board_ndarray)\n",
        "print(\"Arrange wheat on a plate of 4 squares (ndarray)：{}\".format(small_board_ndarray))"
      ],
      "execution_count": 10,
      "outputs": [
        {
          "output_type": "stream",
          "name": "stdout",
          "text": [
            "[[1 2]\n",
            " [4 8]]\n",
            "Arrange wheat on a plate of 4 squares (ndarray)：[[1 2]\n",
            " [4 8]]\n"
          ]
        }
      ]
    },
    {
      "cell_type": "code",
      "metadata": {
        "colab": {
          "base_uri": "https://localhost:8080/"
        },
        "id": "T8ZOdEL-cmd5",
        "outputId": "cc0cbd35-cfad-4b30-be7c-66b97e9b3e42"
      },
      "source": [
        "#problem 2(1)\n",
        "%%timeit\n",
        "import matplotlib.pyplot as plt\n",
        "%matplotlib inline\n",
        "def compute_grains_persquare(a, b, c, d):\n",
        "  #*** a is the number of squares, b is the first value in the small_\n",
        "  # board_list, c is the first value of reshape, d is the second value\n",
        "  # of reshape.\n",
        "   n_squares = a\n",
        "   small_board_list =[b]\n",
        "   for _ in range(n_squares-1):\n",
        "    small_board_list.append(2*small_board_list[-1])\n",
        "    small_board_ndarray = np.array(small_board_list)\n",
        "   small_board_ndarray = np.array(small_board_list).reshape(c, d)\n",
        "   return small_board_ndarray\n",
        "#print(small_board_ndarray)\n",
        "compute_grains_persquare(64, 1, 8, 8)   \n"
      ],
      "execution_count": 62,
      "outputs": [
        {
          "output_type": "stream",
          "name": "stdout",
          "text": [
            "The slowest run took 4.05 times longer than the fastest. This could mean that an intermediate result is being cached.\n",
            "1000 loops, best of 5: 501 µs per loop\n"
          ]
        }
      ]
    },
    {
      "cell_type": "code",
      "metadata": {
        "colab": {
          "base_uri": "https://localhost:8080/"
        },
        "id": "ZgEvQlKmZvVi",
        "outputId": "3ed70669-b4aa-49cd-e81f-b0df25486df9"
      },
      "source": [
        "#problem 2(2)\n",
        "%%timeit\n",
        "def Grains_persquare(a, b, c):\n",
        "  #*** a is the number of squares, b first shape value, c is the second\n",
        "  # shape value***\n",
        "  wheat = np.arange(a).astype(np.uint64)\n",
        "  chess_board_arranged = wheat.reshape(b,c)\n",
        "  wheat_persquare = 2 ** chess_board_arranged\n",
        "  #print(chess_board_arranged)\n",
        "  #print(wheat_persquare)\n",
        "  return chess_board_arranged, wheat_persquare\n",
        "Grains_persquare(64, 8, 8)  "
      ],
      "execution_count": 63,
      "outputs": [
        {
          "output_type": "stream",
          "name": "stdout",
          "text": [
            "The slowest run took 39.45 times longer than the fastest. This could mean that an intermediate result is being cached.\n",
            "100000 loops, best of 5: 3.84 µs per loop\n"
          ]
        }
      ]
    },
    {
      "cell_type": "code",
      "metadata": {
        "colab": {
          "base_uri": "https://localhost:8080/",
          "height": 567
        },
        "id": "a5ZW9_p2sIOK",
        "outputId": "56a270d2-81df-4fbd-b2f5-c1a44b4b5c4a"
      },
      "source": [
        "#problem 3\n",
        "import matplotlib.pyplot as plt\n",
        "%matplotlib inline\n",
        "def compute_grains_persquare(a, b, c, d):\n",
        "  #*** a is the number of squares, b is the first value in the small_\n",
        "  # board_list, c is the first value of reshape, d is the second value\n",
        "  # of reshape.\n",
        "   n_squares = a\n",
        "   small_board_list =[b]\n",
        "   for _ in range(n_squares-1):\n",
        "    small_board_list.append(2*small_board_list[-1])\n",
        "    small_board_ndarray = np.array(small_board_list)\n",
        "   small_board_ndarray = np.array(small_board_list).reshape(c, d)\n",
        "   plt.xlabel(\"column\")\n",
        "   plt.ylabel(\"number\")\n",
        "   plt.title(\"number in each column\")\n",
        "   plt.bar(np.arange(1,4), np.array([1, 2, 3]))\n",
        "   plt.show()\n",
        "   return small_board_ndarray\n",
        "#print(small_board_ndarray)\n",
        "compute_grains_persquare(64, 1, 8, 8)"
      ],
      "execution_count": 35,
      "outputs": [
        {
          "output_type": "display_data",
          "data": {
            "image/png": "[encoded data removed]",
            "text/plain": [
              "<Figure size 432x288 with 1 Axes>"
            ]
          },
          "metadata": {
            "needs_background": "light"
          }
        },
        {
          "output_type": "execute_result",
          "data": {
            "text/plain": [
              "array([[1.00000000e+00, 2.00000000e+00, 4.00000000e+00, 8.00000000e+00,\n",
              "        1.60000000e+01, 3.20000000e+01, 6.40000000e+01, 1.28000000e+02],\n",
              "       [2.56000000e+02, 5.12000000e+02, 1.02400000e+03, 2.04800000e+03,\n",
              "        4.09600000e+03, 8.19200000e+03, 1.63840000e+04, 3.27680000e+04],\n",
              "       [6.55360000e+04, 1.31072000e+05, 2.62144000e+05, 5.24288000e+05,\n",
              "        1.04857600e+06, 2.09715200e+06, 4.19430400e+06, 8.38860800e+06],\n",
              "       [1.67772160e+07, 3.35544320e+07, 6.71088640e+07, 1.34217728e+08,\n",
              "        2.68435456e+08, 5.36870912e+08, 1.07374182e+09, 2.14748365e+09],\n",
              "       [4.29496730e+09, 8.58993459e+09, 1.71798692e+10, 3.43597384e+10,\n",
              "        6.87194767e+10, 1.37438953e+11, 2.74877907e+11, 5.49755814e+11],\n",
              "       [1.09951163e+12, 2.19902326e+12, 4.39804651e+12, 8.79609302e+12,\n",
              "        1.75921860e+13, 3.51843721e+13, 7.03687442e+13, 1.40737488e+14],\n",
              "       [2.81474977e+14, 5.62949953e+14, 1.12589991e+15, 2.25179981e+15,\n",
              "        4.50359963e+15, 9.00719925e+15, 1.80143985e+16, 3.60287970e+16],\n",
              "       [7.20575940e+16, 1.44115188e+17, 2.88230376e+17, 5.76460752e+17,\n",
              "        1.15292150e+18, 2.30584301e+18, 4.61168602e+18, 9.22337204e+18]])"
            ]
          },
          "metadata": {},
          "execution_count": 35
        }
      ]
    },
    {
      "cell_type": "code",
      "metadata": {
        "colab": {
          "base_uri": "https://localhost:8080/",
          "height": 567
        },
        "id": "xCkYaemS03XA",
        "outputId": "acd27599-df19-432c-e429-c6bdc84d8df9"
      },
      "source": [
        "# problem 4\n",
        "import matplotlib.pyplot as plt\n",
        "%matplotlib inline\n",
        "def compute_grains_persquare(a, b, c, d):\n",
        "  #*** a is the number of squares, b is the first value in the small_\n",
        "  # board_list, c is the first value of reshape, d is the second value\n",
        "  # of reshape.\n",
        "   n_squares = a\n",
        "   small_board_list =[b]\n",
        "   for _ in range(n_squares-1):\n",
        "    small_board_list.append(2*small_board_list[-1])\n",
        "    small_board_ndarray = np.array(small_board_list)\n",
        "   small_board_ndarray = np.array(small_board_list).reshape(c, d)\n",
        "   plt.xlabel(\"column\")\n",
        "   plt.ylabel(\"number\")\n",
        "   plt.title(\"heatmap\")\n",
        "   plt.pcolor(np.array([0, 1, 3, 5, 7, 9, 11, 13]).reshape(4, 2))\n",
        "   plt.show()\n",
        "   return small_board_ndarray\n",
        "#print(small_board_ndarray)\n",
        "compute_grains_persquare(64, 1, 8, 8)"
      ],
      "execution_count": 37,
      "outputs": [
        {
          "output_type": "display_data",
          "data": {
            "image/png": "[encoded data removed]",
            "text/plain": [
              "<Figure size 432x288 with 1 Axes>"
            ]
          },
          "metadata": {
            "needs_background": "light"
          }
        },
        {
          "output_type": "execute_result",
          "data": {
            "text/plain": [
              "array([[1.00000000e+00, 2.00000000e+00, 4.00000000e+00, 8.00000000e+00,\n",
              "        1.60000000e+01, 3.20000000e+01, 6.40000000e+01, 1.28000000e+02],\n",
              "       [2.56000000e+02, 5.12000000e+02, 1.02400000e+03, 2.04800000e+03,\n",
              "        4.09600000e+03, 8.19200000e+03, 1.63840000e+04, 3.27680000e+04],\n",
              "       [6.55360000e+04, 1.31072000e+05, 2.62144000e+05, 5.24288000e+05,\n",
              "        1.04857600e+06, 2.09715200e+06, 4.19430400e+06, 8.38860800e+06],\n",
              "       [1.67772160e+07, 3.35544320e+07, 6.71088640e+07, 1.34217728e+08,\n",
              "        2.68435456e+08, 5.36870912e+08, 1.07374182e+09, 2.14748365e+09],\n",
              "       [4.29496730e+09, 8.58993459e+09, 1.71798692e+10, 3.43597384e+10,\n",
              "        6.87194767e+10, 1.37438953e+11, 2.74877907e+11, 5.49755814e+11],\n",
              "       [1.09951163e+12, 2.19902326e+12, 4.39804651e+12, 8.79609302e+12,\n",
              "        1.75921860e+13, 3.51843721e+13, 7.03687442e+13, 1.40737488e+14],\n",
              "       [2.81474977e+14, 5.62949953e+14, 1.12589991e+15, 2.25179981e+15,\n",
              "        4.50359963e+15, 9.00719925e+15, 1.80143985e+16, 3.60287970e+16],\n",
              "       [7.20575940e+16, 1.44115188e+17, 2.88230376e+17, 5.76460752e+17,\n",
              "        1.15292150e+18, 2.30584301e+18, 4.61168602e+18, 9.22337204e+18]])"
            ]
          },
          "metadata": {},
          "execution_count": 37
        }
      ]
    },
    {
      "cell_type": "code",
      "metadata": {
        "colab": {
          "base_uri": "https://localhost:8080/"
        },
        "id": "38rMrrr527cX",
        "outputId": "33df1a25-c43b-41ce-fc35-e0d39d39addc"
      },
      "source": [
        "# Problem 5\n",
        "import matplotlib.pyplot as plt\n",
        "%matplotlib inline\n",
        "a = 1\n",
        "H = []\n",
        "G = []\n",
        "#H.insert(0, 1)\n",
        "Grain_Unit = 1\n",
        "for b in range(64):\n",
        "  if b <=32:\n",
        "    a = (a *2)\n",
        "    c = a*Grain_Unit-1\n",
        "    H.append(c)\n",
        "  elif b>32:\n",
        "    a=(a*2)\n",
        "    d=a*Grain_Unit-1\n",
        "    G.append(d)  \n",
        "else:\n",
        "  print((G[-1])/(H[-1]))#value of the times second half is greater than first half"
      ],
      "execution_count": 59,
      "outputs": [
        {
          "output_type": "stream",
          "name": "stdout",
          "text": [
            "2147483648.25\n"
          ]
        }
      ]
    },
    {
      "cell_type": "code",
      "metadata": {
        "colab": {
          "base_uri": "https://localhost:8080/"
        },
        "id": "U7ew208wDITe",
        "outputId": "31596567-6339-44a6-e271-3b4889780e3b"
      },
      "source": [
        "#Problem 6\n",
        "%%timeit\n",
        "def Grains_persquare(a, b, c):\n",
        "  #*** a is the number of squares, b first shape value, c is the second\n",
        "  # shape value***\n",
        "  wheat = np.arange(a).astype(np.uint64)\n",
        "  chess_board_arranged = wheat.reshape(b,c)\n",
        "  wheat_persquare = 2 ** chess_board_arranged\n",
        "  #print(chess_board_arranged)\n",
        "  #print(wheat_persquare)\n",
        "  return chess_board_arranged, wheat_persquare\n",
        "Grains_persquare(64, 8, 8)  "
      ],
      "execution_count": 61,
      "outputs": [
        {
          "output_type": "stream",
          "name": "stdout",
          "text": [
            "The slowest run took 20.51 times longer than the fastest. This could mean that an intermediate result is being cached.\n",
            "100000 loops, best of 5: 3.86 µs per loop\n"
          ]
        }
      ]
    },
    {
      "cell_type": "code",
      "metadata": {
        "id": "ACWVkbl7QMVX"
      },
      "source": [
        ""
      ],
      "execution_count": null,
      "outputs": []
    }
  ]
}