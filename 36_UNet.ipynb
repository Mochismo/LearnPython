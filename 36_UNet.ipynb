{
  "nbformat": 4,
  "nbformat_minor": 0,
  "metadata": {
    "colab": {
      "name": "36_UNet.ipynb",
      "provenance": [],
      "collapsed_sections": [],
      "mount_file_id": "1cBmNTeTRec5dHCsktPJC9V7JkHu6Qupi",
      "authorship_tag": "ABX9TyMcQNrqPnF47jr5XmNlRFcB",
      "include_colab_link": true
    },
    "kernelspec": {
      "name": "python3",
      "display_name": "Python 3"
    },
    "language_info": {
      "name": "python"
    }
  },
  "cells": [
    {
      "cell_type": "markdown",
      "metadata": {
        "id": "view-in-github",
        "colab_type": "text"
      },
      "source": [
        "<a href=\"https://colab.research.google.com/github/Mochismo/LearnPython/blob/main/36_UNet.ipynb\" target=\"_parent\"><img src=\"https://colab.research.google.com/assets/colab-badge.svg\" alt=\"Open In Colab\"/></a>"
      ]
    },
    {
      "cell_type": "code",
      "execution_count": 33,
      "metadata": {
        "colab": {
          "base_uri": "https://localhost:8080/"
        },
        "id": "3Rf0UWZ0kx4t",
        "outputId": "9003f977-96d5-4579-fbe9-3369151cfcae"
      },
      "outputs": [
        {
          "output_type": "stream",
          "name": "stdout",
          "text": [
            "Drive already mounted at /content/drive; to attempt to forcibly remount, call drive.mount(\"/content/drive\", force_remount=True).\n"
          ]
        }
      ],
      "source": [
        "#Mount the Google Drive to Google Colab\n",
        "from google.colab import drive\n",
        "drive.mount('/content/drive')"
      ]
    },
    {
      "cell_type": "code",
      "source": [
        "import os\n",
        "os.chdir('/content/drive/MyDrive/')\n",
        "print(os.getcwd())"
      ],
      "metadata": {
        "colab": {
          "base_uri": "https://localhost:8080/"
        },
        "id": "XXgO4ct7059W",
        "outputId": "f81f7080-4771-48fc-fb45-60e5e34c129a"
      },
      "execution_count": 34,
      "outputs": [
        {
          "output_type": "stream",
          "name": "stdout",
          "text": [
            "/content/drive/MyDrive\n"
          ]
        }
      ]
    },
    {
      "cell_type": "markdown",
      "source": [
        "Problem 1: Learning / Estimation"
      ],
      "metadata": {
        "id": "tYXbUbOvlPmu"
      }
    },
    {
      "cell_type": "code",
      "source": [
        "#Cloning the repository\n",
        "!git clone https://github.com/zhixuhao/unet.git"
      ],
      "metadata": {
        "colab": {
          "base_uri": "https://localhost:8080/"
        },
        "id": "FU57jaoIlMJ-",
        "outputId": "bf201963-c136-4da8-8cfe-7d50f8be07f4"
      },
      "execution_count": 36,
      "outputs": [
        {
          "output_type": "stream",
          "name": "stdout",
          "text": [
            "fatal: destination path 'unet' already exists and is not an empty directory.\n"
          ]
        }
      ]
    },
    {
      "cell_type": "code",
      "source": [
        "#Moving to the folder within the drive\n",
        "!cd unet"
      ],
      "metadata": {
        "id": "QMR1bfp1le7R"
      },
      "execution_count": 30,
      "outputs": []
    },
    {
      "cell_type": "code",
      "source": [
        "cd /content/drive/MyDrive/unet"
      ],
      "metadata": {
        "colab": {
          "base_uri": "https://localhost:8080/"
        },
        "id": "eQUKkHDC0GOm",
        "outputId": "6b9aa42e-a977-4362-cb55-3289956a676e"
      },
      "execution_count": 41,
      "outputs": [
        {
          "output_type": "stream",
          "name": "stdout",
          "text": [
            "/content/drive/MyDrive/unet\n"
          ]
        }
      ]
    },
    {
      "cell_type": "code",
      "source": [
        "#Executing main.py\n",
        "!python main.py"
      ],
      "metadata": {
        "colab": {
          "base_uri": "https://localhost:8080/"
        },
        "id": "7FrRBrxSz34P",
        "outputId": "87d8c15e-fa16-46e6-adc6-4fb35054bc7d"
      },
      "execution_count": 50,
      "outputs": [
        {
          "output_type": "stream",
          "name": "stdout",
          "text": [
            "2022-01-10 13:40:31.905707: E tensorflow/stream_executor/cuda/cuda_driver.cc:271] failed call to cuInit: CUDA_ERROR_NO_DEVICE: no CUDA-capable device is detected\n",
            "/usr/local/lib/python3.7/dist-packages/keras/optimizer_v2/adam.py:105: UserWarning: The `lr` argument is deprecated, use `learning_rate` instead.\n",
            "  super(Adam, self).__init__(name, **kwargs)\n",
            "main.py:18: UserWarning: `Model.fit_generator` is deprecated and will be removed in a future version. Please use `Model.fit`, which supports generators.\n",
            "  model.fit_generator(myGene,steps_per_epoch=300,epochs=1,callbacks=[model_checkpoint])\n",
            "Found 30 images belonging to 1 classes.\n",
            "Found 30 images belonging to 1 classes.\n",
            "300/300 [==============================] - ETA: 0s - loss: 0.6892 - accuracy: 0.7793 \n",
            "Epoch 00001: loss improved from inf to 0.68917, saving model to unet_membrane.hdf5\n",
            "300/300 [==============================] - 4417s 15s/step - loss: 0.6892 - accuracy: 0.7793\n",
            "main.py:21: UserWarning: `Model.predict_generator` is deprecated and will be removed in a future version. Please use `Model.predict`, which supports generators.\n",
            "  results = model.predict_generator(testGene,30,verbose=1)\n",
            "30/30 [==============================] - 62s 2s/step\n",
            "/content/drive/My Drive/unet/data.py:124: UserWarning: data/membrane/test/0_predict.png is a low contrast image\n",
            "  io.imsave(os.path.join(save_path,\"%d_predict.png\"%i),img)\n",
            "WARNING:root:Lossy conversion from float32 to uint8. Range [0, 1]. Convert image to uint8 prior to saving to suppress this warning.\n",
            "/content/drive/My Drive/unet/data.py:124: UserWarning: data/membrane/test/1_predict.png is a low contrast image\n",
            "  io.imsave(os.path.join(save_path,\"%d_predict.png\"%i),img)\n",
            "WARNING:root:Lossy conversion from float32 to uint8. Range [0, 1]. Convert image to uint8 prior to saving to suppress this warning.\n",
            "/content/drive/My Drive/unet/data.py:124: UserWarning: data/membrane/test/2_predict.png is a low contrast image\n",
            "  io.imsave(os.path.join(save_path,\"%d_predict.png\"%i),img)\n",
            "WARNING:root:Lossy conversion from float32 to uint8. Range [0, 1]. Convert image to uint8 prior to saving to suppress this warning.\n",
            "/content/drive/My Drive/unet/data.py:124: UserWarning: data/membrane/test/3_predict.png is a low contrast image\n",
            "  io.imsave(os.path.join(save_path,\"%d_predict.png\"%i),img)\n",
            "WARNING:root:Lossy conversion from float32 to uint8. Range [0, 1]. Convert image to uint8 prior to saving to suppress this warning.\n",
            "/content/drive/My Drive/unet/data.py:124: UserWarning: data/membrane/test/4_predict.png is a low contrast image\n",
            "  io.imsave(os.path.join(save_path,\"%d_predict.png\"%i),img)\n",
            "WARNING:root:Lossy conversion from float32 to uint8. Range [0, 1]. Convert image to uint8 prior to saving to suppress this warning.\n",
            "/content/drive/My Drive/unet/data.py:124: UserWarning: data/membrane/test/5_predict.png is a low contrast image\n",
            "  io.imsave(os.path.join(save_path,\"%d_predict.png\"%i),img)\n",
            "WARNING:root:Lossy conversion from float32 to uint8. Range [0, 1]. Convert image to uint8 prior to saving to suppress this warning.\n",
            "/content/drive/My Drive/unet/data.py:124: UserWarning: data/membrane/test/6_predict.png is a low contrast image\n",
            "  io.imsave(os.path.join(save_path,\"%d_predict.png\"%i),img)\n",
            "WARNING:root:Lossy conversion from float32 to uint8. Range [0, 1]. Convert image to uint8 prior to saving to suppress this warning.\n",
            "/content/drive/My Drive/unet/data.py:124: UserWarning: data/membrane/test/7_predict.png is a low contrast image\n",
            "  io.imsave(os.path.join(save_path,\"%d_predict.png\"%i),img)\n",
            "WARNING:root:Lossy conversion from float32 to uint8. Range [0, 1]. Convert image to uint8 prior to saving to suppress this warning.\n",
            "/content/drive/My Drive/unet/data.py:124: UserWarning: data/membrane/test/8_predict.png is a low contrast image\n",
            "  io.imsave(os.path.join(save_path,\"%d_predict.png\"%i),img)\n",
            "WARNING:root:Lossy conversion from float32 to uint8. Range [0, 1]. Convert image to uint8 prior to saving to suppress this warning.\n",
            "/content/drive/My Drive/unet/data.py:124: UserWarning: data/membrane/test/9_predict.png is a low contrast image\n",
            "  io.imsave(os.path.join(save_path,\"%d_predict.png\"%i),img)\n",
            "WARNING:root:Lossy conversion from float32 to uint8. Range [0, 1]. Convert image to uint8 prior to saving to suppress this warning.\n",
            "/content/drive/My Drive/unet/data.py:124: UserWarning: data/membrane/test/10_predict.png is a low contrast image\n",
            "  io.imsave(os.path.join(save_path,\"%d_predict.png\"%i),img)\n",
            "WARNING:root:Lossy conversion from float32 to uint8. Range [0, 1]. Convert image to uint8 prior to saving to suppress this warning.\n",
            "/content/drive/My Drive/unet/data.py:124: UserWarning: data/membrane/test/11_predict.png is a low contrast image\n",
            "  io.imsave(os.path.join(save_path,\"%d_predict.png\"%i),img)\n",
            "WARNING:root:Lossy conversion from float32 to uint8. Range [0, 1]. Convert image to uint8 prior to saving to suppress this warning.\n",
            "/content/drive/My Drive/unet/data.py:124: UserWarning: data/membrane/test/12_predict.png is a low contrast image\n",
            "  io.imsave(os.path.join(save_path,\"%d_predict.png\"%i),img)\n",
            "WARNING:root:Lossy conversion from float32 to uint8. Range [0, 1]. Convert image to uint8 prior to saving to suppress this warning.\n",
            "/content/drive/My Drive/unet/data.py:124: UserWarning: data/membrane/test/13_predict.png is a low contrast image\n",
            "  io.imsave(os.path.join(save_path,\"%d_predict.png\"%i),img)\n",
            "WARNING:root:Lossy conversion from float32 to uint8. Range [0, 1]. Convert image to uint8 prior to saving to suppress this warning.\n",
            "/content/drive/My Drive/unet/data.py:124: UserWarning: data/membrane/test/14_predict.png is a low contrast image\n",
            "  io.imsave(os.path.join(save_path,\"%d_predict.png\"%i),img)\n",
            "WARNING:root:Lossy conversion from float32 to uint8. Range [0, 1]. Convert image to uint8 prior to saving to suppress this warning.\n",
            "/content/drive/My Drive/unet/data.py:124: UserWarning: data/membrane/test/15_predict.png is a low contrast image\n",
            "  io.imsave(os.path.join(save_path,\"%d_predict.png\"%i),img)\n",
            "WARNING:root:Lossy conversion from float32 to uint8. Range [0, 1]. Convert image to uint8 prior to saving to suppress this warning.\n",
            "/content/drive/My Drive/unet/data.py:124: UserWarning: data/membrane/test/16_predict.png is a low contrast image\n",
            "  io.imsave(os.path.join(save_path,\"%d_predict.png\"%i),img)\n",
            "WARNING:root:Lossy conversion from float32 to uint8. Range [0, 1]. Convert image to uint8 prior to saving to suppress this warning.\n",
            "/content/drive/My Drive/unet/data.py:124: UserWarning: data/membrane/test/17_predict.png is a low contrast image\n",
            "  io.imsave(os.path.join(save_path,\"%d_predict.png\"%i),img)\n",
            "WARNING:root:Lossy conversion from float32 to uint8. Range [0, 1]. Convert image to uint8 prior to saving to suppress this warning.\n",
            "/content/drive/My Drive/unet/data.py:124: UserWarning: data/membrane/test/18_predict.png is a low contrast image\n",
            "  io.imsave(os.path.join(save_path,\"%d_predict.png\"%i),img)\n",
            "WARNING:root:Lossy conversion from float32 to uint8. Range [0, 1]. Convert image to uint8 prior to saving to suppress this warning.\n",
            "/content/drive/My Drive/unet/data.py:124: UserWarning: data/membrane/test/19_predict.png is a low contrast image\n",
            "  io.imsave(os.path.join(save_path,\"%d_predict.png\"%i),img)\n",
            "WARNING:root:Lossy conversion from float32 to uint8. Range [0, 1]. Convert image to uint8 prior to saving to suppress this warning.\n",
            "/content/drive/My Drive/unet/data.py:124: UserWarning: data/membrane/test/20_predict.png is a low contrast image\n",
            "  io.imsave(os.path.join(save_path,\"%d_predict.png\"%i),img)\n",
            "WARNING:root:Lossy conversion from float32 to uint8. Range [0, 1]. Convert image to uint8 prior to saving to suppress this warning.\n",
            "/content/drive/My Drive/unet/data.py:124: UserWarning: data/membrane/test/21_predict.png is a low contrast image\n",
            "  io.imsave(os.path.join(save_path,\"%d_predict.png\"%i),img)\n",
            "WARNING:root:Lossy conversion from float32 to uint8. Range [0, 1]. Convert image to uint8 prior to saving to suppress this warning.\n",
            "/content/drive/My Drive/unet/data.py:124: UserWarning: data/membrane/test/22_predict.png is a low contrast image\n",
            "  io.imsave(os.path.join(save_path,\"%d_predict.png\"%i),img)\n",
            "WARNING:root:Lossy conversion from float32 to uint8. Range [0, 1]. Convert image to uint8 prior to saving to suppress this warning.\n",
            "/content/drive/My Drive/unet/data.py:124: UserWarning: data/membrane/test/23_predict.png is a low contrast image\n",
            "  io.imsave(os.path.join(save_path,\"%d_predict.png\"%i),img)\n",
            "WARNING:root:Lossy conversion from float32 to uint8. Range [0, 1]. Convert image to uint8 prior to saving to suppress this warning.\n",
            "/content/drive/My Drive/unet/data.py:124: UserWarning: data/membrane/test/24_predict.png is a low contrast image\n",
            "  io.imsave(os.path.join(save_path,\"%d_predict.png\"%i),img)\n",
            "WARNING:root:Lossy conversion from float32 to uint8. Range [0, 1]. Convert image to uint8 prior to saving to suppress this warning.\n",
            "/content/drive/My Drive/unet/data.py:124: UserWarning: data/membrane/test/25_predict.png is a low contrast image\n",
            "  io.imsave(os.path.join(save_path,\"%d_predict.png\"%i),img)\n",
            "WARNING:root:Lossy conversion from float32 to uint8. Range [0, 1]. Convert image to uint8 prior to saving to suppress this warning.\n",
            "/content/drive/My Drive/unet/data.py:124: UserWarning: data/membrane/test/26_predict.png is a low contrast image\n",
            "  io.imsave(os.path.join(save_path,\"%d_predict.png\"%i),img)\n",
            "WARNING:root:Lossy conversion from float32 to uint8. Range [0, 1]. Convert image to uint8 prior to saving to suppress this warning.\n",
            "/content/drive/My Drive/unet/data.py:124: UserWarning: data/membrane/test/27_predict.png is a low contrast image\n",
            "  io.imsave(os.path.join(save_path,\"%d_predict.png\"%i),img)\n",
            "WARNING:root:Lossy conversion from float32 to uint8. Range [0, 1]. Convert image to uint8 prior to saving to suppress this warning.\n",
            "/content/drive/My Drive/unet/data.py:124: UserWarning: data/membrane/test/28_predict.png is a low contrast image\n",
            "  io.imsave(os.path.join(save_path,\"%d_predict.png\"%i),img)\n",
            "WARNING:root:Lossy conversion from float32 to uint8. Range [0, 1]. Convert image to uint8 prior to saving to suppress this warning.\n",
            "/content/drive/My Drive/unet/data.py:124: UserWarning: data/membrane/test/29_predict.png is a low contrast image\n",
            "  io.imsave(os.path.join(save_path,\"%d_predict.png\"%i),img)\n",
            "WARNING:root:Lossy conversion from float32 to uint8. Range [0, 1]. Convert image to uint8 prior to saving to suppress this warning.\n"
          ]
        }
      ]
    },
    {
      "cell_type": "code",
      "source": [
        "#Training\n",
        "from model import *\n",
        "from data import *\n",
        "\n",
        "data_gen_args = dict(rotation_range=0.2,\n",
        "                     width_shift_range=0.05,\n",
        "                     height_shift_range=0.05,\n",
        "                     shear_range=0.05,\n",
        "                     zoom_range=0.05,\n",
        "                     horizontal_flip=True,\n",
        "                     fill_mode='nearest')\n",
        "\n",
        "myGene = trainGenerator(20,\n",
        "                        'data/membrane/train',\n",
        "                        'image',\n",
        "                        'label',\n",
        "                        data_gen_args,\n",
        "                        save_to_dir = None)\n",
        "\n",
        "model = unet()\n",
        "model_checkpoint = ModelCheckpoint('unet_salt.hdf5',\n",
        "                                   monitor='loss',\n",
        "                                   verbose=1,\n",
        "                                   save_best_only=True)\n",
        "\n",
        "model.fit_generator(myGene,\n",
        "                    steps_per_epoch=10,\n",
        "                    epochs=5,\n",
        "                    callbacks=[model_checkpoint])"
      ],
      "metadata": {
        "colab": {
          "base_uri": "https://localhost:8080/"
        },
        "id": "s0zO033zMXMf",
        "outputId": "5e3ad4ed-7d2c-4842-9a51-094480680e18"
      },
      "execution_count": 51,
      "outputs": [
        {
          "output_type": "stream",
          "name": "stderr",
          "text": [
            "/usr/local/lib/python3.7/dist-packages/keras/optimizer_v2/adam.py:105: UserWarning: The `lr` argument is deprecated, use `learning_rate` instead.\n",
            "  super(Adam, self).__init__(name, **kwargs)\n",
            "/usr/local/lib/python3.7/dist-packages/ipykernel_launcher.py:29: UserWarning: `Model.fit_generator` is deprecated and will be removed in a future version. Please use `Model.fit`, which supports generators.\n"
          ]
        },
        {
          "output_type": "stream",
          "name": "stdout",
          "text": [
            "Found 30 images belonging to 1 classes.\n",
            "Found 30 images belonging to 1 classes.\n",
            "Epoch 1/5\n",
            "10/10 [==============================] - ETA: 0s - loss: 0.6890 - accuracy: 0.7139  \n",
            "Epoch 00001: loss improved from inf to 0.68898, saving model to unet_salt.hdf5\n",
            "10/10 [==============================] - 1122s 107s/step - loss: 0.6890 - accuracy: 0.7139\n",
            "Epoch 2/5\n",
            "10/10 [==============================] - ETA: 0s - loss: 0.7712 - accuracy: 0.7192  \n",
            "Epoch 00002: loss did not improve from 0.68898\n",
            "10/10 [==============================] - 1125s 108s/step - loss: 0.7712 - accuracy: 0.7192\n",
            "Epoch 3/5\n",
            "10/10 [==============================] - ETA: 0s - loss: 0.5270 - accuracy: 0.7817  \n",
            "Epoch 00003: loss improved from 0.68898 to 0.52703, saving model to unet_salt.hdf5\n",
            "10/10 [==============================] - 1125s 109s/step - loss: 0.5270 - accuracy: 0.7817\n",
            "Epoch 4/5\n",
            "10/10 [==============================] - ETA: 0s - loss: 0.5011 - accuracy: 0.7811  \n",
            "Epoch 00004: loss improved from 0.52703 to 0.50106, saving model to unet_salt.hdf5\n",
            "10/10 [==============================] - 1123s 108s/step - loss: 0.5011 - accuracy: 0.7811\n",
            "Epoch 5/5\n",
            "10/10 [==============================] - ETA: 0s - loss: 0.4731 - accuracy: 0.7813  \n",
            "Epoch 00005: loss improved from 0.50106 to 0.47306, saving model to unet_salt.hdf5\n",
            "10/10 [==============================] - 1119s 108s/step - loss: 0.4731 - accuracy: 0.7813\n"
          ]
        },
        {
          "output_type": "execute_result",
          "data": {
            "text/plain": [
              "<keras.callbacks.History at 0x7fcfab28fa50>"
            ]
          },
          "metadata": {},
          "execution_count": 51
        }
      ]
    },
    {
      "cell_type": "code",
      "source": [
        "#Loading the weights and saving the results\n",
        "gene = testGenerator('data/membrane/test')\n",
        "unet = unet()\n",
        "unet.load_weights('unet_salt.hdf5')\n",
        "pred = model.predict_generator(gene,10,verbose=1)\n",
        "saveResult(\"data/membrane/test\",pred)"
      ],
      "metadata": {
        "colab": {
          "base_uri": "https://localhost:8080/"
        },
        "id": "yPdfNz4qRk_N",
        "outputId": "6093124d-6891-41b7-881c-9eb4f065b75c"
      },
      "execution_count": 53,
      "outputs": [
        {
          "output_type": "stream",
          "name": "stderr",
          "text": [
            "/usr/local/lib/python3.7/dist-packages/keras/optimizer_v2/adam.py:105: UserWarning: The `lr` argument is deprecated, use `learning_rate` instead.\n",
            "  super(Adam, self).__init__(name, **kwargs)\n",
            "/usr/local/lib/python3.7/dist-packages/ipykernel_launcher.py:5: UserWarning: `Model.predict_generator` is deprecated and will be removed in a future version. Please use `Model.predict`, which supports generators.\n",
            "  \"\"\"\n"
          ]
        },
        {
          "output_type": "stream",
          "name": "stdout",
          "text": [
            "10/10 [==============================] - 20s 2s/step\n"
          ]
        },
        {
          "output_type": "stream",
          "name": "stderr",
          "text": [
            "WARNING:root:Lossy conversion from float32 to uint8. Range [0, 1]. Convert image to uint8 prior to saving to suppress this warning.\n",
            "WARNING:root:Lossy conversion from float32 to uint8. Range [0, 1]. Convert image to uint8 prior to saving to suppress this warning.\n",
            "WARNING:root:Lossy conversion from float32 to uint8. Range [0, 1]. Convert image to uint8 prior to saving to suppress this warning.\n",
            "WARNING:root:Lossy conversion from float32 to uint8. Range [0, 1]. Convert image to uint8 prior to saving to suppress this warning.\n",
            "WARNING:root:Lossy conversion from float32 to uint8. Range [0, 1]. Convert image to uint8 prior to saving to suppress this warning.\n",
            "WARNING:root:Lossy conversion from float32 to uint8. Range [0, 1]. Convert image to uint8 prior to saving to suppress this warning.\n",
            "WARNING:root:Lossy conversion from float32 to uint8. Range [0, 1]. Convert image to uint8 prior to saving to suppress this warning.\n",
            "WARNING:root:Lossy conversion from float32 to uint8. Range [0, 1]. Convert image to uint8 prior to saving to suppress this warning.\n",
            "WARNING:root:Lossy conversion from float32 to uint8. Range [0, 1]. Convert image to uint8 prior to saving to suppress this warning.\n",
            "WARNING:root:Lossy conversion from float32 to uint8. Range [0, 1]. Convert image to uint8 prior to saving to suppress this warning.\n"
          ]
        }
      ]
    },
    {
      "cell_type": "markdown",
      "source": [
        "Problem 2: Paper and Code reading"
      ],
      "metadata": {
        "id": "zzdvo7rdy_vG"
      }
    }
  ]
}