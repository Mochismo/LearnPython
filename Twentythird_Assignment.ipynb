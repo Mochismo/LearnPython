{
  "nbformat": 4,
  "nbformat_minor": 0,
  "metadata": {
    "colab": {
      "name": "Twentythird_Assignment.ipynb",
      "provenance": [],
      "mount_file_id": "1JGz28t8AUaeOf8oDRO5TciEbpggI2FN_",
      "authorship_tag": "ABX9TyN0JeW7/w6uU3ILTOV/KNn9",
      "include_colab_link": true
    },
    "kernelspec": {
      "name": "python3",
      "display_name": "Python 3"
    },
    "language_info": {
      "name": "python"
    }
  },
  "cells": [
    {
      "cell_type": "markdown",
      "metadata": {
        "id": "view-in-github",
        "colab_type": "text"
      },
      "source": [
        "<a href=\"https://colab.research.google.com/github/Mochismo/LearnPython/blob/main/Twentythird_Assignment.ipynb\" target=\"_parent\"><img src=\"https://colab.research.google.com/assets/colab-badge.svg\" alt=\"Open In Colab\"/></a>"
      ]
    },
    {
      "cell_type": "code",
      "metadata": {
        "id": "CwxZn1dMxoqw"
      },
      "source": [
        "class ScratchDecesionTreeClassifierDepth1():\n",
        "    \"\"\"\n",
        "    Depth 1 decision tree classifier scratch implementation\n",
        "    Parameters\n",
        "    ----------\n",
        "    verbose : bool\n",
        "      True to output the learning process\n",
        "    \"\"\"\n",
        "    def __init__(self, verbose=False):\n",
        "        # Record hyperparameters as attributes\n",
        "        self.verbose = verbose\n",
        "    def fit(self, X, y):\n",
        "        \"\"\"\n",
        "        Learn the decision tree classifier\n",
        "        Parameters\n",
        "        ----------\n",
        "        X : The following forms of ndarray, shape (n_samples, n_features)\n",
        "            Features of training data\n",
        "        y : The following form of ndarray, shape (n_samples,)\n",
        "            Correct answer value of training data\n",
        "        \"\"\"\n",
        "        if self.verbose:\n",
        "            #Output the learning process when #verbose is set to True\n",
        "            print()\n",
        "        pass\n",
        "    def predict(self, X):\n",
        "        \"\"\"\n",
        "        Estimate the label using a decision tree classifier\n",
        "        \"\"\"\n",
        "        pass\n",
        "        return"
      ],
      "execution_count": 66,
      "outputs": []
    },
    {
      "cell_type": "code",
      "metadata": {
        "id": "DvEZ49V28g6l"
      },
      "source": [
        "# import the dependencies\n",
        "import numpy as np\n",
        "import scipy.stats as stats\n",
        "from sklearn.datasets import load_iris\n",
        "from sklearn.model_selection import train_test_split\n",
        "from sklearn.neighbors import KNeighborsClassifier\n",
        "from sklearn.metrics import confusion_matrix\n",
        "from sklearn.metrics import precision_score\n",
        "from sklearn.metrics import recall_score\n",
        "from sklearn.metrics import f1_score\n",
        "import matplotlib.pyplot as plt\n",
        "from matplotlib.colors import ListedColormap\n",
        "import matplotlib.patches as mpatches"
      ],
      "execution_count": 67,
      "outputs": []
    },
    {
      "cell_type": "code",
      "metadata": {
        "id": "BtXSFQ9N98S_"
      },
      "source": [
        "def gini_impurity(n_t, c_n):\n",
        "  a = 0\n",
        "  for i in c_n:\n",
        "    a += (i/n_t)**2\n",
        "  gini = 1-a\n",
        "  return gini  "
      ],
      "execution_count": 68,
      "outputs": []
    },
    {
      "cell_type": "code",
      "metadata": {
        "colab": {
          "base_uri": "https://localhost:8080/"
        },
        "id": "slHI2JdU-Xbx",
        "outputId": "1447fde6-a3c7-41e2-ede5-aee167792e8a"
      },
      "source": [
        "gini_impurity(30, [15.0, 15.0])"
      ],
      "execution_count": 69,
      "outputs": [
        {
          "output_type": "execute_result",
          "data": {
            "text/plain": [
              "0.5"
            ]
          },
          "metadata": {},
          "execution_count": 69
        }
      ]
    },
    {
      "cell_type": "code",
      "metadata": {
        "colab": {
          "base_uri": "https://localhost:8080/"
        },
        "id": "cF0xU_9r-hCT",
        "outputId": "5674665c-6fc1-498b-dba3-8c8176aa7042"
      },
      "source": [
        "gini_impurity(45, [15, 15, 15])"
      ],
      "execution_count": 70,
      "outputs": [
        {
          "output_type": "execute_result",
          "data": {
            "text/plain": [
              "0.6666666666666667"
            ]
          },
          "metadata": {},
          "execution_count": 70
        }
      ]
    },
    {
      "cell_type": "code",
      "metadata": {
        "colab": {
          "base_uri": "https://localhost:8080/"
        },
        "id": "T2tEPnyH-q7G",
        "outputId": "3d28459e-fcf8-4511-a4ac-2220531b02ae"
      },
      "source": [
        "gini_impurity(30, [18, 12])"
      ],
      "execution_count": 71,
      "outputs": [
        {
          "output_type": "execute_result",
          "data": {
            "text/plain": [
              "0.48"
            ]
          },
          "metadata": {},
          "execution_count": 71
        }
      ]
    },
    {
      "cell_type": "code",
      "metadata": {
        "colab": {
          "base_uri": "https://localhost:8080/"
        },
        "id": "U3yaGfZi-wnv",
        "outputId": "f0bbd776-4ea3-49a8-b936-cc2038598de9"
      },
      "source": [
        "gini_impurity(30, [30, 0])"
      ],
      "execution_count": 72,
      "outputs": [
        {
          "output_type": "execute_result",
          "data": {
            "text/plain": [
              "0.0"
            ]
          },
          "metadata": {},
          "execution_count": 72
        }
      ]
    },
    {
      "cell_type": "code",
      "metadata": {
        "id": "dXEoWHSCAClN"
      },
      "source": [
        "def information_gain(ln_class, rn_class):\n",
        "  n1 = sum(ln_class)\n",
        "  n2 = sum(rn_class)\n",
        "  p_sample = n1 + n2\n",
        "  p_class = ln_class + rn_class\n",
        "  p_gini = gini_impurity(p_sample, p_class)\n",
        "  gini_n1 = gini_impurity(n1, ln_class)\n",
        "  gini_n2 = gini_impurity(n2, rn_class)\n",
        "  IG = p_gini- ((n1/p_sample)*gini_n1) - ((n2/p_sample)*gini_n2) \n",
        "  return IG"
      ],
      "execution_count": 73,
      "outputs": []
    },
    {
      "cell_type": "code",
      "metadata": {
        "colab": {
          "base_uri": "https://localhost:8080/"
        },
        "id": "0iXlCqcnHjlr",
        "outputId": "142c138c-b2e0-475e-da0c-7ab88f233af8"
      },
      "source": [
        "information_gain(np.array([10,30]), np.array([20,5]))"
      ],
      "execution_count": 74,
      "outputs": [
        {
          "output_type": "execute_result",
          "data": {
            "text/plain": [
              "0.14319526627218937"
            ]
          },
          "metadata": {},
          "execution_count": 74
        }
      ]
    },
    {
      "cell_type": "markdown",
      "metadata": {
        "id": "8sBT-4sC5BgT"
      },
      "source": [
        "# Decission Tree From Scratch"
      ]
    },
    {
      "cell_type": "code",
      "metadata": {
        "id": "-fn3P1wJ2nYT"
      },
      "source": [
        "class ScratchDecesionTreeClassifier():\n",
        "  def _gini_impurity(self, X, y):\n",
        "    a = 0 \n",
        "    for i in np.unique(y):\n",
        "      a += (len(y[y[:, 0]==i]) / len(X)) ** 2 \n",
        "    self.gini = 1 - a\n",
        "    return self.gini\n",
        "\n",
        "  def _info_gain(self, X, y):\n",
        "    n = len(X)\n",
        "    IG = self._gini_impurity(X, y) - len(self.X_left) / n * self._gini_impurity(self.X_left, self.y_left)- len(self.X_right) / n * self._gini_impurity(self.X_right, self.y_right)\n",
        "    return IG \n",
        "\n",
        "  def fit(self, X, y):\n",
        "    self.list_info_gain_max = []\n",
        "    self.threshold_max = []\n",
        "\n",
        "    for i in range(X.shape[1]):\n",
        "      self.list_info_gain = []\n",
        "      self.Threshold = []\n",
        "\n",
        "      for j in np.unique(X[:,i]):\n",
        "        self.Threshold.append(j)\n",
        "        self.X_right = X[X[:,i] >= j]\n",
        "        self.y_right = y[X[:,i] >= j] \n",
        "        self.X_left = X[X[:,i] < j]\n",
        "        self.y_left = y[X[:,i] < j]\n",
        "        self.list_info_gain_max.append(self._info_gain(X, y))\n",
        "\n",
        "      self.list_info_gain_max.append(max(self.list_info_gain))\n",
        "      self.ind = self.list_info_gain.index(max(self.list_info_gain))\n",
        "      self.threshold_max.append(self.Threshold[self.ind])\n",
        "\n",
        "    self.ind2 = self.list_info_gain_max.index(max(self.list_info_gain_max))\n",
        "    self.decision_threshold = self.threshold_max[self.ind2]\n",
        "    self.Greater_label = stats.mode(y[X[: , self.ind2] >= self.dicision_threshold]).mode\n",
        "    self.Less_label = stats.mode(y[X[: , self.ind2] < self.dicision_threshold]).mode\n",
        "\n",
        "  def predict(self,X):\n",
        "    self.y_pred = np.zeros(X.shape[0]).reshape(X.shape[0], 1)\n",
        "    self.y_pred[X[:, self.ind2] >= self.decision_threshold] = self.Greater_label\n",
        "    self.y_pred[X[:, self.ind2] < self.decision_threshold] = self.Less_label\n",
        "    return self.y_pred\n",
        "  \n",
        "\n",
        "\n"
      ],
      "execution_count": 75,
      "outputs": []
    },
    {
      "cell_type": "markdown",
      "metadata": {
        "id": "ORZjDaCm-TFj"
      },
      "source": [
        "# Predict Function"
      ]
    },
    {
      "cell_type": "code",
      "metadata": {
        "id": "lPKTq2Qe3hcN"
      },
      "source": [
        "def information_gain(ln_class, rn_class):\n",
        "  n1 = sum(ln_class)\n",
        "  n2 = sum(rn_class)\n",
        "  p_sample = n1 + n2 \n",
        "  p_class = ln_class + rn_class"
      ],
      "execution_count": 76,
      "outputs": []
    },
    {
      "cell_type": "code",
      "metadata": {
        "colab": {
          "base_uri": "https://localhost:8080/"
        },
        "id": "LZZj2Sp13sZn",
        "outputId": "3de94189-6c88-4873-93d5-5dcb03e79c62"
      },
      "source": [
        "iris = load_iris()\n",
        "X = iris.data[50:,:]\n",
        "y = iris.target[50:]\n",
        "X = X[:, [2,3]]\n",
        "y = np.where(y == 1, 1, 0)\n",
        "y = y.reshape(100, 1)\n",
        "iris = np.hstack((y, X))\n",
        "np.unique(iris[:,0])"
      ],
      "execution_count": 77,
      "outputs": [
        {
          "output_type": "execute_result",
          "data": {
            "text/plain": [
              "array([0., 1.])"
            ]
          },
          "metadata": {},
          "execution_count": 77
        }
      ]
    },
    {
      "cell_type": "code",
      "metadata": {
        "colab": {
          "base_uri": "https://localhost:8080/",
          "height": 299
        },
        "id": "iwwQmGES3wXk",
        "outputId": "efad4de8-285c-4dff-dbd8-df4221dc5f75"
      },
      "source": [
        "ScDT = ScratchDecesionTreeClassifier()\n",
        "ScDT.fit(X, y)"
      ],
      "execution_count": 78,
      "outputs": [
        {
          "output_type": "error",
          "ename": "ValueError",
          "evalue": "ignored",
          "traceback": [
            "\u001b[0;31m---------------------------------------------------------------------------\u001b[0m",
            "\u001b[0;31mValueError\u001b[0m                                Traceback (most recent call last)",
            "\u001b[0;32m<ipython-input-78-6e636b494e69>\u001b[0m in \u001b[0;36m<module>\u001b[0;34m()\u001b[0m\n\u001b[1;32m      1\u001b[0m \u001b[0mScDT\u001b[0m \u001b[0;34m=\u001b[0m \u001b[0mScratchDecesionTreeClassifier\u001b[0m\u001b[0;34m(\u001b[0m\u001b[0;34m)\u001b[0m\u001b[0;34m\u001b[0m\u001b[0;34m\u001b[0m\u001b[0m\n\u001b[0;32m----> 2\u001b[0;31m \u001b[0mScDT\u001b[0m\u001b[0;34m.\u001b[0m\u001b[0mfit\u001b[0m\u001b[0;34m(\u001b[0m\u001b[0mX\u001b[0m\u001b[0;34m,\u001b[0m \u001b[0my\u001b[0m\u001b[0;34m)\u001b[0m\u001b[0;34m\u001b[0m\u001b[0;34m\u001b[0m\u001b[0m\n\u001b[0m",
            "\u001b[0;32m<ipython-input-75-cc2783c439a7>\u001b[0m in \u001b[0;36mfit\u001b[0;34m(self, X, y)\u001b[0m\n\u001b[1;32m     28\u001b[0m         \u001b[0mself\u001b[0m\u001b[0;34m.\u001b[0m\u001b[0mlist_info_gain_max\u001b[0m\u001b[0;34m.\u001b[0m\u001b[0mappend\u001b[0m\u001b[0;34m(\u001b[0m\u001b[0mself\u001b[0m\u001b[0;34m.\u001b[0m\u001b[0m_info_gain\u001b[0m\u001b[0;34m(\u001b[0m\u001b[0mX\u001b[0m\u001b[0;34m,\u001b[0m \u001b[0my\u001b[0m\u001b[0;34m)\u001b[0m\u001b[0;34m)\u001b[0m\u001b[0;34m\u001b[0m\u001b[0;34m\u001b[0m\u001b[0m\n\u001b[1;32m     29\u001b[0m \u001b[0;34m\u001b[0m\u001b[0m\n\u001b[0;32m---> 30\u001b[0;31m       \u001b[0mself\u001b[0m\u001b[0;34m.\u001b[0m\u001b[0mlist_info_gain_max\u001b[0m\u001b[0;34m.\u001b[0m\u001b[0mappend\u001b[0m\u001b[0;34m(\u001b[0m\u001b[0mmax\u001b[0m\u001b[0;34m(\u001b[0m\u001b[0mself\u001b[0m\u001b[0;34m.\u001b[0m\u001b[0mlist_info_gain\u001b[0m\u001b[0;34m)\u001b[0m\u001b[0;34m)\u001b[0m\u001b[0;34m\u001b[0m\u001b[0;34m\u001b[0m\u001b[0m\n\u001b[0m\u001b[1;32m     31\u001b[0m       \u001b[0mself\u001b[0m\u001b[0;34m.\u001b[0m\u001b[0mind\u001b[0m \u001b[0;34m=\u001b[0m \u001b[0mself\u001b[0m\u001b[0;34m.\u001b[0m\u001b[0mlist_info_gain\u001b[0m\u001b[0;34m.\u001b[0m\u001b[0mindex\u001b[0m\u001b[0;34m(\u001b[0m\u001b[0mmax\u001b[0m\u001b[0;34m(\u001b[0m\u001b[0mself\u001b[0m\u001b[0;34m.\u001b[0m\u001b[0mlist_info_gain\u001b[0m\u001b[0;34m)\u001b[0m\u001b[0;34m)\u001b[0m\u001b[0;34m\u001b[0m\u001b[0;34m\u001b[0m\u001b[0m\n\u001b[1;32m     32\u001b[0m       \u001b[0mself\u001b[0m\u001b[0;34m.\u001b[0m\u001b[0mthreshold_max\u001b[0m\u001b[0;34m.\u001b[0m\u001b[0mappend\u001b[0m\u001b[0;34m(\u001b[0m\u001b[0mself\u001b[0m\u001b[0;34m.\u001b[0m\u001b[0mThreshold\u001b[0m\u001b[0;34m[\u001b[0m\u001b[0mself\u001b[0m\u001b[0;34m.\u001b[0m\u001b[0mind\u001b[0m\u001b[0;34m]\u001b[0m\u001b[0;34m)\u001b[0m\u001b[0;34m\u001b[0m\u001b[0;34m\u001b[0m\u001b[0m\n",
            "\u001b[0;31mValueError\u001b[0m: max() arg is an empty sequence"
          ]
        }
      ]
    },
    {
      "cell_type": "code",
      "metadata": {
        "id": "bbubz5Jv3zK4"
      },
      "source": [
        "ScDT.predict(X)"
      ],
      "execution_count": null,
      "outputs": []
    },
    {
      "cell_type": "code",
      "metadata": {
        "id": "lKtLrP0L33yY"
      },
      "source": [
        "(X_train, X_test, y_train, y_test) = train_test_split(X, y, test_size=0.3, random_state=0)\n",
        "ScDT = ScratchDecesionTreeClassifier()\n",
        "ScDT.fit(X_train, y_train)\n",
        "y_pred = ScDT.predict(X_test)"
      ],
      "execution_count": null,
      "outputs": []
    },
    {
      "cell_type": "code",
      "metadata": {
        "id": "a5rLwWKu38qA"
      },
      "source": [
        "print(\"{}\".format(precision_score(y_test, y_pred)))\n",
        "print(\"{}\".format(recall_score(y_test, y_pred)))\n",
        "print(\"{}\".format(f1_score(y_test, y_pred)))\n",
        "print(confusion_matrix(y_test, y_pred))"
      ],
      "execution_count": null,
      "outputs": []
    },
    {
      "cell_type": "markdown",
      "metadata": {
        "id": "cZrYnX7H4AjU"
      },
      "source": [
        "## Decision region"
      ]
    },
    {
      "cell_type": "code",
      "metadata": {
        "id": "4KlkUd2h4ET9"
      },
      "source": [
        "def decision_region(X, y, model, step=0.01, title='decision tree', xlabel='xlabel', ylabel='ylabel', target_names=['versicolor','virginica']):\n",
        "  #setting\n",
        "  scatter_color = ['red', 'blue']\n",
        "  contourf_color = ['pink', 'skyblue']\n",
        "  n_class = 2\n",
        "  # pred\n",
        "  mesh_f0, mesh_f1 = np.meshgrid(np.arange(np.min(X[:,0])-0.5, np.max(X[:,0])+0.5, step), np.arange(np.min(X[:,1])-0.5, np.max(X[:,1])+0.5, step))\n",
        "  mesh = np.c_[np.ravel(mesh_f0), np.ravel(mesh_f1)]\n",
        "  y_pred = model.predict(mesh).reshape(mesh_f0.shape)\n",
        "\n",
        "  #plot\n",
        "  plt.title(title)\n",
        "  plt.xlabel(xlabel)\n",
        "  plt.ylabel(ylabel)\n",
        "  plt.contourf(mesh_f0, mesh_f1, y_pred, n_class-1, cmap=ListedColormap(contourf_color))\n",
        "  plt.contour(mesh_f0, mesh_f1, y_pred, n_class-1, colors ='y', linewidth =3, alpa =0.5)\n",
        "  for i, target in enumerate(set(y)):\n",
        "    plt.scatter(X[y==target][:, 0], X[y==target][:,1], s=80, color = scatter_color[i], label=target_names[i], marker='o')\n",
        "  patches = [mpatches.Patch(color=scatter_color[i], label = target_names[i]) for i in range(n_class)]\n",
        "  plt.legend(handles=patches)\n",
        "  plt.legend()\n",
        "  plt.show()"
      ],
      "execution_count": null,
      "outputs": []
    },
    {
      "cell_type": "code",
      "metadata": {
        "id": "jM3UFJEK4Q_n"
      },
      "source": [
        "decision_region(X = X, y= [:,0], model = ScDT, step = 0.01, title='Decision_tree', xlabel='xlabel', ylabel = 'ylabel')"
      ],
      "execution_count": null,
      "outputs": []
    },
    {
      "cell_type": "code",
      "metadata": {
        "id": "Nu-cqG-A4cj2"
      },
      "source": [
        "decision_region(X = X, y= [:,0], model = ScDT, step = 0.01, title='Decision_tree', xlabel='xlabel', ylabel = 'ylabel')\n"
      ],
      "execution_count": null,
      "outputs": []
    }
  ]
}