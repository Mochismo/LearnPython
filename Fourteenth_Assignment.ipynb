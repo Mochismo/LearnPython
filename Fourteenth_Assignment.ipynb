{
  "nbformat": 4,
  "nbformat_minor": 0,
  "metadata": {
    "colab": {
      "name": "Fourteenth_Assignment.ipynb",
      "provenance": [],
      "collapsed_sections": [],
      "authorship_tag": "ABX9TyO5eO/IlG1BALcp5pgnCleE",
      "include_colab_link": true
    },
    "kernelspec": {
      "name": "python3",
      "display_name": "Python 3"
    },
    "language_info": {
      "name": "python"
    }
  },
  "cells": [
    {
      "cell_type": "markdown",
      "metadata": {
        "id": "view-in-github",
        "colab_type": "text"
      },
      "source": [
        "<a href=\"https://colab.research.google.com/github/Mochismo/LearnPython/blob/main/Fourteenth_Assignment.ipynb\" target=\"_parent\"><img src=\"https://colab.research.google.com/assets/colab-badge.svg\" alt=\"Open In Colab\"/></a>"
      ]
    },
    {
      "cell_type": "code",
      "metadata": {
        "colab": {
          "base_uri": "https://localhost:8080/",
          "height": 414
        },
        "id": "aKwb3vmbeZg-",
        "outputId": "0f65f4ff-322d-43ab-ec29-ed82d7eddc0e"
      },
      "source": [
        "# Problem 1\n",
        "from sklearn.datasets import load_iris\n",
        "import numpy as np\n",
        "import pandas as pd\n",
        "data = load_iris()\n",
        "X = pd.DataFrame(data.data, columns=data.feature_names)\n",
        "#X = pd.DataFrame(data.data, columns=(['sepal length (cm)', 'petal length (cm)'], low_memory = True))\n",
        "X.head()\n",
        "y = pd.DataFrame(data.target, columns=(['species']))\n",
        "y.head()\n",
        "df = pd.concat([X, y], axis=1)\n",
        "s = df.iloc[:,0] #column sepal length location\n",
        "f = df.iloc[:,2] #column petal length location\n",
        "v = df.iloc[:,4] #column species location\n",
        "df1 = pd.concat([s, f, v], axis=1)\n",
        "a_3 = df1.loc[df1['species'] != 0]# Eiminate sertosa\n",
        "a_3"
      ],
      "execution_count": 41,
      "outputs": [
        {
          "output_type": "execute_result",
          "data": {
            "text/html": [
              "<div>\n",
              "<style scoped>\n",
              "    .dataframe tbody tr th:only-of-type {\n",
              "        vertical-align: middle;\n",
              "    }\n",
              "\n",
              "    .dataframe tbody tr th {\n",
              "        vertical-align: top;\n",
              "    }\n",
              "\n",
              "    .dataframe thead th {\n",
              "        text-align: right;\n",
              "    }\n",
              "</style>\n",
              "<table border=\"1\" class=\"dataframe\">\n",
              "  <thead>\n",
              "    <tr style=\"text-align: right;\">\n",
              "      <th></th>\n",
              "      <th>sepal length (cm)</th>\n",
              "      <th>petal length (cm)</th>\n",
              "      <th>species</th>\n",
              "    </tr>\n",
              "  </thead>\n",
              "  <tbody>\n",
              "    <tr>\n",
              "      <th>50</th>\n",
              "      <td>7.0</td>\n",
              "      <td>4.7</td>\n",
              "      <td>1</td>\n",
              "    </tr>\n",
              "    <tr>\n",
              "      <th>51</th>\n",
              "      <td>6.4</td>\n",
              "      <td>4.5</td>\n",
              "      <td>1</td>\n",
              "    </tr>\n",
              "    <tr>\n",
              "      <th>52</th>\n",
              "      <td>6.9</td>\n",
              "      <td>4.9</td>\n",
              "      <td>1</td>\n",
              "    </tr>\n",
              "    <tr>\n",
              "      <th>53</th>\n",
              "      <td>5.5</td>\n",
              "      <td>4.0</td>\n",
              "      <td>1</td>\n",
              "    </tr>\n",
              "    <tr>\n",
              "      <th>54</th>\n",
              "      <td>6.5</td>\n",
              "      <td>4.6</td>\n",
              "      <td>1</td>\n",
              "    </tr>\n",
              "    <tr>\n",
              "      <th>...</th>\n",
              "      <td>...</td>\n",
              "      <td>...</td>\n",
              "      <td>...</td>\n",
              "    </tr>\n",
              "    <tr>\n",
              "      <th>145</th>\n",
              "      <td>6.7</td>\n",
              "      <td>5.2</td>\n",
              "      <td>2</td>\n",
              "    </tr>\n",
              "    <tr>\n",
              "      <th>146</th>\n",
              "      <td>6.3</td>\n",
              "      <td>5.0</td>\n",
              "      <td>2</td>\n",
              "    </tr>\n",
              "    <tr>\n",
              "      <th>147</th>\n",
              "      <td>6.5</td>\n",
              "      <td>5.2</td>\n",
              "      <td>2</td>\n",
              "    </tr>\n",
              "    <tr>\n",
              "      <th>148</th>\n",
              "      <td>6.2</td>\n",
              "      <td>5.4</td>\n",
              "      <td>2</td>\n",
              "    </tr>\n",
              "    <tr>\n",
              "      <th>149</th>\n",
              "      <td>5.9</td>\n",
              "      <td>5.1</td>\n",
              "      <td>2</td>\n",
              "    </tr>\n",
              "  </tbody>\n",
              "</table>\n",
              "<p>100 rows × 3 columns</p>\n",
              "</div>"
            ],
            "text/plain": [
              "     sepal length (cm)  petal length (cm)  species\n",
              "50                 7.0                4.7        1\n",
              "51                 6.4                4.5        1\n",
              "52                 6.9                4.9        1\n",
              "53                 5.5                4.0        1\n",
              "54                 6.5                4.6        1\n",
              "..                 ...                ...      ...\n",
              "145                6.7                5.2        2\n",
              "146                6.3                5.0        2\n",
              "147                6.5                5.2        2\n",
              "148                6.2                5.4        2\n",
              "149                5.9                5.1        2\n",
              "\n",
              "[100 rows x 3 columns]"
            ]
          },
          "metadata": {},
          "execution_count": 41
        }
      ]
    },
    {
      "cell_type": "code",
      "metadata": {
        "colab": {
          "base_uri": "https://localhost:8080/",
          "height": 312
        },
        "id": "c8TiSl4xjRhX",
        "outputId": "35bfaadc-f3f8-4f96-db8e-37a9b616c270"
      },
      "source": [
        "# Problem 2(a)\n",
        "import matplotlib.pyplot as plt\n",
        "%matplotlib inline\n",
        "import seaborn as sns\n",
        "colors = ['orange', 'blue']\n",
        "species = [1,2]\n",
        "for i in range(2):\n",
        "  x = a_3[a_3['species']== species[i]]\n",
        "  plt.scatter(x['sepal length (cm)'], x['petal length (cm)'], c=colors[i], label= species[i])\n",
        "plt.xlabel(\"sepal length (cm)\")\n",
        "plt.ylabel(\"petal length (cm)\")\n",
        "plt.title('Scatter Plot')\n",
        "plt.legend() "
      ],
      "execution_count": 42,
      "outputs": [
        {
          "output_type": "execute_result",
          "data": {
            "text/plain": [
              "<matplotlib.legend.Legend at 0x7f559e87af50>"
            ]
          },
          "metadata": {},
          "execution_count": 42
        },
        {
          "output_type": "display_data",
          "data": {
            "image/png": "[encoded data removed]",
            "text/plain": [
              "<Figure size 432x288 with 1 Axes>"
            ]
          },
          "metadata": {
            "needs_background": "light"
          }
        }
      ]
    },
    {
      "cell_type": "code",
      "metadata": {
        "colab": {
          "base_uri": "https://localhost:8080/",
          "height": 726
        },
        "id": "7PWE52xNrqnG",
        "outputId": "9dc5249d-7526-4dd3-a40a-86c4d4c71110"
      },
      "source": [
        "# Problem 2(b)\n",
        "plt.figure(figsize=(9,5))\n",
        "plt.title('Box Plot for 2 Variables')\n",
        "plt.boxplot(a_3.values,labels=['sepal length (cm)', 'petal length (cm)', 'species'])"
      ],
      "execution_count": 43,
      "outputs": [
        {
          "output_type": "execute_result",
          "data": {
            "text/plain": [
              "{'boxes': [<matplotlib.lines.Line2D at 0x7f559e88a710>,\n",
              "  <matplotlib.lines.Line2D at 0x7f559e89ddd0>,\n",
              "  <matplotlib.lines.Line2D at 0x7f559e8a2e50>],\n",
              " 'caps': [<matplotlib.lines.Line2D at 0x7f559e8f4710>,\n",
              "  <matplotlib.lines.Line2D at 0x7f559e8f4bd0>,\n",
              "  <matplotlib.lines.Line2D at 0x7f559f6a3590>,\n",
              "  <matplotlib.lines.Line2D at 0x7f559f4a6450>,\n",
              "  <matplotlib.lines.Line2D at 0x7f559e91b3d0>,\n",
              "  <matplotlib.lines.Line2D at 0x7f559e91bc50>],\n",
              " 'fliers': [<matplotlib.lines.Line2D at 0x7f559e8e4b90>,\n",
              "  <matplotlib.lines.Line2D at 0x7f559f4b8750>,\n",
              "  <matplotlib.lines.Line2D at 0x7f559e483150>],\n",
              " 'means': [],\n",
              " 'medians': [<matplotlib.lines.Line2D at 0x7f559e8e4490>,\n",
              "  <matplotlib.lines.Line2D at 0x7f559f4a65d0>,\n",
              "  <matplotlib.lines.Line2D at 0x7f559e91b150>],\n",
              " 'whiskers': [<matplotlib.lines.Line2D at 0x7f559e88aad0>,\n",
              "  <matplotlib.lines.Line2D at 0x7f559e8f44d0>,\n",
              "  <matplotlib.lines.Line2D at 0x7f559e89d1d0>,\n",
              "  <matplotlib.lines.Line2D at 0x7f559e89d990>,\n",
              "  <matplotlib.lines.Line2D at 0x7f559e912e50>,\n",
              "  <matplotlib.lines.Line2D at 0x7f559e912c10>]}"
            ]
          },
          "metadata": {},
          "execution_count": 43
        },
        {
          "output_type": "display_data",
          "data": {
            "image/png": "[encoded data removed]",
            "text/plain": [
              "<Figure size 648x360 with 1 Axes>"
            ]
          },
          "metadata": {
            "needs_background": "light"
          }
        }
      ]
    },
    {
      "cell_type": "code",
      "metadata": {
        "colab": {
          "base_uri": "https://localhost:8080/",
          "height": 568
        },
        "id": "OduEKwW7_j_Q",
        "outputId": "20a16901-e85d-43f5-a5e1-d531901991db"
      },
      "source": [
        "# Problem 2(c)\n",
        "plt.figure(figsize=(7,7))\n",
        "plt.title('Violin Plot')\n",
        "plt.violinplot(a_3.values,showmedians=True)"
      ],
      "execution_count": 44,
      "outputs": [
        {
          "output_type": "execute_result",
          "data": {
            "text/plain": [
              "{'bodies': [<matplotlib.collections.PolyCollection at 0x7f559e682f90>,\n",
              "  <matplotlib.collections.PolyCollection at 0x7f559e541410>,\n",
              "  <matplotlib.collections.PolyCollection at 0x7f559e541750>],\n",
              " 'cbars': <matplotlib.collections.LineCollection at 0x7f559e541510>,\n",
              " 'cmaxes': <matplotlib.collections.LineCollection at 0x7f559e682e90>,\n",
              " 'cmedians': <matplotlib.collections.LineCollection at 0x7f559e541d10>,\n",
              " 'cmins': <matplotlib.collections.LineCollection at 0x7f559e541850>}"
            ]
          },
          "metadata": {},
          "execution_count": 44
        },
        {
          "output_type": "display_data",
          "data": {
            "image/png": "[encoded data removed]",
            "text/plain": [
              "<Figure size 504x504 with 1 Axes>"
            ]
          },
          "metadata": {
            "needs_background": "light"
          }
        }
      ]
    },
    {
      "cell_type": "code",
      "metadata": {
        "id": "lludv6z1LQWq"
      },
      "source": [
        "# Problem 3\n",
        "from sklearn.model_selection import train_test_split\n",
        "# train -75%\n",
        "# test -25%\n",
        "X = a_3.drop(columns=['species'])\n",
        "Y = a_3['species']\n",
        "x_train, x_test, y_train, y_test = train_test_split(X,Y, test_size = 0.25, random_state=42)\n"
      ],
      "execution_count": 45,
      "outputs": []
    },
    {
      "cell_type": "code",
      "metadata": {
        "colab": {
          "base_uri": "https://localhost:8080/"
        },
        "id": "UZiIXyU0Z1AL",
        "outputId": "a332234a-f2f2-44fc-b211-e54c4f45ba23"
      },
      "source": [
        "# Problem 4\n",
        "from sklearn.preprocessing import StandardScaler\n",
        "data = a_3\n",
        "scaler = StandardScaler()\n",
        "a_4 = scaler.fit(data)\n",
        "StandardScaler()\n",
        "print(scaler.mean_)\n",
        "a_5 = scaler.transform(data)\n",
        "a_5"
      ],
      "execution_count": 79,
      "outputs": [
        {
          "output_type": "stream",
          "name": "stdout",
          "text": [
            "[6.262 4.906 1.5  ]\n"
          ]
        },
        {
          "output_type": "execute_result",
          "data": {
            "text/plain": [
              "array([[ 1.11900931, -0.25077906, -1.        ],\n",
              "       [ 0.20924564, -0.49425387, -1.        ],\n",
              "       [ 0.96738203, -0.00730424, -1.        ],\n",
              "       [-1.15539985, -1.10294091, -1.        ],\n",
              "       [ 0.36087292, -0.37251647, -1.        ],\n",
              "       [-0.8521453 , -0.49425387, -1.        ],\n",
              "       [ 0.05761837, -0.25077906, -1.        ],\n",
              "       [-2.06516352, -1.95510276, -1.        ],\n",
              "       [ 0.5125002 , -0.37251647, -1.        ],\n",
              "       [-1.61028169, -1.22467832, -1.        ],\n",
              "       [-1.91353624, -1.71162795, -1.        ],\n",
              "       [-0.54889074, -0.8594661 , -1.        ],\n",
              "       [-0.39726347, -1.10294091, -1.        ],\n",
              "       [-0.24563619, -0.25077906, -1.        ],\n",
              "       [-1.00377258, -1.58989054, -1.        ],\n",
              "       [ 0.66412748, -0.61599128, -1.        ],\n",
              "       [-1.00377258, -0.49425387, -1.        ],\n",
              "       [-0.70051802, -0.9812035 , -1.        ],\n",
              "       [-0.09400891, -0.49425387, -1.        ],\n",
              "       [-1.00377258, -1.22467832, -1.        ],\n",
              "       [-0.54889074, -0.12904165, -1.        ],\n",
              "       [-0.24563619, -1.10294091, -1.        ],\n",
              "       [ 0.05761837, -0.00730424, -1.        ],\n",
              "       [-0.24563619, -0.25077906, -1.        ],\n",
              "       [ 0.20924564, -0.73772869, -1.        ],\n",
              "       [ 0.5125002 , -0.61599128, -1.        ],\n",
              "       [ 0.81575475, -0.12904165, -1.        ],\n",
              "       [ 0.66412748,  0.11443316, -1.        ],\n",
              "       [-0.39726347, -0.49425387, -1.        ],\n",
              "       [-0.8521453 , -1.71162795, -1.        ],\n",
              "       [-1.15539985, -1.34641572, -1.        ],\n",
              "       [-1.15539985, -1.46815313, -1.        ],\n",
              "       [-0.70051802, -1.22467832, -1.        ],\n",
              "       [-0.39726347,  0.23617057, -1.        ],\n",
              "       [-1.30702713, -0.49425387, -1.        ],\n",
              "       [-0.39726347, -0.49425387, -1.        ],\n",
              "       [ 0.66412748, -0.25077906, -1.        ],\n",
              "       [ 0.05761837, -0.61599128, -1.        ],\n",
              "       [-1.00377258, -0.9812035 , -1.        ],\n",
              "       [-1.15539985, -1.10294091, -1.        ],\n",
              "       [-1.15539985, -0.61599128, -1.        ],\n",
              "       [-0.24563619, -0.37251647, -1.        ],\n",
              "       [-0.70051802, -1.10294091, -1.        ],\n",
              "       [-1.91353624, -1.95510276, -1.        ],\n",
              "       [-1.00377258, -0.8594661 , -1.        ],\n",
              "       [-0.8521453 , -0.8594661 , -1.        ],\n",
              "       [-0.8521453 , -0.8594661 , -1.        ],\n",
              "       [-0.09400891, -0.73772869, -1.        ],\n",
              "       [-1.76190896, -2.32031498, -1.        ],\n",
              "       [-0.8521453 , -0.9812035 , -1.        ],\n",
              "       [ 0.05761837,  1.33180724,  1.        ],\n",
              "       [-0.70051802,  0.23617057,  1.        ],\n",
              "       [ 1.27063658,  1.21006983,  1.        ],\n",
              "       [ 0.05761837,  0.84485761,  1.        ],\n",
              "       [ 0.36087292,  1.08833242,  1.        ],\n",
              "       [ 2.02877297,  2.06223168,  1.        ],\n",
              "       [-2.06516352, -0.49425387,  1.        ],\n",
              "       [ 1.57389114,  1.69701946,  1.        ],\n",
              "       [ 0.66412748,  1.08833242,  1.        ],\n",
              "       [ 1.42226386,  1.45354464,  1.        ],\n",
              "       [ 0.36087292,  0.23617057,  1.        ],\n",
              "       [ 0.20924564,  0.47964538,  1.        ],\n",
              "       [ 0.81575475,  0.7231202 ,  1.        ],\n",
              "       [-0.8521453 ,  0.11443316,  1.        ],\n",
              "       [-0.70051802,  0.23617057,  1.        ],\n",
              "       [ 0.20924564,  0.47964538,  1.        ],\n",
              "       [ 0.36087292,  0.7231202 ,  1.        ],\n",
              "       [ 2.18040025,  2.18396909,  1.        ],\n",
              "       [ 2.18040025,  2.4274439 ,  1.        ],\n",
              "       [-0.39726347,  0.11443316,  1.        ],\n",
              "       [ 0.96738203,  0.96659501,  1.        ],\n",
              "       [-1.00377258, -0.00730424,  1.        ],\n",
              "       [ 2.18040025,  2.18396909,  1.        ],\n",
              "       [ 0.05761837, -0.00730424,  1.        ],\n",
              "       [ 0.66412748,  0.96659501,  1.        ],\n",
              "       [ 1.42226386,  1.33180724,  1.        ],\n",
              "       [-0.09400891, -0.12904165,  1.        ],\n",
              "       [-0.24563619, -0.00730424,  1.        ],\n",
              "       [ 0.20924564,  0.84485761,  1.        ],\n",
              "       [ 1.42226386,  1.08833242,  1.        ],\n",
              "       [ 1.72551842,  1.45354464,  1.        ],\n",
              "       [ 2.4836548 ,  1.81875686,  1.        ],\n",
              "       [ 0.20924564,  0.84485761,  1.        ],\n",
              "       [ 0.05761837,  0.23617057,  1.        ],\n",
              "       [-0.24563619,  0.84485761,  1.        ],\n",
              "       [ 2.18040025,  1.45354464,  1.        ],\n",
              "       [ 0.05761837,  0.84485761,  1.        ],\n",
              "       [ 0.20924564,  0.7231202 ,  1.        ],\n",
              "       [-0.39726347, -0.12904165,  1.        ],\n",
              "       [ 0.96738203,  0.60138279,  1.        ],\n",
              "       [ 0.66412748,  0.84485761,  1.        ],\n",
              "       [ 0.96738203,  0.23617057,  1.        ],\n",
              "       [-0.70051802,  0.23617057,  1.        ],\n",
              "       [ 0.81575475,  1.21006983,  1.        ],\n",
              "       [ 0.66412748,  0.96659501,  1.        ],\n",
              "       [ 0.66412748,  0.35790798,  1.        ],\n",
              "       [ 0.05761837,  0.11443316,  1.        ],\n",
              "       [ 0.36087292,  0.35790798,  1.        ],\n",
              "       [-0.09400891,  0.60138279,  1.        ],\n",
              "       [-0.54889074,  0.23617057,  1.        ]])"
            ]
          },
          "metadata": {},
          "execution_count": 79
        }
      ]
    },
    {
      "cell_type": "code",
      "metadata": {
        "id": "u70bbTGt6z55"
      },
      "source": [
        "# Problem 5\n",
        "# knn - k-nearest neighbours\n",
        "from sklearn.neighbors import KNeighborsClassifier\n",
        "model = KNeighborsClassifier(n_neighbors=5)\n"
      ],
      "execution_count": 47,
      "outputs": []
    },
    {
      "cell_type": "code",
      "metadata": {
        "colab": {
          "base_uri": "https://localhost:8080/"
        },
        "id": "8jpbNNuJ68iU",
        "outputId": "53155e6b-7453-4005-f8f9-237d70b680d9"
      },
      "source": [
        "model.fit(x_train, y_train) "
      ],
      "execution_count": 48,
      "outputs": [
        {
          "output_type": "execute_result",
          "data": {
            "text/plain": [
              "KNeighborsClassifier(algorithm='auto', leaf_size=30, metric='minkowski',\n",
              "                     metric_params=None, n_jobs=None, n_neighbors=5, p=2,\n",
              "                     weights='uniform')"
            ]
          },
          "metadata": {},
          "execution_count": 48
        }
      ]
    },
    {
      "cell_type": "code",
      "metadata": {
        "colab": {
          "base_uri": "https://localhost:8080/"
        },
        "id": "LNFzVSksCRxZ",
        "outputId": "c48d7473-874b-43fb-8a4e-d3339c2f2289"
      },
      "source": [
        "print(model.predict(X))\n",
        "preds = model.predict(X)"
      ],
      "execution_count": 49,
      "outputs": [
        {
          "output_type": "stream",
          "name": "stdout",
          "text": [
            "[1 1 1 1 1 1 1 1 1 1 1 1 1 1 1 1 1 1 1 1 1 1 1 1 1 1 1 2 1 1 1 1 1 2 1 1 1\n",
            " 1 1 1 1 1 1 1 1 1 1 1 1 1 2 2 2 2 2 2 1 2 2 2 2 2 2 2 2 2 2 2 2 2 2 2 2 1\n",
            " 2 2 1 1 2 2 2 2 2 2 2 2 2 2 1 2 2 2 2 2 2 2 2 2 2 2]\n"
          ]
        }
      ]
    },
    {
      "cell_type": "code",
      "metadata": {
        "colab": {
          "base_uri": "https://localhost:8080/"
        },
        "id": "HqkQJHVFH4Hp",
        "outputId": "b83a4e34-0a11-459c-f9e7-0e62dd78db5a"
      },
      "source": [
        "print(model.predict_proba(X))"
      ],
      "execution_count": 82,
      "outputs": [
        {
          "output_type": "stream",
          "name": "stdout",
          "text": [
            "[[9.99996340e-01 3.65966940e-06]\n",
            " [9.99995965e-01 4.03465650e-06]\n",
            " [9.99996945e-01 3.05488691e-06]\n",
            " [9.99993200e-01 6.80032086e-06]\n",
            " [9.99996157e-01 3.84259145e-06]\n",
            " [9.99990241e-01 9.75937662e-06]\n",
            " [9.99995330e-01 4.67039488e-06]\n",
            " [9.99994405e-01 5.59500114e-06]\n",
            " [9.99994851e-01 5.14894518e-06]\n",
            " [9.99994125e-01 5.87465673e-06]\n",
            " [9.99995397e-01 4.60331677e-06]\n",
            " [9.99991019e-01 8.98132291e-06]\n",
            " [9.99995764e-01 4.23632154e-06]\n",
            " [9.99998249e-01 1.75134617e-06]\n",
            " [9.99998773e-01 1.22690912e-06]\n",
            " [9.99996023e-01 3.97670909e-06]\n",
            " [9.99997829e-01 2.17129315e-06]\n",
            " [9.99996340e-01 3.65966940e-06]\n",
            " [9.99991569e-01 8.43092728e-06]\n",
            " [9.99994671e-01 5.32865813e-06]\n",
            " [9.99990241e-01 9.75937662e-06]\n",
            " [9.99994671e-01 5.32865813e-06]\n",
            " [9.99998961e-01 1.03907828e-06]\n",
            " [9.99988703e-01 1.12971455e-05]\n",
            " [9.99972276e-01 2.77244127e-05]\n",
            " [9.99991853e-01 8.14658886e-06]\n",
            " [9.99991853e-01 8.14658886e-06]\n",
            " [9.99994925e-01 5.07499397e-06]\n",
            " [9.99996515e-01 3.48545511e-06]\n",
            " [9.99990570e-01 9.43023582e-06]\n",
            " [9.99991019e-01 8.98132291e-06]\n",
            " [9.99995397e-01 4.60331677e-06]\n",
            " [9.99994925e-01 5.07499397e-06]\n",
            " [9.99996989e-01 3.01101132e-06]\n",
            " [9.99994125e-01 5.87465673e-06]\n",
            " [9.99998188e-01 1.81247339e-06]\n",
            " [9.99997932e-01 2.06793112e-06]\n",
            " [9.99995965e-01 4.03465650e-06]\n",
            " [9.99996464e-01 3.53624414e-06]\n",
            " [9.99994671e-01 5.32865813e-06]\n",
            " [9.99997361e-01 2.63905236e-06]\n",
            " [9.99996632e-01 3.36790534e-06]\n",
            " [9.99996464e-01 3.53624414e-06]\n",
            " [9.99991853e-01 8.14658886e-06]\n",
            " [9.99976049e-01 2.39506157e-05]\n",
            " [9.99995764e-01 4.23632154e-06]\n",
            " [9.99992241e-01 7.75878166e-06]\n",
            " [9.99995330e-01 4.67039488e-06]\n",
            " [9.99995167e-01 4.83340513e-06]\n",
            " [9.99996157e-01 3.84259145e-06]\n",
            " [7.39970080e-01 2.60029920e-01]\n",
            " [8.18263038e-01 1.81736962e-01]\n",
            " [5.61088804e-01 4.38911196e-01]\n",
            " [9.49993194e-01 5.00068062e-02]\n",
            " [7.64528521e-01 2.35471479e-01]\n",
            " [7.61914215e-01 2.38085785e-01]\n",
            " [6.69160926e-01 3.30839074e-01]\n",
            " [9.94942173e-01 5.05782724e-03]\n",
            " [7.73195567e-01 2.26804433e-01]\n",
            " [9.59832513e-01 4.01674873e-02]\n",
            " [9.89839804e-01 1.01601960e-02]\n",
            " [9.15902768e-01 8.40972323e-02]\n",
            " [9.60386564e-01 3.96134360e-02]\n",
            " [6.47220489e-01 3.52779511e-01]\n",
            " [9.88969325e-01 1.10306752e-02]\n",
            " [8.83569442e-01 1.16430558e-01]\n",
            " [7.52953809e-01 2.47046191e-01]\n",
            " [9.37899601e-01 6.21003992e-02]\n",
            " [8.03304144e-01 1.96695856e-01]\n",
            " [9.66715048e-01 3.32849522e-02]\n",
            " [5.33342132e-01 4.66657868e-01]\n",
            " [9.62201042e-01 3.77989577e-02]\n",
            " [4.88236146e-01 5.11763854e-01]\n",
            " [6.47220489e-01 3.52779511e-01]\n",
            " [9.05173701e-01 9.48262991e-02]\n",
            " [8.78457176e-01 1.21542824e-01]\n",
            " [6.39348143e-01 3.60651857e-01]\n",
            " [4.43320929e-01 5.56679071e-01]\n",
            " [7.87433830e-01 2.12566170e-01]\n",
            " [9.92757255e-01 7.24274474e-03]\n",
            " [9.75772765e-01 2.42272355e-02]\n",
            " [9.83233777e-01 1.67662227e-02]\n",
            " [9.69714924e-01 3.02850758e-02]\n",
            " [2.79922958e-01 7.20077042e-01]\n",
            " [7.34364382e-01 2.65635618e-01]\n",
            " [7.87433830e-01 2.12566170e-01]\n",
            " [7.10844678e-01 2.89155322e-01]\n",
            " [8.61949534e-01 1.38050466e-01]\n",
            " [9.31969361e-01 6.80306390e-02]\n",
            " [9.49993194e-01 5.00068062e-02]\n",
            " [8.08668647e-01 1.91331353e-01]\n",
            " [7.27618274e-01 2.72381726e-01]\n",
            " [9.56504117e-01 4.34958834e-02]\n",
            " [9.95181785e-01 4.81821453e-03]\n",
            " [9.03924670e-01 9.60753295e-02]\n",
            " [9.08077828e-01 9.19221721e-02]\n",
            " [9.08077828e-01 9.19221721e-02]\n",
            " [8.96463312e-01 1.03536688e-01]\n",
            " [9.98508501e-01 1.49149863e-03]\n",
            " [9.34997379e-01 6.50026214e-02]\n",
            " [1.50668706e-02 9.84933129e-01]\n",
            " [2.60688619e-01 7.39311381e-01]\n",
            " [3.18560890e-02 9.68143911e-01]\n",
            " [6.43344877e-02 9.35665512e-01]\n",
            " [3.45205478e-02 9.65479452e-01]\n",
            " [3.01727754e-03 9.96982722e-01]\n",
            " [6.84171227e-01 3.15828773e-01]\n",
            " [8.00607241e-03 9.91993928e-01]\n",
            " [3.79235598e-02 9.62076440e-01]\n",
            " [1.60347168e-02 9.83965283e-01]\n",
            " [3.31596764e-01 6.68403236e-01]\n",
            " [1.82246178e-01 8.17753822e-01]\n",
            " [1.13290501e-01 8.86709499e-01]\n",
            " [3.28398227e-01 6.71601773e-01]\n",
            " [2.60688619e-01 7.39311381e-01]\n",
            " [1.82246178e-01 8.17753822e-01]\n",
            " [9.94021407e-02 9.00597859e-01]\n",
            " [2.17764242e-03 9.97822358e-01]\n",
            " [1.02833129e-03 9.98971669e-01]\n",
            " [3.61440945e-01 6.38559055e-01]\n",
            " [5.95106897e-02 9.40489310e-01]\n",
            " [4.04082144e-01 5.95917856e-01]\n",
            " [2.17764242e-03 9.97822358e-01]\n",
            " [4.88236146e-01 5.11763854e-01]\n",
            " [5.42798794e-02 9.45720121e-01]\n",
            " [2.31778812e-02 9.76822119e-01]\n",
            " [5.69519216e-01 4.30480784e-01]\n",
            " [4.63909667e-01 5.36090333e-01]\n",
            " [6.73336229e-02 9.32666377e-01]\n",
            " [4.78956690e-02 9.52104331e-01]\n",
            " [1.76487198e-02 9.82351280e-01]\n",
            " [7.37249860e-03 9.92627501e-01]\n",
            " [6.73336229e-02 9.32666377e-01]\n",
            " [3.10342044e-01 6.89657956e-01]\n",
            " [5.87061464e-02 9.41293854e-01]\n",
            " [2.03729755e-02 9.79627025e-01]\n",
            " [6.43344877e-02 9.35665512e-01]\n",
            " [9.51203047e-02 9.04879695e-01]\n",
            " [5.45459393e-01 4.54540607e-01]\n",
            " [1.63411682e-01 8.36588318e-01]\n",
            " [7.71251111e-02 9.22874889e-01]\n",
            " [3.76161131e-01 6.23838869e-01]\n",
            " [2.60688619e-01 7.39311381e-01]\n",
            " [2.76396456e-02 9.72360354e-01]\n",
            " [5.42798794e-02 9.45720121e-01]\n",
            " [2.73060167e-01 7.26939833e-01]\n",
            " [3.95848746e-01 6.04151254e-01]\n",
            " [2.54130966e-01 7.45869034e-01]\n",
            " [1.21908507e-01 8.78091493e-01]\n",
            " [2.70198016e-01 7.29801984e-01]]\n"
          ]
        }
      ]
    },
    {
      "cell_type": "code",
      "metadata": {
        "colab": {
          "base_uri": "https://localhost:8080/"
        },
        "id": "lJdVB9BB7C7e",
        "outputId": "bb82b9b0-3afc-46ab-d966-8e1ac741714e"
      },
      "source": [
        "# print metric to get performance\n",
        "print(\"Accuracy:\", model.score(x_test, y_test)*100)"
      ],
      "execution_count": 51,
      "outputs": [
        {
          "output_type": "stream",
          "name": "stdout",
          "text": [
            "Accuracy: 80.0\n"
          ]
        }
      ]
    },
    {
      "cell_type": "code",
      "metadata": {
        "colab": {
          "base_uri": "https://localhost:8080/",
          "height": 296
        },
        "id": "cdVpWr73LC0_",
        "outputId": "26fb1a64-3d5d-4d08-f823-4ea445a77c08"
      },
      "source": [
        "# Problem 6\n",
        "# print metric to get performance\n",
        "from sklearn.metrics import precision_score\n",
        "from sklearn import metrics \n",
        "preds = model.predict(x_test)\n",
        "metrics.plot_confusion_matrix(model, x_test, y_test, display_labels=['Negative', 'Positive'])"
      ],
      "execution_count": 52,
      "outputs": [
        {
          "output_type": "execute_result",
          "data": {
            "text/plain": [
              "<sklearn.metrics._plot.confusion_matrix.ConfusionMatrixDisplay at 0x7f559e5070d0>"
            ]
          },
          "metadata": {},
          "execution_count": 52
        },
        {
          "output_type": "display_data",
          "data": {
            "image/png": "[encoded data removed]",
            "text/plain": [
              "<Figure size 432x288 with 2 Axes>"
            ]
          },
          "metadata": {
            "needs_background": "light"
          }
        }
      ]
    },
    {
      "cell_type": "code",
      "metadata": {
        "colab": {
          "base_uri": "https://localhost:8080/"
        },
        "id": "BKl8Bhv6T2Au",
        "outputId": "ca0b737f-21fa-48fa-e960-a0c02b2cb441"
      },
      "source": [
        "# Confusion Matrix\n",
        "confusion = metrics.confusion_matrix(y_test, preds)\n",
        "confusion.ravel()"
      ],
      "execution_count": 53,
      "outputs": [
        {
          "output_type": "execute_result",
          "data": {
            "text/plain": [
              "array([13,  1,  4,  7])"
            ]
          },
          "metadata": {},
          "execution_count": 53
        }
      ]
    },
    {
      "cell_type": "code",
      "metadata": {
        "colab": {
          "base_uri": "https://localhost:8080/"
        },
        "id": "QKn18xPxVbgS",
        "outputId": "32d7e7c9-5bd5-44ee-d320-78541c630090"
      },
      "source": [
        "# Accuracy Measure\n",
        "accuracy = metrics.accuracy_score(y_test, preds)\n",
        "accuracy "
      ],
      "execution_count": 54,
      "outputs": [
        {
          "output_type": "execute_result",
          "data": {
            "text/plain": [
              "0.8"
            ]
          },
          "metadata": {},
          "execution_count": 54
        }
      ]
    },
    {
      "cell_type": "code",
      "metadata": {
        "colab": {
          "base_uri": "https://localhost:8080/"
        },
        "id": "sluZ6BBLVsXC",
        "outputId": "94065007-1fa4-4472-ea45-f4c328c84c68"
      },
      "source": [
        "# Precision Measure\n",
        "precision_positive = metrics.precision_score(y_test, preds, pos_label=1)\n",
        "precision_negative = metrics.precision_score(y_test, preds, pos_label=2)\n",
        "precision_positive, precision_negative"
      ],
      "execution_count": 55,
      "outputs": [
        {
          "output_type": "execute_result",
          "data": {
            "text/plain": [
              "(0.7647058823529411, 0.875)"
            ]
          },
          "metadata": {},
          "execution_count": 55
        }
      ]
    },
    {
      "cell_type": "code",
      "metadata": {
        "colab": {
          "base_uri": "https://localhost:8080/"
        },
        "id": "bx0e2TRdWLVf",
        "outputId": "1b5245c6-84db-430a-ab71-935896e9107a"
      },
      "source": [
        "# Recall Measure\n",
        "recall_sensitivity = metrics.recall_score(y_test, preds, pos_label=1)\n",
        "recall_specificity = metrics.recall_score(y_test, preds, pos_label=2)\n",
        "recall_sensitivity, recall_specificity"
      ],
      "execution_count": 56,
      "outputs": [
        {
          "output_type": "execute_result",
          "data": {
            "text/plain": [
              "(0.9285714285714286, 0.6363636363636364)"
            ]
          },
          "metadata": {},
          "execution_count": 56
        }
      ]
    },
    {
      "cell_type": "code",
      "metadata": {
        "colab": {
          "base_uri": "https://localhost:8080/"
        },
        "id": "9E89_8peWws1",
        "outputId": "9d1d4c83-c47e-498f-9b80-b0fa6db371d3"
      },
      "source": [
        "# F1-score Measure\n",
        "f1_positive = metrics.f1_score(y_test, preds, pos_label=1)\n",
        "f1_negative = metrics.f1_score(y_test, preds, pos_label=2)\n",
        "f1_positive, f1_negative"
      ],
      "execution_count": 57,
      "outputs": [
        {
          "output_type": "execute_result",
          "data": {
            "text/plain": [
              "(0.8387096774193549, 0.7368421052631579)"
            ]
          },
          "metadata": {},
          "execution_count": 57
        }
      ]
    },
    {
      "cell_type": "code",
      "metadata": {
        "colab": {
          "base_uri": "https://localhost:8080/",
          "height": 301
        },
        "id": "SHq1rS_BmVpx",
        "outputId": "e6b3f3f0-6341-46a4-a5a2-56b2a8a0ada6"
      },
      "source": [
        "# problem 7\n",
        "from matplotlib.colors import ListedColormap\n",
        "from sklearn.tree import DecisionTreeClassifier, plot_tree\n",
        "import matplotlib.patches as mpatches\n",
        "import seaborn as sns\n",
        "import numpy as np\n",
        "import pandas as pd\n",
        "from matplotlib import pyplot as plt\n",
        "from sklearn import neighbors, datasets\n",
        "from sklearn.datasets import load_iris\n",
        "from matplotlib.colors import ListedColormap\n",
        "iris= load_iris()\n",
        "\n",
        "# Create color maps for 3-class classification problem, as with iris\n",
        "cmap_light = ListedColormap(['#FFAAAA', '#AAFFAA', '#AAAAFF'])\n",
        "cmap_bold = ListedColormap(['#FF0000', '#00FF00', '#0000FF'])\n",
        "\n",
        "P = pd.DataFrame(iris.data, columns= iris.feature_names)\n",
        "P.head()\n",
        "V  = pd.DataFrame(iris.target, columns= (['species']))\n",
        "V.head()\n",
        "df = pd.concat([P, V], axis=1)\n",
        "i = df.iloc[:,0] # Sepal length location\n",
        "k= df.iloc[:,2]  # petal length location\n",
        "j= df.iloc[:,4]  # Species location\n",
        "df1 = pd.concat([i, k,j], axis=1)\n",
        "h1 = df1.loc[df1['species']!= 0]\n",
        "t = h1.iloc[:, 0]\n",
        "r = h1.iloc[:, 1]\n",
        "X =pd.concat([t, r], axis=1)\n",
        "y = h1.iloc[:, 2]\n",
        "\n",
        "#iris = datasets.load_iris()\n",
        "#X = iris.data[:, :2]  # we only take the first two features. We could\n",
        "                       # avoid this ugly slicing by using a two-dim dataset\n",
        "#y = iris.target\n",
        "\n",
        "\n",
        "knn = neighbors.KNeighborsClassifier(n_neighbors=1)\n",
        "knn.fit(X, y)\n",
        "\n",
        "x_min, x_max = X.iloc[:, 0].min() - .1, X.iloc[:, 0].max() + .1\n",
        "y_min, y_max = X.iloc[:, 1].min() - .1, X.iloc[:, 1].max() + .1\n",
        "xx, yy = np.meshgrid(np.linspace(x_min, x_max, 100), np.linspace(y_min, y_max, 100))\n",
        "Z = knn.predict(np.c_[xx.ravel(), yy.ravel()])\n",
        "#Put the result into a color plot\n",
        "\n",
        "Z = Z.reshape(xx.shape)\n",
        "plt.figure()\n",
        "plt.pcolormesh(xx, yy, Z, cmap=cmap_light)\n",
        "\n",
        "# Plot also the training points\n",
        "plt.scatter(X.iloc[:, 0], X.iloc[:, 1], c=y, cmap=cmap_bold)\n",
        "plt.xlabel('sepal length (cm)')\n",
        "plt.ylabel('sepal width (cm)')\n",
        "plt.axis('tight')"
      ],
      "execution_count": 58,
      "outputs": [
        {
          "output_type": "execute_result",
          "data": {
            "text/plain": [
              "(4.800000000000001, 8.0, 2.9, 7.0)"
            ]
          },
          "metadata": {},
          "execution_count": 58
        },
        {
          "output_type": "display_data",
          "data": {
            "image/png": "[encoded data removed]",
            "text/plain": [
              "<Figure size 432x288 with 1 Axes>"
            ]
          },
          "metadata": {
            "needs_background": "light"
          }
        }
      ]
    },
    {
      "cell_type": "code",
      "metadata": {
        "id": "BSVmGQYeT9ac",
        "colab": {
          "base_uri": "https://localhost:8080/"
        },
        "outputId": "3779780e-237e-4510-8fed-29cd4b81990f"
      },
      "source": [
        "#model training\n",
        "model.fit(x_train, y_train)"
      ],
      "execution_count": 59,
      "outputs": [
        {
          "output_type": "execute_result",
          "data": {
            "text/plain": [
              "KNeighborsClassifier(algorithm='auto', leaf_size=30, metric='minkowski',\n",
              "                     metric_params=None, n_jobs=None, n_neighbors=5, p=2,\n",
              "                     weights='uniform')"
            ]
          },
          "metadata": {},
          "execution_count": 59
        }
      ]
    },
    {
      "cell_type": "code",
      "metadata": {
        "id": "fNOrael3TF1b",
        "colab": {
          "base_uri": "https://localhost:8080/",
          "height": 301
        },
        "outputId": "2d2b8ded-ac7e-4e7f-928f-1d7344310393"
      },
      "source": [
        "# Problem 8(a)\n",
        "#logistic regression\n",
        "from sklearn.linear_model import LogisticRegression\n",
        "model = LogisticRegression()\n",
        "model.fit(X, y)\n",
        "\n",
        "x_min, x_max = X.iloc[:, 0].min() - .1, X.iloc[:, 0].max() + .1\n",
        "y_min, y_max = X.iloc[:, 1].min() - .1, X.iloc[:, 1].max() + .1\n",
        "xx, yy = np.meshgrid(np.linspace(x_min, x_max, 100), np.linspace(y_min, y_max, 100))\n",
        "Z = model.predict(np.c_[xx.ravel(), yy.ravel()])\n",
        "#Put the result into a color plot\n",
        "\n",
        "Z = Z.reshape(xx.shape)\n",
        "plt.figure()\n",
        "plt.pcolormesh(xx, yy, Z, cmap=cmap_light)\n",
        "\n",
        "# Plot also the training points\n",
        "plt.scatter(X.iloc[:, 0], X.iloc[:, 1], c=y, cmap=cmap_bold)\n",
        "plt.xlabel('sepal length (cm)')\n",
        "plt.ylabel('sepal width (cm)')\n",
        "plt.axis('tight')"
      ],
      "execution_count": 74,
      "outputs": [
        {
          "output_type": "execute_result",
          "data": {
            "text/plain": [
              "(4.800000000000001, 8.0, 2.9, 7.0)"
            ]
          },
          "metadata": {},
          "execution_count": 74
        },
        {
          "output_type": "display_data",
          "data": {
            "image/png": "[encoded data removed]",
            "text/plain": [
              "<Figure size 432x288 with 1 Axes>"
            ]
          },
          "metadata": {
            "needs_background": "light"
          }
        }
      ]
    },
    {
      "cell_type": "code",
      "metadata": {
        "id": "bRPwqHoCUDjw",
        "colab": {
          "base_uri": "https://localhost:8080/"
        },
        "outputId": "2bcb8c66-d97b-4cab-c080-7529593e9cf4"
      },
      "source": [
        "# print metric to get performance\n",
        "print(\"Accuracy:\", model.score(x_test, y_test)*100)"
      ],
      "execution_count": 61,
      "outputs": [
        {
          "output_type": "stream",
          "name": "stdout",
          "text": [
            "Accuracy: 84.0\n"
          ]
        }
      ]
    },
    {
      "cell_type": "code",
      "metadata": {
        "id": "ymyCM5gLWGHj",
        "colab": {
          "base_uri": "https://localhost:8080/",
          "height": 301
        },
        "outputId": "bef82507-3bdb-4e34-a2a6-0ff26fac577a"
      },
      "source": [
        "# Problem 8(b)\n",
        "# decission tree\n",
        "from sklearn.tree import DecisionTreeClassifier\n",
        "model2 = DecisionTreeClassifier()\n",
        "model2.fit(X, y)\n",
        "\n",
        "x_min, x_max = X.iloc[:, 0].min() - .1, X.iloc[:, 0].max() + .1\n",
        "y_min, y_max = X.iloc[:, 1].min() - .1, X.iloc[:, 1].max() + .1\n",
        "xx, yy = np.meshgrid(np.linspace(x_min, x_max, 100), np.linspace(y_min, y_max, 100))\n",
        "Z = model2.predict(np.c_[xx.ravel(), yy.ravel()])\n",
        "#Put the result into a color plot\n",
        "\n",
        "Z = Z.reshape(xx.shape)\n",
        "plt.figure()\n",
        "plt.pcolormesh(xx, yy, Z, cmap=cmap_light)\n",
        "\n",
        "# Plot also the training points\n",
        "plt.scatter(X.iloc[:, 0], X.iloc[:, 1], c=y, cmap=cmap_bold)\n",
        "plt.xlabel('sepal length (cm)')\n",
        "plt.ylabel('sepal width (cm)')\n",
        "plt.axis('tight')"
      ],
      "execution_count": 73,
      "outputs": [
        {
          "output_type": "execute_result",
          "data": {
            "text/plain": [
              "(4.800000000000001, 8.0, 2.9, 7.0)"
            ]
          },
          "metadata": {},
          "execution_count": 73
        },
        {
          "output_type": "display_data",
          "data": {
            "image/png": "[encoded data removed]",
            "text/plain": [
              "<Figure size 432x288 with 1 Axes>"
            ]
          },
          "metadata": {
            "needs_background": "light"
          }
        }
      ]
    },
    {
      "cell_type": "code",
      "metadata": {
        "id": "PahpBFiUXXt-",
        "colab": {
          "base_uri": "https://localhost:8080/"
        },
        "outputId": "39808e82-4efa-40f3-994e-6d7dbdfe0ce9"
      },
      "source": [
        "model2.fit(x_train, y_train)"
      ],
      "execution_count": 63,
      "outputs": [
        {
          "output_type": "execute_result",
          "data": {
            "text/plain": [
              "DecisionTreeClassifier(ccp_alpha=0.0, class_weight=None, criterion='gini',\n",
              "                       max_depth=None, max_features=None, max_leaf_nodes=None,\n",
              "                       min_impurity_decrease=0.0, min_impurity_split=None,\n",
              "                       min_samples_leaf=1, min_samples_split=2,\n",
              "                       min_weight_fraction_leaf=0.0, presort='deprecated',\n",
              "                       random_state=None, splitter='best')"
            ]
          },
          "metadata": {},
          "execution_count": 63
        }
      ]
    },
    {
      "cell_type": "code",
      "metadata": {
        "id": "vxEHa6ffXfKm",
        "colab": {
          "base_uri": "https://localhost:8080/"
        },
        "outputId": "79046234-21fd-46f6-a18a-be993193e1d0"
      },
      "source": [
        "# print metric to get performance\n",
        "print(\"Accuracy:\", model2.score(x_test, y_test)*100)"
      ],
      "execution_count": 64,
      "outputs": [
        {
          "output_type": "stream",
          "name": "stdout",
          "text": [
            "Accuracy: 84.0\n"
          ]
        }
      ]
    },
    {
      "cell_type": "code",
      "metadata": {
        "id": "bziB0OdXXkMH",
        "colab": {
          "base_uri": "https://localhost:8080/",
          "height": 301
        },
        "outputId": "5d26a0ca-94da-459d-a9dc-e16989e5d69d"
      },
      "source": [
        "from sklearn.svm import SVC\n",
        "from sklearn.pipeline import make_pipeline\n",
        "clf = make_pipeline(StandardScaler(), SVC(gamma='auto'))\n",
        "clf.fit(X, y)\n",
        "x_min, x_max = X.iloc[:, 0].min() - .1, X.iloc[:, 0].max() + .1\n",
        "y_min, y_max = X.iloc[:, 1].min() - .1, X.iloc[:, 1].max() + .1\n",
        "xx, yy = np.meshgrid(np.linspace(x_min, x_max, 100), np.linspace(y_min, y_max, 100))\n",
        "Z = clf.predict(np.c_[xx.ravel(), yy.ravel()])\n",
        "#Put the result into a color plot\n",
        "\n",
        "Z = Z.reshape(xx.shape)\n",
        "plt.figure()\n",
        "plt.pcolormesh(xx, yy, Z, cmap=cmap_light)\n",
        "\n",
        "# Plot also the training points\n",
        "plt.scatter(X.iloc[:, 0], X.iloc[:, 1], c=y, cmap=cmap_bold)\n",
        "plt.xlabel('sepal length (cm)')\n",
        "plt.ylabel('sepal width (cm)')\n",
        "plt.axis('tight')"
      ],
      "execution_count": 72,
      "outputs": [
        {
          "output_type": "execute_result",
          "data": {
            "text/plain": [
              "(4.800000000000001, 8.0, 2.9, 7.0)"
            ]
          },
          "metadata": {},
          "execution_count": 72
        },
        {
          "output_type": "display_data",
          "data": {
            "image/png": "[encoded data removed]",
            "text/plain": [
              "<Figure size 432x288 with 1 Axes>"
            ]
          },
          "metadata": {
            "needs_background": "light"
          }
        }
      ]
    },
    {
      "cell_type": "code",
      "metadata": {
        "id": "GQ06VbCdY3t3",
        "colab": {
          "base_uri": "https://localhost:8080/",
          "height": 301
        },
        "outputId": "f5426b23-37b7-4629-e4b8-7b03463f4952"
      },
      "source": [
        "from sklearn.ensemble import RandomForestClassifier\n",
        "from sklearn.datasets import make_classification\n",
        "P = pd.DataFrame(iris.data, columns= iris.feature_names)\n",
        "P.head()\n",
        "V  = pd.DataFrame(iris.target, columns= (['species']))\n",
        "V.head()\n",
        "df = pd.concat([P, V], axis=1)\n",
        "i = df.iloc[:,0] # Sepal length location\n",
        "k= df.iloc[:,2]  # petal length location\n",
        "j= df.iloc[:,4]  # Species location\n",
        "df1 = pd.concat([i, k,j], axis=1)\n",
        "h1 = df1.loc[df1['species']!= 0]\n",
        "t = h1.iloc[:, 0]\n",
        "r = h1.iloc[:, 1]\n",
        "X =pd.concat([t, r], axis=1)\n",
        "y = h1.iloc[:, 2]\n",
        "\n",
        "clf2 = RandomForestClassifier(max_depth=2, random_state=0)\n",
        "clf2.fit(X, y)\n",
        "x_min, x_max = X.iloc[:, 0].min() - .1, X.iloc[:, 0].max() + .1\n",
        "y_min, y_max = X.iloc[:, 1].min() - .1, X.iloc[:, 1].max() + .1\n",
        "xx, yy = np.meshgrid(np.linspace(x_min, x_max, 100), np.linspace(y_min, y_max, 100))\n",
        "Z = clf2.predict(np.c_[xx.ravel(), yy.ravel()])\n",
        "#Put the result into a color plot\n",
        "\n",
        "Z = Z.reshape(xx.shape)\n",
        "plt.figure()\n",
        "plt.pcolormesh(xx, yy, Z, cmap=cmap_light)\n",
        "\n",
        "# Plot also the training points\n",
        "plt.scatter(X.iloc[:, 0], X.iloc[:, 1], c=y, cmap=cmap_bold)\n",
        "plt.xlabel('sepal length (cm)')\n",
        "plt.ylabel('sepal width (cm)')\n",
        "plt.axis('tight')"
      ],
      "execution_count": 71,
      "outputs": [
        {
          "output_type": "execute_result",
          "data": {
            "text/plain": [
              "(4.800000000000001, 8.0, 2.9, 7.0)"
            ]
          },
          "metadata": {},
          "execution_count": 71
        },
        {
          "output_type": "display_data",
          "data": {
            "image/png": "[encoded data removed]",
            "text/plain": [
              "<Figure size 432x288 with 1 Axes>"
            ]
          },
          "metadata": {
            "needs_background": "light"
          }
        }
      ]
    },
    {
      "cell_type": "code",
      "metadata": {
        "colab": {
          "base_uri": "https://localhost:8080/"
        },
        "id": "bkdNDCpSEN4i",
        "outputId": "8f688fcc-1f37-4baa-dac8-28b8677624ba"
      },
      "source": [
        "print(metrics.classification_report(y_test, preds))"
      ],
      "execution_count": 78,
      "outputs": [
        {
          "output_type": "stream",
          "name": "stdout",
          "text": [
            "              precision    recall  f1-score   support\n",
            "\n",
            "           1       0.76      0.93      0.84        14\n",
            "           2       0.88      0.64      0.74        11\n",
            "\n",
            "    accuracy                           0.80        25\n",
            "   macro avg       0.82      0.78      0.79        25\n",
            "weighted avg       0.81      0.80      0.79        25\n",
            "\n"
          ]
        }
      ]
    },
    {
      "cell_type": "code",
      "metadata": {
        "colab": {
          "base_uri": "https://localhost:8080/",
          "height": 301
        },
        "id": "RQgW1vmXKdcx",
        "outputId": "55848801-5e50-4de2-faff-dc73b900d3c9"
      },
      "source": [
        "# Problem 10\n",
        "from sklearn.ensemble import RandomForestClassifier\n",
        "from sklearn.datasets import make_classification\n",
        "P = pd.DataFrame(iris.data, columns= iris.feature_names)\n",
        "P.head()\n",
        "V  = pd.DataFrame(iris.target, columns= (['species']))\n",
        "V.head()\n",
        "df = pd.concat([P, V], axis=1)\n",
        "i = df.iloc[:,0] # Sepal length location\n",
        "k= df.iloc[:,2]  # petal length location\n",
        "j= df.iloc[:,4]  # Species location\n",
        "df1 = pd.concat([i, k,j], axis=1)\n",
        "X =pd.concat([i, k], axis=1)\n",
        "y = df1.iloc[:, 2]\n",
        "\n",
        "clf2 = RandomForestClassifier(max_depth=2, random_state=0)\n",
        "clf2.fit(X, y)\n",
        "x_min, x_max = X.iloc[:, 0].min() - .1, X.iloc[:, 0].max() + .1\n",
        "y_min, y_max = X.iloc[:, 1].min() - .1, X.iloc[:, 1].max() + .1\n",
        "xx, yy = np.meshgrid(np.linspace(x_min, x_max, 100), np.linspace(y_min, y_max, 100))\n",
        "Z = clf2.predict(np.c_[xx.ravel(), yy.ravel()])\n",
        "#Put the result into a color plot\n",
        "\n",
        "Z = Z.reshape(xx.shape)\n",
        "plt.figure()\n",
        "plt.pcolormesh(xx, yy, Z, cmap=cmap_light)\n",
        "\n",
        "# Plot also the training points\n",
        "plt.scatter(X.iloc[:, 0], X.iloc[:, 1], c=y, cmap=cmap_bold)\n",
        "plt.xlabel('sepal length (cm)')\n",
        "plt.ylabel('sepal length (cm)')\n",
        "plt.axis('tight')"
      ],
      "execution_count": 81,
      "outputs": [
        {
          "output_type": "execute_result",
          "data": {
            "text/plain": [
              "(4.2, 8.0, 0.9, 7.0)"
            ]
          },
          "metadata": {},
          "execution_count": 81
        },
        {
          "output_type": "display_data",
          "data": {
            "image/png": "[encoded data removed]",
            "text/plain": [
              "<Figure size 432x288 with 1 Axes>"
            ]
          },
          "metadata": {
            "needs_background": "light"
          }
        }
      ]
    },
    {
      "cell_type": "code",
      "metadata": {
        "id": "5DChk3gdPRuJ"
      },
      "source": [
        ""
      ],
      "execution_count": null,
      "outputs": []
    }
  ]
}