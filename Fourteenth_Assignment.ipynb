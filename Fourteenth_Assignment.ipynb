{
  "nbformat": 4,
  "nbformat_minor": 0,
  "metadata": {
    "colab": {
      "name": "Fourteenth_Assignment.ipynb",
      "provenance": [],
      "collapsed_sections": [],
      "authorship_tag": "ABX9TyOaG10ih89jJyQaKeVC1Zbz",
      "include_colab_link": true
    },
    "kernelspec": {
      "name": "python3",
      "display_name": "Python 3"
    },
    "language_info": {
      "name": "python"
    }
  },
  "cells": [
    {
      "cell_type": "markdown",
      "metadata": {
        "id": "view-in-github",
        "colab_type": "text"
      },
      "source": [
        "<a href=\"https://colab.research.google.com/github/Mochismo/LearnPython/blob/main/Fourteenth_Assignment.ipynb\" target=\"_parent\"><img src=\"https://colab.research.google.com/assets/colab-badge.svg\" alt=\"Open In Colab\"/></a>"
      ]
    },
    {
      "cell_type": "code",
      "metadata": {
        "colab": {
          "base_uri": "https://localhost:8080/",
          "height": 419
        },
        "id": "aKwb3vmbeZg-",
        "outputId": "a72ad248-7a67-4c52-e49c-ff1031854044"
      },
      "source": [
        "# Problem 1\n",
        "from sklearn.datasets import load_iris\n",
        "import numpy as np\n",
        "import pandas as pd\n",
        "data = load_iris()\n",
        "X = pd.DataFrame(data.data, columns=data.feature_names)\n",
        "#X = pd.DataFrame(data.data, columns=(['sepal length (cm)', 'petal length (cm)'], low_memory = True))\n",
        "X.head()\n",
        "y = pd.DataFrame(data.target, columns=(['species']))\n",
        "y.head()\n",
        "df = pd.concat([X, y], axis=1)\n",
        "s = df.iloc[:,0] #column sepal length location\n",
        "f = df.iloc[:,2] #column petal length location\n",
        "v = df.iloc[:,4] #column species location\n",
        "df1 = pd.concat([s, f, v], axis=1)\n",
        "a_3 = df1.loc[df1['species'] != 0]# Eiminate sertosa\n",
        "a_3"
      ],
      "execution_count": 584,
      "outputs": [
        {
          "output_type": "execute_result",
          "data": {
            "text/html": [
              "<div>\n",
              "<style scoped>\n",
              "    .dataframe tbody tr th:only-of-type {\n",
              "        vertical-align: middle;\n",
              "    }\n",
              "\n",
              "    .dataframe tbody tr th {\n",
              "        vertical-align: top;\n",
              "    }\n",
              "\n",
              "    .dataframe thead th {\n",
              "        text-align: right;\n",
              "    }\n",
              "</style>\n",
              "<table border=\"1\" class=\"dataframe\">\n",
              "  <thead>\n",
              "    <tr style=\"text-align: right;\">\n",
              "      <th></th>\n",
              "      <th>sepal length (cm)</th>\n",
              "      <th>petal length (cm)</th>\n",
              "      <th>species</th>\n",
              "    </tr>\n",
              "  </thead>\n",
              "  <tbody>\n",
              "    <tr>\n",
              "      <th>50</th>\n",
              "      <td>7.0</td>\n",
              "      <td>4.7</td>\n",
              "      <td>1</td>\n",
              "    </tr>\n",
              "    <tr>\n",
              "      <th>51</th>\n",
              "      <td>6.4</td>\n",
              "      <td>4.5</td>\n",
              "      <td>1</td>\n",
              "    </tr>\n",
              "    <tr>\n",
              "      <th>52</th>\n",
              "      <td>6.9</td>\n",
              "      <td>4.9</td>\n",
              "      <td>1</td>\n",
              "    </tr>\n",
              "    <tr>\n",
              "      <th>53</th>\n",
              "      <td>5.5</td>\n",
              "      <td>4.0</td>\n",
              "      <td>1</td>\n",
              "    </tr>\n",
              "    <tr>\n",
              "      <th>54</th>\n",
              "      <td>6.5</td>\n",
              "      <td>4.6</td>\n",
              "      <td>1</td>\n",
              "    </tr>\n",
              "    <tr>\n",
              "      <th>...</th>\n",
              "      <td>...</td>\n",
              "      <td>...</td>\n",
              "      <td>...</td>\n",
              "    </tr>\n",
              "    <tr>\n",
              "      <th>145</th>\n",
              "      <td>6.7</td>\n",
              "      <td>5.2</td>\n",
              "      <td>2</td>\n",
              "    </tr>\n",
              "    <tr>\n",
              "      <th>146</th>\n",
              "      <td>6.3</td>\n",
              "      <td>5.0</td>\n",
              "      <td>2</td>\n",
              "    </tr>\n",
              "    <tr>\n",
              "      <th>147</th>\n",
              "      <td>6.5</td>\n",
              "      <td>5.2</td>\n",
              "      <td>2</td>\n",
              "    </tr>\n",
              "    <tr>\n",
              "      <th>148</th>\n",
              "      <td>6.2</td>\n",
              "      <td>5.4</td>\n",
              "      <td>2</td>\n",
              "    </tr>\n",
              "    <tr>\n",
              "      <th>149</th>\n",
              "      <td>5.9</td>\n",
              "      <td>5.1</td>\n",
              "      <td>2</td>\n",
              "    </tr>\n",
              "  </tbody>\n",
              "</table>\n",
              "<p>100 rows × 3 columns</p>\n",
              "</div>"
            ],
            "text/plain": [
              "     sepal length (cm)  petal length (cm)  species\n",
              "50                 7.0                4.7        1\n",
              "51                 6.4                4.5        1\n",
              "52                 6.9                4.9        1\n",
              "53                 5.5                4.0        1\n",
              "54                 6.5                4.6        1\n",
              "..                 ...                ...      ...\n",
              "145                6.7                5.2        2\n",
              "146                6.3                5.0        2\n",
              "147                6.5                5.2        2\n",
              "148                6.2                5.4        2\n",
              "149                5.9                5.1        2\n",
              "\n",
              "[100 rows x 3 columns]"
            ]
          },
          "metadata": {},
          "execution_count": 584
        }
      ]
    },
    {
      "cell_type": "code",
      "metadata": {
        "colab": {
          "base_uri": "https://localhost:8080/",
          "height": 312
        },
        "id": "c8TiSl4xjRhX",
        "outputId": "00baf665-d311-4ccc-b87d-3c73ae1f02a0"
      },
      "source": [
        "# Problem 2(a)\n",
        "import matplotlib.pyplot as plt\n",
        "%matplotlib inline\n",
        "import seaborn as sns\n",
        "colors = ['orange', 'blue']\n",
        "species = [1,2]\n",
        "for i in range(2):\n",
        "  x = a_3[a_3['species']== species[i]]\n",
        "  plt.scatter(x['sepal length (cm)'], x['petal length (cm)'], c=colors[i], label= species[i])\n",
        "plt.xlabel(\"sepal length (cm)\")\n",
        "plt.ylabel(\"petal length (cm)\")\n",
        "plt.title('Scatter Plot')\n",
        "plt.legend() "
      ],
      "execution_count": 585,
      "outputs": [
        {
          "output_type": "execute_result",
          "data": {
            "text/plain": [
              "<matplotlib.legend.Legend at 0x7fe4f3ac4150>"
            ]
          },
          "metadata": {},
          "execution_count": 585
        },
        {
          "output_type": "display_data",
          "data": {
            "image/png": "[encoded data removed]",
            "text/plain": [
              "<Figure size 432x288 with 1 Axes>"
            ]
          },
          "metadata": {
            "needs_background": "light"
          }
        }
      ]
    },
    {
      "cell_type": "code",
      "metadata": {
        "colab": {
          "base_uri": "https://localhost:8080/",
          "height": 710
        },
        "id": "7PWE52xNrqnG",
        "outputId": "6e5da57c-96da-4db8-fac0-84f90af4d910"
      },
      "source": [
        "# Problem 2(b)\n",
        "plt.figure(figsize=(9,5))\n",
        "plt.title('Box Plot for 2 Variables')\n",
        "plt.boxplot(a_3.values,labels=['sepal length (cm)', 'petal length (cm)', 'species'])"
      ],
      "execution_count": 586,
      "outputs": [
        {
          "output_type": "execute_result",
          "data": {
            "text/plain": [
              "{'boxes': [<matplotlib.lines.Line2D at 0x7fe4f65a9590>,\n",
              "  <matplotlib.lines.Line2D at 0x7fe4f5f7f5d0>,\n",
              "  <matplotlib.lines.Line2D at 0x7fe4f5e61510>],\n",
              " 'caps': [<matplotlib.lines.Line2D at 0x7fe4f5fae110>,\n",
              "  <matplotlib.lines.Line2D at 0x7fe4f62add10>,\n",
              "  <matplotlib.lines.Line2D at 0x7fe4f66bda50>,\n",
              "  <matplotlib.lines.Line2D at 0x7fe4f66bd690>,\n",
              "  <matplotlib.lines.Line2D at 0x7fe4f477f190>,\n",
              "  <matplotlib.lines.Line2D at 0x7fe4f42594d0>],\n",
              " 'fliers': [<matplotlib.lines.Line2D at 0x7fe4f52d22d0>,\n",
              "  <matplotlib.lines.Line2D at 0x7fe4f4c649d0>,\n",
              "  <matplotlib.lines.Line2D at 0x7fe4f495dfd0>],\n",
              " 'means': [],\n",
              " 'medians': [<matplotlib.lines.Line2D at 0x7fe4f62add90>,\n",
              "  <matplotlib.lines.Line2D at 0x7fe4f6631650>,\n",
              "  <matplotlib.lines.Line2D at 0x7fe4f4302e50>],\n",
              " 'whiskers': [<matplotlib.lines.Line2D at 0x7fe4f515b890>,\n",
              "  <matplotlib.lines.Line2D at 0x7fe4f5f5e1d0>,\n",
              "  <matplotlib.lines.Line2D at 0x7fe4f5f7fdd0>,\n",
              "  <matplotlib.lines.Line2D at 0x7fe4f5d89e50>,\n",
              "  <matplotlib.lines.Line2D at 0x7fe4f58eac50>,\n",
              "  <matplotlib.lines.Line2D at 0x7fe4f5eddc10>]}"
            ]
          },
          "metadata": {},
          "execution_count": 586
        },
        {
          "output_type": "display_data",
          "data": {
            "image/png": "[encoded data removed]",
            "text/plain": [
              "<Figure size 648x360 with 1 Axes>"
            ]
          },
          "metadata": {
            "needs_background": "light"
          }
        }
      ]
    },
    {
      "cell_type": "code",
      "metadata": {
        "colab": {
          "base_uri": "https://localhost:8080/",
          "height": 563
        },
        "id": "OduEKwW7_j_Q",
        "outputId": "2a22df8f-3f1e-4329-b35e-a624ee8d228d"
      },
      "source": [
        "# Problem 2(c)\n",
        "plt.figure(figsize=(7,7))\n",
        "plt.title('Violin Plot')\n",
        "plt.violinplot(a_3.values,showmedians=True)"
      ],
      "execution_count": 587,
      "outputs": [
        {
          "output_type": "execute_result",
          "data": {
            "text/plain": [
              "{'bodies': [<matplotlib.collections.PolyCollection at 0x7fe4f59e6bd0>,\n",
              "  <matplotlib.collections.PolyCollection at 0x7fe4f4373710>,\n",
              "  <matplotlib.collections.PolyCollection at 0x7fe4f3fb9050>],\n",
              " 'cbars': <matplotlib.collections.LineCollection at 0x7fe4f3fb93d0>,\n",
              " 'cmaxes': <matplotlib.collections.LineCollection at 0x7fe4f59e6310>,\n",
              " 'cmedians': <matplotlib.collections.LineCollection at 0x7fe4f4751210>,\n",
              " 'cmins': <matplotlib.collections.LineCollection at 0x7fe4f3fb9a50>}"
            ]
          },
          "metadata": {},
          "execution_count": 587
        },
        {
          "output_type": "display_data",
          "data": {
            "image/png": "[encoded data removed]",
            "text/plain": [
              "<Figure size 504x504 with 1 Axes>"
            ]
          },
          "metadata": {
            "needs_background": "light"
          }
        }
      ]
    },
    {
      "cell_type": "code",
      "metadata": {
        "id": "lludv6z1LQWq"
      },
      "source": [
        "# Problem 3\n",
        "from sklearn.model_selection import train_test_split\n",
        "# train -75%\n",
        "# test -25%\n",
        "X = a_3.drop(columns=['species'])\n",
        "Y = a_3['species']\n",
        "x_train, x_test, y_train, y_test = train_test_split(X,Y, test_size = 0.25, random_state=42)\n"
      ],
      "execution_count": 588,
      "outputs": []
    },
    {
      "cell_type": "code",
      "metadata": {
        "id": "UZiIXyU0Z1AL"
      },
      "source": [
        "# Problem 4\n",
        "from sklearn.preprocessing import StandardScaler\n",
        "# data = a_3\n",
        "# scaler = StandardScaler()\n",
        "# a_4 = scaler.fit(data)\n",
        "# StandardScaler()\n",
        "# print(scaler.mean_)\n",
        "#a_5 = scaler.transform(data)\n",
        "#a_5"
      ],
      "execution_count": 589,
      "outputs": []
    },
    {
      "cell_type": "code",
      "metadata": {
        "id": "jHhcGrEkJ05b"
      },
      "source": [
        "x_train_transf = scaler.fit_transform(x_train)\n",
        "x_test_transf = scaler.fit_transform(x_test)"
      ],
      "execution_count": 590,
      "outputs": []
    },
    {
      "cell_type": "code",
      "metadata": {
        "id": "u70bbTGt6z55"
      },
      "source": [
        "# Problem 5\n",
        "# knn - k-nearest neighbours\n",
        "from sklearn.neighbors import KNeighborsClassifier\n",
        "model = KNeighborsClassifier(n_neighbors=5)\n"
      ],
      "execution_count": 591,
      "outputs": []
    },
    {
      "cell_type": "code",
      "metadata": {
        "colab": {
          "base_uri": "https://localhost:8080/"
        },
        "id": "8jpbNNuJ68iU",
        "outputId": "9e9fd4f5-02d7-4764-a3df-4314f4694b9e"
      },
      "source": [
        "#model.fit(x_train, y_train) \n",
        "model.fit(x_train_transf, y_train)"
      ],
      "execution_count": 592,
      "outputs": [
        {
          "output_type": "execute_result",
          "data": {
            "text/plain": [
              "KNeighborsClassifier(algorithm='auto', leaf_size=30, metric='minkowski',\n",
              "                     metric_params=None, n_jobs=None, n_neighbors=5, p=2,\n",
              "                     weights='uniform')"
            ]
          },
          "metadata": {},
          "execution_count": 592
        }
      ]
    },
    {
      "cell_type": "code",
      "metadata": {
        "colab": {
          "base_uri": "https://localhost:8080/"
        },
        "id": "LNFzVSksCRxZ",
        "outputId": "f190f752-429a-45c8-fb02-3ec2e1c03b33"
      },
      "source": [
        "print(model.predict(x_test_transf))\n",
        "preds = model.predict(x_test_transf)"
      ],
      "execution_count": 593,
      "outputs": [
        {
          "output_type": "stream",
          "name": "stdout",
          "text": [
            "[2 2 2 1 1 1 2 2 1 1 1 1 2 2 2 1 2 2 1 1 2 1 2 1 2]\n"
          ]
        }
      ]
    },
    {
      "cell_type": "code",
      "metadata": {
        "colab": {
          "base_uri": "https://localhost:8080/"
        },
        "id": "HqkQJHVFH4Hp",
        "outputId": "ead7671c-91fa-413d-c2fc-3fed767accf2"
      },
      "source": [
        "print(model.predict_proba(X))"
      ],
      "execution_count": 594,
      "outputs": [
        {
          "output_type": "stream",
          "name": "stdout",
          "text": [
            "[[0. 1.]\n",
            " [0. 1.]\n",
            " [0. 1.]\n",
            " [0. 1.]\n",
            " [0. 1.]\n",
            " [0. 1.]\n",
            " [0. 1.]\n",
            " [0. 1.]\n",
            " [0. 1.]\n",
            " [0. 1.]\n",
            " [0. 1.]\n",
            " [0. 1.]\n",
            " [0. 1.]\n",
            " [0. 1.]\n",
            " [0. 1.]\n",
            " [0. 1.]\n",
            " [0. 1.]\n",
            " [0. 1.]\n",
            " [0. 1.]\n",
            " [0. 1.]\n",
            " [0. 1.]\n",
            " [0. 1.]\n",
            " [0. 1.]\n",
            " [0. 1.]\n",
            " [0. 1.]\n",
            " [0. 1.]\n",
            " [0. 1.]\n",
            " [0. 1.]\n",
            " [0. 1.]\n",
            " [0. 1.]\n",
            " [0. 1.]\n",
            " [0. 1.]\n",
            " [0. 1.]\n",
            " [0. 1.]\n",
            " [0. 1.]\n",
            " [0. 1.]\n",
            " [0. 1.]\n",
            " [0. 1.]\n",
            " [0. 1.]\n",
            " [0. 1.]\n",
            " [0. 1.]\n",
            " [0. 1.]\n",
            " [0. 1.]\n",
            " [0. 1.]\n",
            " [0. 1.]\n",
            " [0. 1.]\n",
            " [0. 1.]\n",
            " [0. 1.]\n",
            " [0. 1.]\n",
            " [0. 1.]\n",
            " [0. 1.]\n",
            " [0. 1.]\n",
            " [0. 1.]\n",
            " [0. 1.]\n",
            " [0. 1.]\n",
            " [0. 1.]\n",
            " [0. 1.]\n",
            " [0. 1.]\n",
            " [0. 1.]\n",
            " [0. 1.]\n",
            " [0. 1.]\n",
            " [0. 1.]\n",
            " [0. 1.]\n",
            " [0. 1.]\n",
            " [0. 1.]\n",
            " [0. 1.]\n",
            " [0. 1.]\n",
            " [0. 1.]\n",
            " [0. 1.]\n",
            " [0. 1.]\n",
            " [0. 1.]\n",
            " [0. 1.]\n",
            " [0. 1.]\n",
            " [0. 1.]\n",
            " [0. 1.]\n",
            " [0. 1.]\n",
            " [0. 1.]\n",
            " [0. 1.]\n",
            " [0. 1.]\n",
            " [0. 1.]\n",
            " [0. 1.]\n",
            " [0. 1.]\n",
            " [0. 1.]\n",
            " [0. 1.]\n",
            " [0. 1.]\n",
            " [0. 1.]\n",
            " [0. 1.]\n",
            " [0. 1.]\n",
            " [0. 1.]\n",
            " [0. 1.]\n",
            " [0. 1.]\n",
            " [0. 1.]\n",
            " [0. 1.]\n",
            " [0. 1.]\n",
            " [0. 1.]\n",
            " [0. 1.]\n",
            " [0. 1.]\n",
            " [0. 1.]\n",
            " [0. 1.]\n",
            " [0. 1.]]\n"
          ]
        }
      ]
    },
    {
      "cell_type": "code",
      "metadata": {
        "colab": {
          "base_uri": "https://localhost:8080/"
        },
        "id": "lJdVB9BB7C7e",
        "outputId": "27f478fc-9048-4407-f7de-3c2bb0304a58"
      },
      "source": [
        "# print metric to get performance\n",
        "#print(\"Accuracy:\", model.score(x_test, y_test)*100)\n",
        "print(\"Accuracy:\", model.score(x_test_transf, y_test)*100)"
      ],
      "execution_count": 595,
      "outputs": [
        {
          "output_type": "stream",
          "name": "stdout",
          "text": [
            "Accuracy: 84.0\n"
          ]
        }
      ]
    },
    {
      "cell_type": "code",
      "metadata": {
        "colab": {
          "base_uri": "https://localhost:8080/",
          "height": 296
        },
        "id": "cdVpWr73LC0_",
        "outputId": "32325056-d5d6-4f96-f5bd-bb733720f48f"
      },
      "source": [
        "# Problem 6\n",
        "# print metric to get performance\n",
        "from sklearn.metrics import precision_score\n",
        "from sklearn import metrics \n",
        "preds = model.predict(x_test_transf)\n",
        "metrics.plot_confusion_matrix(model, x_test_transf, y_test, display_labels=['Negative', 'Positive'])"
      ],
      "execution_count": 596,
      "outputs": [
        {
          "output_type": "execute_result",
          "data": {
            "text/plain": [
              "<sklearn.metrics._plot.confusion_matrix.ConfusionMatrixDisplay at 0x7fe4f5896f50>"
            ]
          },
          "metadata": {},
          "execution_count": 596
        },
        {
          "output_type": "display_data",
          "data": {
            "image/png": "[encoded data removed]",
            "text/plain": [
              "<Figure size 432x288 with 2 Axes>"
            ]
          },
          "metadata": {
            "needs_background": "light"
          }
        }
      ]
    },
    {
      "cell_type": "code",
      "metadata": {
        "colab": {
          "base_uri": "https://localhost:8080/"
        },
        "id": "BKl8Bhv6T2Au",
        "outputId": "3f985f28-5c89-4bf9-c27b-345c7deff6fe"
      },
      "source": [
        "# Confusion Matrix\n",
        "confusion = metrics.confusion_matrix(y_test, preds)\n",
        "confusion.ravel()"
      ],
      "execution_count": 597,
      "outputs": [
        {
          "output_type": "execute_result",
          "data": {
            "text/plain": [
              "array([11,  3,  1, 10])"
            ]
          },
          "metadata": {},
          "execution_count": 597
        }
      ]
    },
    {
      "cell_type": "code",
      "metadata": {
        "colab": {
          "base_uri": "https://localhost:8080/"
        },
        "id": "QKn18xPxVbgS",
        "outputId": "34f94be9-507b-42dd-87d4-ae3d8bd5f6a0"
      },
      "source": [
        "# Accuracy Measure\n",
        "accuracy = metrics.accuracy_score(y_test, preds)\n",
        "accuracy "
      ],
      "execution_count": 598,
      "outputs": [
        {
          "output_type": "execute_result",
          "data": {
            "text/plain": [
              "0.84"
            ]
          },
          "metadata": {},
          "execution_count": 598
        }
      ]
    },
    {
      "cell_type": "code",
      "metadata": {
        "colab": {
          "base_uri": "https://localhost:8080/"
        },
        "id": "sluZ6BBLVsXC",
        "outputId": "a1bc3e5c-4e34-4280-a049-5e0598ef8091"
      },
      "source": [
        "# Precision Measure\n",
        "precision_positive = metrics.precision_score(y_test, preds, pos_label=1)\n",
        "precision_negative = metrics.precision_score(y_test, preds, pos_label=2)\n",
        "precision_positive, precision_negative"
      ],
      "execution_count": 599,
      "outputs": [
        {
          "output_type": "execute_result",
          "data": {
            "text/plain": [
              "(0.9166666666666666, 0.7692307692307693)"
            ]
          },
          "metadata": {},
          "execution_count": 599
        }
      ]
    },
    {
      "cell_type": "code",
      "metadata": {
        "colab": {
          "base_uri": "https://localhost:8080/"
        },
        "id": "bx0e2TRdWLVf",
        "outputId": "837b4b77-7484-4748-a612-3adf2bf8d39f"
      },
      "source": [
        "# Recall Measure\n",
        "recall_sensitivity = metrics.recall_score(y_test, preds, pos_label=1)\n",
        "recall_specificity = metrics.recall_score(y_test, preds, pos_label=2)\n",
        "recall_sensitivity, recall_specificity"
      ],
      "execution_count": 600,
      "outputs": [
        {
          "output_type": "execute_result",
          "data": {
            "text/plain": [
              "(0.7857142857142857, 0.9090909090909091)"
            ]
          },
          "metadata": {},
          "execution_count": 600
        }
      ]
    },
    {
      "cell_type": "code",
      "metadata": {
        "colab": {
          "base_uri": "https://localhost:8080/"
        },
        "id": "9E89_8peWws1",
        "outputId": "a2c2bbb0-a10b-46e2-d741-c08ea219977d"
      },
      "source": [
        "# F1-score Measure\n",
        "f1_positive = metrics.f1_score(y_test, preds, pos_label=1)\n",
        "f1_negative = metrics.f1_score(y_test, preds, pos_label=2)\n",
        "f1_positive, f1_negative"
      ],
      "execution_count": 601,
      "outputs": [
        {
          "output_type": "execute_result",
          "data": {
            "text/plain": [
              "(0.8461538461538461, 0.8333333333333333)"
            ]
          },
          "metadata": {},
          "execution_count": 601
        }
      ]
    },
    {
      "cell_type": "code",
      "metadata": {
        "colab": {
          "base_uri": "https://localhost:8080/",
          "height": 348
        },
        "id": "SHq1rS_BmVpx",
        "outputId": "25ae5de4-624b-43e1-f40b-f7e9be2cd9d4"
      },
      "source": [
        "# problem 7\n",
        "from matplotlib.colors import ListedColormap\n",
        "from sklearn.tree import DecisionTreeClassifier, plot_tree\n",
        "import matplotlib.patches as mpatches\n",
        "import seaborn as sns\n",
        "import numpy as np\n",
        "import pandas as pd\n",
        "from matplotlib import pyplot as plt\n",
        "from sklearn import neighbors, datasets\n",
        "from sklearn.datasets import load_iris\n",
        "from matplotlib.colors import ListedColormap\n",
        "iris= load_iris()\n",
        "\n",
        "# Create color maps for 3-class classification problem, as with iris\n",
        "cmap_light = ListedColormap(['#FFAAAA', '#AAFFAA', '#AAAAFF'])\n",
        "cmap_bold = ListedColormap(['#FF0000', '#00FF00', '#0000FF'])\n",
        "\n",
        "P = pd.DataFrame(iris.data, columns= iris.feature_names)\n",
        "P.head()\n",
        "V  = pd.DataFrame(iris.target, columns= (['species']))\n",
        "V.head()\n",
        "df = pd.concat([P, V], axis=1)\n",
        "i = df.iloc[:,0] # Sepal length location\n",
        "k= df.iloc[:,2]  # petal length location\n",
        "j= df.iloc[:,4]  # Species location\n",
        "df1 = pd.concat([i, k,j], axis=1)\n",
        "h1 = df1.loc[df1['species']!= 0]\n",
        "t = h1.iloc[:, 0]\n",
        "r = h1.iloc[:, 1]\n",
        "X =pd.concat([t, r], axis=1)\n",
        "#y = h1.iloc[:, 2]\n",
        "\n",
        "#iris = datasets.load_iris()\n",
        "#X = iris.data[:, :2]  # we only take the first two features. We could\n",
        "                       # avoid this ugly slicing by using a two-dim dataset\n",
        "#y = iris.target\n",
        "\n",
        "\n",
        "knn = neighbors.KNeighborsClassifier(n_neighbors=1)\n",
        "knn.fit(x_test_transf, y_test)\n",
        "\n",
        "x_min, x_max = x_test_transf[:, 0].min() - .1, x_test_transf[:, 0].max() + .1\n",
        "y_min, y_max = x_test_transf[:, 1].min() - .1, x_test_transf[:, 1].max() + .1\n",
        "xx, yy = np.meshgrid(np.linspace(x_min, x_max, 100), np.linspace(y_min, y_max, 100))\n",
        "Z = knn.predict(np.c_[xx.ravel(), yy.ravel()])\n",
        "#Put the result into a color plot\n",
        "\n",
        "Z = Z.reshape(xx.shape)\n",
        "plt.figure()\n",
        "plt.pcolormesh(xx, yy, Z, cmap=cmap_light)\n",
        "#c=25\n",
        "\n",
        "# Plot also the training points\n",
        "plt.scatter(x_test_transf[:,0], x_test_transf[:,1], c=y_test, cmap=cmap_bold)\n",
        "plt.xlabel('sepal length (cm)')\n",
        "plt.ylabel('sepal width (cm)')\n",
        "plt.axis('tight')"
      ],
      "execution_count": 602,
      "outputs": [
        {
          "output_type": "execute_result",
          "data": {
            "text/plain": [
              "(-2.1002193246999092,\n",
              " 2.404888493362811,\n",
              " -1.7940838530506291,\n",
              " 2.5607104068045548)"
            ]
          },
          "metadata": {},
          "execution_count": 602
        },
        {
          "output_type": "display_data",
          "data": {
            "image/png": "[encoded data removed]",
            "text/plain": [
              "<Figure size 432x288 with 1 Axes>"
            ]
          },
          "metadata": {
            "needs_background": "light"
          }
        }
      ]
    },
    {
      "cell_type": "code",
      "metadata": {
        "id": "BSVmGQYeT9ac",
        "colab": {
          "base_uri": "https://localhost:8080/"
        },
        "outputId": "b83838d0-bdf1-4641-e968-10d4c7490fb0"
      },
      "source": [
        "#model training\n",
        "model.fit(x_train, y_train)"
      ],
      "execution_count": 603,
      "outputs": [
        {
          "output_type": "execute_result",
          "data": {
            "text/plain": [
              "KNeighborsClassifier(algorithm='auto', leaf_size=30, metric='minkowski',\n",
              "                     metric_params=None, n_jobs=None, n_neighbors=5, p=2,\n",
              "                     weights='uniform')"
            ]
          },
          "metadata": {},
          "execution_count": 603
        }
      ]
    },
    {
      "cell_type": "code",
      "metadata": {
        "id": "fNOrael3TF1b",
        "colab": {
          "base_uri": "https://localhost:8080/",
          "height": 348
        },
        "outputId": "987cb96b-bde4-493a-ef8b-4bd78332b237"
      },
      "source": [
        "# Problem 8(a)\n",
        "#logistic regression\n",
        "from sklearn.linear_model import LogisticRegression\n",
        "model = LogisticRegression()\n",
        "model.fit(x_test_transf, y_test)\n",
        "\n",
        "x_min, x_max = x_test_transf[:, 0].min() - .1, x_test_transf[:, 0].max() + .1\n",
        "y_min, y_max = x_test_transf[:, 1].min() - .1, x_test_transf[:, 1].max() + .1\n",
        "xx, yy = np.meshgrid(np.linspace(x_min, x_max, 100), np.linspace(y_min, y_max, 100))\n",
        "Z = model.predict(np.c_[xx.ravel(), yy.ravel()])\n",
        "#Put the result into a color plot\n",
        "\n",
        "Z = Z.reshape(xx.shape)\n",
        "plt.figure()\n",
        "plt.pcolormesh(xx, yy, Z, cmap=cmap_light)\n",
        "\n",
        "# Plot also the training points\n",
        "plt.scatter(x_test_transf[:, 0], x_test_transf[:, 1], c=y_test, cmap=cmap_bold)\n",
        "plt.xlabel('sepal length (cm)')\n",
        "plt.ylabel('sepal width (cm)')\n",
        "plt.axis('tight')"
      ],
      "execution_count": 604,
      "outputs": [
        {
          "output_type": "execute_result",
          "data": {
            "text/plain": [
              "(-2.1002193246999092,\n",
              " 2.404888493362811,\n",
              " -1.7940838530506291,\n",
              " 2.5607104068045548)"
            ]
          },
          "metadata": {},
          "execution_count": 604
        },
        {
          "output_type": "display_data",
          "data": {
            "image/png": "[encoded data removed]",
            "text/plain": [
              "<Figure size 432x288 with 1 Axes>"
            ]
          },
          "metadata": {
            "needs_background": "light"
          }
        }
      ]
    },
    {
      "cell_type": "code",
      "metadata": {
        "id": "bRPwqHoCUDjw",
        "colab": {
          "base_uri": "https://localhost:8080/"
        },
        "outputId": "06fafbe9-40a1-457b-8941-585a0dbd167f"
      },
      "source": [
        "# print metric to get performance\n",
        "print(\"Accuracy:\", model.score(x_test_transf, y_test)*100)"
      ],
      "execution_count": 605,
      "outputs": [
        {
          "output_type": "stream",
          "name": "stdout",
          "text": [
            "Accuracy: 84.0\n"
          ]
        }
      ]
    },
    {
      "cell_type": "code",
      "metadata": {
        "id": "ymyCM5gLWGHj",
        "colab": {
          "base_uri": "https://localhost:8080/",
          "height": 348
        },
        "outputId": "b562a2b2-f46a-4c75-d82e-b78a630dec18"
      },
      "source": [
        "# Problem 8(b)\n",
        "# decission tree\n",
        "from sklearn.tree import DecisionTreeClassifier\n",
        "model2 = DecisionTreeClassifier()\n",
        "model2.fit(x_test_transf, y_test)\n",
        "\n",
        "x_min, x_max = x_test_transf[:, 0].min() - .1, x_test_transf[:, 0].max() + .1\n",
        "y_min, y_max = x_test_transf[:, 1].min() - .1, x_test_transf[:, 1].max() + .1\n",
        "xx, yy = np.meshgrid(np.linspace(x_min, x_max, 100), np.linspace(y_min, y_max, 100))\n",
        "Z = model2.predict(np.c_[xx.ravel(), yy.ravel()])\n",
        "#Put the result into a color plot\n",
        "\n",
        "Z = Z.reshape(xx.shape)\n",
        "plt.figure()\n",
        "plt.pcolormesh(xx, yy, Z, cmap=cmap_light)\n",
        "\n",
        "# Plot also the training points\n",
        "plt.scatter(x_test_transf[:, 0], x_test_transf[:, 1], c=y_test, cmap=cmap_bold)\n",
        "plt.xlabel('sepal length (cm)')\n",
        "plt.ylabel('sepal width (cm)')\n",
        "plt.axis('tight')"
      ],
      "execution_count": 606,
      "outputs": [
        {
          "output_type": "execute_result",
          "data": {
            "text/plain": [
              "(-2.1002193246999092,\n",
              " 2.404888493362811,\n",
              " -1.7940838530506291,\n",
              " 2.5607104068045548)"
            ]
          },
          "metadata": {},
          "execution_count": 606
        },
        {
          "output_type": "display_data",
          "data": {
            "image/png": "[encoded data removed]",
            "text/plain": [
              "<Figure size 432x288 with 1 Axes>"
            ]
          },
          "metadata": {
            "needs_background": "light"
          }
        }
      ]
    },
    {
      "cell_type": "code",
      "metadata": {
        "id": "PahpBFiUXXt-",
        "colab": {
          "base_uri": "https://localhost:8080/"
        },
        "outputId": "d513fa02-8ca2-48f8-8bac-a3c7958ad0ed"
      },
      "source": [
        "model2.fit(x_train, y_train)"
      ],
      "execution_count": 607,
      "outputs": [
        {
          "output_type": "execute_result",
          "data": {
            "text/plain": [
              "DecisionTreeClassifier(ccp_alpha=0.0, class_weight=None, criterion='gini',\n",
              "                       max_depth=None, max_features=None, max_leaf_nodes=None,\n",
              "                       min_impurity_decrease=0.0, min_impurity_split=None,\n",
              "                       min_samples_leaf=1, min_samples_split=2,\n",
              "                       min_weight_fraction_leaf=0.0, presort='deprecated',\n",
              "                       random_state=None, splitter='best')"
            ]
          },
          "metadata": {},
          "execution_count": 607
        }
      ]
    },
    {
      "cell_type": "code",
      "metadata": {
        "id": "vxEHa6ffXfKm",
        "colab": {
          "base_uri": "https://localhost:8080/"
        },
        "outputId": "54fd0b1d-068d-4cf2-fdc0-24aa79f263c3"
      },
      "source": [
        "# print metric to get performance\n",
        "print(\"Accuracy:\", model2.score(x_test, y_test)*100)"
      ],
      "execution_count": 608,
      "outputs": [
        {
          "output_type": "stream",
          "name": "stdout",
          "text": [
            "Accuracy: 84.0\n"
          ]
        }
      ]
    },
    {
      "cell_type": "code",
      "metadata": {
        "id": "bziB0OdXXkMH",
        "colab": {
          "base_uri": "https://localhost:8080/",
          "height": 348
        },
        "outputId": "332f1ff4-7342-4a1f-93c4-3199d0693827"
      },
      "source": [
        "from sklearn.svm import SVC\n",
        "from sklearn.pipeline import make_pipeline\n",
        "clf = make_pipeline(StandardScaler(), SVC(gamma='auto'))\n",
        "clf.fit(x_test_transf, y_test)\n",
        "x_min, x_max = x_test_transf[:, 0].min() - .1, x_test_transf[:, 0].max() + .1\n",
        "y_min, y_max = x_test_transf[:, 1].min() - .1, x_test_transf[:, 1].max() + .1\n",
        "xx, yy = np.meshgrid(np.linspace(x_min, x_max, 100), np.linspace(y_min, y_max, 100))\n",
        "Z = clf.predict(np.c_[xx.ravel(), yy.ravel()])\n",
        "#Put the result into a color plot\n",
        "\n",
        "Z = Z.reshape(xx.shape)\n",
        "plt.figure()\n",
        "plt.pcolormesh(xx, yy, Z, cmap=cmap_light)\n",
        "\n",
        "# Plot also the training points\n",
        "plt.scatter(x_test_transf[:, 0], x_test_transf[:, 1], c=y_test, cmap=cmap_bold)\n",
        "plt.xlabel('sepal length (cm)')\n",
        "plt.ylabel('sepal width (cm)')\n",
        "plt.axis('tight')"
      ],
      "execution_count": 609,
      "outputs": [
        {
          "output_type": "execute_result",
          "data": {
            "text/plain": [
              "(-2.1002193246999092,\n",
              " 2.404888493362811,\n",
              " -1.7940838530506291,\n",
              " 2.5607104068045548)"
            ]
          },
          "metadata": {},
          "execution_count": 609
        },
        {
          "output_type": "display_data",
          "data": {
            "image/png": "[encoded data removed]",
            "text/plain": [
              "<Figure size 432x288 with 1 Axes>"
            ]
          },
          "metadata": {
            "needs_background": "light"
          }
        }
      ]
    },
    {
      "cell_type": "code",
      "metadata": {
        "id": "GQ06VbCdY3t3",
        "colab": {
          "base_uri": "https://localhost:8080/",
          "height": 348
        },
        "outputId": "69b4df74-4596-4b24-bdcb-ad508f953692"
      },
      "source": [
        "from sklearn.ensemble import RandomForestClassifier\n",
        "from sklearn.datasets import make_classification\n",
        "P = pd.DataFrame(iris.data, columns= iris.feature_names)\n",
        "P.head()\n",
        "V  = pd.DataFrame(iris.target, columns= (['species']))\n",
        "V.head()\n",
        "df = pd.concat([P, V], axis=1)\n",
        "i = df.iloc[:,0] # Sepal length location\n",
        "k= df.iloc[:,2]  # petal length location\n",
        "j= df.iloc[:,4]  # Species location\n",
        "df1 = pd.concat([i, k,j], axis=1)\n",
        "h1 = df1.loc[df1['species']!= 0]\n",
        "t = h1.iloc[:, 0]\n",
        "r = h1.iloc[:, 1]\n",
        "X =pd.concat([t, r], axis=1)\n",
        "y = h1.iloc[:, 2]\n",
        "\n",
        "clf2 = RandomForestClassifier(max_depth=2, random_state=0)\n",
        "clf2.fit(x_test_transf, y_test)\n",
        "x_min, x_max = x_test_transf[:, 0].min() - .1, x_test_transf[:, 0].max() + .1\n",
        "y_min, y_max = x_test_transf[:, 1].min() - .1, x_test_transf[:, 1].max() + .1\n",
        "xx, yy = np.meshgrid(np.linspace(x_min, x_max, 100), np.linspace(y_min, y_max, 100))\n",
        "Z = clf2.predict(np.c_[xx.ravel(), yy.ravel()])\n",
        "#Put the result into a color plot\n",
        "\n",
        "Z = Z.reshape(xx.shape)\n",
        "plt.figure()\n",
        "plt.pcolormesh(xx, yy, Z, cmap=cmap_light)\n",
        "\n",
        "# Plot also the training points\n",
        "plt.scatter(x_test_transf[:, 0], x_test_transf[:, 1], c=y_test, cmap=cmap_bold)\n",
        "plt.xlabel('sepal length (cm)')\n",
        "plt.ylabel('sepal width (cm)')\n",
        "plt.axis('tight')"
      ],
      "execution_count": 610,
      "outputs": [
        {
          "output_type": "execute_result",
          "data": {
            "text/plain": [
              "(-2.1002193246999092,\n",
              " 2.404888493362811,\n",
              " -1.7940838530506291,\n",
              " 2.5607104068045548)"
            ]
          },
          "metadata": {},
          "execution_count": 610
        },
        {
          "output_type": "display_data",
          "data": {
            "image/png": "[encoded data removed]",
            "text/plain": [
              "<Figure size 432x288 with 1 Axes>"
            ]
          },
          "metadata": {
            "needs_background": "light"
          }
        }
      ]
    },
    {
      "cell_type": "markdown",
      "metadata": {
        "id": "_ZwN7Kf-crkH"
      },
      "source": [
        "SVC evidently give us better results from the graphs.\n",
        "The standardised values offer better segmentation as compared to the unstanderdised data."
      ]
    },
    {
      "cell_type": "code",
      "metadata": {
        "colab": {
          "base_uri": "https://localhost:8080/",
          "height": 300
        },
        "id": "RQgW1vmXKdcx",
        "outputId": "73d15a5e-5220-4694-c2dd-e40bfa844a83"
      },
      "source": [
        "# Problem 10\n",
        "from sklearn.ensemble import RandomForestClassifier\n",
        "from sklearn.datasets import make_classification\n",
        "P = pd.DataFrame(iris.data, columns= iris.feature_names)\n",
        "P.head()\n",
        "V  = pd.DataFrame(iris.target, columns= (['species']))\n",
        "V.head()\n",
        "df = pd.concat([P, V], axis=1)\n",
        "i = df.iloc[:,0] # Sepal length location\n",
        "k= df.iloc[:,2]  # petal length location\n",
        "j= df.iloc[:,4]  # Species location\n",
        "df1 = pd.concat([i, k,j], axis=1)\n",
        "X =pd.concat([i, k], axis=1)\n",
        "y = df1.iloc[:, 2]\n",
        "\n",
        "clf2 = RandomForestClassifier(max_depth=2, random_state=0)\n",
        "clf2.fit(X, y)\n",
        "x_min, x_max = X.iloc[:, 0].min() - .1, X.iloc[:, 0].max() + .1\n",
        "y_min, y_max = X.iloc[:, 1].min() - .1, X.iloc[:, 1].max() + .1\n",
        "xx, yy = np.meshgrid(np.linspace(x_min, x_max, 100), np.linspace(y_min, y_max, 100))\n",
        "Z = clf2.predict(np.c_[xx.ravel(), yy.ravel()])\n",
        "#Put the result into a color plot\n",
        "\n",
        "Z = Z.reshape(xx.shape)\n",
        "plt.figure()\n",
        "plt.pcolormesh(xx, yy, Z, cmap=cmap_light)\n",
        "\n",
        "# Plot also the training points\n",
        "plt.scatter(X.iloc[:, 0], X.iloc[:, 1], c=y, cmap=cmap_bold)\n",
        "plt.xlabel('sepal length (cm)')\n",
        "plt.ylabel('sepal width (cm)')\n",
        "plt.axis('tight')"
      ],
      "execution_count": 611,
      "outputs": [
        {
          "output_type": "execute_result",
          "data": {
            "text/plain": [
              "(4.2, 8.0, 0.9, 7.0)"
            ]
          },
          "metadata": {},
          "execution_count": 611
        },
        {
          "output_type": "display_data",
          "data": {
            "image/png": "[encoded data removed]",
            "text/plain": [
              "<Figure size 432x288 with 1 Axes>"
            ]
          },
          "metadata": {
            "needs_background": "light"
          }
        }
      ]
    },
    {
      "cell_type": "code",
      "metadata": {
        "id": "5DChk3gdPRuJ"
      },
      "source": [
        ""
      ],
      "execution_count": 611,
      "outputs": []
    }
  ]
}