{
  "nbformat": 4,
  "nbformat_minor": 0,
  "metadata": {
    "colab": {
      "name": "First_Assignment.ipynb",
      "provenance": [],
      "collapsed_sections": [],
      "authorship_tag": "ABX9TyPxfO2U0hJkWYxmL43QZLvE",
      "include_colab_link": true
    },
    "kernelspec": {
      "name": "python3",
      "display_name": "Python 3"
    },
    "language_info": {
      "name": "python"
    }
  },
  "cells": [
    {
      "cell_type": "markdown",
      "metadata": {
        "id": "view-in-github",
        "colab_type": "text"
      },
      "source": [
        "<a href=\"https://colab.research.google.com/github/Mochismo/LearnPython/blob/main/First_Assignment.ipynb\" target=\"_parent\"><img src=\"https://colab.research.google.com/assets/colab-badge.svg\" alt=\"Open In Colab\"/></a>"
      ]
    },
    {
      "cell_type": "code",
      "metadata": {
        "colab": {
          "base_uri": "https://localhost:8080/"
        },
        "id": "6G3DC4R8Uigv",
        "outputId": "c34abc14-aac6-42b8-cc13-f3f8091abe30"
      },
      "source": [
        "#%%timeit\n",
        "#Thickness of paper\n",
        "Thickness = 0.00008\n",
        "folded_thickness = Thickness* (2**43)\n",
        "print(\"Thickness : {} meters\".format(folded_thickness))"
      ],
      "execution_count": 144,
      "outputs": [
        {
          "output_type": "stream",
          "name": "stdout",
          "text": [
            "Thickness : 703687441.77664 meters\n"
          ]
        }
      ]
    },
    {
      "cell_type": "code",
      "metadata": {
        "colab": {
          "base_uri": "https://localhost:8080/"
        },
        "id": "JaudJT27UsZh",
        "outputId": "f7637b69-8cee-4e34-8922-87411207c022"
      },
      "source": [
        "import time\n",
        "start = time.time()\n",
        "#%%timeit\n",
        "Thickness = 0.00008\n",
        "folded_thickness = Thickness* (2**43)\n",
        "powerkm =(\"10^4\")\n",
        "print(\"Thickness : {: .2f}X{} kilometers.\".format((folded_thickness/ 10000000), powerkm))\n",
        "elapsed_time = time.time () - start\n",
        "print(\"time: {} [s]\" .format(elapsed_time))"
      ],
      "execution_count": 142,
      "outputs": [
        {
          "output_type": "stream",
          "name": "stdout",
          "text": [
            "Thickness :  70.37X10^4 kilometers.\n",
            "time: 0.0002696514129638672 [s]\n"
          ]
        }
      ]
    },
    {
      "cell_type": "code",
      "metadata": {
        "id": "-Pdls59BVS5Y",
        "colab": {
          "base_uri": "https://localhost:8080/"
        },
        "outputId": "757fb212-29e3-41d5-905a-646f2021b572"
      },
      "source": [
        "#import time\n",
        "start = time.time()\n",
        "#%%timeit\n",
        "a = 1\n",
        "Thickness = 0.00008\n",
        "powerkm =(\"10^4\")\n",
        "for b in range(43):\n",
        "  if b ==43:\n",
        "    a = (a *2)\n",
        "    c = a*Thickness\n",
        "else:\n",
        "    print(c)\n",
        "    print(\"Thickness : {: .2f}X{} kilometers.\".format((c/ 10000000), powerkm))\n",
        "elapsed_time = time.time () - start\n",
        "print(\"time: {} [s]\" .format(elapsed_time))"
      ],
      "execution_count": 141,
      "outputs": [
        {
          "output_type": "stream",
          "name": "stdout",
          "text": [
            "703687441.77664\n",
            "Thickness :  70.37X10^4 kilometers.\n",
            "time: 0.0004658699035644531 [s]\n"
          ]
        }
      ]
    },
    {
      "cell_type": "code",
      "metadata": {
        "colab": {
          "base_uri": "https://localhost:8080/"
        },
        "id": "8Q0Mnyi4DN-B",
        "outputId": "1c61a3f1-ed5e-4772-e22b-e7243fd68d28"
      },
      "source": [
        "#import time\n",
        "start = time.time()\n",
        "#%%timeit\n",
        "a = 1\n",
        "H = []\n",
        "H.insert(0, 0.00008)\n",
        "Thickness = 0.00008\n",
        "powerkm =(\"10^4\")\n",
        "for b in range(43):\n",
        "  if b <=43:\n",
        "    a = (a*2)\n",
        "    c = a*Thickness\n",
        "    Folded_list = H.append(c)\n",
        "#H.insert(0, 0.00008, c)\n",
        "\n",
        "  #print(c)\n",
        "    #print(\"Thickness : {: .2f}X{} kilometers.\".format((c/ 10000000), powerkm))\n",
        "#elapsed_time = time.time () - start\n",
        "#print(\"time: {} [s]\" .format(elapsed_time))\n",
        "print(H)\n",
        "print(len(H))\n"
      ],
      "execution_count": 177,
      "outputs": [
        {
          "output_type": "stream",
          "name": "stdout",
          "text": [
            "[8e-05, 0.00016, 0.00032, 0.00064, 0.00128, 0.00256, 0.00512, 0.01024, 0.02048, 0.04096, 0.08192, 0.16384, 0.32768, 0.65536, 1.31072, 2.62144, 5.24288, 10.48576, 20.97152, 41.94304, 83.88608, 167.77216, 335.54432, 671.08864, 1342.17728, 2684.35456, 5368.70912, 10737.41824, 21474.83648, 42949.67296, 85899.34592, 171798.69184, 343597.38368, 687194.76736, 1374389.53472, 2748779.06944, 5497558.13888, 10995116.27776, 21990232.55552, 43980465.11104, 87960930.22208, 175921860.44416, 351843720.88832, 703687441.77664]\n",
            "44\n"
          ]
        }
      ]
    },
    {
      "cell_type": "code",
      "metadata": {
        "colab": {
          "base_uri": "https://localhost:8080/",
          "height": 347
        },
        "id": "i6YqaalQkf9V",
        "outputId": "eceda20e-ea7c-4de4-dd09-df6fcb793118"
      },
      "source": [
        "#import time\n",
        "import matplotlib.pyplot as plt\n",
        "%matplotlib inline\n",
        "start = time.time()\n",
        "#%%timeit\n",
        "a = 1\n",
        "H = []\n",
        "H.insert(0, 0.00008)\n",
        "Thickness = 0.00008\n",
        "powerkm =(\"10^4\")\n",
        "for b in range(43):\n",
        "  if b <=43:\n",
        "    a = (a*2)\n",
        "    c = a*Thickness\n",
        "    Folded_list = H.append(c)\n",
        "#H.insert(0, 0.00008, c)\n",
        "\n",
        "  #print(c)\n",
        "    #print(\"Thickness : {: .2f}X{} kilometers.\".format((c/ 10000000), powerkm))\n",
        "#elapsed_time = time.time () - start\n",
        "#print(\"time: {} [s]\" .format(elapsed_time))\n",
        "plt.title(\"Thickness of Folded Paper\")\n",
        "plt.xlabel(\"Number of Folds\")\n",
        "plt.ylabel(\"Thickness [Km]\")\n",
        "plt.plot(H)\n",
        "print(H)\n",
        "print(len(H))"
      ],
      "execution_count": 178,
      "outputs": [
        {
          "output_type": "stream",
          "name": "stdout",
          "text": [
            "[8e-05, 0.00016, 0.00032, 0.00064, 0.00128, 0.00256, 0.00512, 0.01024, 0.02048, 0.04096, 0.08192, 0.16384, 0.32768, 0.65536, 1.31072, 2.62144, 5.24288, 10.48576, 20.97152, 41.94304, 83.88608, 167.77216, 335.54432, 671.08864, 1342.17728, 2684.35456, 5368.70912, 10737.41824, 21474.83648, 42949.67296, 85899.34592, 171798.69184, 343597.38368, 687194.76736, 1374389.53472, 2748779.06944, 5497558.13888, 10995116.27776, 21990232.55552, 43980465.11104, 87960930.22208, 175921860.44416, 351843720.88832, 703687441.77664]\n",
            "44\n"
          ]
        },
        {
          "output_type": "display_data",
          "data": {
            "image/png": "[encoded data removed]",
            "text/plain": [
              "<Figure size 432x288 with 1 Axes>"
            ]
          },
          "metadata": {
            "needs_background": "light"
          }
        }
      ]
    },
    {
      "cell_type": "code",
      "metadata": {
        "colab": {
          "base_uri": "https://localhost:8080/",
          "height": 356
        },
        "id": "MrJzLDNzyk8X",
        "outputId": "fc1844d3-1740-48f0-9ada-9b70c37b14d3"
      },
      "source": [
        "#import time\n",
        "import matplotlib.pyplot as plt\n",
        "%matplotlib inline\n",
        "start = time.time()\n",
        "#%%timeit\n",
        "a = 1\n",
        "H = []\n",
        "H.insert(0, 0.00008)\n",
        "Thickness = 0.00008\n",
        "powerkm =(\"10^4\")\n",
        "for b in range(43):\n",
        "  if b <=43:\n",
        "    a = (a*2)\n",
        "    c = a*Thickness\n",
        "    Folded_list = H.append(c)\n",
        "#H.insert(0, 0.00008, c)\n",
        "\n",
        "  #print(c)\n",
        "    #print(\"Thickness : {: .2f}X{} kilometers.\".format((c/ 10000000), powerkm))\n",
        "#elapsed_time = time.time () - start\n",
        "#print(\"time: {} [s]\" .format(elapsed_time))\n",
        "plt.title(\"Thickness of Folded Paper\")\n",
        "plt.xlabel(\"Number of Folds\")\n",
        "plt.ylabel(\"Thickness [Km]\")\n",
        "plt.tick_params(labelsize=20)\n",
        "plt.plot(H, color='red')\n",
        "plt.show\n",
        "print(H)\n",
        "print(len(H))"
      ],
      "execution_count": 182,
      "outputs": [
        {
          "output_type": "stream",
          "name": "stdout",
          "text": [
            "[8e-05, 0.00016, 0.00032, 0.00064, 0.00128, 0.00256, 0.00512, 0.01024, 0.02048, 0.04096, 0.08192, 0.16384, 0.32768, 0.65536, 1.31072, 2.62144, 5.24288, 10.48576, 20.97152, 41.94304, 83.88608, 167.77216, 335.54432, 671.08864, 1342.17728, 2684.35456, 5368.70912, 10737.41824, 21474.83648, 42949.67296, 85899.34592, 171798.69184, 343597.38368, 687194.76736, 1374389.53472, 2748779.06944, 5497558.13888, 10995116.27776, 21990232.55552, 43980465.11104, 87960930.22208, 175921860.44416, 351843720.88832, 703687441.77664]\n",
            "44\n"
          ]
        },
        {
          "output_type": "display_data",
          "data": {
            "image/png": "[encoded data removed]",
            "text/plain": [
              "<Figure size 432x288 with 1 Axes>"
            ]
          },
          "metadata": {
            "needs_background": "light"
          }
        }
      ]
    },
    {
      "cell_type": "code",
      "metadata": {
        "id": "YhWZYt9dz_c4"
      },
      "source": [
        ""
      ],
      "execution_count": null,
      "outputs": []
    }
  ]
}