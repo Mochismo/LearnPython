{
  "nbformat": 4,
  "nbformat_minor": 0,
  "metadata": {
    "colab": {
      "name": "Seventh_Assignment.ipynb",
      "provenance": [],
      "authorship_tag": "ABX9TyMgx7wSfHqjVfA2Gyty45vD",
      "include_colab_link": true
    },
    "kernelspec": {
      "name": "python3",
      "display_name": "Python 3"
    },
    "language_info": {
      "name": "python"
    }
  },
  "cells": [
    {
      "cell_type": "markdown",
      "metadata": {
        "id": "view-in-github",
        "colab_type": "text"
      },
      "source": [
        "<a href=\"https://colab.research.google.com/github/Mochismo/LearnPython/blob/main/Seventh_Assignment.ipynb\" target=\"_parent\"><img src=\"https://colab.research.google.com/assets/colab-badge.svg\" alt=\"Open In Colab\"/></a>"
      ]
    },
    {
      "cell_type": "code",
      "metadata": {
        "colab": {
          "base_uri": "https://localhost:8080/"
        },
        "id": "w9jIzsm5ggy_",
        "outputId": "707d4909-1767-44c1-9884-a4d3aa539c70"
      },
      "source": [
        "#Problem 2\n",
        "import numpy as np\n",
        "a_ndarray = np.array([[-1, 2, 3], [4, -5, 6], [7, 8,-9]])\n",
        "b_ndarray = np.array([[0, 2, 1], [0, 2, -8], [2, 9, -1]])\n",
        "c_ndarray = np.matmul(a_ndarray, b_ndarray)\n",
        "print(c_ndarray)\n",
        "print(a_ndarray @ b_ndarray)\n"
      ],
      "execution_count": 3,
      "outputs": [
        {
          "output_type": "stream",
          "name": "stdout",
          "text": [
            "[[  6  29 -20]\n",
            " [ 12  52  38]\n",
            " [-18 -51 -48]]\n",
            "[[  6  29 -20]\n",
            " [ 12  52  38]\n",
            " [-18 -51 -48]]\n"
          ]
        }
      ]
    },
    {
      "cell_type": "code",
      "metadata": {
        "id": "wt_7juPzz0bg"
      },
      "source": [
        ""
      ],
      "execution_count": null,
      "outputs": []
    },
    {
      "cell_type": "code",
      "metadata": {
        "colab": {
          "base_uri": "https://localhost:8080/"
        },
        "id": "SEJD9NVa5bmC",
        "outputId": "79b6736b-179c-4d92-a786-4bc316cb5609"
      },
      "source": [
        "#Problem 3(1)\n",
        "A=[[-1,2,3],[4,-5,6],[7,8,-9]]\n",
        "B=[[0,2,1],[0,2,-8],[2,9,-1]]\n",
        "# result is 3x3\n",
        "result = [[0,0,0],\n",
        "         [0,0,0],\n",
        "         [0,0,0]]\n",
        "\n",
        "# iterate through rows of A\n",
        "for i in range(len(A)):\n",
        "   # iterate through columns of B\n",
        "   for j in range(len(B[0])):\n",
        "       # iterate through rows of B\n",
        "       for k in range(len(B)):\n",
        "           result[i][j] += X[i][k] * Y[k][j]\n",
        "\n",
        "for r in result:\n",
        "   print(r)"
      ],
      "execution_count": 23,
      "outputs": [
        {
          "output_type": "stream",
          "name": "stdout",
          "text": [
            "[6, 29, -20]\n",
            "[12, 52, 38]\n",
            "[-18, -51, -48]\n"
          ]
        }
      ]
    },
    {
      "cell_type": "code",
      "metadata": {
        "colab": {
          "base_uri": "https://localhost:8080/"
        },
        "id": "eUE8XxN_6l0o",
        "outputId": "5e984e34-3f69-47af-a821-4b09dec6b382"
      },
      "source": [
        "# Problem 3(2)\n",
        "\n",
        "# 3x3 matrix\n",
        "X = [[-1,2,3],\n",
        "    [4 ,-5,6],\n",
        "    [7 ,8,-9]]\n",
        "\n",
        "# 3x4 matrix\n",
        "Y = [[0,2,1],\n",
        "    [0,2,-8],\n",
        "    [2,9,-1]]\n",
        "\n",
        "# result is 3x4\n",
        "result = [[sum(a*b for a,b in zip(X_row,Y_col)) for Y_col in zip(*Y)] for X_row in X]\n",
        "\n",
        "for r in result:\n",
        "   print(r)\n"
      ],
      "execution_count": 22,
      "outputs": [
        {
          "output_type": "stream",
          "name": "stdout",
          "text": [
            "[6, 29, -20]\n",
            "[12, 52, 38]\n",
            "[-18, -51, -48]\n"
          ]
        }
      ]
    },
    {
      "cell_type": "code",
      "metadata": {
        "colab": {
          "base_uri": "https://localhost:8080/"
        },
        "id": "vaPS3F87AAgU",
        "outputId": "9a938d27-ed15-44f5-aa8c-b17269c5ac0a"
      },
      "source": [
        "#Problem 3(3)\n",
        "A=[[-1,2,3],[4,-5,6],[7,8,-9]]\n",
        "B=[[0,2,1],[0,2,-8],[2,9,-1]]\n",
        "C = []\n",
        "for i in range(0,len(A)):\n",
        "  temp=[]\n",
        "  for j in range(0,len(B[0])):\n",
        "    s=0\n",
        "    for k in range(0,len(A[0])):\n",
        "      s += A[i][k]*B[k][j]\n",
        "    temp.append(s)\n",
        "    C.append(temp)\n",
        "    print(temp)         "
      ],
      "execution_count": 32,
      "outputs": [
        {
          "output_type": "stream",
          "name": "stdout",
          "text": [
            "[6]\n",
            "[6, 29]\n",
            "[6, 29, -20]\n",
            "[12]\n",
            "[12, 52]\n",
            "[12, 52, 38]\n",
            "[-18]\n",
            "[-18, -51]\n",
            "[-18, -51, -48]\n"
          ]
        }
      ]
    },
    {
      "cell_type": "code",
      "metadata": {
        "id": "gNKR7THrhj4a",
        "colab": {
          "base_uri": "https://localhost:8080/"
        },
        "outputId": "e749a4e8-55ef-401f-cdb4-0e27d00b7aee"
      },
      "source": [
        "#Problem 4\n",
        "def MM(A,B):\n",
        "  C = []\n",
        "  for i in range(0,len(A)):\n",
        "    temp=[]\n",
        "    for j in range(0,len(B[0])):\n",
        "      s=0\n",
        "      for k in range(0,len(A[0])):\n",
        "        s += A[i][k]*B[k][j]\n",
        "      temp.append(s)\n",
        "    C.append(temp) \n",
        "  return C \n",
        "MM([[-1,2,3],[4,-5,6],[7,8,-9]], [[0,2,1],[0,2,-8],[2,9,-1]])\n",
        "\n"
      ],
      "execution_count": 36,
      "outputs": [
        {
          "output_type": "execute_result",
          "data": {
            "text/plain": [
              "[[6, 29, -20], [12, 52, 38], [-18, -51, -48]]"
            ]
          },
          "metadata": {},
          "execution_count": 36
        }
      ]
    },
    {
      "cell_type": "code",
      "metadata": {
        "colab": {
          "base_uri": "https://localhost:8080/"
        },
        "id": "P6bnTNtoQ8ms",
        "outputId": "d507bcc8-2640-41e5-e1b4-9dd279a066f0"
      },
      "source": [
        "# Problem 5\n",
        "A=[[-1,2,3],[4,-5,6]]\n",
        "B=[[-9,8,7],[6,-5,4]]\n",
        "matrix=[]\n",
        "\n",
        "def multiplicationLineColumn(line,column):\n",
        "    try:\n",
        "        sizeLine=len(line)\n",
        "        sizeColumn=len(column)\n",
        "        if(sizeLine!=sizeColumn):\n",
        "            raise ValueError(\"Exception\")\n",
        "        res = sum([line[i] * column[i] for i in range(sizeLine)])\n",
        "        return res\n",
        "    except ValueError:\n",
        "        print(\"sould have the same len line & column\")\n",
        "\n",
        "def  getColumn(matrix,numColumn):\n",
        "    size=len(matrix)\n",
        "    column= [matrix[i][numColumn] for i in range(size)]\n",
        "    return column\n",
        "\n",
        "def getLine(matrix,numLine):\n",
        "    line = matrix[numLine]\n",
        "    return line\n",
        "\n",
        "for i in range(len(A)):\n",
        "    matrix.append([])\n",
        "    for j in range(len(B)):\n",
        "        matrix[i].append(multiplicationLineColumn(getLine(A,i),getColumn(B,j)))\n"
      ],
      "execution_count": 1,
      "outputs": [
        {
          "output_type": "stream",
          "name": "stdout",
          "text": [
            "sould have the same len line & column\n",
            "sould have the same len line & column\n",
            "sould have the same len line & column\n",
            "sould have the same len line & column\n"
          ]
        }
      ]
    },
    {
      "cell_type": "code",
      "metadata": {
        "colab": {
          "base_uri": "https://localhost:8080/",
          "height": 352
        },
        "id": "65eri4SmwAhI",
        "outputId": "97c398cc-a838-4e73-af9f-b5b89a88b40e"
      },
      "source": [
        "# Problem 6\n",
        "A=[[-1,2,3],[4,-5,6]]\n",
        "B=[[0,2,1],[0,2,-8]]\n",
        "B=np.transpose([[0,2,1],[0,2,-8]])\n",
        "matrix=[]\n",
        "\n",
        "def multiplicationLineColumn(line,column):\n",
        "    try:\n",
        "        sizeLine=len(line)\n",
        "        sizeColumn=len(column)\n",
        "        if(sizeLine!=sizeColumn):\n",
        "            raise ValueError(\"Exception\")\n",
        "        res = sum([line[i] * column[i] for i in range(sizeLine)])\n",
        "        return res\n",
        "    except ValueError:\n",
        "        print(\"sould have the same len line & column\")\n",
        "\n",
        "def  getColumn(matrix,numColumn):\n",
        "    size=len(matrix)\n",
        "    column= [matrix[i][numColumn] for i in range(size)]\n",
        "    return column\n",
        "\n",
        "def getLine(matrix,numLine):\n",
        "    line = matrix[numLine]\n",
        "    return line\n",
        "\n",
        "for i in range(len(A)):\n",
        "    matrix.append([])\n",
        "    for j in range(len(B)):\n",
        "        matrix[i].append(multiplicationLineColumn(getLine(A,i),getColumn(B,j)))"
      ],
      "execution_count": 5,
      "outputs": [
        {
          "output_type": "error",
          "ename": "IndexError",
          "evalue": "ignored",
          "traceback": [
            "\u001b[0;31m---------------------------------------------------------------------------\u001b[0m",
            "\u001b[0;31mIndexError\u001b[0m                                Traceback (most recent call last)",
            "\u001b[0;32m<ipython-input-5-9747ccb216fd>\u001b[0m in \u001b[0;36m<module>\u001b[0;34m()\u001b[0m\n\u001b[1;32m     28\u001b[0m     \u001b[0mmatrix\u001b[0m\u001b[0;34m.\u001b[0m\u001b[0mappend\u001b[0m\u001b[0;34m(\u001b[0m\u001b[0;34m[\u001b[0m\u001b[0;34m]\u001b[0m\u001b[0;34m)\u001b[0m\u001b[0;34m\u001b[0m\u001b[0;34m\u001b[0m\u001b[0m\n\u001b[1;32m     29\u001b[0m     \u001b[0;32mfor\u001b[0m \u001b[0mj\u001b[0m \u001b[0;32min\u001b[0m \u001b[0mrange\u001b[0m\u001b[0;34m(\u001b[0m\u001b[0mlen\u001b[0m\u001b[0;34m(\u001b[0m\u001b[0mB\u001b[0m\u001b[0;34m)\u001b[0m\u001b[0;34m)\u001b[0m\u001b[0;34m:\u001b[0m\u001b[0;34m\u001b[0m\u001b[0;34m\u001b[0m\u001b[0m\n\u001b[0;32m---> 30\u001b[0;31m         \u001b[0mmatrix\u001b[0m\u001b[0;34m[\u001b[0m\u001b[0mi\u001b[0m\u001b[0;34m]\u001b[0m\u001b[0;34m.\u001b[0m\u001b[0mappend\u001b[0m\u001b[0;34m(\u001b[0m\u001b[0mmultiplicationLineColumn\u001b[0m\u001b[0;34m(\u001b[0m\u001b[0mgetLine\u001b[0m\u001b[0;34m(\u001b[0m\u001b[0mA\u001b[0m\u001b[0;34m,\u001b[0m\u001b[0mi\u001b[0m\u001b[0;34m)\u001b[0m\u001b[0;34m,\u001b[0m\u001b[0mgetColumn\u001b[0m\u001b[0;34m(\u001b[0m\u001b[0mB\u001b[0m\u001b[0;34m,\u001b[0m\u001b[0mj\u001b[0m\u001b[0;34m)\u001b[0m\u001b[0;34m)\u001b[0m\u001b[0;34m)\u001b[0m\u001b[0;34m\u001b[0m\u001b[0;34m\u001b[0m\u001b[0m\n\u001b[0m",
            "\u001b[0;32m<ipython-input-5-9747ccb216fd>\u001b[0m in \u001b[0;36mgetColumn\u001b[0;34m(matrix, numColumn)\u001b[0m\n\u001b[1;32m     18\u001b[0m \u001b[0;32mdef\u001b[0m  \u001b[0mgetColumn\u001b[0m\u001b[0;34m(\u001b[0m\u001b[0mmatrix\u001b[0m\u001b[0;34m,\u001b[0m\u001b[0mnumColumn\u001b[0m\u001b[0;34m)\u001b[0m\u001b[0;34m:\u001b[0m\u001b[0;34m\u001b[0m\u001b[0;34m\u001b[0m\u001b[0m\n\u001b[1;32m     19\u001b[0m     \u001b[0msize\u001b[0m\u001b[0;34m=\u001b[0m\u001b[0mlen\u001b[0m\u001b[0;34m(\u001b[0m\u001b[0mmatrix\u001b[0m\u001b[0;34m)\u001b[0m\u001b[0;34m\u001b[0m\u001b[0;34m\u001b[0m\u001b[0m\n\u001b[0;32m---> 20\u001b[0;31m     \u001b[0mcolumn\u001b[0m\u001b[0;34m=\u001b[0m \u001b[0;34m[\u001b[0m\u001b[0mmatrix\u001b[0m\u001b[0;34m[\u001b[0m\u001b[0mi\u001b[0m\u001b[0;34m]\u001b[0m\u001b[0;34m[\u001b[0m\u001b[0mnumColumn\u001b[0m\u001b[0;34m]\u001b[0m \u001b[0;32mfor\u001b[0m \u001b[0mi\u001b[0m \u001b[0;32min\u001b[0m \u001b[0mrange\u001b[0m\u001b[0;34m(\u001b[0m\u001b[0msize\u001b[0m\u001b[0;34m)\u001b[0m\u001b[0;34m]\u001b[0m\u001b[0;34m\u001b[0m\u001b[0;34m\u001b[0m\u001b[0m\n\u001b[0m\u001b[1;32m     21\u001b[0m     \u001b[0;32mreturn\u001b[0m \u001b[0mcolumn\u001b[0m\u001b[0;34m\u001b[0m\u001b[0;34m\u001b[0m\u001b[0m\n\u001b[1;32m     22\u001b[0m \u001b[0;34m\u001b[0m\u001b[0m\n",
            "\u001b[0;32m<ipython-input-5-9747ccb216fd>\u001b[0m in \u001b[0;36m<listcomp>\u001b[0;34m(.0)\u001b[0m\n\u001b[1;32m     18\u001b[0m \u001b[0;32mdef\u001b[0m  \u001b[0mgetColumn\u001b[0m\u001b[0;34m(\u001b[0m\u001b[0mmatrix\u001b[0m\u001b[0;34m,\u001b[0m\u001b[0mnumColumn\u001b[0m\u001b[0;34m)\u001b[0m\u001b[0;34m:\u001b[0m\u001b[0;34m\u001b[0m\u001b[0;34m\u001b[0m\u001b[0m\n\u001b[1;32m     19\u001b[0m     \u001b[0msize\u001b[0m\u001b[0;34m=\u001b[0m\u001b[0mlen\u001b[0m\u001b[0;34m(\u001b[0m\u001b[0mmatrix\u001b[0m\u001b[0;34m)\u001b[0m\u001b[0;34m\u001b[0m\u001b[0;34m\u001b[0m\u001b[0m\n\u001b[0;32m---> 20\u001b[0;31m     \u001b[0mcolumn\u001b[0m\u001b[0;34m=\u001b[0m \u001b[0;34m[\u001b[0m\u001b[0mmatrix\u001b[0m\u001b[0;34m[\u001b[0m\u001b[0mi\u001b[0m\u001b[0;34m]\u001b[0m\u001b[0;34m[\u001b[0m\u001b[0mnumColumn\u001b[0m\u001b[0;34m]\u001b[0m \u001b[0;32mfor\u001b[0m \u001b[0mi\u001b[0m \u001b[0;32min\u001b[0m \u001b[0mrange\u001b[0m\u001b[0;34m(\u001b[0m\u001b[0msize\u001b[0m\u001b[0;34m)\u001b[0m\u001b[0;34m]\u001b[0m\u001b[0;34m\u001b[0m\u001b[0;34m\u001b[0m\u001b[0m\n\u001b[0m\u001b[1;32m     21\u001b[0m     \u001b[0;32mreturn\u001b[0m \u001b[0mcolumn\u001b[0m\u001b[0;34m\u001b[0m\u001b[0;34m\u001b[0m\u001b[0m\n\u001b[1;32m     22\u001b[0m \u001b[0;34m\u001b[0m\u001b[0m\n",
            "\u001b[0;31mIndexError\u001b[0m: index 2 is out of bounds for axis 0 with size 2"
          ]
        }
      ]
    },
    {
      "cell_type": "code",
      "metadata": {
        "id": "Saj9zGFSwTNh"
      },
      "source": [
        ""
      ],
      "execution_count": null,
      "outputs": []
    }
  ]
}