{
  "nbformat": 4,
  "nbformat_minor": 0,
  "metadata": {
    "colab": {
      "name": "Third_Assignment.ipynb",
      "provenance": [],
      "collapsed_sections": [],
      "authorship_tag": "ABX9TyP4KWU2tj0Wh/l1K+u1wSku",
      "include_colab_link": true
    },
    "kernelspec": {
      "name": "python3",
      "display_name": "Python 3"
    },
    "language_info": {
      "name": "python"
    }
  },
  "cells": [
    {
      "cell_type": "markdown",
      "metadata": {
        "id": "view-in-github",
        "colab_type": "text"
      },
      "source": [
        "<a href=\"https://colab.research.google.com/github/Mochismo/LearnPython/blob/main/Third_Assignment.ipynb\" target=\"_parent\"><img src=\"https://colab.research.google.com/assets/colab-badge.svg\" alt=\"Open In Colab\"/></a>"
      ]
    },
    {
      "cell_type": "code",
      "metadata": {
        "colab": {
          "base_uri": "https://localhost:8080/"
        },
        "id": "s5NWNL_rdlO2",
        "outputId": "6a0ac5b9-9b19-497b-ded2-11b9ae69f920"
      },
      "source": [
        "a= 1\n",
        "#H = []\n",
        "#H.insert(0, 0.00008)\n",
        "for b in range(100):\n",
        "  if b <=100:\n",
        "    a = (a*2)\n",
        "    c = 0.00008*a\n",
        "    if c >= 3776:  \n",
        "      print(b) \n",
        "      print(c)\n",
        "      print(\"You need to fold the paper \", b , \"times to pass the mountain height!!\")\n",
        "      break\n",
        "    #break\n",
        "  #break"
      ],
      "execution_count": 40,
      "outputs": [
        {
          "output_type": "stream",
          "name": "stdout",
          "text": [
            "25\n",
            "5368.70912\n",
            "You need to fold the paper  25 times to pass the mountain height!!\n"
          ]
        }
      ]
    },
    {
      "cell_type": "code",
      "metadata": {
        "id": "BdAR6QoanUUM",
        "colab": {
          "base_uri": "https://localhost:8080/"
        },
        "outputId": "c543066e-5bfa-4fd0-af41-710195ad2c9d"
      },
      "source": [
        "def compute_mountfuji_height(f, g, d, a = 1, e = 0.00008):\n",
        "  #\"\"\"(a= paper unit, b is the number of paper folds, c is the\n",
        "  # paper thickness with time and folds, d is the distance to star, \n",
        "  # e is the paper thickness, f is the range for counts)\"\"\"\"\n",
        "   for b in range(f):\n",
        "    if b <= g:\n",
        "      a = (a*2)\n",
        "      c = e*a \n",
        "    if c >= d: \n",
        "      print(b)\n",
        "      print(c)\n",
        "      print(\"You need to fold the paper\", b , \"times to reach the star!!\")\n",
        "      return c, b\n",
        "      break\n",
        "compute_mountfuji_height(100, 100, 4.0175*(10**16))\n"
      ],
      "execution_count": 56,
      "outputs": [
        {
          "output_type": "stream",
          "name": "stdout",
          "text": [
            "68\n",
            "4.7223664828696456e+16\n",
            "You need to fold the paper 68 times to reach the star!!\n"
          ]
        },
        {
          "output_type": "execute_result",
          "data": {
            "text/plain": [
              "(4.7223664828696456e+16, 68)"
            ]
          },
          "metadata": {},
          "execution_count": 56
        }
      ]
    },
    {
      "cell_type": "code",
      "metadata": {
        "id": "z50DequIFCz7",
        "colab": {
          "base_uri": "https://localhost:8080/"
        },
        "outputId": "0f9ed3b7-f008-4845-c217-961fdb45d195"
      },
      "source": [
        "def compute_required_paperlengths(n, e, z, f, g, c=0.00008, P=3.142):\n",
        "  #***c=paper  thickness, n=paper folds, P= 3.142, (To get different lengths\n",
        "  # you change the value n for different folds.)***\n",
        "  for b in range(f):\n",
        "    if b<=g:\n",
        "      L = ((P*c)/6)*((2**n)+4)*((2**n)-1)\n",
        "      L1= ((P*c)/6)*((2**e)+4)*((2**n)-1)\n",
        "      L2= ((P*c)/6)*((2**z)+4)*((2**n)-1)\n",
        "      print(\"You need a paper of\", L, \"meters folded\", n, \"times to reach the star!!\")\n",
        "      print(\"You need a paper of\", L1, \"meters folded\", e, \"times to reach the mount Fuji!!\")\n",
        "      print(\"You need a paper of\", L2, \"meters folded\", z, \"times to reach the moon!!\")\n",
        "      return L, L1, L2\n",
        "      break\n",
        "compute_required_paperlengths(68, 25, 43, 100, 100)"
      ],
      "execution_count": 61,
      "outputs": [
        {
          "output_type": "stream",
          "name": "stdout",
          "text": [
            "You need a paper of 3.649424031967876e+36 meters folded 68 times to reach the star!!\n",
            "You need a paper of 4.148915271586159e+23 meters folded 25 times to reach the mount Fuji!!\n",
            "You need a paper of 1.0876131153015898e+29 meters folded 43 times to reach the moon!!\n"
          ]
        },
        {
          "output_type": "execute_result",
          "data": {
            "text/plain": [
              "(3.649424031967876e+36, 4.148915271586159e+23, 1.0876131153015898e+29)"
            ]
          },
          "metadata": {},
          "execution_count": 61
        }
      ]
    },
    {
      "cell_type": "code",
      "metadata": {
        "id": "5ug82p7UO-TI"
      },
      "source": [
        ""
      ],
      "execution_count": null,
      "outputs": []
    }
  ]
}