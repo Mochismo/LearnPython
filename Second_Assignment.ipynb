{
  "nbformat": 4,
  "nbformat_minor": 0,
  "metadata": {
    "colab": {
      "name": "Second_Assignment.ipynb",
      "provenance": [],
      "collapsed_sections": [],
      "authorship_tag": "ABX9TyPb37V01pdFj7lqPTl4QVqm",
      "include_colab_link": true
    },
    "kernelspec": {
      "name": "python3",
      "display_name": "Python 3"
    },
    "language_info": {
      "name": "python"
    }
  },
  "cells": [
    {
      "cell_type": "markdown",
      "metadata": {
        "id": "view-in-github",
        "colab_type": "text"
      },
      "source": [
        "<a href=\"https://colab.research.google.com/github/Mochismo/LearnPython/blob/main/Second_Assignment.ipynb\" target=\"_parent\"><img src=\"https://colab.research.google.com/assets/colab-badge.svg\" alt=\"Open In Colab\"/></a>"
      ]
    },
    {
      "cell_type": "code",
      "metadata": {
        "colab": {
          "base_uri": "https://localhost:8080/",
          "height": 350
        },
        "id": "igqV09jGeU1p",
        "outputId": "64da0a19-2e43-456d-8503-64b9fb0b74a3"
      },
      "source": [
        "import matplotlib.pyplot as plt\n",
        "%matplotlib inline\n",
        "a = 1\n",
        "H = []\n",
        "H.insert(0, 1)\n",
        "Grain_Unit = 1\n",
        "for b in range(99):\n",
        "  if b <=99:\n",
        "    a = (a *2)\n",
        "    c = a*Grain_Unit\n",
        "    H.append(c)\n",
        "else:\n",
        "  c = c-1\n",
        "  print(c)\n",
        "plt.title(\"Scholars Gift\")\n",
        "plt.xlabel(\"Number of Grains\")\n",
        "plt.ylabel(\"Number of Days\")\n",
        "plt.plot(H)\n",
        "print(H) "
      ],
      "execution_count": 58,
      "outputs": [
        {
          "output_type": "stream",
          "name": "stdout",
          "text": [
            "633825300114114700748351602687\n",
            "[1, 2, 4, 8, 16, 32, 64, 128, 256, 512, 1024, 2048, 4096, 8192, 16384, 32768, 65536, 131072, 262144, 524288, 1048576, 2097152, 4194304, 8388608, 16777216, 33554432, 67108864, 134217728, 268435456, 536870912, 1073741824, 2147483648, 4294967296, 8589934592, 17179869184, 34359738368, 68719476736, 137438953472, 274877906944, 549755813888, 1099511627776, 2199023255552, 4398046511104, 8796093022208, 17592186044416, 35184372088832, 70368744177664, 140737488355328, 281474976710656, 562949953421312, 1125899906842624, 2251799813685248, 4503599627370496, 9007199254740992, 18014398509481984, 36028797018963968, 72057594037927936, 144115188075855872, 288230376151711744, 576460752303423488, 1152921504606846976, 2305843009213693952, 4611686018427387904, 9223372036854775808, 18446744073709551616, 36893488147419103232, 73786976294838206464, 147573952589676412928, 295147905179352825856, 590295810358705651712, 1180591620717411303424, 2361183241434822606848, 4722366482869645213696, 9444732965739290427392, 18889465931478580854784, 37778931862957161709568, 75557863725914323419136, 151115727451828646838272, 302231454903657293676544, 604462909807314587353088, 1208925819614629174706176, 2417851639229258349412352, 4835703278458516698824704, 9671406556917033397649408, 19342813113834066795298816, 38685626227668133590597632, 77371252455336267181195264, 154742504910672534362390528, 309485009821345068724781056, 618970019642690137449562112, 1237940039285380274899124224, 2475880078570760549798248448, 4951760157141521099596496896, 9903520314283042199192993792, 19807040628566084398385987584, 39614081257132168796771975168, 79228162514264337593543950336, 158456325028528675187087900672, 316912650057057350374175801344, 633825300114114700748351602688]\n"
          ]
        },
        {
          "output_type": "display_data",
          "data": {
            "image/png": "[encoded data removed]",
            "text/plain": [
              "<Figure size 432x288 with 1 Axes>"
            ]
          },
          "metadata": {
            "needs_background": "light"
          }
        }
      ]
    },
    {
      "cell_type": "code",
      "metadata": {
        "colab": {
          "base_uri": "https://localhost:8080/",
          "height": 1000
        },
        "id": "tchZwi7YiRcE",
        "outputId": "a4cbae74-5941-429b-b42d-eacbb0a0ed8e"
      },
      "source": [
        "import matplotlib.pyplot as plt\n",
        "%matplotlib inline\n",
        "def compute_sorori_shinzaemon(a, d, e, c=169):\n",
        "   #***counting grains; a= number of grains, c= number of days in training,\n",
        "   #  d= limt day, e= unit value, H= Number of units increasing***\n",
        "   H = []\n",
        "   H.insert(0,1)\n",
        "   for b in range(c):\n",
        "     if b <= d:\n",
        "       a = (a * 2)\n",
        "       f = a * e\n",
        "       H.append(f)\n",
        "   else:\n",
        "      f= f-1\n",
        "      print(\"I will receive\", f, \"rice gains by the end of my course!!\")\n",
        "      plt.title(\"Moses Gift from Japan\")\n",
        "      plt.xlabel(\"Number of Days\")\n",
        "      plt.ylabel(\"Number of Grains\")\n",
        "      plt.plot(H)\n",
        "   return H, f     \n",
        "   #result = a + b\n",
        "   #return result   \n",
        "compute_sorori_shinzaemon(1, 168, 1) "
      ],
      "execution_count": 27,
      "outputs": [
        {
          "output_type": "stream",
          "name": "stdout",
          "text": [
            "I will receive 748288838313422294120286634350736906063837462003711 rice gains by the end of my course!!\n"
          ]
        },
        {
          "output_type": "execute_result",
          "data": {
            "text/plain": [
              "([1,\n",
              "  2,\n",
              "  4,\n",
              "  8,\n",
              "  16,\n",
              "  32,\n",
              "  64,\n",
              "  128,\n",
              "  256,\n",
              "  512,\n",
              "  1024,\n",
              "  2048,\n",
              "  4096,\n",
              "  8192,\n",
              "  16384,\n",
              "  32768,\n",
              "  65536,\n",
              "  131072,\n",
              "  262144,\n",
              "  524288,\n",
              "  1048576,\n",
              "  2097152,\n",
              "  4194304,\n",
              "  8388608,\n",
              "  16777216,\n",
              "  33554432,\n",
              "  67108864,\n",
              "  134217728,\n",
              "  268435456,\n",
              "  536870912,\n",
              "  1073741824,\n",
              "  2147483648,\n",
              "  4294967296,\n",
              "  8589934592,\n",
              "  17179869184,\n",
              "  34359738368,\n",
              "  68719476736,\n",
              "  137438953472,\n",
              "  274877906944,\n",
              "  549755813888,\n",
              "  1099511627776,\n",
              "  2199023255552,\n",
              "  4398046511104,\n",
              "  8796093022208,\n",
              "  17592186044416,\n",
              "  35184372088832,\n",
              "  70368744177664,\n",
              "  140737488355328,\n",
              "  281474976710656,\n",
              "  562949953421312,\n",
              "  1125899906842624,\n",
              "  2251799813685248,\n",
              "  4503599627370496,\n",
              "  9007199254740992,\n",
              "  18014398509481984,\n",
              "  36028797018963968,\n",
              "  72057594037927936,\n",
              "  144115188075855872,\n",
              "  288230376151711744,\n",
              "  576460752303423488,\n",
              "  1152921504606846976,\n",
              "  2305843009213693952,\n",
              "  4611686018427387904,\n",
              "  9223372036854775808,\n",
              "  18446744073709551616,\n",
              "  36893488147419103232,\n",
              "  73786976294838206464,\n",
              "  147573952589676412928,\n",
              "  295147905179352825856,\n",
              "  590295810358705651712,\n",
              "  1180591620717411303424,\n",
              "  2361183241434822606848,\n",
              "  4722366482869645213696,\n",
              "  9444732965739290427392,\n",
              "  18889465931478580854784,\n",
              "  37778931862957161709568,\n",
              "  75557863725914323419136,\n",
              "  151115727451828646838272,\n",
              "  302231454903657293676544,\n",
              "  604462909807314587353088,\n",
              "  1208925819614629174706176,\n",
              "  2417851639229258349412352,\n",
              "  4835703278458516698824704,\n",
              "  9671406556917033397649408,\n",
              "  19342813113834066795298816,\n",
              "  38685626227668133590597632,\n",
              "  77371252455336267181195264,\n",
              "  154742504910672534362390528,\n",
              "  309485009821345068724781056,\n",
              "  618970019642690137449562112,\n",
              "  1237940039285380274899124224,\n",
              "  2475880078570760549798248448,\n",
              "  4951760157141521099596496896,\n",
              "  9903520314283042199192993792,\n",
              "  19807040628566084398385987584,\n",
              "  39614081257132168796771975168,\n",
              "  79228162514264337593543950336,\n",
              "  158456325028528675187087900672,\n",
              "  316912650057057350374175801344,\n",
              "  633825300114114700748351602688,\n",
              "  1267650600228229401496703205376,\n",
              "  2535301200456458802993406410752,\n",
              "  5070602400912917605986812821504,\n",
              "  10141204801825835211973625643008,\n",
              "  20282409603651670423947251286016,\n",
              "  40564819207303340847894502572032,\n",
              "  81129638414606681695789005144064,\n",
              "  162259276829213363391578010288128,\n",
              "  324518553658426726783156020576256,\n",
              "  649037107316853453566312041152512,\n",
              "  1298074214633706907132624082305024,\n",
              "  2596148429267413814265248164610048,\n",
              "  5192296858534827628530496329220096,\n",
              "  10384593717069655257060992658440192,\n",
              "  20769187434139310514121985316880384,\n",
              "  41538374868278621028243970633760768,\n",
              "  83076749736557242056487941267521536,\n",
              "  166153499473114484112975882535043072,\n",
              "  332306998946228968225951765070086144,\n",
              "  664613997892457936451903530140172288,\n",
              "  1329227995784915872903807060280344576,\n",
              "  2658455991569831745807614120560689152,\n",
              "  5316911983139663491615228241121378304,\n",
              "  10633823966279326983230456482242756608,\n",
              "  21267647932558653966460912964485513216,\n",
              "  42535295865117307932921825928971026432,\n",
              "  85070591730234615865843651857942052864,\n",
              "  170141183460469231731687303715884105728,\n",
              "  340282366920938463463374607431768211456,\n",
              "  680564733841876926926749214863536422912,\n",
              "  1361129467683753853853498429727072845824,\n",
              "  2722258935367507707706996859454145691648,\n",
              "  5444517870735015415413993718908291383296,\n",
              "  10889035741470030830827987437816582766592,\n",
              "  21778071482940061661655974875633165533184,\n",
              "  43556142965880123323311949751266331066368,\n",
              "  87112285931760246646623899502532662132736,\n",
              "  174224571863520493293247799005065324265472,\n",
              "  348449143727040986586495598010130648530944,\n",
              "  696898287454081973172991196020261297061888,\n",
              "  1393796574908163946345982392040522594123776,\n",
              "  2787593149816327892691964784081045188247552,\n",
              "  5575186299632655785383929568162090376495104,\n",
              "  11150372599265311570767859136324180752990208,\n",
              "  22300745198530623141535718272648361505980416,\n",
              "  44601490397061246283071436545296723011960832,\n",
              "  89202980794122492566142873090593446023921664,\n",
              "  178405961588244985132285746181186892047843328,\n",
              "  356811923176489970264571492362373784095686656,\n",
              "  713623846352979940529142984724747568191373312,\n",
              "  1427247692705959881058285969449495136382746624,\n",
              "  2854495385411919762116571938898990272765493248,\n",
              "  5708990770823839524233143877797980545530986496,\n",
              "  11417981541647679048466287755595961091061972992,\n",
              "  22835963083295358096932575511191922182123945984,\n",
              "  45671926166590716193865151022383844364247891968,\n",
              "  91343852333181432387730302044767688728495783936,\n",
              "  182687704666362864775460604089535377456991567872,\n",
              "  365375409332725729550921208179070754913983135744,\n",
              "  730750818665451459101842416358141509827966271488,\n",
              "  1461501637330902918203684832716283019655932542976,\n",
              "  2923003274661805836407369665432566039311865085952,\n",
              "  5846006549323611672814739330865132078623730171904,\n",
              "  11692013098647223345629478661730264157247460343808,\n",
              "  23384026197294446691258957323460528314494920687616,\n",
              "  46768052394588893382517914646921056628989841375232,\n",
              "  93536104789177786765035829293842113257979682750464,\n",
              "  187072209578355573530071658587684226515959365500928,\n",
              "  374144419156711147060143317175368453031918731001856,\n",
              "  748288838313422294120286634350736906063837462003712],\n",
              " 748288838313422294120286634350736906063837462003711)"
            ]
          },
          "metadata": {},
          "execution_count": 27
        },
        {
          "output_type": "display_data",
          "data": {
            "image/png": "[encoded data removed]",
            "text/plain": [
              "<Figure size 432x288 with 1 Axes>"
            ]
          },
          "metadata": {
            "needs_background": "light"
          }
        }
      ]
    },
    {
      "cell_type": "code",
      "metadata": {
        "colab": {
          "base_uri": "https://localhost:8080/"
        },
        "id": "a9H3P5wNfwzY",
        "outputId": "e4a458d5-b677-4ebf-fae9-03d21bcb4819"
      },
      "source": [
        "import matplotlib.pyplot as plt\n",
        "%matplotlib inline\n",
        "def compute_sorori_shinzaemon(a, d, e, c=169, m=19200):\n",
        "   #***counting grains; a= number of grains, c= number of days in training,\n",
        "   #   d= limt day, e= unit value, H= Number of units increasing, \n",
        "   #   m= 19200 grains per person per day by UN,( There are 2people in the class\n",
        "   #   therefore it takes: (total grains i.e f)/(19200*2))***\n",
        "   H = []\n",
        "   H.insert(0,1)\n",
        "   for b in range(c):\n",
        "     if b <= d:\n",
        "       a = (a * 2)\n",
        "       f = a * e\n",
        "       H.append(f)\n",
        "   else:\n",
        "      f= f-1\n",
        "      P= f//(m *2)\n",
        "      #print(P)\n",
        "      print(\"I will receive\", f, \"rice gains by the end of my course!!\")\n",
        "      print(\"It will take\", P ,\"days to feed the 2 people in the class with the rice received!!\")\n",
        "      #plt.title(\"Moses Gift from Japan\")\n",
        "      #plt.xlabel(\"Number of Days\")\n",
        "      #plt.ylabel(\"Number of Grains\")\n",
        "      #plt.plot(H)\n",
        "   return 0     \n",
        "   #result = a + b\n",
        "   #return result   \n",
        "compute_sorori_shinzaemon(1, 168, 1) "
      ],
      "execution_count": 31,
      "outputs": [
        {
          "output_type": "stream",
          "name": "stdout",
          "text": [
            "I will receive 748288838313422294120286634350736906063837462003711 rice gains by the end of my course!!\n",
            "It will take 19486688497745372242715797769550440262079100573 days to feed the 2 people in the class with the rice received!!\n"
          ]
        },
        {
          "output_type": "execute_result",
          "data": {
            "text/plain": [
              "0"
            ]
          },
          "metadata": {},
          "execution_count": 31
        }
      ]
    },
    {
      "cell_type": "code",
      "metadata": {
        "id": "OnHiy5W3a77e"
      },
      "source": [
        ""
      ],
      "execution_count": null,
      "outputs": []
    }
  ]
}