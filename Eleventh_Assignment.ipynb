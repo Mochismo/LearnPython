{
  "nbformat": 4,
  "nbformat_minor": 0,
  "metadata": {
    "colab": {
      "name": "Eleventh_Assignment.ipynb",
      "provenance": [],
      "collapsed_sections": [],
      "mount_file_id": "1To1MTL_1DWAM4weN4iG3wMkrfZaOs-XG",
      "authorship_tag": "ABX9TyMKyhMG2BuCzNt0xSDd+kTG",
      "include_colab_link": true
    },
    "kernelspec": {
      "name": "python3",
      "display_name": "Python 3"
    },
    "language_info": {
      "name": "python"
    }
  },
  "cells": [
    {
      "cell_type": "markdown",
      "metadata": {
        "id": "view-in-github",
        "colab_type": "text"
      },
      "source": [
        "<a href=\"https://colab.research.google.com/github/Mochismo/LearnPython/blob/main/Eleventh_Assignment.ipynb\" target=\"_parent\"><img src=\"https://colab.research.google.com/assets/colab-badge.svg\" alt=\"Open In Colab\"/></a>"
      ]
    },
    {
      "cell_type": "code",
      "metadata": {
        "colab": {
          "base_uri": "https://localhost:8080/",
          "height": 204
        },
        "id": "n5skxo2l1nIZ",
        "outputId": "0eec11e6-2975-4141-e3fe-2da3cec827cd"
      },
      "source": [
        "# Problem 1\n",
        "from sklearn.datasets import load_iris\n",
        "import numpy as np\n",
        "import pandas as pd\n",
        "data = load_iris()\n",
        "#data.target[[10, 25, 50]]\n",
        "#list(data.target_names)\n",
        "X = pd.DataFrame(data.data, columns=data.feature_names)\n",
        "X.head()\n",
        "y = pd.DataFrame(data.target, columns=(['species']))\n",
        "y.head()\n",
        "#df = pd.DataFrame(data,columns= X + y)\n",
        "#df.dropna(inplace=True) \n",
        "#df[X] = df[X].astype('float')\n",
        "#df[y] = df[y].astype('category')\n",
        "#df.head()\n",
        "#print(data)\n"
      ],
      "execution_count": 2,
      "outputs": [
        {
          "output_type": "execute_result",
          "data": {
            "text/html": [
              "<div>\n",
              "<style scoped>\n",
              "    .dataframe tbody tr th:only-of-type {\n",
              "        vertical-align: middle;\n",
              "    }\n",
              "\n",
              "    .dataframe tbody tr th {\n",
              "        vertical-align: top;\n",
              "    }\n",
              "\n",
              "    .dataframe thead th {\n",
              "        text-align: right;\n",
              "    }\n",
              "</style>\n",
              "<table border=\"1\" class=\"dataframe\">\n",
              "  <thead>\n",
              "    <tr style=\"text-align: right;\">\n",
              "      <th></th>\n",
              "      <th>species</th>\n",
              "    </tr>\n",
              "  </thead>\n",
              "  <tbody>\n",
              "    <tr>\n",
              "      <th>0</th>\n",
              "      <td>0</td>\n",
              "    </tr>\n",
              "    <tr>\n",
              "      <th>1</th>\n",
              "      <td>0</td>\n",
              "    </tr>\n",
              "    <tr>\n",
              "      <th>2</th>\n",
              "      <td>0</td>\n",
              "    </tr>\n",
              "    <tr>\n",
              "      <th>3</th>\n",
              "      <td>0</td>\n",
              "    </tr>\n",
              "    <tr>\n",
              "      <th>4</th>\n",
              "      <td>0</td>\n",
              "    </tr>\n",
              "  </tbody>\n",
              "</table>\n",
              "</div>"
            ],
            "text/plain": [
              "   species\n",
              "0        0\n",
              "1        0\n",
              "2        0\n",
              "3        0\n",
              "4        0"
            ]
          },
          "metadata": {},
          "execution_count": 2
        }
      ]
    },
    {
      "cell_type": "code",
      "metadata": {
        "colab": {
          "base_uri": "https://localhost:8080/",
          "height": 419
        },
        "id": "gPS33Ij9uxeJ",
        "outputId": "7f96959b-c311-402b-933c-68944238ab39"
      },
      "source": [
        "# Problem 2\n",
        "#import pandas as pd\n",
        "df = pd.concat([X, y], axis=1)\n",
        "df\n"
      ],
      "execution_count": 3,
      "outputs": [
        {
          "output_type": "execute_result",
          "data": {
            "text/html": [
              "<div>\n",
              "<style scoped>\n",
              "    .dataframe tbody tr th:only-of-type {\n",
              "        vertical-align: middle;\n",
              "    }\n",
              "\n",
              "    .dataframe tbody tr th {\n",
              "        vertical-align: top;\n",
              "    }\n",
              "\n",
              "    .dataframe thead th {\n",
              "        text-align: right;\n",
              "    }\n",
              "</style>\n",
              "<table border=\"1\" class=\"dataframe\">\n",
              "  <thead>\n",
              "    <tr style=\"text-align: right;\">\n",
              "      <th></th>\n",
              "      <th>sepal length (cm)</th>\n",
              "      <th>sepal width (cm)</th>\n",
              "      <th>petal length (cm)</th>\n",
              "      <th>petal width (cm)</th>\n",
              "      <th>species</th>\n",
              "    </tr>\n",
              "  </thead>\n",
              "  <tbody>\n",
              "    <tr>\n",
              "      <th>0</th>\n",
              "      <td>5.1</td>\n",
              "      <td>3.5</td>\n",
              "      <td>1.4</td>\n",
              "      <td>0.2</td>\n",
              "      <td>0</td>\n",
              "    </tr>\n",
              "    <tr>\n",
              "      <th>1</th>\n",
              "      <td>4.9</td>\n",
              "      <td>3.0</td>\n",
              "      <td>1.4</td>\n",
              "      <td>0.2</td>\n",
              "      <td>0</td>\n",
              "    </tr>\n",
              "    <tr>\n",
              "      <th>2</th>\n",
              "      <td>4.7</td>\n",
              "      <td>3.2</td>\n",
              "      <td>1.3</td>\n",
              "      <td>0.2</td>\n",
              "      <td>0</td>\n",
              "    </tr>\n",
              "    <tr>\n",
              "      <th>3</th>\n",
              "      <td>4.6</td>\n",
              "      <td>3.1</td>\n",
              "      <td>1.5</td>\n",
              "      <td>0.2</td>\n",
              "      <td>0</td>\n",
              "    </tr>\n",
              "    <tr>\n",
              "      <th>4</th>\n",
              "      <td>5.0</td>\n",
              "      <td>3.6</td>\n",
              "      <td>1.4</td>\n",
              "      <td>0.2</td>\n",
              "      <td>0</td>\n",
              "    </tr>\n",
              "    <tr>\n",
              "      <th>...</th>\n",
              "      <td>...</td>\n",
              "      <td>...</td>\n",
              "      <td>...</td>\n",
              "      <td>...</td>\n",
              "      <td>...</td>\n",
              "    </tr>\n",
              "    <tr>\n",
              "      <th>145</th>\n",
              "      <td>6.7</td>\n",
              "      <td>3.0</td>\n",
              "      <td>5.2</td>\n",
              "      <td>2.3</td>\n",
              "      <td>2</td>\n",
              "    </tr>\n",
              "    <tr>\n",
              "      <th>146</th>\n",
              "      <td>6.3</td>\n",
              "      <td>2.5</td>\n",
              "      <td>5.0</td>\n",
              "      <td>1.9</td>\n",
              "      <td>2</td>\n",
              "    </tr>\n",
              "    <tr>\n",
              "      <th>147</th>\n",
              "      <td>6.5</td>\n",
              "      <td>3.0</td>\n",
              "      <td>5.2</td>\n",
              "      <td>2.0</td>\n",
              "      <td>2</td>\n",
              "    </tr>\n",
              "    <tr>\n",
              "      <th>148</th>\n",
              "      <td>6.2</td>\n",
              "      <td>3.4</td>\n",
              "      <td>5.4</td>\n",
              "      <td>2.3</td>\n",
              "      <td>2</td>\n",
              "    </tr>\n",
              "    <tr>\n",
              "      <th>149</th>\n",
              "      <td>5.9</td>\n",
              "      <td>3.0</td>\n",
              "      <td>5.1</td>\n",
              "      <td>1.8</td>\n",
              "      <td>2</td>\n",
              "    </tr>\n",
              "  </tbody>\n",
              "</table>\n",
              "<p>150 rows × 5 columns</p>\n",
              "</div>"
            ],
            "text/plain": [
              "     sepal length (cm)  sepal width (cm)  ...  petal width (cm)  species\n",
              "0                  5.1               3.5  ...               0.2        0\n",
              "1                  4.9               3.0  ...               0.2        0\n",
              "2                  4.7               3.2  ...               0.2        0\n",
              "3                  4.6               3.1  ...               0.2        0\n",
              "4                  5.0               3.6  ...               0.2        0\n",
              "..                 ...               ...  ...               ...      ...\n",
              "145                6.7               3.0  ...               2.3        2\n",
              "146                6.3               2.5  ...               1.9        2\n",
              "147                6.5               3.0  ...               2.0        2\n",
              "148                6.2               3.4  ...               2.3        2\n",
              "149                5.9               3.0  ...               1.8        2\n",
              "\n",
              "[150 rows x 5 columns]"
            ]
          },
          "metadata": {},
          "execution_count": 3
        }
      ]
    },
    {
      "cell_type": "code",
      "metadata": {
        "colab": {
          "base_uri": "https://localhost:8080/"
        },
        "id": "eqh8AANx0GNl",
        "outputId": "dec7fecf-f084-4276-9001-8c1a1f57f551"
      },
      "source": [
        "# Problem 3 \n",
        "s = df.iloc[3] #row location\n",
        "#print(s)\n",
        "t = df.info(verbose=True) # information of all colums\n",
        "#print(t)\n",
        "u = df.isnull() # checking for missing value\n",
        "#print(u)\n",
        "v = df.describe() # mean, sd,and quartiles info.\n",
        "#print(v)\n"
      ],
      "execution_count": 4,
      "outputs": [
        {
          "output_type": "stream",
          "name": "stdout",
          "text": [
            "<class 'pandas.core.frame.DataFrame'>\n",
            "RangeIndex: 150 entries, 0 to 149\n",
            "Data columns (total 5 columns):\n",
            " #   Column             Non-Null Count  Dtype  \n",
            "---  ------             --------------  -----  \n",
            " 0   sepal length (cm)  150 non-null    float64\n",
            " 1   sepal width (cm)   150 non-null    float64\n",
            " 2   petal length (cm)  150 non-null    float64\n",
            " 3   petal width (cm)   150 non-null    float64\n",
            " 4   species            150 non-null    int64  \n",
            "dtypes: float64(4), int64(1)\n",
            "memory usage: 6.0 KB\n"
          ]
        }
      ]
    },
    {
      "cell_type": "code",
      "metadata": {
        "id": "9MfIG3wZ_rvi"
      },
      "source": [
        "#Problem 4\n",
        "# Data information"
      ],
      "execution_count": 49,
      "outputs": []
    },
    {
      "cell_type": "code",
      "metadata": {
        "id": "tD0DA1qH_1av"
      },
      "source": [
        "# Problem 5\n",
        "z_1 = df.iloc[:,1] # 1 selection of row\n",
        "#print(z_1)\n",
        "z_2 = df.loc[:,'sepal width (cm)'] #2 selection of row\n",
        "#print(z_2)\n",
        "z_3 = df.iloc[:,-4] # 3 selection of row\n",
        "#print(z_3)\n",
        "a_1 = df.iloc[50:100]\n",
        "#print(a_1)\n",
        "a_2 = df.iloc[50:100, 2]\n",
        "#print(a_2)\n",
        "a_3 = df.loc[df['petal width (cm)'] == 0.2]\n",
        "#print(a_3.iloc[:,3])"
      ],
      "execution_count": 5,
      "outputs": []
    },
    {
      "cell_type": "code",
      "metadata": {
        "colab": {
          "base_uri": "https://localhost:8080/",
          "height": 319
        },
        "id": "6rl1uA2ZCJ4W",
        "outputId": "ab3cb146-38b9-4b2b-af59-666f86d635a7"
      },
      "source": [
        "#Problem 6(a)\n",
        "import matplotlib.pyplot as plt\n",
        "ax=plt.subplots(1,1,figsize=(7,5))\n",
        "df['species'].value_counts().plot.pie(explode=[0.1,0.1,0.1],autopct='%1.1f%%',shadow=True,figsize=(7,5))\n",
        "plt.title(\"Iris Species %\")\n",
        "plt.show()"
      ],
      "execution_count": 23,
      "outputs": [
        {
          "output_type": "display_data",
          "data": {
            "image/png": "[encoded data removed]",
            "text/plain": [
              "<Figure size 504x360 with 1 Axes>"
            ]
          },
          "metadata": {}
        }
      ]
    },
    {
      "cell_type": "code",
      "metadata": {
        "colab": {
          "base_uri": "https://localhost:8080/",
          "height": 948
        },
        "id": "iFsxo2WNIIXG",
        "outputId": "95e2cdce-216a-4085-bba0-bf04fc65b853"
      },
      "source": [
        "# Problem 6(b)\n",
        "import matplotlib.pyplot as plt\n",
        "%matplotlib inline\n",
        "plt.figure(figsize=(9,5))\n",
        "plt.title('Box Plot for 5 Variables')\n",
        "plt.boxplot(df.values,labels=['sepal length (cm)', 'sepal width (cm)', 'petal length (cm)', 'petal width (cm)', 'species'])"
      ],
      "execution_count": 24,
      "outputs": [
        {
          "output_type": "execute_result",
          "data": {
            "text/plain": [
              "{'boxes': [<matplotlib.lines.Line2D at 0x7fdc1264f350>,\n",
              "  <matplotlib.lines.Line2D at 0x7fdc125e7190>,\n",
              "  <matplotlib.lines.Line2D at 0x7fdc125f76d0>,\n",
              "  <matplotlib.lines.Line2D at 0x7fdc12606c50>,\n",
              "  <matplotlib.lines.Line2D at 0x7fdc125a0210>],\n",
              " 'caps': [<matplotlib.lines.Line2D at 0x7fdc12657c10>,\n",
              "  <matplotlib.lines.Line2D at 0x7fdc125df190>,\n",
              "  <matplotlib.lines.Line2D at 0x7fdc125f0190>,\n",
              "  <matplotlib.lines.Line2D at 0x7fdc125f06d0>,\n",
              "  <matplotlib.lines.Line2D at 0x7fdc125ff710>,\n",
              "  <matplotlib.lines.Line2D at 0x7fdc125ffc90>,\n",
              "  <matplotlib.lines.Line2D at 0x7fdc12611c90>,\n",
              "  <matplotlib.lines.Line2D at 0x7fdc12619210>,\n",
              "  <matplotlib.lines.Line2D at 0x7fdc125a8250>,\n",
              "  <matplotlib.lines.Line2D at 0x7fdc125a8750>],\n",
              " 'fliers': [<matplotlib.lines.Line2D at 0x7fdc125dfc50>,\n",
              "  <matplotlib.lines.Line2D at 0x7fdc125f7190>,\n",
              "  <matplotlib.lines.Line2D at 0x7fdc12606750>,\n",
              "  <matplotlib.lines.Line2D at 0x7fdc12619c90>,\n",
              "  <matplotlib.lines.Line2D at 0x7fdc125b2250>],\n",
              " 'means': [],\n",
              " 'medians': [<matplotlib.lines.Line2D at 0x7fdc125df710>,\n",
              "  <matplotlib.lines.Line2D at 0x7fdc125f0c10>,\n",
              "  <matplotlib.lines.Line2D at 0x7fdc12606210>,\n",
              "  <matplotlib.lines.Line2D at 0x7fdc12619750>,\n",
              "  <matplotlib.lines.Line2D at 0x7fdc125a8c90>],\n",
              " 'whiskers': [<matplotlib.lines.Line2D at 0x7fdc12657190>,\n",
              "  <matplotlib.lines.Line2D at 0x7fdc126576d0>,\n",
              "  <matplotlib.lines.Line2D at 0x7fdc125e7710>,\n",
              "  <matplotlib.lines.Line2D at 0x7fdc125e7c10>,\n",
              "  <matplotlib.lines.Line2D at 0x7fdc125f7c10>,\n",
              "  <matplotlib.lines.Line2D at 0x7fdc125ff1d0>,\n",
              "  <matplotlib.lines.Line2D at 0x7fdc12611210>,\n",
              "  <matplotlib.lines.Line2D at 0x7fdc12611750>,\n",
              "  <matplotlib.lines.Line2D at 0x7fdc125a07d0>,\n",
              "  <matplotlib.lines.Line2D at 0x7fdc125a0cd0>]}"
            ]
          },
          "metadata": {},
          "execution_count": 24
        },
        {
          "output_type": "display_data",
          "data": {
            "image/png": "[encoded data removed]",
            "text/plain": [
              "<Figure size 648x360 with 1 Axes>"
            ]
          },
          "metadata": {
            "needs_background": "light"
          }
        }
      ]
    },
    {
      "cell_type": "code",
      "metadata": {
        "colab": {
          "base_uri": "https://localhost:8080/",
          "height": 597
        },
        "id": "GzEuewBmJnnR",
        "outputId": "9952b8ed-9aee-4e98-e703-d3dc0928a57a"
      },
      "source": [
        "# Problem 6(c)\n",
        "plt.figure(figsize=(7,7))\n",
        "plt.title('Violin Plot')\n",
        "plt.violinplot(df.values,showmedians=True)\n",
        "#A violin plot is a method of plotting numeric data. While a box plot only shows \n",
        "#summary statistics such as mean/median and interquartile ranges, the violin \n",
        "#plot shows the full distribution of the data. The difference is particularly \n",
        "#useful when the data distribution is multimodal (more than one peak)."
      ],
      "execution_count": 14,
      "outputs": [
        {
          "output_type": "execute_result",
          "data": {
            "text/plain": [
              "{'bodies': [<matplotlib.collections.PolyCollection at 0x7fdc12b81910>,\n",
              "  <matplotlib.collections.PolyCollection at 0x7fdc12b818d0>,\n",
              "  <matplotlib.collections.PolyCollection at 0x7fdc12b8e110>,\n",
              "  <matplotlib.collections.PolyCollection at 0x7fdc12b8e450>,\n",
              "  <matplotlib.collections.PolyCollection at 0x7fdc12b8e790>],\n",
              " 'cbars': <matplotlib.collections.LineCollection at 0x7fdc12b8e750>,\n",
              " 'cmaxes': <matplotlib.collections.LineCollection at 0x7fdc12b81810>,\n",
              " 'cmedians': <matplotlib.collections.LineCollection at 0x7fdc12b8ef90>,\n",
              " 'cmins': <matplotlib.collections.LineCollection at 0x7fdc12b8ef50>}"
            ]
          },
          "metadata": {},
          "execution_count": 14
        },
        {
          "output_type": "display_data",
          "data": {
            "image/png": "[encoded data removed]",
            "text/plain": [
              "<Figure size 504x504 with 1 Axes>"
            ]
          },
          "metadata": {
            "needs_background": "light"
          }
        }
      ]
    },
    {
      "cell_type": "code",
      "metadata": {
        "colab": {
          "base_uri": "https://localhost:8080/",
          "height": 312
        },
        "id": "HHunEB_hMc9X",
        "outputId": "f2d51006-f294-4807-dd04-280d81c50d80"
      },
      "source": [
        "# Problem 7(a)\n",
        "import matplotlib.pyplot as plt\n",
        "%matplotlib inline\n",
        "import seaborn as sns\n",
        "colors = ['red', 'orange', 'blue']\n",
        "species = [0, 1,2]\n",
        "for i in range(3):\n",
        "  x = df[df['species']== species[i]]\n",
        "  plt.scatter(x['sepal length (cm)'], x['sepal width (cm)'], c=colors[i], label= species[i])\n",
        "plt.xlabel(\"sepal length (cm)\")\n",
        "plt.ylabel(\"Sepal width (cm)\")\n",
        "plt.title('Two Variables')\n",
        "plt.legend() \n",
        "\n"
      ],
      "execution_count": 43,
      "outputs": [
        {
          "output_type": "execute_result",
          "data": {
            "text/plain": [
              "<matplotlib.legend.Legend at 0x7fdc117e5590>"
            ]
          },
          "metadata": {},
          "execution_count": 43
        },
        {
          "output_type": "display_data",
          "data": {
            "image/png": "[encoded data removed]",
            "text/plain": [
              "<Figure size 432x288 with 1 Axes>"
            ]
          },
          "metadata": {
            "needs_background": "light"
          }
        }
      ]
    },
    {
      "cell_type": "code",
      "metadata": {
        "id": "HRb4IkNsaiNd"
      },
      "source": [
        ""
      ],
      "execution_count": null,
      "outputs": []
    },
    {
      "cell_type": "code",
      "metadata": {
        "colab": {
          "base_uri": "https://localhost:8080/",
          "height": 312
        },
        "id": "0ha3JvPvajAC",
        "outputId": "2ee89e67-251b-47fe-a90d-45e8d5d698c4"
      },
      "source": [
        "# Problem 7(b)\n",
        "import matplotlib.pyplot as plt\n",
        "%matplotlib inline\n",
        "import seaborn as sns\n",
        "colors = ['red', 'orange', 'blue']\n",
        "species = [0, 1,2]\n",
        "for i in range(3):\n",
        "  x = df[df['species']== species[i]]\n",
        "  plt.scatter(x['petal length (cm)'], x['petal width (cm)'], c=colors[i], label= species[i])\n",
        "plt.xlabel(\"petal length (cm)\")\n",
        "plt.ylabel(\"petal width (cm)\")\n",
        "plt.title('Two Variables')\n",
        "plt.legend() \n",
        "\n"
      ],
      "execution_count": 44,
      "outputs": [
        {
          "output_type": "execute_result",
          "data": {
            "text/plain": [
              "<matplotlib.legend.Legend at 0x7fdc117b6790>"
            ]
          },
          "metadata": {},
          "execution_count": 44
        },
        {
          "output_type": "display_data",
          "data": {
            "image/png": "[encoded data removed]",
            "text/plain": [
              "<Figure size 432x288 with 1 Axes>"
            ]
          },
          "metadata": {
            "needs_background": "light"
          }
        }
      ]
    },
    {
      "cell_type": "code",
      "metadata": {
        "id": "e1ys1ShOa4Kf"
      },
      "source": [
        ""
      ],
      "execution_count": null,
      "outputs": []
    },
    {
      "cell_type": "code",
      "metadata": {
        "colab": {
          "base_uri": "https://localhost:8080/",
          "height": 312
        },
        "id": "MuidLwV_a40v",
        "outputId": "aa5357f3-4f83-4e22-a385-e049dee25fda"
      },
      "source": [
        "# Problem 7(c)\n",
        "import matplotlib.pyplot as plt\n",
        "%matplotlib inline\n",
        "import seaborn as sns\n",
        "colors = ['red', 'orange', 'blue']\n",
        "species = [0, 1,2]\n",
        "for i in range(3):\n",
        "  x = df[df['species']== species[i]]\n",
        "  plt.scatter(x['sepal length (cm)'], x['petal length (cm)'], c=colors[i], label= species[i])\n",
        "plt.xlabel(\"sepal length (cm)\")\n",
        "plt.ylabel(\"petal length (cm)\")\n",
        "plt.title('Two Variables')\n",
        "plt.legend() \n",
        "\n"
      ],
      "execution_count": 45,
      "outputs": [
        {
          "output_type": "execute_result",
          "data": {
            "text/plain": [
              "<matplotlib.legend.Legend at 0x7fdc117cf650>"
            ]
          },
          "metadata": {},
          "execution_count": 45
        },
        {
          "output_type": "display_data",
          "data": {
            "image/png": "[encoded data removed]",
            "text/plain": [
              "<Figure size 432x288 with 1 Axes>"
            ]
          },
          "metadata": {
            "needs_background": "light"
          }
        }
      ]
    },
    {
      "cell_type": "code",
      "metadata": {
        "colab": {
          "base_uri": "https://localhost:8080/",
          "height": 530
        },
        "id": "Ql-kr5Z-bkaD",
        "outputId": "d6f91958-acbd-4f46-94b7-586121897a37"
      },
      "source": [
        "# Problem 7 (d)\n",
        "import matplotlib.pyplot as plt\n",
        "%matplotlib inline\n",
        "import seaborn as sns\n",
        "colors = ['red', 'orange', 'blue']\n",
        "species = [0, 1,2]\n",
        "ax=plt.subplots(1,1,figsize=(10,8))\n",
        "for i in range(3):\n",
        "  x = df[df['species']== species[i]]\n",
        "  plt.scatter(x['sepal length (cm)'], x['sepal width (cm)'], c=colors[i], label= species[i])\n",
        "  plt.scatter(x['petal length (cm)'], x['petal width (cm)'], c=colors[i], label= species[i])\n",
        "plt.xlabel(\" length (cm)\")\n",
        "plt.ylabel(\" width (cm)\")\n",
        "plt.title('Four Variables')\n",
        "plt.legend() \n",
        "\n"
      ],
      "execution_count": 46,
      "outputs": [
        {
          "output_type": "execute_result",
          "data": {
            "text/plain": [
              "<matplotlib.legend.Legend at 0x7fdc11676ed0>"
            ]
          },
          "metadata": {},
          "execution_count": 46
        },
        {
          "output_type": "display_data",
          "data": {
            "image/png": "[encoded data removed]",
            "text/plain": [
              "<Figure size 720x576 with 1 Axes>"
            ]
          },
          "metadata": {
            "needs_background": "light"
          }
        }
      ]
    },
    {
      "cell_type": "code",
      "metadata": {
        "colab": {
          "base_uri": "https://localhost:8080/",
          "height": 204
        },
        "id": "3sd9HtXvgezv",
        "outputId": "e6ba2c86-1f09-42e9-9a63-307bc3605d1f"
      },
      "source": [
        "#Problem 7(e)\n",
        "corr = df.corr()\n",
        "corr\n"
      ],
      "execution_count": 53,
      "outputs": [
        {
          "output_type": "execute_result",
          "data": {
            "text/html": [
              "<div>\n",
              "<style scoped>\n",
              "    .dataframe tbody tr th:only-of-type {\n",
              "        vertical-align: middle;\n",
              "    }\n",
              "\n",
              "    .dataframe tbody tr th {\n",
              "        vertical-align: top;\n",
              "    }\n",
              "\n",
              "    .dataframe thead th {\n",
              "        text-align: right;\n",
              "    }\n",
              "</style>\n",
              "<table border=\"1\" class=\"dataframe\">\n",
              "  <thead>\n",
              "    <tr style=\"text-align: right;\">\n",
              "      <th></th>\n",
              "      <th>sepal length (cm)</th>\n",
              "      <th>sepal width (cm)</th>\n",
              "      <th>petal length (cm)</th>\n",
              "      <th>petal width (cm)</th>\n",
              "      <th>species</th>\n",
              "    </tr>\n",
              "  </thead>\n",
              "  <tbody>\n",
              "    <tr>\n",
              "      <th>sepal length (cm)</th>\n",
              "      <td>1.000000</td>\n",
              "      <td>-0.117570</td>\n",
              "      <td>0.871754</td>\n",
              "      <td>0.817941</td>\n",
              "      <td>0.782561</td>\n",
              "    </tr>\n",
              "    <tr>\n",
              "      <th>sepal width (cm)</th>\n",
              "      <td>-0.117570</td>\n",
              "      <td>1.000000</td>\n",
              "      <td>-0.428440</td>\n",
              "      <td>-0.366126</td>\n",
              "      <td>-0.426658</td>\n",
              "    </tr>\n",
              "    <tr>\n",
              "      <th>petal length (cm)</th>\n",
              "      <td>0.871754</td>\n",
              "      <td>-0.428440</td>\n",
              "      <td>1.000000</td>\n",
              "      <td>0.962865</td>\n",
              "      <td>0.949035</td>\n",
              "    </tr>\n",
              "    <tr>\n",
              "      <th>petal width (cm)</th>\n",
              "      <td>0.817941</td>\n",
              "      <td>-0.366126</td>\n",
              "      <td>0.962865</td>\n",
              "      <td>1.000000</td>\n",
              "      <td>0.956547</td>\n",
              "    </tr>\n",
              "    <tr>\n",
              "      <th>species</th>\n",
              "      <td>0.782561</td>\n",
              "      <td>-0.426658</td>\n",
              "      <td>0.949035</td>\n",
              "      <td>0.956547</td>\n",
              "      <td>1.000000</td>\n",
              "    </tr>\n",
              "  </tbody>\n",
              "</table>\n",
              "</div>"
            ],
            "text/plain": [
              "                   sepal length (cm)  ...   species\n",
              "sepal length (cm)           1.000000  ...  0.782561\n",
              "sepal width (cm)           -0.117570  ... -0.426658\n",
              "petal length (cm)           0.871754  ...  0.949035\n",
              "petal width (cm)            0.817941  ...  0.956547\n",
              "species                     0.782561  ...  1.000000\n",
              "\n",
              "[5 rows x 5 columns]"
            ]
          },
          "metadata": {},
          "execution_count": 53
        }
      ]
    },
    {
      "cell_type": "code",
      "metadata": {
        "colab": {
          "base_uri": "https://localhost:8080/",
          "height": 376
        },
        "id": "tQm-hbNIhr4F",
        "outputId": "d4ef2d43-cf93-4758-aa75-2414dcbaec91"
      },
      "source": [
        "# Problem 7(f)  \n",
        "fig, ax =plt.subplots(figsize=(5,4))\n",
        "sns.heatmap(corr, annot=True, ax=ax, cmap='coolwarm')\n",
        "plt.title('Heat Map')"
      ],
      "execution_count": 57,
      "outputs": [
        {
          "output_type": "execute_result",
          "data": {
            "text/plain": [
              "Text(0.5, 1.0, 'Heat Map')"
            ]
          },
          "metadata": {},
          "execution_count": 57
        },
        {
          "output_type": "display_data",
          "data": {
            "image/png": "[encoded data removed]",
            "text/plain": [
              "<Figure size 360x288 with 2 Axes>"
            ]
          },
          "metadata": {
            "needs_background": "light"
          }
        }
      ]
    },
    {
      "cell_type": "markdown",
      "metadata": {
        "id": "RAqOjcY8vnox"
      },
      "source": [
        "1).From the scatter plots, it is evident that the first flower(0) has features that make it easy to draw a line and distinguish it from the other two (1 & 2) since only one outlier exists. The features of 1 & 2 make them difficult to easily draw a line and seperate them.                                           2).From the heat map,the values that reach closer to one show that they are almost the same, making it difficult to distinguish using these features. The blue features compared give a clear distinction on the features making them suitable for classifiication for example the sepal width and petal width in the heat map.                                                                      3). From the pie chart it is evident from the sample space that the different   types of flowers are collected exual in number each occupying 33.3%.\n"
      ]
    }
  ]
}