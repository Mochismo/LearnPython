{
  "nbformat": 4,
  "nbformat_minor": 0,
  "metadata": {
    "colab": {
      "name": "Twentysecond_Assignment.ipynb",
      "provenance": [],
      "collapsed_sections": [],
      "mount_file_id": "1eDT8SzqnCyQNQRtzRXVjgZdc5jcRnXgU",
      "authorship_tag": "ABX9TyNgbWicePfHFaFe0BqQjUBf",
      "include_colab_link": true
    },
    "kernelspec": {
      "name": "python3",
      "display_name": "Python 3"
    },
    "language_info": {
      "name": "python"
    }
  },
  "cells": [
    {
      "cell_type": "markdown",
      "metadata": {
        "id": "view-in-github",
        "colab_type": "text"
      },
      "source": [
        "<a href=\"https://colab.research.google.com/github/Mochismo/LearnPython/blob/main/Twentysecond_Assignment.ipynb\" target=\"_parent\"><img src=\"https://colab.research.google.com/assets/colab-badge.svg\" alt=\"Open In Colab\"/></a>"
      ]
    },
    {
      "cell_type": "markdown",
      "metadata": {
        "id": "GhuhGOiGREMf"
      },
      "source": [
        "Support Vector Machines"
      ]
    },
    {
      "cell_type": "code",
      "metadata": {
        "id": "Vb98NTQRRL8_"
      },
      "source": [
        "import numpy as np\n",
        "from numpy.random import * \n",
        "import random\n",
        "from sklearn.datasets import load_iris\n",
        "from sklearn.metrics import confusion_matrix\n",
        "from sklearn.metrics import precision_score\n",
        "from sklearn.metrics import recall_score\n",
        "from sklearn.model_selection import  train_test_split\n",
        "from sklearn.preprocessing import StandardScaler\n",
        "import matplotlib.pyplot as plt\n",
        "from matplotlib.colors import ListedColormap\n",
        "import matplotlib.patches as mpatches\n",
        "from sklearn.svm import SVC "
      ],
      "execution_count": null,
      "outputs": []
    },
    {
      "cell_type": "code",
      "metadata": {
        "id": "aGlHC3Io5Qe3"
      },
      "source": [
        "class ScratchSVMClassifier():\n",
        "    \"\"\"\n",
        "    Scratch implementation of SVM classifier\n",
        "    Parameters\n",
        "    ----------\n",
        "    num_iter : int\n",
        "      Number of iterations\n",
        "    lr : float\n",
        "      Learning rate\n",
        "    kernel : str\n",
        "      Kernel type. Linear kernel (linear) or polynomial kernel (polly)\n",
        "    threshold : float\n",
        "      Threshold for choosing a support vector\n",
        "    verbose : bool\n",
        "      True to output the learning process\n",
        "    Attributes\n",
        "    ----------\n",
        "    self.n_support_vectors : int\n",
        "      Number of support vectors\n",
        "    self.index_support_vectors : The following form of ndarray, shape (n_support_vectors,)\n",
        "      Support vector index\n",
        "    self.X_sv :  The following forms of ndarray, shape (n_support_vectors, n_features)\n",
        "      Support vector features\n",
        "    self.lam_sv :  The following forms of ndarray, shape (n_support_vectors, 1)\n",
        "      Support vector undetermined multiplier\n",
        "    self.y_sv :  The following forms of ndarray, shape (n_support_vectors, 1)\n",
        "      Support vector label\n",
        "    \"\"\"\n",
        "    def __init__(self, num_iter, lr, Threshold):\n",
        "      self.iter = num_iter\n",
        "      self.lr = lr\n",
        "      self.Threshold = Threshold\n",
        "    def _SVC_hypothesis(self, X, y):\n",
        "      y = y.reshape(-1, 1)\n",
        "\n",
        "      for i in range(y.shape[0]):\n",
        "        temp = 0\n",
        "        for j in range(len(y)):\n",
        "          temp += self.lambda_[j]*y[i]*y[j]* np.dot(X[i].T, X[j])\n",
        "        self.lambda_[i] += self.lr*(1- temp)\n",
        "        self.lambda_[self.lambda_ <= 0] = 0\n",
        "      return self.lambda_\n",
        "    def fit(self, X, y, X_val=None, y_val=None):\n",
        "      np.random.seed(0)\n",
        "      self.lambda_ = np.random.rand(X.shape[0], 1)*0.03\n",
        "\n",
        "      for i in range(self.iter):\n",
        "        self._SVC_hypothesis(X, y)\n",
        "\n",
        "      self.index_1 = []\n",
        "      for j, i in enumerate(self.lambda_):\n",
        "        if i > self.Threshold:\n",
        "          self.index_1 .append(j)\n",
        "      self.lambda_sv = self.lambda_[self.index_1]\n",
        "      self.X_sv = X[self.index_1]               \n",
        "      self.y_sv = y[self.index_1]\n",
        "\n",
        "    # Prediction phase\n",
        "    def predict(self, X):\n",
        "      self.y_pred = 0\n",
        "      for i in range(self.lambda_sv.shape[0]):\n",
        "        self.y_pred += self.lambda_sv[i] * self.y_sv[i]* np.dot(X, self.X_sv[i].T)\n",
        "      self.y_pred = np.where(self.y_pred >0, 1, -1)\n",
        "      return self.y_pred \n",
        "    "
      ],
      "execution_count": null,
      "outputs": []
    },
    {
      "cell_type": "code",
      "metadata": {
        "id": "3VadksgmXuuO"
      },
      "source": [
        "# Load our data \n",
        "iris = load_iris()\n",
        "X = iris.data[50:,:]\n",
        "y =  iris.target[50:]\n",
        "X = X[:,[2,3]]\n",
        "y[y==2] = -1"
      ],
      "execution_count": null,
      "outputs": []
    },
    {
      "cell_type": "code",
      "metadata": {
        "id": "rml-5pdYgYrP"
      },
      "source": [
        "# Split our data into train test subset\n",
        "(X_train, X_test, y_train, y_test) = train_test_split(X, y, test_size=0.3, random_state=0) "
      ],
      "execution_count": null,
      "outputs": []
    },
    {
      "cell_type": "code",
      "metadata": {
        "id": "PULjB53pg01G"
      },
      "source": [
        "#Standardize our data \n",
        "scaler = StandardScaler()\n",
        "scaler.fit(X_train)\n",
        "X_train1 = scaler.transform(X_train)  \n",
        "X_test1 = scaler.transform(X_test)  "
      ],
      "execution_count": null,
      "outputs": []
    },
    {
      "cell_type": "code",
      "metadata": {
        "id": "03AZK5HYhenb"
      },
      "source": [
        "SV = ScratchSVMClassifier(num_iter=10000, lr = 0.01, Threshold=0.038)\n",
        "SV.fit(X_train1, y_train) \n",
        "y_pred = SV.predict(X_test1) "
      ],
      "execution_count": null,
      "outputs": []
    },
    {
      "cell_type": "code",
      "metadata": {
        "colab": {
          "base_uri": "https://localhost:8080/"
        },
        "id": "PbuNWhsMiA1q",
        "outputId": "5ae250ea-464a-43cf-b6b9-f772e55d7ef8"
      },
      "source": [
        "print(\"{}\".format(precision_score(y_test, y_pred)))\n",
        "print(\"{}\".format(recall_score(y_test, y_pred)))\n",
        "print(confusion_matrix(y_test, y_pred))"
      ],
      "execution_count": null,
      "outputs": [
        {
          "output_type": "stream",
          "name": "stdout",
          "text": [
            "1.0\n",
            "0.9333333333333333\n",
            "[[15  0]\n",
            " [ 1 14]]\n"
          ]
        }
      ]
    },
    {
      "cell_type": "markdown",
      "metadata": {
        "id": "ftRMYhd3jQD7"
      },
      "source": [
        "Precision score The precision is the ratio tp/(tp + fp) where tp is the number of true positives and fp the number of false positives. The precision is intuitively the ability of the classifier not label as positive a sample  that is negative. \n",
        "\n",
        "Recall score is a metric that quantifies the number of correct positive predictions made out of all positive predictions that could have been made. \n",
        "\n",
        "\n",
        "Confusion_matrix is a table that is often used to describe the performance model (or \"classifier\") on a set of test data for which the true values are known \n",
        "\n",
        "|    n=165    \t| Predicted: NO \t| Predicted: YES \t|     \t|\n",
        "|:-----------:\t|:-------------:\t|:--------------:\t|-----\t|\n",
        "|  Actual: NO \t|    TN = 50    \t|     FP = 10    \t|  60 \t|\n",
        "| Actual: YES \t|     FN = 5    \t|    TP = 100    \t| 105 \t|\n",
        "|             \t|       55      \t|       110      \t|     \t|"
      ]
    },
    {
      "cell_type": "markdown",
      "metadata": {
        "id": "N2seZMucoSHL"
      },
      "source": [
        "# Decision area"
      ]
    },
    {
      "cell_type": "code",
      "metadata": {
        "id": "XXGAFYDUmOg2"
      },
      "source": [
        "def decision_region(X, y, model, step=0.01, title='decision region', xlabel='xlabel', ylabel= 'label', target_names= ['versicolor', 'verginica']):\n",
        "  # Setting\n",
        "  scatter_color = ['red', 'blue'] \n",
        "  contourf_color = ['pink', 'skyblue']\n",
        "  n_class=2\n",
        "  \n",
        "  # Pred\n",
        "  mesh_f0, mesh_f1 = np.meshgrid(np.arange(np.min(X[:,0])-0.5, np.max(X[:,0])+0.5, step), np.arange(np.min(X[:,1])-0.5, np.max(X[:,1])+0.5, step))\n",
        "  mesh = np.c_[np.ravel(mesh_f0), np.ravel(mesh_f1)]\n",
        "  y_pred = model.predict(mesh).reshape(mesh_f0.shape)\n",
        "  #plot\n",
        "  plt.title(title)\n",
        "  plt.xlabel(xlabel)\n",
        "  plt.ylabel(ylabel)\n",
        "  plt.contourf(mesh_f0, mesh_f1, y_pred, n_class-1, cmap=ListedColormap(contourf_color))\n",
        "  plt.contour(mesh_f0, mesh_f1, y_pred, n_class-1, colors ='y', linewidth =3, alpa =0.5)\n",
        "  for i, target in enumerate(set(y)):\n",
        "    plt.scatter(X[y==target][:, 0], X[y==target][:,1], s=80, color = scatter_color[i], label=target_names[i], marker='o')\n",
        "  if model==SV:\n",
        "    plt.scatter(SV.X_sv[:, 0], SV.X_sv[:,1], s=80, color = 'yellow', marker='o')\n",
        "  else:\n",
        "    plt.scatter(X_train[svc.support_, 0], X_train[svc.support_, 1], s=80, color = 'yellow', marker='o')  \n",
        "  patches = [mpatches.Patch(color=scatter_color[i], label = target_names[i]) for i in range(n_class)]\n",
        "  plt.legend(handles=patches)\n",
        "  plt.legend()\n",
        "  plt.show() \n",
        "\n",
        "   "
      ],
      "execution_count": null,
      "outputs": []
    },
    {
      "cell_type": "code",
      "metadata": {
        "id": "EOKuELtwtANx"
      },
      "source": [
        "# Random X, y to use\n",
        "np.random.seed(seed=0)\n",
        "n_samples = 500\n",
        "f0 = [-1, 2]\n",
        "f1 = [2, -1]\n",
        "cov = [[1.0, 0.8], [0.8, 1.0]]\n",
        "\n",
        "f0 = np.random.multivariate_normal(f0, cov, int(n_samples/2))\n",
        "f1 = np.random.multivariate_normal(f1, cov, int(n_samples/2))\n",
        "\n",
        "X = np.concatenate((f0, f1))\n",
        "y = np.concatenate((np.ones((int(n_samples/2))), np.ones((int(n_samples/2)))*(-1))).astype(np.int)\n",
        "\n",
        "random_index = np.random.permutation(np.arange(n_samples))\n",
        "X = X[random_index]\n",
        "y = y[random_index]\n",
        "X_train, X_test, y_train, y_test = train_test_split(X, y, random_state=42, stratify=y)"
      ],
      "execution_count": null,
      "outputs": []
    },
    {
      "cell_type": "code",
      "metadata": {
        "id": "mwkfZaD6vIIC"
      },
      "source": [
        "svc = SVC(random_state=0, C = 1e10, kernel='linear')\n",
        "svc.fit(X_train, y_train)\n",
        "svc_pred = svc.predict(X_test) "
      ],
      "execution_count": null,
      "outputs": []
    },
    {
      "cell_type": "code",
      "metadata": {
        "colab": {
          "base_uri": "https://localhost:8080/",
          "height": 329
        },
        "id": "QXMbjYl8vqrE",
        "outputId": "25365cd2-f4cc-465c-b159-a519782a759c"
      },
      "source": [
        "decision_region(X_train, y_train, svc, title='with sklearn', xlabel='xlabel', ylabel = 'ylabel', target_names=[\"A\", \"B\"])"
      ],
      "execution_count": null,
      "outputs": [
        {
          "output_type": "stream",
          "name": "stderr",
          "text": [
            "/usr/local/lib/python3.7/dist-packages/ipykernel_launcher.py:16: UserWarning: The following kwargs were not used by contour: 'linewidth', 'alpa'\n",
            "  app.launch_new_instance()\n"
          ]
        },
        {
          "output_type": "display_data",
          "data": {
            "image/png": "[encoded data removed]",
            "text/plain": [
              "<Figure size 432x288 with 1 Axes>"
            ]
          },
          "metadata": {
            "needs_background": "light"
          }
        }
      ]
    },
    {
      "cell_type": "code",
      "metadata": {
        "id": "qLDpdPS8xY8g"
      },
      "source": [
        "s_svc = ScratchSVMClassifier(num_iter=500, lr= 0.001, Threshold=1e-5)\n",
        "s_svc.fit(X_train, y_train, X_test, y_test)\n",
        "s_svc_pred = s_svc.predict(X_test) "
      ],
      "execution_count": null,
      "outputs": []
    },
    {
      "cell_type": "code",
      "metadata": {
        "colab": {
          "base_uri": "https://localhost:8080/",
          "height": 329
        },
        "id": "GMpak6bVxcTt",
        "outputId": "9047de05-5050-404e-979e-776a7099a3da"
      },
      "source": [
        "decision_region(X_train, y_train, s_svc, title='without sklearn', xlabel='xlabel', ylabel = 'ylabel', target_names=[\"A\", \"B\"])"
      ],
      "execution_count": null,
      "outputs": [
        {
          "output_type": "stream",
          "name": "stderr",
          "text": [
            "/usr/local/lib/python3.7/dist-packages/ipykernel_launcher.py:16: UserWarning: The following kwargs were not used by contour: 'linewidth', 'alpa'\n",
            "  app.launch_new_instance()\n"
          ]
        },
        {
          "output_type": "display_data",
          "data": {
            "image/png": "[encoded data removed]",
            "text/plain": [
              "<Figure size 432x288 with 1 Axes>"
            ]
          },
          "metadata": {
            "needs_background": "light"
          }
        }
      ]
    },
    {
      "cell_type": "code",
      "metadata": {
        "id": "UrMk5ZCawPnv"
      },
      "source": [
        ""
      ],
      "execution_count": null,
      "outputs": []
    }
  ]
}