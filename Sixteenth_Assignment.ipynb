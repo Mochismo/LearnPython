{
  "nbformat": 4,
  "nbformat_minor": 0,
  "metadata": {
    "colab": {
      "name": "Sixteenth_Assignment.ipynb",
      "provenance": [],
      "collapsed_sections": [],
      "authorship_tag": "ABX9TyOmpYg5QkITFHjnUJq1PHOc",
      "include_colab_link": true
    },
    "kernelspec": {
      "name": "python3",
      "display_name": "Python 3"
    },
    "language_info": {
      "name": "python"
    }
  },
  "cells": [
    {
      "cell_type": "markdown",
      "metadata": {
        "id": "view-in-github",
        "colab_type": "text"
      },
      "source": [
        "<a href=\"https://colab.research.google.com/github/Mochismo/LearnPython/blob/main/Sixteenth_Assignment.ipynb\" target=\"_parent\"><img src=\"https://colab.research.google.com/assets/colab-badge.svg\" alt=\"Open In Colab\"/></a>"
      ]
    },
    {
      "cell_type": "markdown",
      "metadata": {
        "id": "_2c9oqZ7MPYy"
      },
      "source": [
        "Problem 1\n",
        "Classes\n",
        "\n",
        "1.   pandas.read_csv()\n",
        "2.   matplotlib.show()\n",
        "3.   sklearn.ensemble\n",
        "\n",
        "\n",
        "\n"
      ]
    },
    {
      "cell_type": "markdown",
      "metadata": {
        "id": "ur0Zljt6NHkn"
      },
      "source": [
        "Problem 2\n",
        "Explaining methods and instances\n",
        "1.   pandas.loc()\n",
        "2.   pandas.iloc()\n",
        "3.   numpy.sum\n",
        "4.   numpy.reshape\n",
        "5.   numpy.ravel\n",
        "\n",
        "Instance Variable\n",
        "1.   ndarray.shape\n",
        "2.   ndarray.ndim\n",
        "3.   ndarray.dtype\n",
        "4.   ndarray.size\n",
        "5.   ndarray.data\n",
        "\n",
        "\n",
        "\n"
      ]
    },
    {
      "cell_type": "code",
      "metadata": {
        "id": "W3lfXHjHNGqe"
      },
      "source": [
        "# Problem 3\n",
        "import numpy as np\n",
        "class ScratchStandardScaler():\n",
        "  def fit(self, X):\n",
        "    self.mean_ = np.mean(X, axis=0)\n",
        "    self.var_ = np.var(X, axis=0)\n",
        "    pass\n",
        "  def transform(self, X):\n",
        "    X_scaled = (X-self.mean_)/self.var_\n",
        "    pass\n",
        "    return X_scaled  \n"
      ],
      "execution_count": 21,
      "outputs": []
    },
    {
      "cell_type": "code",
      "metadata": {
        "colab": {
          "base_uri": "https://localhost:8080/"
        },
        "id": "n2Sj7FJpQLKi",
        "outputId": "8e7dac15-af44-40fb-d9a4-f069dfb0c765"
      },
      "source": [
        "from sklearn.datasets import load_iris\n",
        "data = load_iris()\n",
        "X = data.data[:10]\n",
        "scratch_scaler = ScratchStandardScaler()\n",
        "scratch_scaler.fit(X)\n",
        "print('mean :{}'.format(scratch_scaler.mean_))\n",
        "print('distributed :{}'.format(scratch_scaler.var_))\n",
        "X_std = scratch_scaler.transform(X)\n",
        "print(X_std)"
      ],
      "execution_count": 22,
      "outputs": [
        {
          "output_type": "stream",
          "name": "stdout",
          "text": [
            "mean :[4.86 3.31 1.45 0.22]\n",
            "distributed :[0.0764 0.0849 0.0105 0.0056]\n",
            "[[  3.14136126   2.23792697  -4.76190476  -3.57142857]\n",
            " [  0.52356021  -3.65135453  -4.76190476  -3.57142857]\n",
            " [ -2.09424084  -1.29564193 -14.28571429  -3.57142857]\n",
            " [ -3.40314136  -2.47349823   4.76190476  -3.57142857]\n",
            " [  1.83246073   3.41578327  -4.76190476  -3.57142857]\n",
            " [  7.06806283   6.94935218  23.80952381  32.14285714]\n",
            " [ -3.40314136   1.06007067  -4.76190476  14.28571429]\n",
            " [  1.83246073   1.06007067   4.76190476  -3.57142857]\n",
            " [ -6.02094241  -4.82921084  -4.76190476  -3.57142857]\n",
            " [  0.52356021  -2.47349823   4.76190476 -21.42857143]]\n"
          ]
        }
      ]
    },
    {
      "cell_type": "code",
      "metadata": {
        "colab": {
          "base_uri": "https://localhost:8080/"
        },
        "id": "xl1m-72WqdHh",
        "outputId": "e0f74ead-284a-4823-95f7-c5e5e161eb1e"
      },
      "source": [
        "# Problem 4\n",
        "def type_judge(value_to_judge):\n",
        "  if not isinstance(value_to_judge, (int, float)):\n",
        "    print(\"Please input only numbers\")\n",
        "    return False\n",
        "  else:\n",
        "    return True\n",
        "\n",
        "class ArthClass():\n",
        "  #\n",
        "  #\n",
        "  #\n",
        "  def __init__(self, value):\n",
        "    if(type_judge(value)):\n",
        "      self.value = value\n",
        "      print(\"something{}\".format(self.value))\n",
        "    else:\n",
        "      self.self_value = value  \n",
        "\n",
        "  def add(self, value2):\n",
        "\n",
        "    if type_judge(self.value) and type_judge(value2):\n",
        "      self.value += value2\n",
        "    else:\n",
        "      self.value = \"cannot be calculated because one of the values is not a number\"\n",
        "\n",
        "  def sub(self, value2):\n",
        "\n",
        "    # subtract the received argument with the self.value\n",
        "    if type_judge(self.value) and type_judge(value2):\n",
        "      self.value -= value2\n",
        "    else:\n",
        "       self.value = \"cannot be calculated because one of the values is not a number\"\n",
        "\n",
        "  def mult(self, value2):\n",
        "     # multiply the received argument with the self.value\n",
        "    if type_judge(self.value) and type_judge(value2):\n",
        "       self.value *= value2\n",
        "    else:\n",
        "       self.value = \"cannot be calculated because one of the values is not a number\"\n",
        "\n",
        "  def div(self, value2):\n",
        "     # divide the received argument with the self.value\n",
        "    if type_judge(self.value) and type_judge(value2):\n",
        "       self.value /= value2\n",
        "    else:\n",
        "       self.value = \"cannot be calculated because one of the values is not a number\"\n",
        "\n",
        "example = ArthClass(5)\n",
        "print(\"value : {}\".format(example.value)) \n",
        "example.add(3)\n",
        "print(\"addition value : {}\".format(example.value))\n",
        "\n",
        "example2 = ArthClass(\"k\") \n",
        "example.sub(3)\n",
        "print(\"subtaction value : {}\".format(example.value))\n",
        " \n",
        "example.mult(3) \n",
        "print(\"multiplication value : {}\".format(example.value)) \n",
        "\n",
        "example.div('k') \n",
        "print(\"division value : {}\".format(example.value))\n",
        "\n"
      ],
      "execution_count": 23,
      "outputs": [
        {
          "output_type": "stream",
          "name": "stdout",
          "text": [
            "something5\n",
            "value : 5\n",
            "addition value : 8\n",
            "Please input only numbers\n",
            "subtaction value : 5\n",
            "multiplication value : 15\n",
            "Please input only numbers\n",
            "division value : cannot be calculated because one of the values is not a number\n"
          ]
        }
      ]
    },
    {
      "cell_type": "code",
      "metadata": {
        "id": "u7QBYA3ax5fY"
      },
      "source": [
        ""
      ],
      "execution_count": 23,
      "outputs": []
    }
  ]
}