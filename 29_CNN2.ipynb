{
  "nbformat": 4,
  "nbformat_minor": 0,
  "metadata": {
    "colab": {
      "name": "29_CNN2.ipynb",
      "provenance": [],
      "collapsed_sections": [],
      "mount_file_id": "16EISBleGU5d1tNrm0uXLErrxKU4q3bOM",
      "authorship_tag": "ABX9TyOIxN802clx2S9ryKAIZzxG",
      "include_colab_link": true
    },
    "kernelspec": {
      "name": "python3",
      "display_name": "Python 3"
    },
    "language_info": {
      "name": "python"
    }
  },
  "cells": [
    {
      "cell_type": "markdown",
      "metadata": {
        "id": "view-in-github",
        "colab_type": "text"
      },
      "source": [
        "<a href=\"https://colab.research.google.com/github/Mochismo/LearnPython/blob/main/29_CNN2.ipynb\" target=\"_parent\"><img src=\"https://colab.research.google.com/assets/colab-badge.svg\" alt=\"Open In Colab\"/></a>"
      ]
    },
    {
      "cell_type": "markdown",
      "source": [
        "Preparing the dataset "
      ],
      "metadata": {
        "id": "yKaSNnQ_LgBw"
      }
    },
    {
      "cell_type": "code",
      "execution_count": 154,
      "metadata": {
        "id": "LifQSJzD7-jV"
      },
      "outputs": [],
      "source": [
        "# Import\n",
        "import numpy as np\n",
        "import matplotlib.pyplot as plt\n",
        "# Evaluation Index\n",
        "from sklearn.metrics import accuracy_score"
      ]
    },
    {
      "cell_type": "code",
      "source": [
        "# Download mnist dataset \n",
        "from keras.datasets import mnist\n",
        "(X, y), (X_test, y_test) = mnist.load_data()"
      ],
      "metadata": {
        "id": "9XZ7eftNL-_I"
      },
      "execution_count": 155,
      "outputs": []
    },
    {
      "cell_type": "code",
      "source": [
        "# Check the data\n",
        "print(X.shape)\n",
        "print(X_test.shape)\n",
        "print(X[0].dtype)"
      ],
      "metadata": {
        "colab": {
          "base_uri": "https://localhost:8080/"
        },
        "id": "Nwaov8n7MZxN",
        "outputId": "6be9b2f4-6776-44a6-838c-9bc0b736a47c"
      },
      "execution_count": 156,
      "outputs": [
        {
          "output_type": "stream",
          "name": "stdout",
          "text": [
            "(60000, 28, 28)\n",
            "(10000, 28, 28)\n",
            "uint8\n"
          ]
        }
      ]
    },
    {
      "cell_type": "code",
      "source": [
        "# Type conversion, normalization\n",
        "X = X.astype(np.float)\n",
        "X_test = X_test.astype(np.float)\n",
        "X /= 255\n",
        "X_test /= 255\n",
        "print(X.max())\n",
        "print(X.min())"
      ],
      "metadata": {
        "colab": {
          "base_uri": "https://localhost:8080/"
        },
        "id": "hfLkV_NRNnVP",
        "outputId": "b6debf8f-9b25-4193-d8de-7cc0e523e9e2"
      },
      "execution_count": 157,
      "outputs": [
        {
          "output_type": "stream",
          "name": "stdout",
          "text": [
            "1.0\n",
            "0.0\n"
          ]
        }
      ]
    },
    {
      "cell_type": "code",
      "source": [
        "# One-hot encoding of correct label value\n",
        "from sklearn.preprocessing import OneHotEncoder\n",
        "\n",
        "enc = OneHotEncoder(handle_unknown = 'ignore', sparse = False)\n",
        "y_one_hot = enc.fit_transform(y[:, np.newaxis])\n",
        "y_test_one_hot = enc.transform(y_test[:, np.newaxis])\n",
        "print(y.shape)\n",
        "print(y_one_hot.shape)\n",
        "print(y_one_hot.dtype)"
      ],
      "metadata": {
        "colab": {
          "base_uri": "https://localhost:8080/"
        },
        "id": "muM3I4VmOQS-",
        "outputId": "8d4f7509-6bbb-4004-d658-30d2ccd95f5a"
      },
      "execution_count": 158,
      "outputs": [
        {
          "output_type": "stream",
          "name": "stdout",
          "text": [
            "(60000,)\n",
            "(60000, 10)\n",
            "float64\n"
          ]
        }
      ]
    },
    {
      "cell_type": "code",
      "source": [
        "# Split into training data and validation data\n",
        "from sklearn.model_selection import train_test_split\n",
        "\n",
        "X_train, X_valid, y_train, y_valid = train_test_split(X, y_one_hot, test_size = 0.2)\n",
        "print(X_train.shape)\n",
        "print(X_valid.shape)\n",
        "print(y_train.shape)\n",
        "print(y_valid.shape)"
      ],
      "metadata": {
        "colab": {
          "base_uri": "https://localhost:8080/"
        },
        "id": "4PlHDvHHQMDY",
        "outputId": "bb9841c4-ebc4-447d-91c4-32d3b6113680"
      },
      "execution_count": 159,
      "outputs": [
        {
          "output_type": "stream",
          "name": "stdout",
          "text": [
            "(48000, 28, 28)\n",
            "(12000, 28, 28)\n",
            "(48000, 10)\n",
            "(12000, 10)\n"
          ]
        }
      ]
    },
    {
      "cell_type": "markdown",
      "source": [
        "Fully connected layers"
      ],
      "metadata": {
        "id": "Q27aHAKARAM7"
      }
    },
    {
      "cell_type": "code",
      "source": [
        "class FC:\n",
        "  def __init__(self, n_nodes1, n_nodes2, initializer, optimizer, activation):\n",
        "    self.n_nodes1 = n_nodes1\n",
        "    self.n_nodes2 = n_nodes2\n",
        "    self.initializer = initializer\n",
        "    self.optimizer = optimizer\n",
        "    self.activation = activation\n",
        "   \n",
        "    # Initialize.\n",
        "    # Use the initializer method to initialize self.W and self.B\n",
        "    self.W = self.initializer.W(self.n_nodes1, self.n_nodes2)\n",
        "    self.B = self.initializer.B(self.n_nodes2)\n",
        "\n",
        "    \n",
        "  def forward(self, X):\n",
        "      self.X = X\n",
        "      self.A = np.dot(self.X, self.W) + self.B\n",
        "      return self.activation.forward(self.A) \n",
        "\n",
        "  def backward(self, dZ):\n",
        "      dA = self.activation.backward(dZ)\n",
        "      self.dB = np.mean(dA, axis=0)\n",
        "      self.dW = np.dot(self.X.T, dA)/len(self.X)\n",
        "      dZ = np.dot(dA, self.W.T)\n",
        "\n",
        "      # update \n",
        "      self = self.optimizer.update(self)\n",
        "      return dZ"
      ],
      "metadata": {
        "id": "m3yoTd4FQ8VD"
      },
      "execution_count": 160,
      "outputs": []
    },
    {
      "cell_type": "markdown",
      "source": [
        "Initialization"
      ],
      "metadata": {
        "id": "412nCmZOYJO2"
      }
    },
    {
      "cell_type": "code",
      "source": [
        "class SimpleInitializerConv2d:\n",
        "    \"\"\"\n",
        "    Simple initialization with Gaussian distribution\n",
        "    Parameters\n",
        "    ----------\n",
        "    sigma : float\n",
        "      Standard deviation of Gaussian distribution\n",
        "    \"\"\"\n",
        "    def __init__(self, sigma=0.01):\n",
        "        self.sigma = sigma\n",
        "    def W(self, F, C,FH, FW):\n",
        "        \"\"\"\n",
        "        Weight initialization\n",
        "        Parameters\n",
        "        ----------\n",
        "        n_nodes1 : int\n",
        "          Number of nodes in the previous layer\n",
        "        n_nodes2 : int\n",
        "          Number of nodes in the later layer\n",
        "        Returns\n",
        "        ----------\n",
        "        W :\n",
        "        \"\"\"\n",
        "        return self.sigma* np.random.randn(F, C,FH, FW)\n",
        "        \n",
        "    def B(self,F):\n",
        "        \"\"\"\n",
        "        Bias initialization\n",
        "        Parameters\n",
        "        ----------\n",
        "        n_nodes2 : int\n",
        "          Number of nodes in the later layer\n",
        "        Returns\n",
        "        ----------\n",
        "        B :\n",
        "        \"\"\"\n",
        "        return np.zeros(F)      "
      ],
      "metadata": {
        "id": "91ikcRHivG4f"
      },
      "execution_count": 161,
      "outputs": []
    },
    {
      "cell_type": "code",
      "source": [
        "class SimpleInitializer:\n",
        "    \"\"\"\n",
        "    Simple initialization with Gaussian distribution\n",
        "    Parameters\n",
        "    ----------\n",
        "    sigma : float\n",
        "      Standard deviation of Gaussian distribution\n",
        "    \"\"\"\n",
        "    def __init__(self, sigma):\n",
        "        self.sigma = sigma\n",
        "    def W(self, n_nodes1, n_nodes2):\n",
        "        \"\"\"\n",
        "        Weight initialization\n",
        "        Parameters\n",
        "        ----------\n",
        "        n_nodes1 : int\n",
        "          Number of nodes in the previous layer\n",
        "        n_nodes2 : int\n",
        "          Number of nodes in the later layer\n",
        "        Returns\n",
        "        ----------\n",
        "        W :\n",
        "        \"\"\"\n",
        "        return self.sigma* np.random.randn(n_nodes1, n_nodes2)\n",
        "        \n",
        "    def B(self, n_nodes2):\n",
        "        \"\"\"\n",
        "        Bias initialization\n",
        "        Parameters\n",
        "        ----------\n",
        "        n_nodes2 : int\n",
        "          Number of nodes in the later layer\n",
        "        Returns\n",
        "        ----------\n",
        "        B : bias\n",
        "        \"\"\"\n",
        "        return np.zeros(n_nodes2)"
      ],
      "metadata": {
        "id": "kyx9iYSRZ01G"
      },
      "execution_count": 162,
      "outputs": []
    },
    {
      "cell_type": "code",
      "source": [
        "class HeInitializer:\n",
        "\n",
        "  def __init__(self):\n",
        "    pass\n",
        "\n",
        "  def W(self, n_nodes1, n_nodes2):\n",
        "    \n",
        "    return np.random.randn(n_nodes1, n_nodes2)*np.sqrt(2 / n_nodes1)   \n",
        "\n",
        "  def B(self, n_nodes2):\n",
        "    \n",
        "    return np.zeros(n_nodes2)    "
      ],
      "metadata": {
        "id": "VcurYrE-BFL-"
      },
      "execution_count": 163,
      "outputs": []
    },
    {
      "cell_type": "markdown",
      "source": [
        "Optimization"
      ],
      "metadata": {
        "id": "oyijqkQ7bz_Y"
      }
    },
    {
      "cell_type": "code",
      "source": [
        "class SGD:\n",
        "    \"\"\"\n",
        "    Stochastic gradient descent\n",
        "    Parameters\n",
        "    ----------\n",
        "    lr : Learning rate\n",
        "    \"\"\"\n",
        "    def __init__(self, lr=0.01):\n",
        "        self.lr = lr\n",
        "\n",
        "    def update(self, layer):\n",
        "      layer.W -= self.lr* layer.dW\n",
        "      layer.B -= self.lr* layer.dB\n",
        "      \n",
        "      return layer\n",
        "    \"\"\"\n",
        "        Update weights and biases for a layer\n",
        "        Parameters\n",
        "        ----------\n",
        "        layer : Instance of the layer before update\n",
        "    \"\"\""
      ],
      "metadata": {
        "id": "uB_cgLY5wSQz"
      },
      "execution_count": 164,
      "outputs": []
    },
    {
      "cell_type": "code",
      "source": [
        "class AdaGrad:\n",
        "\n",
        "  def __init__(self, lr):\n",
        "    self.lr = lr\n",
        "    self.hW = 0\n",
        "    self.hB = 0\n",
        "\n",
        "  def update(self, layer):\n",
        "    self.hW += layer.dW * layer.dW\n",
        "    self.hB = layer.dB * layer.dB\n",
        "\n",
        "    \n",
        "    layer.W -=self.lr * layer.dW / (np.sqrt(self.hW) + 1e-7)\n",
        "    layer.B -=self.lr * layer.dB / (np.sqrt(self.hB) + 1e-7)\n",
        "    return layer  "
      ],
      "metadata": {
        "id": "l5DsMeljCl9w"
      },
      "execution_count": 165,
      "outputs": []
    },
    {
      "cell_type": "markdown",
      "source": [
        "Activation Function "
      ],
      "metadata": {
        "id": "laGg9B-De-uy"
      }
    },
    {
      "cell_type": "code",
      "source": [
        "class ReLU:\n",
        "  \n",
        "  def __init__(self):\n",
        "    pass\n",
        "\n",
        "  def forward(self, A): \n",
        "    self.A = A\n",
        "    return np.maximum(self.A, 0)\n",
        "      \n",
        "  def backward(self, dZ):\n",
        "    return np.where(self.A > 0, dZ, 0)"
      ],
      "metadata": {
        "id": "olezBeBT7KOG"
      },
      "execution_count": 166,
      "outputs": []
    },
    {
      "cell_type": "code",
      "source": [
        "class softmax():\n",
        "\n",
        "  def __init__(self):\n",
        "    pass\n",
        "\n",
        "  def forward(self, A):\n",
        "    return np.exp(A-np.max(A))/np.sum(np.exp(A-np.max(A)), axis=1, keepdims=True)\n",
        "      \n",
        "  def backward(self, dZ):\n",
        "    \n",
        "    return dZ\n"
      ],
      "metadata": {
        "id": "8iydHnvO2KgY"
      },
      "execution_count": 167,
      "outputs": []
    },
    {
      "cell_type": "markdown",
      "source": [
        "MiniBatch"
      ],
      "metadata": {
        "id": "qZofQSScpl-M"
      }
    },
    {
      "cell_type": "code",
      "source": [
        "class GetMiniBatch:\n",
        "\n",
        "  def __init__(self, X, y, batch_size = 20, seed=None):\n",
        "    self.batch_size = batch_size\n",
        "    np.random.seed(seed)\n",
        "    shuffle_index = np.random.permutation(np.arange(X.shape[0]))\n",
        "    self._X = X[shuffle_index]\n",
        "    self._y = y[shuffle_index]\n",
        "    self._stop = np.ceil(X.shape[0]/self.batch_size).astype(np.int)\n",
        "\n",
        "  def __len__(self):\n",
        "    return self._stop\n",
        "\n",
        "  def __getitem__(self, item): \n",
        "    p0 = item*self.batch_size\n",
        "    p1 = item*self.batch_size + self.batch_size\n",
        "    return self._X[p0:p1], self._y[p0:p1]\n",
        "\n",
        "  def __iter__(self): \n",
        "    self._counter = 0\n",
        "    return self \n",
        "\n",
        "  def __next__(self):\n",
        "    if self._counter >= self._stop:\n",
        "      raise StopIteration()\n",
        "    p0 = self._counter*self.batch_size\n",
        "    p1 = self._counter*self.batch_size + self.batch_size \n",
        "    self._counter += 1\n",
        "    return self._X[p0:p1], self._y[p0:p1] "
      ],
      "metadata": {
        "id": "tdY6SXGfGc_h"
      },
      "execution_count": 168,
      "outputs": []
    },
    {
      "cell_type": "markdown",
      "source": [
        "## 【Problem 1】Creating a 2-D convolutional layer"
      ],
      "metadata": {
        "id": "3xL0hOZfkJxw"
      }
    },
    {
      "cell_type": "code",
      "source": [
        ""
      ],
      "metadata": {
        "id": "fW6VR-hykPo_"
      },
      "execution_count": 168,
      "outputs": []
    },
    {
      "cell_type": "code",
      "source": [
        "class SimpleConv2d():\n",
        "    \n",
        "    def __init__(self, F, C, FH, FW, P, S, initializer=None, optimizer=None, activation=None):\n",
        "\n",
        "      self.P = P\n",
        "      self.S = S\n",
        "      self.initializer = initializer\n",
        "      self.optimizer = optimizer\n",
        "      self.activation = activation\n",
        "\n",
        "      # Initialize.\n",
        "      # Use initializer method to initialize self.W and self.B\n",
        "      self.W =self.initializer.W(F, C, FH, FW)\n",
        "      self.B = self.initializer.B(F)\n",
        "\n",
        "    def output_shape2d(self, H, W, PH, PW, FH, FW, SH, SW):\n",
        "\n",
        "      OH = (H + 2*PH - FH)/SH +1\n",
        "      OW = (W + 2*PW - FW)/SW +1\n",
        "      return int(OH), int(OW)\n",
        "\n",
        "    def forward(self, X):\n",
        "      self.X = X\n",
        "      N, C, H, W = self.X.shape\n",
        "      F, C, FH, FW = self.W.shape\n",
        "\n",
        "      OH, OW = self.output_shape2d(H, W, self.P, self.P, FH, FW, self.S, self.S)\n",
        "\n",
        "      self.params = N,C,H,W,F,FH,FW,OH,OW\n",
        "\n",
        "      A = np.zeros((N,F,OH,OW))  \n",
        "      self.X_pad = np.pad(self.X,((0,0),(0,0),(self.P, self.P), (self.P, self.P)))\n",
        "\n",
        "      #Batch\n",
        "      for n in range(N):\n",
        "        #output channels\n",
        "        for ch in range(F):\n",
        "          #vertical slide\n",
        "          for row in range(0,H,self.S):\n",
        "            # horizontal slide\n",
        "            for col in range(0,W,self.S):\n",
        "              A[n,ch,row,col] = np.sum(self.X_pad[n,:, row:row + FH, col:col+FW]*self.W[ch,:,:,:]) +self.B[ch]\n",
        "      return self.activation.forward(A)\n",
        "\n",
        "    def backward(self, dZ):\n",
        "      dA = self.activation.backward(dZ)\n",
        "      N, C, H, W, F, FH, FW, OH, OW = self.params\n",
        "      \n",
        "      dZ = np.zeros(self.X_pad.shape)\n",
        "      self.dW = np.zeros(self.W.shape) \n",
        "      self.dB = np.zeros(self.B.shape)\n",
        "\n",
        "      #dZ\n",
        "      #Batch\n",
        "      for n in range(N):\n",
        "        # Output channels\n",
        "        for ch in range(F):\n",
        "          # Vertical slide\n",
        "          for row in range(0,H,self.S):\n",
        "            # Horizontal Slide\n",
        "            for col in range(0,W,self.S):\n",
        "              dZ[n,:,row:row+FH, col:col+FW] += dA[n,ch,row,col]*self.W[ch,:,:,:]\n",
        "      dl_rows = range(self.P),range(H+self.P,H+2*self.P,1)\n",
        "      dl_cols = range(self.P),range(W+self.P,W+2*self.P,1)\n",
        "\n",
        "      dZ = np.delete(dZ,dl_rows,axis=2)\n",
        "      dZ = np.delete(dZ,dl_cols,axis=3)\n",
        "\n",
        "      #dW\n",
        "      #Batch\n",
        "      for n in range(N):\n",
        "        # Output channels\n",
        "        for ch in range(F):\n",
        "          # Vertical slide\n",
        "          for row in range(OH):\n",
        "            # Horizontal Slide\n",
        "            for col in range(OW):\n",
        "              self.dW[ch,:,:,:] += dA[n,ch,row,col]*self.X_pad[n,:,row:row+FH,col:col+FW]\n",
        "      #dB\n",
        "      #Output channels\n",
        "      for ch in range(F):\n",
        "        self.dB[ch] = np.sum(dA[:,ch,:,:])\n",
        "      #update\n",
        "      self = self.optimizer.update(self)  \n",
        "      return dZ      "
      ],
      "metadata": {
        "id": "zt97TXnAlhhE"
      },
      "execution_count": 169,
      "outputs": []
    },
    {
      "cell_type": "markdown",
      "source": [
        "Problem 2 & 3 - Experiments with 2D convolutional layers on small arrays and output size after 2-dimensional convolution"
      ],
      "metadata": {
        "id": "jqIW7dPZlQAN"
      }
    },
    {
      "cell_type": "code",
      "source": [
        "def output_shape2d(IH=5,IW=5,PH=0,PW=0,FH=3,FW=3,SH=1,SW=1):\n",
        "  OH = (IH + 2*PH -FH)/SH +1\n",
        "  OW = (IW + 2*PW -FW)/SW +1\n",
        "  return int(OH), int(OW)"
      ],
      "metadata": {
        "id": "TiR3at_1k1XC"
      },
      "execution_count": 170,
      "outputs": []
    },
    {
      "cell_type": "code",
      "source": [
        "print(output_shape2d(IH=6,IW=6,PH=0,PW=0,FH=3,FW=3,SH=1,SW=1))"
      ],
      "metadata": {
        "colab": {
          "base_uri": "https://localhost:8080/"
        },
        "id": "Wcj7M6IBvyLl",
        "outputId": "9ecb2577-af01-40d6-9b0e-3342b26e9dd4"
      },
      "execution_count": 171,
      "outputs": [
        {
          "output_type": "stream",
          "name": "stdout",
          "text": [
            "(4, 4)\n"
          ]
        }
      ]
    },
    {
      "cell_type": "markdown",
      "source": [
        "Experiment with 2D convolution"
      ],
      "metadata": {
        "id": "YScpfVu7vxsZ"
      }
    },
    {
      "cell_type": "code",
      "source": [
        "N,C,H,W = (5,1,28,28)\n",
        "F,C,FH,FW = (4,1,3,3)\n",
        "\n",
        "S = 1 #FIXED FOR NOW\n",
        "P = 1\n",
        "\n",
        "OH,OW = output_shape2d(H,W,P,P,FH,FW,S,S)\n",
        "\n",
        "A = np.zeros([N,F,OH,OW])\n",
        "X_sample = X[0:N].reshape(N,C,H,W)\n",
        "X_pad = np.pad(X_sample,((0,0),(0,0),(P,P),(P,P)))\n",
        "w = np.ones([F,C,FH,FW])\n",
        "B = np.ones(F)\n",
        "\n",
        "#Forward\n",
        "#Batch\n",
        "for n in range(N):\n",
        "  # Output channels\n",
        "  for ch in range(F):\n",
        "    # Vertical slide\n",
        "    for row in range(0,H,S):\n",
        "      # Horizontal Slide\n",
        "      for col in range(0,W,S):\n",
        "        A[n,ch,row,col] = np.sum(X_pad[n,:,row:row+FH,col:col+FW]*w[ch,:,:,:]) +B[ch]\n",
        "print('A.shape:', A.shape)"
      ],
      "metadata": {
        "colab": {
          "base_uri": "https://localhost:8080/"
        },
        "id": "dhERYXQfw0v6",
        "outputId": "72cf8f3e-8438-4d7b-99f4-578c02c92261"
      },
      "execution_count": 172,
      "outputs": [
        {
          "output_type": "stream",
          "name": "stdout",
          "text": [
            "A.shape: (5, 4, 28, 28)\n"
          ]
        }
      ]
    },
    {
      "cell_type": "code",
      "source": [
        "#backward\n",
        "dA = np.ones(A.shape)\n",
        "      \n",
        "dZ = np.zeros(X_pad.shape)\n",
        "dW = np.zeros(w.shape) \n",
        "dB = np.zeros(B.shape)\n",
        "\n",
        "#dZ\n",
        "#Batch\n",
        "for n in range(N):\n",
        "  # Output channels\n",
        "  for ch in range(F):\n",
        "    # Vertical slide\n",
        "    for row in range(0,H,S):\n",
        "      # Horizontal Slide\n",
        "      for col in range(0,W,S):\n",
        "        dZ[n,:,row:row+FH, col:col+FW] += dA[n,ch,row,col]*w[ch,:,:,:]\n",
        "dl_rows = range(P),range(H+P,H+2*P,1)\n",
        "dl_cols = range(P),range(W+P,W+2*P,1)\n",
        "\n",
        "dZ = np.delete(dZ,dl_rows,axis=2)\n",
        "dZ = np.delete(dZ,dl_cols,axis=3)\n",
        "\n",
        "#dW\n",
        "#Batch\n",
        "for n in range(N):\n",
        "  # Output channels\n",
        "  for ch in range(F):\n",
        "    # Vertical slide\n",
        "    for row in range(OH):\n",
        "      # Horizontal Slide\n",
        "      for col in range(OW):\n",
        "        dW[ch,:,:,:] += dA[n,ch,row,col]*X_pad[n,:,row:row+FH,col:col+FW]\n",
        "#dB\n",
        "#Output channels\n",
        "for ch in range(F):\n",
        "  dB[ch] = np.sum(dA[:,ch,:,:])\n",
        "\n",
        "print('dZ.shape:',dZ.shape)     \n",
        "print('dW.shape:',dW.shape)\n",
        "print('dB.shape:',dB.shape)"
      ],
      "metadata": {
        "colab": {
          "base_uri": "https://localhost:8080/"
        },
        "id": "JmUotApa3bpC",
        "outputId": "8a6edaeb-151e-4c32-8855-5d7ea98626b9"
      },
      "execution_count": 173,
      "outputs": [
        {
          "output_type": "stream",
          "name": "stdout",
          "text": [
            "dZ.shape: (5, 1, 28, 28)\n",
            "dW.shape: (4, 1, 3, 3)\n",
            "dB.shape: (4,)\n"
          ]
        }
      ]
    },
    {
      "cell_type": "markdown",
      "source": [
        "Problem 4 - Creating a maximum pooling layer"
      ],
      "metadata": {
        "id": "8JecAyev7-CJ"
      }
    },
    {
      "cell_type": "code",
      "source": [
        "class MaxPool2D():\n",
        "  def __init__(self, P):\n",
        "    self.P = P\n",
        "    self.PA = None\n",
        "    self.Pindex = None\n",
        "  def forward(self,A):\n",
        "    N,F,OH,OW = A.shape\n",
        "    PS = self.P\n",
        "    PH,PW = int(OH/PS),int(OW/PS)\n",
        "\n",
        "    self.params = N,F,OH,OW,PS,PH,PW\n",
        "\n",
        "    #pooling filter\n",
        "    self.PA = np.zeros([N,F,PH,PW])\n",
        "    self.Pindex = np.zeros([N,F,PH,PW])\n",
        "\n",
        "    for n in range(N):\n",
        "      # Output channels\n",
        "      for ch in range(F):\n",
        "        # Vertical slide\n",
        "        for row in range(PH):\n",
        "          # Horizontal Slide\n",
        "          for col in range(PW):\n",
        "            self.PA[n,ch,row,col] = np.max(A[n,ch,row*PS:row*PS+PS,col*PS:col*PS+PS])\n",
        "            self.Pindex[n,ch,row,col] = np.argmax(A[n,ch,row*PS:row*PS+PS,col*PS:col*PS+PS])\n",
        "    return self.PA\n",
        "\n",
        "  def backward(self, dA):\n",
        "    N, F, OH, OW, PS, PH, PW = self.params\n",
        "    dP = np.zeros([N,F,OH,OW])\n",
        "    \n",
        "    for n in range(N):\n",
        "      # Output channels\n",
        "      for ch in range(F):\n",
        "        # Vertical slide\n",
        "        for row in range(PH):\n",
        "          # Horizontal Slide\n",
        "          for col in range(PW):\n",
        "            idx = self.Pindex[n,ch,row,col]\n",
        "            tmp = np.zeros((PS*PS))\n",
        "            for i in range((PS*PS)):\n",
        "              if i == idx:\n",
        "                tmp[i] = dA[n,ch,row,col]\n",
        "              else:\n",
        "                tmp[i] = 0\n",
        "            dP[n,ch,row*PS:row*PS+PS,col*PS:col*PS+PS] = tmp.reshape(PS,PS)\n",
        "    return dP"
      ],
      "metadata": {
        "id": "ijOLO75m63v1"
      },
      "execution_count": 174,
      "outputs": []
    },
    {
      "cell_type": "code",
      "source": [
        "X = np.random.randint(0,9,36).reshape(1,1,6,6)\n",
        "print(X)"
      ],
      "metadata": {
        "colab": {
          "base_uri": "https://localhost:8080/"
        },
        "id": "8c3sXjspDos5",
        "outputId": "9885e297-c8ab-4e34-f1e4-cd72e4de03dc"
      },
      "execution_count": 175,
      "outputs": [
        {
          "output_type": "stream",
          "name": "stdout",
          "text": [
            "[[[[6 7 5 6 1 2]\n",
            "   [6 1 1 6 2 6]\n",
            "   [0 6 3 0 6 0]\n",
            "   [5 0 5 3 2 2]\n",
            "   [1 5 2 4 3 4]\n",
            "   [0 6 5 8 3 2]]]]\n"
          ]
        }
      ]
    },
    {
      "cell_type": "code",
      "source": [
        "Pooling = MaxPool2D(P=2)\n",
        "A = Pooling.forward(X)\n",
        "print(A.shape)\n",
        "print(A)"
      ],
      "metadata": {
        "colab": {
          "base_uri": "https://localhost:8080/"
        },
        "id": "i5EyHNlVIS61",
        "outputId": "3ab75adb-18d0-43b5-8253-03dbaa4a08f6"
      },
      "execution_count": 176,
      "outputs": [
        {
          "output_type": "stream",
          "name": "stdout",
          "text": [
            "(1, 1, 3, 3)\n",
            "[[[[7. 6. 6.]\n",
            "   [6. 5. 6.]\n",
            "   [6. 8. 4.]]]]\n"
          ]
        }
      ]
    },
    {
      "cell_type": "code",
      "source": [
        "Pooling.Pindex"
      ],
      "metadata": {
        "colab": {
          "base_uri": "https://localhost:8080/"
        },
        "id": "_lbathxCIyYl",
        "outputId": "797a9512-5a1e-4d04-f85c-8c797747899a"
      },
      "execution_count": 177,
      "outputs": [
        {
          "output_type": "execute_result",
          "data": {
            "text/plain": [
              "array([[[[1., 1., 3.],\n",
              "         [1., 2., 0.],\n",
              "         [3., 3., 1.]]]])"
            ]
          },
          "metadata": {},
          "execution_count": 177
        }
      ]
    },
    {
      "cell_type": "code",
      "source": [
        "dA = np.random.randint(0,9,9).reshape(A.shape)\n",
        "print(dA)"
      ],
      "metadata": {
        "colab": {
          "base_uri": "https://localhost:8080/"
        },
        "id": "dB8657OCI6AQ",
        "outputId": "93cf76d3-9483-4bfd-c3a8-9b6a370815ee"
      },
      "execution_count": 178,
      "outputs": [
        {
          "output_type": "stream",
          "name": "stdout",
          "text": [
            "[[[[2 8 4]\n",
            "   [8 3 4]\n",
            "   [8 5 3]]]]\n"
          ]
        }
      ]
    },
    {
      "cell_type": "code",
      "source": [
        "dZ = Pooling.backward(dA)\n",
        "\n",
        "print(dZ)"
      ],
      "metadata": {
        "colab": {
          "base_uri": "https://localhost:8080/"
        },
        "id": "tbFUmVesJGTa",
        "outputId": "c2d2dd16-8dce-4a29-c0ab-1ec6b15b487c"
      },
      "execution_count": 179,
      "outputs": [
        {
          "output_type": "stream",
          "name": "stdout",
          "text": [
            "[[[[0. 2. 0. 8. 0. 0.]\n",
            "   [0. 0. 0. 0. 0. 4.]\n",
            "   [0. 8. 0. 0. 4. 0.]\n",
            "   [0. 0. 3. 0. 0. 0.]\n",
            "   [0. 0. 0. 0. 0. 3.]\n",
            "   [0. 8. 0. 5. 0. 0.]]]]\n"
          ]
        }
      ]
    },
    {
      "cell_type": "markdown",
      "source": [
        "Problem 5 - (Advanced) Creating Average Pooling"
      ],
      "metadata": {
        "id": "oRHqPHvEOZkY"
      }
    },
    {
      "cell_type": "code",
      "source": [
        "class AveragePool2D():\n",
        "  def __init__(self, P):\n",
        "    self.P = P\n",
        "    self.PA = None\n",
        "    self.Pindex = None\n",
        "  def forward(self,A):\n",
        "    N,F,OH,OW = A.shape\n",
        "    PS = self.P\n",
        "    PH,PW = int(OH/PS),int(OW/PS)\n",
        "\n",
        "    self.params = N,F,OH,OW,PS,PH,PW\n",
        "\n",
        "    #pooling filter\n",
        "    self.PA = np.zeros([N,F,PH,PW])\n",
        "\n",
        "    for n in range(N):\n",
        "      # Output channels\n",
        "      for ch in range(F):\n",
        "        # Vertical slide\n",
        "        for row in range(PH):\n",
        "          # Horizontal Slide\n",
        "          for col in range(PW):\n",
        "            self.PA[n,ch,row,col] = np.mean(A[n,ch,row*PS:row*PS+PS,col*PS:col*PS+PS])\n",
        "    return self.PA\n",
        "\n",
        "  def backward(self, dA):\n",
        "    N, F, OH, OW, PS, PH, PW = self.params\n",
        "    dP = np.zeros([N,F,OH,OW])\n",
        "    \n",
        "    for n in range(N):\n",
        "      # Output channels\n",
        "      for ch in range(F):\n",
        "        # Vertical slide\n",
        "        for row in range(PH):\n",
        "          # Horizontal Slide\n",
        "          for col in range(PW):\n",
        "            tmp = np.zeros((PS*PS))\n",
        "            for i in range((PS*PS)):\n",
        "                tmp[i] = dA[n,ch,row,col]/(PS*PS)\n",
        "            dP[n,ch,row*PS:row*PS+PS,col*PS:col*PS+PS] = tmp.reshape(PS,PS)\n",
        "    return dP"
      ],
      "metadata": {
        "id": "eJxdQv_8J6eJ"
      },
      "execution_count": 180,
      "outputs": []
    },
    {
      "cell_type": "code",
      "source": [
        "X = np.random.randint(0,9,36).reshape(1,1,6,6)\n",
        "print(X)"
      ],
      "metadata": {
        "colab": {
          "base_uri": "https://localhost:8080/"
        },
        "id": "HVEmjRcyRW08",
        "outputId": "661d6b65-5470-4a7b-dba1-3f93b13916a5"
      },
      "execution_count": 181,
      "outputs": [
        {
          "output_type": "stream",
          "name": "stdout",
          "text": [
            "[[[[2 1 4 5 3 8]\n",
            "   [1 2 2 2 6 0]\n",
            "   [0 8 2 8 6 7]\n",
            "   [8 7 8 6 4 8]\n",
            "   [4 6 7 1 2 7]\n",
            "   [1 8 5 8 8 7]]]]\n"
          ]
        }
      ]
    },
    {
      "cell_type": "code",
      "source": [
        "Pooling = AveragePool2D(P=2)\n",
        "A = Pooling.forward(X)\n",
        "print(A.shape)\n",
        "print(A)"
      ],
      "metadata": {
        "colab": {
          "base_uri": "https://localhost:8080/"
        },
        "id": "rCrruQwnRfRy",
        "outputId": "e95381e1-baae-49d2-bc17-66ab039e129c"
      },
      "execution_count": 182,
      "outputs": [
        {
          "output_type": "stream",
          "name": "stdout",
          "text": [
            "(1, 1, 3, 3)\n",
            "[[[[1.5  3.25 4.25]\n",
            "   [5.75 6.   6.25]\n",
            "   [4.75 5.25 6.  ]]]]\n"
          ]
        }
      ]
    },
    {
      "cell_type": "code",
      "source": [
        "dA = np.random.randint(0,9,9).reshape(A.shape)\n",
        "print(dA)"
      ],
      "metadata": {
        "colab": {
          "base_uri": "https://localhost:8080/"
        },
        "id": "peQAEjEwR0t4",
        "outputId": "b95f1bdb-848f-4abe-eb40-8570af4c8b12"
      },
      "execution_count": 183,
      "outputs": [
        {
          "output_type": "stream",
          "name": "stdout",
          "text": [
            "[[[[4 4 3]\n",
            "   [4 1 6]\n",
            "   [5 6 2]]]]\n"
          ]
        }
      ]
    },
    {
      "cell_type": "code",
      "source": [
        "dZ = Pooling.backward(dA)\n",
        "\n",
        "print(dZ)"
      ],
      "metadata": {
        "colab": {
          "base_uri": "https://localhost:8080/"
        },
        "id": "lVOTIu_dR-41",
        "outputId": "1b4f8b60-4c0b-4528-ffb3-97158cd0e444"
      },
      "execution_count": 184,
      "outputs": [
        {
          "output_type": "stream",
          "name": "stdout",
          "text": [
            "[[[[1.   1.   1.   1.   0.75 0.75]\n",
            "   [1.   1.   1.   1.   0.75 0.75]\n",
            "   [1.   1.   0.25 0.25 1.5  1.5 ]\n",
            "   [1.   1.   0.25 0.25 1.5  1.5 ]\n",
            "   [1.25 1.25 1.5  1.5  0.5  0.5 ]\n",
            "   [1.25 1.25 1.5  1.5  0.5  0.5 ]]]]\n"
          ]
        }
      ]
    },
    {
      "cell_type": "markdown",
      "source": [
        "\n",
        "Problem 6 - Flatten for smoothing"
      ],
      "metadata": {
        "id": "FqSKQCgyTbPf"
      }
    },
    {
      "cell_type": "code",
      "source": [
        "class Flatten:\n",
        "  def __ini__(self,):\n",
        "    pass\n",
        "  def forward(self,X):\n",
        "    self.shape = X.shape\n",
        "    return X.reshape(len(X),-1)\n",
        "\n",
        "  def backward(self,X):\n",
        "    return X.reshape(self.shape)  "
      ],
      "metadata": {
        "id": "HiPzYegXSHQA"
      },
      "execution_count": 185,
      "outputs": []
    },
    {
      "cell_type": "code",
      "source": [
        "TEST = np.zeros([20,2,5,5])\n",
        "flt = Flatten()\n",
        "flat_forward = flt.forward(TEST)\n",
        "print('Forward_shape:', flat_forward.shape)\n",
        "print('Backward_shape:', flt.backward(flat_forward).shape)"
      ],
      "metadata": {
        "colab": {
          "base_uri": "https://localhost:8080/"
        },
        "id": "0JY-OmqADVoX",
        "outputId": "fff5a8b2-c2a5-43bc-f709-a0910c0d89bc"
      },
      "execution_count": 186,
      "outputs": [
        {
          "output_type": "stream",
          "name": "stdout",
          "text": [
            "Forward_shape: (20, 50)\n",
            "Backward_shape: (20, 2, 5, 5)\n"
          ]
        }
      ]
    },
    {
      "cell_type": "markdown",
      "source": [
        "Problem 7 - Training and Estimation "
      ],
      "metadata": {
        "id": "LNrYozjOQ7Xd"
      }
    },
    {
      "cell_type": "code",
      "source": [
        "#Scratch CNN\n",
        "class Scratch2dCNNClassifier():\n",
        "    def __init__(self, NN, CNN, n_epoch=5, n_batch=1, verbose=False):\n",
        "      #parameters\n",
        "      self.n_epoch = n_epoch\n",
        "      self.n_batch = n_batch\n",
        "      self.verbose = verbose\n",
        "      self.log_loss = np.zeros(self.n_epoch)\n",
        "      self.log_acc = np.zeros(self.n_epoch)\n",
        "      self.NN = NN\n",
        "      self.CNN = CNN\n",
        "\n",
        "    def loss_function(self,y,yt):\n",
        "      delta = 1e-7\n",
        "      return -np.mean(yt*np.log(y+delta))\n",
        "\n",
        "    def accuracy(self,Z,Y):\n",
        "      return accuracy_score(Y,Z)\n",
        "\n",
        "    def fit(self, X, y, X_val=False, y_val=False):\n",
        "      for epoch in range(self.n_epoch):\n",
        "        #Mini-Batch Processing\n",
        "        get_mini_batch = GetMiniBatch(X, y, batch_size=self.n_batch)\n",
        "\n",
        "        self.loss = 0\n",
        "        for mini_X_train, mini_y_train in get_mini_batch:\n",
        "          #Forward Propagation\n",
        "          forward_data = mini_X_train[:,np.newaxis,:,:]\n",
        "\n",
        "          #Conv\n",
        "          for layer in range(len(self.CNN)):\n",
        "            forward_data = self.CNN[layer].forward(forward_data)\n",
        "\n",
        "          #Flatten\n",
        "          flt = Flatten()\n",
        "          forward_data = flt.forward(forward_data)\n",
        "\n",
        "          #NN\n",
        "          for layer in range(len(self.NN)):\n",
        "            forward_data = self.NN[layer].forward(forward_data)\n",
        "\n",
        "          #Predicted Value\n",
        "          Z = forward_data\n",
        "\n",
        "          #Back Propagation\n",
        "          backward_data = (Z - mini_y_train)/self.n_batch\n",
        "          for layer in range(len(self.NN)-1,-1,-1):\n",
        "            backward_data = self.NN[layer].backward(backward_data)\n",
        "\n",
        "          backward_data = flt.backward(backward_data)\n",
        "\n",
        "          for layer in range(len(self.CNN)-1,-1,-1):\n",
        "            backward_data = self.CNN[layer].backward(backward_data)\n",
        "\n",
        "          #Loss function\n",
        "          self.loss += self.loss_function(Z,mini_y_train)\n",
        "      \n",
        "        self.log_loss[epoch] = self.loss/len(get_mini_batch)\n",
        "        self.log_acc[epoch] = self.accuracy(self.predict(X), np.argmax(y, axis=1))\n",
        "    def predict(self, X):\n",
        "      pred_data = X[:,np.newaxis,:,:]\n",
        "\n",
        "      #Conv\n",
        "      for layer in range(len(self.CNN)):\n",
        "        pred_data = self.CNN[layer].forward(pred_data)\n",
        "\n",
        "        flt = Flatten()\n",
        "        pred_data = flt.forward(pred_data)\n",
        "\n",
        "        #NN\n",
        "        for layer in range(len(self.NN)):\n",
        "          pred_data = self.NN[layer].forward(pred_data)\n",
        "\n",
        "        return np.argmax(pred_data, axis=1)"
      ],
      "metadata": {
        "id": "wZK3gSLXEae2"
      },
      "execution_count": 187,
      "outputs": []
    },
    {
      "cell_type": "code",
      "source": [
        "#All bounding layers\n",
        "NN = {0:FC(7840, 400, HeInitializer(), AdaGrad(0.01), ReLU()),\n",
        "      1:FC(400, 200, HeInitializer(), AdaGrad(0.01), ReLU()),\n",
        "      2:FC(200, 10,SimpleInitializer(0.01),AdaGrad(0.01), softmax()),}"
      ],
      "metadata": {
        "id": "Mp-RdD38hCfF"
      },
      "execution_count": 188,
      "outputs": []
    },
    {
      "cell_type": "code",
      "source": [
        "#Convolutional Layer\n",
        "CNN = {0:SimpleConv2d(F=10, C=1, FH=3, FW=3, P=1,S=1,\n",
        "                      initializer=SimpleInitializerConv2d(),\n",
        "                      optimizer=SGD(),\n",
        "                      activation=ReLU())}"
      ],
      "metadata": {
        "id": "ZWVfDazoiN15"
      },
      "execution_count": 189,
      "outputs": []
    },
    {
      "cell_type": "code",
      "source": [
        "# Learning\n",
        "cnn1 = Scratch2dCNNClassifier(NN=NN,CNN=CNN,n_epoch=10,n_batch=200,verbose=False)\n",
        "\n",
        "cnn1.fit(X_train[0:1000], y_train[0:1000])"
      ],
      "metadata": {
        "id": "lWRDx6oEjjIz"
      },
      "execution_count": 190,
      "outputs": []
    },
    {
      "cell_type": "code",
      "source": [
        "#Estimate\n",
        "y_pred = cnn1.predict(X_valid[0:100])\n",
        "\n",
        "#Positive solution rate\n",
        "accuracy = accuracy_score(np.argmax(y_valid[0:100],axis=1), y_pred)\n",
        "print('accuracy:{:.3f}'.format(accuracy))"
      ],
      "metadata": {
        "colab": {
          "base_uri": "https://localhost:8080/"
        },
        "id": "2ee1_NRmkLsu",
        "outputId": "24ee60ae-61c0-4d38-d059-0e11973bd5f7"
      },
      "execution_count": 193,
      "outputs": [
        {
          "output_type": "stream",
          "name": "stdout",
          "text": [
            "accuracy:0.790\n"
          ]
        }
      ]
    },
    {
      "cell_type": "code",
      "source": [
        "#Visualise the loss function for each epoch\n",
        "plt.rcParams[\"font.size\"] = 20\n",
        "fig = plt.subplots(figsize=(16,6))\n",
        "plt.subplot(1,2,1)\n",
        "plt.title('LOSS')\n",
        "plt.plot(cnn1.log_loss, 'bo--')\n",
        "\n",
        "plt.subplot(1,2,2)\n",
        "plt.title('ACC')\n",
        "plt.plot(cnn1.log_acc, 'rs--');"
      ],
      "metadata": {
        "colab": {
          "base_uri": "https://localhost:8080/",
          "height": 408
        },
        "id": "sBWvZfNJCUDF",
        "outputId": "62f4eb9a-528f-4751-b6a4-2ce2af81daa3"
      },
      "execution_count": 194,
      "outputs": [
        {
          "output_type": "display_data",
          "data": {
            "image/png": "[encoded data removed]",
            "text/plain": [
              "<Figure size 1152x432 with 2 Axes>"
            ]
          },
          "metadata": {
            "needs_background": "light"
          }
        }
      ]
    },
    {
      "cell_type": "markdown",
      "source": [
        "Problem 8 (Advanced Assignment)- LeNet"
      ],
      "metadata": {
        "id": "797BemK8D4Q-"
      }
    },
    {
      "cell_type": "code",
      "source": [
        "#LeNet structure\n",
        "#Convolutional layers\n",
        "LeNetCNN = {0:SimpleConv2d(F=6, C=1, FH=5, FW=5, P=2,S=1,\n",
        "                      initializer=SimpleInitializerConv2d(),\n",
        "                      optimizer=SGD(),\n",
        "                      activation=ReLU()),\n",
        "       1:MaxPool2D(P=2),\n",
        "       2:SimpleConv2d(F=6, C=1, FH=5, FW=5, P=2,S=1,\n",
        "                      initializer=SimpleInitializerConv2d(),\n",
        "                      optimizer=SGD(),\n",
        "                      activation=ReLU()),\n",
        "       3:MaxPool2D(P=2)}\n",
        "\n",
        "#Fully connected layers\n",
        "LeNetNN = {0:FC(7840, 400,HeInitializer(),AdaGrad(0.01), ReLU()),\n",
        "      1:FC(400, 200,HeInitializer(),AdaGrad(0.01), ReLU()),\n",
        "      2:FC(200, 10,SimpleInitializer(0.01),AdaGrad(0.01), softmax()),}\n",
        "\n",
        "# Learning\n",
        "LeNet = Scratch2dCNNClassifier(NN=LeNetNN,CNN=LeNetCNN,n_epoch=10,n_batch=20,verbose=False)\n",
        "\n",
        "cnn1.fit(X_train[0:1000], y_train[0:1000])"
      ],
      "metadata": {
        "id": "kXTGdHJwEBiB"
      },
      "execution_count": 195,
      "outputs": []
    },
    {
      "cell_type": "code",
      "source": [
        "y_pred_LeNet = cnn1.predict(X_valid[0:100])\n",
        "\n",
        "#Positive solution rate\n",
        "accuracy = accuracy_score(np.argmax(y_valid[0:100],axis=1), y_pred_LeNet)\n",
        "print('accuracy:{:.3f}'.format(accuracy))"
      ],
      "metadata": {
        "colab": {
          "base_uri": "https://localhost:8080/"
        },
        "id": "zw1NmXFVIjQO",
        "outputId": "bb0b33be-d169-4737-d2a8-31b21d62ee6a"
      },
      "execution_count": 196,
      "outputs": [
        {
          "output_type": "stream",
          "name": "stdout",
          "text": [
            "accuracy:0.860\n"
          ]
        }
      ]
    },
    {
      "cell_type": "code",
      "source": [
        "#Visualise the loss function for each epoch\n",
        "plt.rcParams[\"font.size\"] = 20\n",
        "fig = plt.subplots(figsize=(16,6))\n",
        "plt.subplot(1,2,1)\n",
        "plt.title('LOSS')\n",
        "plt.plot(LeNet.log_loss, 'bo--')\n",
        "\n",
        "plt.subplot(1,2,2)\n",
        "plt.title('ACC')\n",
        "plt.plot(LeNet.log_acc, 'rs--');"
      ],
      "metadata": {
        "colab": {
          "base_uri": "https://localhost:8080/",
          "height": 408
        },
        "id": "FMghlAYRI4Y0",
        "outputId": "ff8ebfb3-bc80-4e71-9145-081b481105e2"
      },
      "execution_count": 197,
      "outputs": [
        {
          "output_type": "display_data",
          "data": {
            "image/png": "[encoded data removed]",
            "text/plain": [
              "<Figure size 1152x432 with 2 Axes>"
            ]
          },
          "metadata": {
            "needs_background": "light"
          }
        }
      ]
    },
    {
      "cell_type": "markdown",
      "source": [
        "Problem 9- (Advanced) List of famous CNN structures:\n",
        "\n",
        "\n",
        "* AlexNet(2012\n",
        "* ZFNet(2013)\n",
        "* GoogleNet(2014)\n",
        "* VGGNet(2014)\n",
        "* ResNet(2015)\n",
        "* SENet(2017)\n",
        "\n"
      ],
      "metadata": {
        "id": "GyUbLhTlJRd9"
      }
    },
    {
      "cell_type": "markdown",
      "source": [
        "Problem 10 - Calculating output size and number of parameters\n",
        "1. \n",
        "* Input size : 144 x 144, 3 channels\n",
        "* Filter size: 3 x 3, 6 channels\n",
        "* Stride : 1\n",
        "* Padding: None\n",
        "* Output size: 6x142x142, Number of parameters: 10416(weight=162, bias=6)\n",
        "2.\n",
        "* Input size : 60x60, 24 channels\n",
        "* Filter size: 3 x 3, 48 channels\n",
        "* Stride : 1\n",
        "* Padding: None\n",
        "* Output size: 48x58x58, Number of parameters: 10416(weight=10368, bias=48)\n",
        "3.\n",
        "* Input size : 20x20, 10 channels\n",
        "* Filter size: 3 x 3, 20 channels\n",
        "* Stride: 2\n",
        "* Padding: None\n",
        "* Output size: 20x9x9, Number of parameters: 1820(weight=1800, bias=20)\n",
        "\n"
      ],
      "metadata": {
        "id": "_GQIN56bKH-B"
      }
    },
    {
      "cell_type": "markdown",
      "source": [
        "Problem 11- Survey of Filter Size\n",
        "1. Why are 3x3 filters commonly used instead of larger ones such as 7x7?\n",
        "   * This is because the parameters will be huge. The purpose of convolution is to extract features (including positional relationships) between input parameters. Increasing the filter size is going against this reason.\n",
        "2. Whatis the effect of a 1x1 filter with no height or width direction\n",
        "   * The filter doesn't do anything to the image and it remains the same even after the process. "
      ],
      "metadata": {
        "id": "50A8a12dNvMC"
      }
    },
    {
      "cell_type": "code",
      "source": [
        ""
      ],
      "metadata": {
        "id": "5XceZMMrKEbs"
      },
      "execution_count": null,
      "outputs": []
    }
  ]
}